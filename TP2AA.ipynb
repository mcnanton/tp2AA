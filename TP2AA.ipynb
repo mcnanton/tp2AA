{
 "cells": [
  {
   "cell_type": "markdown",
   "metadata": {},
   "source": [
    "# TP2: Modelado sobre dataset Fashion MNIST"
   ]
  },
  {
   "cell_type": "markdown",
   "metadata": {},
   "source": [
    "## Librerías"
   ]
  },
  {
   "cell_type": "markdown",
   "metadata": {},
   "source": [
    "Fuente: https://pjreddie.com/projects/mnist-in-csv/"
   ]
  },
  {
   "cell_type": "code",
   "execution_count": 22,
   "metadata": {},
   "outputs": [],
   "source": [
    "import pandas as pd\n",
    "import os\n",
    "import gzip\n",
    "import numpy as np\n",
    "import time\n",
    "from datetime import datetime\n",
    "from tqdm import tqdm\n",
    "import matplotlib.pyplot as plt\n",
    "import seaborn as sns\n",
    "import requests\n",
    "\n",
    "from sklearn.ensemble import BaggingClassifier\n",
    "from sklearn.neighbors import KNeighborsClassifier\n",
    "from sklearn.ensemble import RandomForestClassifier\n",
    "from sklearn.ensemble import AdaBoostClassifier\n",
    "from sklearn.ensemble import GradientBoostingClassifier\n",
    "from sklearn.tree import DecisionTreeClassifier\n",
    "from sklearn.model_selection import RandomizedSearchCV, GridSearchCV\n",
    "from sklearn.naive_bayes import MultinomialNB\n",
    "from sklearn.metrics import confusion_matrix, classification_report\n",
    "from sklearn.metrics import roc_auc_score\n",
    "from tqdm import tqdm"
   ]
  },
  {
   "cell_type": "markdown",
   "metadata": {},
   "source": [
    "Correr una sola vez para descargar toda la data luego mutear todo el chunk. "
   ]
  },
  {
   "cell_type": "code",
   "execution_count": 2,
   "metadata": {},
   "outputs": [],
   "source": [
    "# def download_gz_from_url(url, output_folder): \n",
    "#     file_name = url.split(\"/\")[-1]\n",
    "#     r = requests.get(url, stream=True)\n",
    "#     with open(output_folder+\"/\"+file_name, 'wb') as f:\n",
    "#         for chunk in r.raw.stream(1024, decode_content=False):\n",
    "#             if chunk:\n",
    "#                 f.write(chunk)\n",
    "\n",
    "# output_folder= \"./data\"\n",
    "                \n",
    "# from pathlib import Path\n",
    "# Path(output_folder).mkdir(parents=True, exist_ok=True)\n",
    "                \n",
    "# urls = [\"http://fashion-mnist.s3-website.eu-central-1.amazonaws.com/train-images-idx3-ubyte.gz\", #x_train\n",
    "#         \"http://fashion-mnist.s3-website.eu-central-1.amazonaws.com/train-labels-idx1-ubyte.gz\", #y_train\n",
    "#         \"http://fashion-mnist.s3-website.eu-central-1.amazonaws.com/t10k-images-idx3-ubyte.gz\", #x_test\n",
    "#         \"http://fashion-mnist.s3-website.eu-central-1.amazonaws.com/t10k-labels-idx1-ubyte.gz\" #y_test\n",
    "#        ]\n",
    "                \n",
    "# for url in tqdm(urls):\n",
    "#     download_gz_from_url(url,output_folder)"
   ]
  },
  {
   "cell_type": "markdown",
   "metadata": {},
   "source": [
    "## Carga de Datos"
   ]
  },
  {
   "cell_type": "code",
   "execution_count": 2,
   "metadata": {},
   "outputs": [],
   "source": [
    "import mnist_fashion_reader as mnist\n",
    "\n",
    "X_train, y_train = mnist.load_mnist('data/', kind='train') #devuelve amigables objetos de Pandas\n",
    "X_test, y_test = mnist.load_mnist('data/', kind='t10k') #devuevle amigables objetos de Pandas"
   ]
  },
  {
   "cell_type": "markdown",
   "metadata": {},
   "source": [
    "## Punto 1: Exploración del dataset"
   ]
  },
  {
   "cell_type": "markdown",
   "metadata": {},
   "source": [
    "Realizar una breve descripción del dataset. ¿Qué cantidad de datos tiene este conjunto? ¿Cuántos atributos? ¿Qué rangos de valores toman los atributos? ¿Qué cantidad de clases hay para clasificar? ¿Están balanceadas? Realizar un gráfico donde se muestran ejemplos de las clases (Puede ir a un anexo)."
   ]
  },
  {
   "cell_type": "markdown",
   "metadata": {},
   "source": [
    "### Cantidad de datos del conjunto"
   ]
  },
  {
   "cell_type": "code",
   "execution_count": 4,
   "metadata": {},
   "outputs": [],
   "source": [
    "df_entrenamiento = pd.concat([X_train.reset_index(drop=True), y_train], axis=1)\n",
    "df_test = pd.concat([X_test.reset_index(drop=True), y_test], axis=1)\n",
    "df_completo = pd.concat([df_entrenamiento, df_test])"
   ]
  },
  {
   "cell_type": "code",
   "execution_count": 5,
   "metadata": {},
   "outputs": [
    {
     "name": "stdout",
     "output_type": "stream",
     "text": [
      "Entrenamiento: (60000, 785)   +   Test: (10000, 785)   -->   Completo: (70000, 785)\n"
     ]
    }
   ],
   "source": [
    "print('Entrenamiento:', df_entrenamiento.shape,'  +  ' ,'Test:', df_test.shape, '  -->  ' , 'Completo:', df_completo.shape)"
   ]
  },
  {
   "cell_type": "code",
   "execution_count": 6,
   "metadata": {},
   "outputs": [
    {
     "name": "stdout",
     "output_type": "stream",
     "text": [
      "El dataset completo posee 70000 registros. Cada registro corresponde a una imagen del dataset.\n"
     ]
    }
   ],
   "source": [
    "print(f\"El dataset completo posee {len(df_completo)} registros. Cada registro corresponde a una imagen del dataset.\")"
   ]
  },
  {
   "cell_type": "markdown",
   "metadata": {},
   "source": [
    "### Atributos"
   ]
  },
  {
   "cell_type": "markdown",
   "metadata": {},
   "source": [
    "#### Cantidad de atributos"
   ]
  },
  {
   "cell_type": "code",
   "execution_count": 7,
   "metadata": {},
   "outputs": [
    {
     "name": "stdout",
     "output_type": "stream",
     "text": [
      "Cada atributo representa el valor de cada uno de los pixeles de cada imagen. Dado que cada imagen tiene un formato de 28 x 28 pixeles en escala de grises, el dataset posee 784 atributos por registro, correspondientes al valor en escala de gris de cada pixel que compone la imagen\n",
      "+ UN (1) atributo con valores de 0 a 9 correspondiente a las clases a clasificar\n"
     ]
    }
   ],
   "source": [
    "print(f\"Cada atributo representa el valor de cada uno de los pixeles de cada imagen. Dado que cada imagen tiene un formato de 28 x 28 pixeles en escala de grises, el dataset posee {len(df_completo.columns)-1} atributos por registro, correspondientes al valor en escala de gris de cada pixel que compone la imagen\")\n",
    "\n",
    "print(\"+ UN (1) atributo con valores de 0 a 9 correspondiente a las clases a clasificar\" )"
   ]
  },
  {
   "cell_type": "markdown",
   "metadata": {},
   "source": [
    "#### Rangos de valores"
   ]
  },
  {
   "cell_type": "code",
   "execution_count": 8,
   "metadata": {},
   "outputs": [],
   "source": [
    "max_val = df_completo.max().max()\n",
    "min_val = df_completo.min().min()"
   ]
  },
  {
   "cell_type": "code",
   "execution_count": 9,
   "metadata": {},
   "outputs": [
    {
     "name": "stdout",
     "output_type": "stream",
     "text": [
      "El valor mínimo de los atributos es 0 , y el máximo es 255. Cada valor es un integer entre 0 y 255\n"
     ]
    }
   ],
   "source": [
    "print(f\"El valor mínimo de los atributos es {min_val} , y el máximo es {max_val}. Cada valor es un integer entre {min_val} y {max_val}\")"
   ]
  },
  {
   "cell_type": "markdown",
   "metadata": {},
   "source": [
    "#### Clases a clasificar"
   ]
  },
  {
   "cell_type": "code",
   "execution_count": 10,
   "metadata": {},
   "outputs": [
    {
     "data": {
      "text/plain": [
       "array([0, 1, 2, 3, 4, 5, 6, 7, 8, 9], dtype=uint8)"
      ]
     },
     "execution_count": 10,
     "metadata": {},
     "output_type": "execute_result"
    }
   ],
   "source": [
    "clases = np.sort(df_completo[0].unique())\n",
    "\n",
    "clases"
   ]
  },
  {
   "cell_type": "code",
   "execution_count": 11,
   "metadata": {},
   "outputs": [
    {
     "name": "stdout",
     "output_type": "stream",
     "text": [
      "El dataset está compuesto por 10 clases\n"
     ]
    }
   ],
   "source": [
    "print(f\"El dataset está compuesto por {len(clases)} clases\")"
   ]
  },
  {
   "cell_type": "markdown",
   "metadata": {},
   "source": [
    "##### N de clases"
   ]
  },
  {
   "cell_type": "code",
   "execution_count": 12,
   "metadata": {},
   "outputs": [
    {
     "name": "stdout",
     "output_type": "stream",
     "text": [
      "Las clases son: [0 1 2 3 4 5 6 7 8 9]\n"
     ]
    }
   ],
   "source": [
    "print(f\"Las clases son: {clases}\")"
   ]
  },
  {
   "cell_type": "markdown",
   "metadata": {},
   "source": [
    "##### Balanceo de clases"
   ]
  },
  {
   "cell_type": "code",
   "execution_count": 13,
   "metadata": {},
   "outputs": [
    {
     "data": {
      "text/html": [
       "<div>\n",
       "<style scoped>\n",
       "    .dataframe tbody tr th:only-of-type {\n",
       "        vertical-align: middle;\n",
       "    }\n",
       "\n",
       "    .dataframe tbody tr th {\n",
       "        vertical-align: top;\n",
       "    }\n",
       "\n",
       "    .dataframe thead th {\n",
       "        text-align: right;\n",
       "    }\n",
       "</style>\n",
       "<table border=\"1\" class=\"dataframe\">\n",
       "  <thead>\n",
       "    <tr style=\"text-align: right;\">\n",
       "      <th></th>\n",
       "      <th>Cant</th>\n",
       "      <th>%</th>\n",
       "    </tr>\n",
       "  </thead>\n",
       "  <tbody>\n",
       "    <tr>\n",
       "      <th>0</th>\n",
       "      <td>7000</td>\n",
       "      <td>0.1</td>\n",
       "    </tr>\n",
       "    <tr>\n",
       "      <th>1</th>\n",
       "      <td>7000</td>\n",
       "      <td>0.1</td>\n",
       "    </tr>\n",
       "    <tr>\n",
       "      <th>2</th>\n",
       "      <td>7000</td>\n",
       "      <td>0.1</td>\n",
       "    </tr>\n",
       "    <tr>\n",
       "      <th>3</th>\n",
       "      <td>7000</td>\n",
       "      <td>0.1</td>\n",
       "    </tr>\n",
       "    <tr>\n",
       "      <th>4</th>\n",
       "      <td>7000</td>\n",
       "      <td>0.1</td>\n",
       "    </tr>\n",
       "    <tr>\n",
       "      <th>5</th>\n",
       "      <td>7000</td>\n",
       "      <td>0.1</td>\n",
       "    </tr>\n",
       "    <tr>\n",
       "      <th>6</th>\n",
       "      <td>7000</td>\n",
       "      <td>0.1</td>\n",
       "    </tr>\n",
       "    <tr>\n",
       "      <th>7</th>\n",
       "      <td>7000</td>\n",
       "      <td>0.1</td>\n",
       "    </tr>\n",
       "    <tr>\n",
       "      <th>8</th>\n",
       "      <td>7000</td>\n",
       "      <td>0.1</td>\n",
       "    </tr>\n",
       "    <tr>\n",
       "      <th>9</th>\n",
       "      <td>7000</td>\n",
       "      <td>0.1</td>\n",
       "    </tr>\n",
       "  </tbody>\n",
       "</table>\n",
       "</div>"
      ],
      "text/plain": [
       "   Cant    %\n",
       "0  7000  0.1\n",
       "1  7000  0.1\n",
       "2  7000  0.1\n",
       "3  7000  0.1\n",
       "4  7000  0.1\n",
       "5  7000  0.1\n",
       "6  7000  0.1\n",
       "7  7000  0.1\n",
       "8  7000  0.1\n",
       "9  7000  0.1"
      ]
     },
     "execution_count": 13,
     "metadata": {},
     "output_type": "execute_result"
    }
   ],
   "source": [
    "Q = df_completo[0].value_counts().rename(\"Cant\")\n",
    "P = df_completo[0].value_counts(normalize=True).rename(\"%\")\n",
    "\n",
    "pd.concat([Q, P], axis=1).sort_index()\n"
   ]
  },
  {
   "cell_type": "markdown",
   "metadata": {},
   "source": [
    "##### Visualización "
   ]
  },
  {
   "cell_type": "markdown",
   "metadata": {},
   "source": [
    "## Separación en desarrollo y testeo"
   ]
  },
  {
   "cell_type": "markdown",
   "metadata": {},
   "source": [
    "Separación de datos respetando la división presente en el github oficial de desarrollo y testeo"
   ]
  },
  {
   "cell_type": "code",
   "execution_count": 14,
   "metadata": {},
   "outputs": [
    {
     "data": {
      "text/plain": [
       "(60000, 784)"
      ]
     },
     "execution_count": 14,
     "metadata": {},
     "output_type": "execute_result"
    }
   ],
   "source": [
    "X_train.shape"
   ]
  },
  {
   "cell_type": "code",
   "execution_count": 15,
   "metadata": {},
   "outputs": [
    {
     "data": {
      "text/plain": [
       "(60000,)"
      ]
     },
     "execution_count": 15,
     "metadata": {},
     "output_type": "execute_result"
    }
   ],
   "source": [
    "y_train.shape"
   ]
  },
  {
   "cell_type": "code",
   "execution_count": 16,
   "metadata": {},
   "outputs": [
    {
     "data": {
      "text/plain": [
       "(10000, 784)"
      ]
     },
     "execution_count": 16,
     "metadata": {},
     "output_type": "execute_result"
    }
   ],
   "source": [
    "X_test.shape"
   ]
  },
  {
   "cell_type": "code",
   "execution_count": 17,
   "metadata": {},
   "outputs": [
    {
     "data": {
      "text/plain": [
       "(10000,)"
      ]
     },
     "execution_count": 17,
     "metadata": {},
     "output_type": "execute_result"
    }
   ],
   "source": [
    "y_test.shape"
   ]
  },
  {
   "cell_type": "code",
   "execution_count": 18,
   "metadata": {},
   "outputs": [
    {
     "data": {
      "text/html": [
       "<div>\n",
       "<style scoped>\n",
       "    .dataframe tbody tr th:only-of-type {\n",
       "        vertical-align: middle;\n",
       "    }\n",
       "\n",
       "    .dataframe tbody tr th {\n",
       "        vertical-align: top;\n",
       "    }\n",
       "\n",
       "    .dataframe thead th {\n",
       "        text-align: right;\n",
       "    }\n",
       "</style>\n",
       "<table border=\"1\" class=\"dataframe\">\n",
       "  <thead>\n",
       "    <tr style=\"text-align: right;\">\n",
       "      <th></th>\n",
       "      <th>Cant</th>\n",
       "      <th>%</th>\n",
       "    </tr>\n",
       "    <tr>\n",
       "      <th>train</th>\n",
       "      <th></th>\n",
       "      <th></th>\n",
       "    </tr>\n",
       "  </thead>\n",
       "  <tbody>\n",
       "    <tr>\n",
       "      <th>0</th>\n",
       "      <td>6000</td>\n",
       "      <td>0.1</td>\n",
       "    </tr>\n",
       "    <tr>\n",
       "      <th>1</th>\n",
       "      <td>6000</td>\n",
       "      <td>0.1</td>\n",
       "    </tr>\n",
       "    <tr>\n",
       "      <th>2</th>\n",
       "      <td>6000</td>\n",
       "      <td>0.1</td>\n",
       "    </tr>\n",
       "    <tr>\n",
       "      <th>3</th>\n",
       "      <td>6000</td>\n",
       "      <td>0.1</td>\n",
       "    </tr>\n",
       "    <tr>\n",
       "      <th>4</th>\n",
       "      <td>6000</td>\n",
       "      <td>0.1</td>\n",
       "    </tr>\n",
       "    <tr>\n",
       "      <th>5</th>\n",
       "      <td>6000</td>\n",
       "      <td>0.1</td>\n",
       "    </tr>\n",
       "    <tr>\n",
       "      <th>6</th>\n",
       "      <td>6000</td>\n",
       "      <td>0.1</td>\n",
       "    </tr>\n",
       "    <tr>\n",
       "      <th>7</th>\n",
       "      <td>6000</td>\n",
       "      <td>0.1</td>\n",
       "    </tr>\n",
       "    <tr>\n",
       "      <th>8</th>\n",
       "      <td>6000</td>\n",
       "      <td>0.1</td>\n",
       "    </tr>\n",
       "    <tr>\n",
       "      <th>9</th>\n",
       "      <td>6000</td>\n",
       "      <td>0.1</td>\n",
       "    </tr>\n",
       "  </tbody>\n",
       "</table>\n",
       "</div>"
      ],
      "text/plain": [
       "       Cant    %\n",
       "train           \n",
       "0      6000  0.1\n",
       "1      6000  0.1\n",
       "2      6000  0.1\n",
       "3      6000  0.1\n",
       "4      6000  0.1\n",
       "5      6000  0.1\n",
       "6      6000  0.1\n",
       "7      6000  0.1\n",
       "8      6000  0.1\n",
       "9      6000  0.1"
      ]
     },
     "execution_count": 18,
     "metadata": {},
     "output_type": "execute_result"
    }
   ],
   "source": [
    "Q1 = y_train.value_counts().rename(\"Cant\")\n",
    "P1 = y_train.value_counts(normalize=True).rename(\"%\")\n",
    "\n",
    "pd.concat([Q1, P1], axis=1).sort_index().rename_axis('train')"
   ]
  },
  {
   "cell_type": "code",
   "execution_count": 19,
   "metadata": {},
   "outputs": [
    {
     "data": {
      "text/html": [
       "<div>\n",
       "<style scoped>\n",
       "    .dataframe tbody tr th:only-of-type {\n",
       "        vertical-align: middle;\n",
       "    }\n",
       "\n",
       "    .dataframe tbody tr th {\n",
       "        vertical-align: top;\n",
       "    }\n",
       "\n",
       "    .dataframe thead th {\n",
       "        text-align: right;\n",
       "    }\n",
       "</style>\n",
       "<table border=\"1\" class=\"dataframe\">\n",
       "  <thead>\n",
       "    <tr style=\"text-align: right;\">\n",
       "      <th></th>\n",
       "      <th>Cant</th>\n",
       "      <th>%</th>\n",
       "    </tr>\n",
       "    <tr>\n",
       "      <th>test</th>\n",
       "      <th></th>\n",
       "      <th></th>\n",
       "    </tr>\n",
       "  </thead>\n",
       "  <tbody>\n",
       "    <tr>\n",
       "      <th>0</th>\n",
       "      <td>1000</td>\n",
       "      <td>0.1</td>\n",
       "    </tr>\n",
       "    <tr>\n",
       "      <th>1</th>\n",
       "      <td>1000</td>\n",
       "      <td>0.1</td>\n",
       "    </tr>\n",
       "    <tr>\n",
       "      <th>2</th>\n",
       "      <td>1000</td>\n",
       "      <td>0.1</td>\n",
       "    </tr>\n",
       "    <tr>\n",
       "      <th>3</th>\n",
       "      <td>1000</td>\n",
       "      <td>0.1</td>\n",
       "    </tr>\n",
       "    <tr>\n",
       "      <th>4</th>\n",
       "      <td>1000</td>\n",
       "      <td>0.1</td>\n",
       "    </tr>\n",
       "    <tr>\n",
       "      <th>5</th>\n",
       "      <td>1000</td>\n",
       "      <td>0.1</td>\n",
       "    </tr>\n",
       "    <tr>\n",
       "      <th>6</th>\n",
       "      <td>1000</td>\n",
       "      <td>0.1</td>\n",
       "    </tr>\n",
       "    <tr>\n",
       "      <th>7</th>\n",
       "      <td>1000</td>\n",
       "      <td>0.1</td>\n",
       "    </tr>\n",
       "    <tr>\n",
       "      <th>8</th>\n",
       "      <td>1000</td>\n",
       "      <td>0.1</td>\n",
       "    </tr>\n",
       "    <tr>\n",
       "      <th>9</th>\n",
       "      <td>1000</td>\n",
       "      <td>0.1</td>\n",
       "    </tr>\n",
       "  </tbody>\n",
       "</table>\n",
       "</div>"
      ],
      "text/plain": [
       "      Cant    %\n",
       "test           \n",
       "0     1000  0.1\n",
       "1     1000  0.1\n",
       "2     1000  0.1\n",
       "3     1000  0.1\n",
       "4     1000  0.1\n",
       "5     1000  0.1\n",
       "6     1000  0.1\n",
       "7     1000  0.1\n",
       "8     1000  0.1\n",
       "9     1000  0.1"
      ]
     },
     "execution_count": 19,
     "metadata": {},
     "output_type": "execute_result"
    }
   ],
   "source": [
    "Q2 = y_test.value_counts().rename(\"Cant\")\n",
    "P2 = y_test.value_counts(normalize=True).rename(\"%\")\n",
    "\n",
    "pd.concat([Q2, P2], axis=1).sort_index().rename_axis('test')"
   ]
  },
  {
   "cell_type": "markdown",
   "metadata": {},
   "source": [
    "## Separación del conjunto de desarrollo en entrenamiento y validación"
   ]
  },
  {
   "cell_type": "markdown",
   "metadata": {},
   "source": [
    "Conjunto de entrenamiento (85.71%):\n",
    "* x_train, y_train = 80% del conjunto de entrenamiento\n",
    "* x_val, y_val = 20% del conjunto de entrenamiento\n",
    "\n",
    "Conjunto de testing(14.29%)\n",
    "* X_test, y_test = Conjunto held-out de testing"
   ]
  },
  {
   "cell_type": "code",
   "execution_count": 3,
   "metadata": {},
   "outputs": [],
   "source": [
    "from sklearn.model_selection import train_test_split\n",
    "seed = 42\n",
    "\n",
    "x_train, x_val, y_train, y_val = train_test_split(X_train,y_train, test_size=0.2, random_state=seed, stratify = y_train) "
   ]
  },
  {
   "cell_type": "markdown",
   "metadata": {},
   "source": [
    "## Entrenamiento inicial de modelos"
   ]
  },
  {
   "cell_type": "markdown",
   "metadata": {},
   "source": [
    "Entrenamiento de 4 modelos con sus hiperparámetros por defecto"
   ]
  },
  {
   "cell_type": "code",
   "execution_count": 4,
   "metadata": {},
   "outputs": [],
   "source": [
    "#https://stackoverflow-com.translate.goog/questions/39685740/calculate-sklearn-roc-auc-score-for-multi-class?_x_tr_sl=es&_x_tr_tl=en&_x_tr_hl=es&_x_tr_pto=wapp\n",
    "def roc_auc_score_multiclass(actual_class, pred_class, average = \"macro\"):\n",
    "\n",
    "  #creating a set of all the unique classes using the actual class list\n",
    "  unique_class = set(actual_class)\n",
    "  roc_auc_dict = {}\n",
    "  for per_class in unique_class:\n",
    "    #creating a list of all the classes except the current class \n",
    "    other_class = [x for x in unique_class if x != per_class]\n",
    "\n",
    "    #marking the current class as 1 and all other classes as 0\n",
    "    new_actual_class = [0 if x in other_class else 1 for x in actual_class]\n",
    "    new_pred_class = [0 if x in other_class else 1 for x in pred_class]\n",
    "\n",
    "    #using the sklearn metrics method to calculate the roc_auc_score\n",
    "    roc_auc = roc_auc_score(new_actual_class, new_pred_class, average = average)\n",
    "    roc_auc_dict[per_class] = roc_auc\n",
    "\n",
    "  return roc_auc_dict\n",
    "\n",
    "def classif_report(true_vals, pred_vals):\n",
    "    n_class = y_val.nunique()\n",
    "    sk_report = classification_report(true_vals, pred_vals, output_dict=True)\n",
    "    reportA = pd.DataFrame(sk_report).stack().unstack(0).iloc[0:n_class] \n",
    "    reportA['roc_auc'] = [v for k,v in roc_auc_score_multiclass(true_vals, pred_vals, average = \"macro\").items()]\n",
    "    acc_score = [sk_report['accuracy']]*5\n",
    "    macro_avg = reportA.mean()\n",
    "    weighted_avg = np.average(reportA, axis = 0, weights=reportA.support)\n",
    "    reportB = pd.DataFrame({\"accuracy\":acc_score,\n",
    "                            \"macro_avg\": macro_avg,\n",
    "                            \"weighted_avg\":weighted_avg}).stack().unstack(0)\n",
    "    report = pd.concat([reportA, reportB], axis=0)\n",
    "                            \n",
    "    return report"
   ]
  },
  {
   "cell_type": "markdown",
   "metadata": {},
   "source": [
    "### Boosting"
   ]
  },
  {
   "cell_type": "markdown",
   "metadata": {},
   "source": [
    "#### GradientBoostingClassifier"
   ]
  },
  {
   "cell_type": "code",
   "execution_count": 92,
   "metadata": {},
   "outputs": [],
   "source": [
    "seed = 42"
   ]
  },
  {
   "cell_type": "code",
   "execution_count": 94,
   "metadata": {},
   "outputs": [
    {
     "name": "stdout",
     "output_type": "stream",
     "text": [
      "      Iter       Train Loss   Remaining Time \n",
      "         1           1.8519           66.54m\n",
      "         2           1.6078           68.75m\n",
      "         3           1.4292           68.18m\n",
      "         4           1.2882           66.75m\n",
      "         5           1.1791           65.91m\n",
      "         6           1.0887           64.87m\n",
      "         7           1.0126           64.13m\n",
      "         8           0.9453           63.43m\n",
      "         9           0.8882           62.62m\n",
      "        10           0.8397           62.21m\n",
      "        20           0.5629           54.83m\n",
      "        30           0.4552           47.82m\n",
      "        40           0.3994           40.88m\n",
      "        50           0.3635           34.01m\n",
      "        60           0.3375           27.26m\n",
      "        70           0.3178           20.47m\n",
      "        80           0.3014           13.67m\n",
      "        90           0.2868            6.83m\n",
      "       100           0.2743            0.00s\n",
      "Accuracy training : 0.908\n",
      "Accuracy val: 0.875\n"
     ]
    },
    {
     "data": {
      "text/html": [
       "<div>\n",
       "<style scoped>\n",
       "    .dataframe tbody tr th:only-of-type {\n",
       "        vertical-align: middle;\n",
       "    }\n",
       "\n",
       "    .dataframe tbody tr th {\n",
       "        vertical-align: top;\n",
       "    }\n",
       "\n",
       "    .dataframe thead th {\n",
       "        text-align: right;\n",
       "    }\n",
       "</style>\n",
       "<table border=\"1\" class=\"dataframe\">\n",
       "  <thead>\n",
       "    <tr style=\"text-align: right;\">\n",
       "      <th></th>\n",
       "      <th>precision</th>\n",
       "      <th>recall</th>\n",
       "      <th>f1-score</th>\n",
       "      <th>support</th>\n",
       "      <th>roc_auc</th>\n",
       "    </tr>\n",
       "  </thead>\n",
       "  <tbody>\n",
       "    <tr>\n",
       "      <th>0</th>\n",
       "      <td>0.816867</td>\n",
       "      <td>0.847500</td>\n",
       "      <td>0.831902</td>\n",
       "      <td>1200.0000</td>\n",
       "      <td>0.913194</td>\n",
       "    </tr>\n",
       "    <tr>\n",
       "      <th>1</th>\n",
       "      <td>0.990638</td>\n",
       "      <td>0.970000</td>\n",
       "      <td>0.980211</td>\n",
       "      <td>1200.0000</td>\n",
       "      <td>0.984491</td>\n",
       "    </tr>\n",
       "    <tr>\n",
       "      <th>2</th>\n",
       "      <td>0.762175</td>\n",
       "      <td>0.782500</td>\n",
       "      <td>0.772204</td>\n",
       "      <td>1200.0000</td>\n",
       "      <td>0.877685</td>\n",
       "    </tr>\n",
       "    <tr>\n",
       "      <th>3</th>\n",
       "      <td>0.886870</td>\n",
       "      <td>0.895000</td>\n",
       "      <td>0.890917</td>\n",
       "      <td>1200.0000</td>\n",
       "      <td>0.941157</td>\n",
       "    </tr>\n",
       "    <tr>\n",
       "      <th>4</th>\n",
       "      <td>0.773570</td>\n",
       "      <td>0.800000</td>\n",
       "      <td>0.786563</td>\n",
       "      <td>1200.0000</td>\n",
       "      <td>0.886991</td>\n",
       "    </tr>\n",
       "    <tr>\n",
       "      <th>5</th>\n",
       "      <td>0.966302</td>\n",
       "      <td>0.955833</td>\n",
       "      <td>0.961039</td>\n",
       "      <td>1200.0000</td>\n",
       "      <td>0.976065</td>\n",
       "    </tr>\n",
       "    <tr>\n",
       "      <th>6</th>\n",
       "      <td>0.697993</td>\n",
       "      <td>0.637500</td>\n",
       "      <td>0.666376</td>\n",
       "      <td>1200.0000</td>\n",
       "      <td>0.803426</td>\n",
       "    </tr>\n",
       "    <tr>\n",
       "      <th>7</th>\n",
       "      <td>0.939669</td>\n",
       "      <td>0.947500</td>\n",
       "      <td>0.943568</td>\n",
       "      <td>1200.0000</td>\n",
       "      <td>0.970370</td>\n",
       "    </tr>\n",
       "    <tr>\n",
       "      <th>8</th>\n",
       "      <td>0.965087</td>\n",
       "      <td>0.967500</td>\n",
       "      <td>0.966292</td>\n",
       "      <td>1200.0000</td>\n",
       "      <td>0.981806</td>\n",
       "    </tr>\n",
       "    <tr>\n",
       "      <th>9</th>\n",
       "      <td>0.951667</td>\n",
       "      <td>0.951667</td>\n",
       "      <td>0.951667</td>\n",
       "      <td>1200.0000</td>\n",
       "      <td>0.973148</td>\n",
       "    </tr>\n",
       "    <tr>\n",
       "      <th>accuracy</th>\n",
       "      <td>0.875500</td>\n",
       "      <td>0.875500</td>\n",
       "      <td>0.875500</td>\n",
       "      <td>0.8755</td>\n",
       "      <td>0.875500</td>\n",
       "    </tr>\n",
       "    <tr>\n",
       "      <th>macro_avg</th>\n",
       "      <td>0.875084</td>\n",
       "      <td>0.875500</td>\n",
       "      <td>0.875074</td>\n",
       "      <td>1200.0000</td>\n",
       "      <td>0.930833</td>\n",
       "    </tr>\n",
       "    <tr>\n",
       "      <th>weighted_avg</th>\n",
       "      <td>0.875084</td>\n",
       "      <td>0.875500</td>\n",
       "      <td>0.875074</td>\n",
       "      <td>1200.0000</td>\n",
       "      <td>0.930833</td>\n",
       "    </tr>\n",
       "  </tbody>\n",
       "</table>\n",
       "</div>"
      ],
      "text/plain": [
       "              precision    recall  f1-score    support   roc_auc\n",
       "0              0.816867  0.847500  0.831902  1200.0000  0.913194\n",
       "1              0.990638  0.970000  0.980211  1200.0000  0.984491\n",
       "2              0.762175  0.782500  0.772204  1200.0000  0.877685\n",
       "3              0.886870  0.895000  0.890917  1200.0000  0.941157\n",
       "4              0.773570  0.800000  0.786563  1200.0000  0.886991\n",
       "5              0.966302  0.955833  0.961039  1200.0000  0.976065\n",
       "6              0.697993  0.637500  0.666376  1200.0000  0.803426\n",
       "7              0.939669  0.947500  0.943568  1200.0000  0.970370\n",
       "8              0.965087  0.967500  0.966292  1200.0000  0.981806\n",
       "9              0.951667  0.951667  0.951667  1200.0000  0.973148\n",
       "accuracy       0.875500  0.875500  0.875500     0.8755  0.875500\n",
       "macro_avg      0.875084  0.875500  0.875074  1200.0000  0.930833\n",
       "weighted_avg   0.875084  0.875500  0.875074  1200.0000  0.930833"
      ]
     },
     "execution_count": 94,
     "metadata": {},
     "output_type": "execute_result"
    }
   ],
   "source": [
    "gbc = GradientBoostingClassifier(random_state = seed, verbose=1)\n",
    "gbc.fit(x_train, y_train)\n",
    "y_pred = gbc.predict(x_val)\n",
    "\n",
    "print(\"Accuracy training : {:.3f}\".format(gbc.score(x_train, y_train)))\n",
    "print(\"Accuracy val: {:.3f}\".format(gbc.score(x_val, y_val)))\n",
    "classif_report(y_val, y_pred)"
   ]
  },
  {
   "cell_type": "markdown",
   "metadata": {},
   "source": [
    "### Bagging"
   ]
  },
  {
   "cell_type": "markdown",
   "metadata": {},
   "source": [
    "#### Random Forest Classifier"
   ]
  },
  {
   "cell_type": "code",
   "execution_count": 96,
   "metadata": {},
   "outputs": [
    {
     "name": "stderr",
     "output_type": "stream",
     "text": [
      "[Parallel(n_jobs=-1)]: Using backend ThreadingBackend with 12 concurrent workers.\n",
      "[Parallel(n_jobs=-1)]: Done  26 tasks      | elapsed:    3.5s\n",
      "[Parallel(n_jobs=-1)]: Done 100 out of 100 | elapsed:   10.1s finished\n",
      "[Parallel(n_jobs=12)]: Using backend ThreadingBackend with 12 concurrent workers.\n",
      "[Parallel(n_jobs=12)]: Done  26 tasks      | elapsed:    0.0s\n",
      "[Parallel(n_jobs=12)]: Done 100 out of 100 | elapsed:    0.1s finished\n",
      "[Parallel(n_jobs=12)]: Using backend ThreadingBackend with 12 concurrent workers.\n",
      "[Parallel(n_jobs=12)]: Done  26 tasks      | elapsed:    0.1s\n",
      "[Parallel(n_jobs=12)]: Done 100 out of 100 | elapsed:    0.6s finished\n",
      "[Parallel(n_jobs=12)]: Using backend ThreadingBackend with 12 concurrent workers.\n",
      "[Parallel(n_jobs=12)]: Done  26 tasks      | elapsed:    0.0s\n"
     ]
    },
    {
     "name": "stdout",
     "output_type": "stream",
     "text": [
      "Accuracy training : 1.000\n"
     ]
    },
    {
     "name": "stderr",
     "output_type": "stream",
     "text": [
      "[Parallel(n_jobs=12)]: Done 100 out of 100 | elapsed:    0.1s finished\n"
     ]
    },
    {
     "name": "stdout",
     "output_type": "stream",
     "text": [
      "Accuracy val: 0.883\n"
     ]
    },
    {
     "data": {
      "text/html": [
       "<div>\n",
       "<style scoped>\n",
       "    .dataframe tbody tr th:only-of-type {\n",
       "        vertical-align: middle;\n",
       "    }\n",
       "\n",
       "    .dataframe tbody tr th {\n",
       "        vertical-align: top;\n",
       "    }\n",
       "\n",
       "    .dataframe thead th {\n",
       "        text-align: right;\n",
       "    }\n",
       "</style>\n",
       "<table border=\"1\" class=\"dataframe\">\n",
       "  <thead>\n",
       "    <tr style=\"text-align: right;\">\n",
       "      <th></th>\n",
       "      <th>precision</th>\n",
       "      <th>recall</th>\n",
       "      <th>f1-score</th>\n",
       "      <th>support</th>\n",
       "      <th>roc_auc</th>\n",
       "    </tr>\n",
       "  </thead>\n",
       "  <tbody>\n",
       "    <tr>\n",
       "      <th>0</th>\n",
       "      <td>0.833200</td>\n",
       "      <td>0.870000</td>\n",
       "      <td>0.851203</td>\n",
       "      <td>1200.000000</td>\n",
       "      <td>0.925324</td>\n",
       "    </tr>\n",
       "    <tr>\n",
       "      <th>1</th>\n",
       "      <td>0.993168</td>\n",
       "      <td>0.969167</td>\n",
       "      <td>0.981021</td>\n",
       "      <td>1200.000000</td>\n",
       "      <td>0.984213</td>\n",
       "    </tr>\n",
       "    <tr>\n",
       "      <th>2</th>\n",
       "      <td>0.772727</td>\n",
       "      <td>0.807500</td>\n",
       "      <td>0.789731</td>\n",
       "      <td>1200.000000</td>\n",
       "      <td>0.890556</td>\n",
       "    </tr>\n",
       "    <tr>\n",
       "      <th>3</th>\n",
       "      <td>0.880452</td>\n",
       "      <td>0.908333</td>\n",
       "      <td>0.894176</td>\n",
       "      <td>1200.000000</td>\n",
       "      <td>0.947315</td>\n",
       "    </tr>\n",
       "    <tr>\n",
       "      <th>4</th>\n",
       "      <td>0.772370</td>\n",
       "      <td>0.820000</td>\n",
       "      <td>0.795473</td>\n",
       "      <td>1200.000000</td>\n",
       "      <td>0.896574</td>\n",
       "    </tr>\n",
       "    <tr>\n",
       "      <th>5</th>\n",
       "      <td>0.964942</td>\n",
       "      <td>0.963333</td>\n",
       "      <td>0.964137</td>\n",
       "      <td>1200.000000</td>\n",
       "      <td>0.979722</td>\n",
       "    </tr>\n",
       "    <tr>\n",
       "      <th>6</th>\n",
       "      <td>0.750501</td>\n",
       "      <td>0.624167</td>\n",
       "      <td>0.681529</td>\n",
       "      <td>1200.000000</td>\n",
       "      <td>0.800556</td>\n",
       "    </tr>\n",
       "    <tr>\n",
       "      <th>7</th>\n",
       "      <td>0.939217</td>\n",
       "      <td>0.940000</td>\n",
       "      <td>0.939608</td>\n",
       "      <td>1200.000000</td>\n",
       "      <td>0.966620</td>\n",
       "    </tr>\n",
       "    <tr>\n",
       "      <th>8</th>\n",
       "      <td>0.963756</td>\n",
       "      <td>0.975000</td>\n",
       "      <td>0.969345</td>\n",
       "      <td>1200.000000</td>\n",
       "      <td>0.985463</td>\n",
       "    </tr>\n",
       "    <tr>\n",
       "      <th>9</th>\n",
       "      <td>0.949124</td>\n",
       "      <td>0.948333</td>\n",
       "      <td>0.948729</td>\n",
       "      <td>1200.000000</td>\n",
       "      <td>0.971343</td>\n",
       "    </tr>\n",
       "    <tr>\n",
       "      <th>accuracy</th>\n",
       "      <td>0.882583</td>\n",
       "      <td>0.882583</td>\n",
       "      <td>0.882583</td>\n",
       "      <td>0.882583</td>\n",
       "      <td>0.882583</td>\n",
       "    </tr>\n",
       "    <tr>\n",
       "      <th>macro_avg</th>\n",
       "      <td>0.881946</td>\n",
       "      <td>0.882583</td>\n",
       "      <td>0.881495</td>\n",
       "      <td>1200.000000</td>\n",
       "      <td>0.934769</td>\n",
       "    </tr>\n",
       "    <tr>\n",
       "      <th>weighted_avg</th>\n",
       "      <td>0.881946</td>\n",
       "      <td>0.882583</td>\n",
       "      <td>0.881495</td>\n",
       "      <td>1200.000000</td>\n",
       "      <td>0.934769</td>\n",
       "    </tr>\n",
       "  </tbody>\n",
       "</table>\n",
       "</div>"
      ],
      "text/plain": [
       "              precision    recall  f1-score      support   roc_auc\n",
       "0              0.833200  0.870000  0.851203  1200.000000  0.925324\n",
       "1              0.993168  0.969167  0.981021  1200.000000  0.984213\n",
       "2              0.772727  0.807500  0.789731  1200.000000  0.890556\n",
       "3              0.880452  0.908333  0.894176  1200.000000  0.947315\n",
       "4              0.772370  0.820000  0.795473  1200.000000  0.896574\n",
       "5              0.964942  0.963333  0.964137  1200.000000  0.979722\n",
       "6              0.750501  0.624167  0.681529  1200.000000  0.800556\n",
       "7              0.939217  0.940000  0.939608  1200.000000  0.966620\n",
       "8              0.963756  0.975000  0.969345  1200.000000  0.985463\n",
       "9              0.949124  0.948333  0.948729  1200.000000  0.971343\n",
       "accuracy       0.882583  0.882583  0.882583     0.882583  0.882583\n",
       "macro_avg      0.881946  0.882583  0.881495  1200.000000  0.934769\n",
       "weighted_avg   0.881946  0.882583  0.881495  1200.000000  0.934769"
      ]
     },
     "execution_count": 96,
     "metadata": {},
     "output_type": "execute_result"
    }
   ],
   "source": [
    "rf = RandomForestClassifier(random_state = seed, verbose=1, n_jobs=-1)\n",
    "rf.fit(x_train, y_train)\n",
    "y_pred = rf.predict(x_val)\n",
    "\n",
    "print(\"Accuracy training : {:.3f}\".format(rf.score(x_train, y_train)))\n",
    "print(\"Accuracy val: {:.3f}\".format(rf.score(x_val, y_val)))\n",
    "classif_report(y_val, y_pred)"
   ]
  },
  {
   "cell_type": "markdown",
   "metadata": {},
   "source": [
    "#### Bagging decision trees\n",
    "\n",
    "Alternativa al random forest"
   ]
  },
  {
   "cell_type": "code",
   "execution_count": 98,
   "metadata": {},
   "outputs": [
    {
     "name": "stderr",
     "output_type": "stream",
     "text": [
      "[Parallel(n_jobs=10)]: Using backend LokyBackend with 10 concurrent workers.\n",
      "[Parallel(n_jobs=10)]: Done   2 out of  10 | elapsed:   34.6s remaining:  2.3min\n",
      "[Parallel(n_jobs=10)]: Done  10 out of  10 | elapsed:   35.6s finished\n",
      "[Parallel(n_jobs=10)]: Using backend LokyBackend with 10 concurrent workers.\n",
      "[Parallel(n_jobs=10)]: Done   2 out of  10 | elapsed:    0.1s remaining:    0.8s\n",
      "[Parallel(n_jobs=10)]: Done  10 out of  10 | elapsed:    0.1s finished\n",
      "[Parallel(n_jobs=10)]: Using backend LokyBackend with 10 concurrent workers.\n",
      "[Parallel(n_jobs=10)]: Done   2 out of  10 | elapsed:    1.1s remaining:    4.7s\n",
      "[Parallel(n_jobs=10)]: Done  10 out of  10 | elapsed:    1.3s finished\n"
     ]
    },
    {
     "name": "stdout",
     "output_type": "stream",
     "text": [
      "Accuracy training : 0.994\n"
     ]
    },
    {
     "name": "stderr",
     "output_type": "stream",
     "text": [
      "[Parallel(n_jobs=10)]: Using backend LokyBackend with 10 concurrent workers.\n",
      "[Parallel(n_jobs=10)]: Done   2 out of  10 | elapsed:    0.1s remaining:    0.8s\n",
      "[Parallel(n_jobs=10)]: Done  10 out of  10 | elapsed:    0.1s finished\n"
     ]
    },
    {
     "name": "stdout",
     "output_type": "stream",
     "text": [
      "Accuracy val: 0.858\n"
     ]
    },
    {
     "data": {
      "text/html": [
       "<div>\n",
       "<style scoped>\n",
       "    .dataframe tbody tr th:only-of-type {\n",
       "        vertical-align: middle;\n",
       "    }\n",
       "\n",
       "    .dataframe tbody tr th {\n",
       "        vertical-align: top;\n",
       "    }\n",
       "\n",
       "    .dataframe thead th {\n",
       "        text-align: right;\n",
       "    }\n",
       "</style>\n",
       "<table border=\"1\" class=\"dataframe\">\n",
       "  <thead>\n",
       "    <tr style=\"text-align: right;\">\n",
       "      <th></th>\n",
       "      <th>precision</th>\n",
       "      <th>recall</th>\n",
       "      <th>f1-score</th>\n",
       "      <th>support</th>\n",
       "      <th>roc_auc</th>\n",
       "    </tr>\n",
       "  </thead>\n",
       "  <tbody>\n",
       "    <tr>\n",
       "      <th>0</th>\n",
       "      <td>0.793638</td>\n",
       "      <td>0.852500</td>\n",
       "      <td>0.822017</td>\n",
       "      <td>1200.000000</td>\n",
       "      <td>0.913935</td>\n",
       "    </tr>\n",
       "    <tr>\n",
       "      <th>1</th>\n",
       "      <td>0.977368</td>\n",
       "      <td>0.971667</td>\n",
       "      <td>0.974509</td>\n",
       "      <td>1200.000000</td>\n",
       "      <td>0.984583</td>\n",
       "    </tr>\n",
       "    <tr>\n",
       "      <th>2</th>\n",
       "      <td>0.734148</td>\n",
       "      <td>0.800833</td>\n",
       "      <td>0.766042</td>\n",
       "      <td>1200.000000</td>\n",
       "      <td>0.884306</td>\n",
       "    </tr>\n",
       "    <tr>\n",
       "      <th>3</th>\n",
       "      <td>0.855870</td>\n",
       "      <td>0.880833</td>\n",
       "      <td>0.868172</td>\n",
       "      <td>1200.000000</td>\n",
       "      <td>0.932176</td>\n",
       "    </tr>\n",
       "    <tr>\n",
       "      <th>4</th>\n",
       "      <td>0.755328</td>\n",
       "      <td>0.738333</td>\n",
       "      <td>0.746734</td>\n",
       "      <td>1200.000000</td>\n",
       "      <td>0.855880</td>\n",
       "    </tr>\n",
       "    <tr>\n",
       "      <th>5</th>\n",
       "      <td>0.937811</td>\n",
       "      <td>0.942500</td>\n",
       "      <td>0.940150</td>\n",
       "      <td>1200.000000</td>\n",
       "      <td>0.967778</td>\n",
       "    </tr>\n",
       "    <tr>\n",
       "      <th>6</th>\n",
       "      <td>0.700201</td>\n",
       "      <td>0.580000</td>\n",
       "      <td>0.634458</td>\n",
       "      <td>1200.000000</td>\n",
       "      <td>0.776204</td>\n",
       "    </tr>\n",
       "    <tr>\n",
       "      <th>7</th>\n",
       "      <td>0.911837</td>\n",
       "      <td>0.930833</td>\n",
       "      <td>0.921237</td>\n",
       "      <td>1200.000000</td>\n",
       "      <td>0.960417</td>\n",
       "    </tr>\n",
       "    <tr>\n",
       "      <th>8</th>\n",
       "      <td>0.945724</td>\n",
       "      <td>0.958333</td>\n",
       "      <td>0.951987</td>\n",
       "      <td>1200.000000</td>\n",
       "      <td>0.976111</td>\n",
       "    </tr>\n",
       "    <tr>\n",
       "      <th>9</th>\n",
       "      <td>0.951724</td>\n",
       "      <td>0.920000</td>\n",
       "      <td>0.935593</td>\n",
       "      <td>1200.000000</td>\n",
       "      <td>0.957407</td>\n",
       "    </tr>\n",
       "    <tr>\n",
       "      <th>accuracy</th>\n",
       "      <td>0.857583</td>\n",
       "      <td>0.857583</td>\n",
       "      <td>0.857583</td>\n",
       "      <td>0.857583</td>\n",
       "      <td>0.857583</td>\n",
       "    </tr>\n",
       "    <tr>\n",
       "      <th>macro_avg</th>\n",
       "      <td>0.856365</td>\n",
       "      <td>0.857583</td>\n",
       "      <td>0.856090</td>\n",
       "      <td>1200.000000</td>\n",
       "      <td>0.920880</td>\n",
       "    </tr>\n",
       "    <tr>\n",
       "      <th>weighted_avg</th>\n",
       "      <td>0.856365</td>\n",
       "      <td>0.857583</td>\n",
       "      <td>0.856090</td>\n",
       "      <td>1200.000000</td>\n",
       "      <td>0.920880</td>\n",
       "    </tr>\n",
       "  </tbody>\n",
       "</table>\n",
       "</div>"
      ],
      "text/plain": [
       "              precision    recall  f1-score      support   roc_auc\n",
       "0              0.793638  0.852500  0.822017  1200.000000  0.913935\n",
       "1              0.977368  0.971667  0.974509  1200.000000  0.984583\n",
       "2              0.734148  0.800833  0.766042  1200.000000  0.884306\n",
       "3              0.855870  0.880833  0.868172  1200.000000  0.932176\n",
       "4              0.755328  0.738333  0.746734  1200.000000  0.855880\n",
       "5              0.937811  0.942500  0.940150  1200.000000  0.967778\n",
       "6              0.700201  0.580000  0.634458  1200.000000  0.776204\n",
       "7              0.911837  0.930833  0.921237  1200.000000  0.960417\n",
       "8              0.945724  0.958333  0.951987  1200.000000  0.976111\n",
       "9              0.951724  0.920000  0.935593  1200.000000  0.957407\n",
       "accuracy       0.857583  0.857583  0.857583     0.857583  0.857583\n",
       "macro_avg      0.856365  0.857583  0.856090  1200.000000  0.920880\n",
       "weighted_avg   0.856365  0.857583  0.856090  1200.000000  0.920880"
      ]
     },
     "execution_count": 98,
     "metadata": {},
     "output_type": "execute_result"
    }
   ],
   "source": [
    "dt = DecisionTreeClassifier(random_state=seed)\n",
    "bdt = BaggingClassifier(dt, random_state = seed, verbose=1, n_jobs=-1)\n",
    "\n",
    "bdt.fit(x_train, y_train)\n",
    "y_pred = bdt.predict(x_val)\n",
    "\n",
    "print(\"Accuracy training : {:.3f}\".format(bdt.score(x_train, y_train)))\n",
    "print(\"Accuracy val: {:.3f}\".format(bdt.score(x_val, y_val)))\n",
    "classif_report(y_val, y_pred)"
   ]
  },
  {
   "cell_type": "markdown",
   "metadata": {},
   "source": [
    "### Árbol de decisión"
   ]
  },
  {
   "cell_type": "code",
   "execution_count": 100,
   "metadata": {},
   "outputs": [
    {
     "name": "stdout",
     "output_type": "stream",
     "text": [
      "Accuracy training : 1.000\n",
      "Accuracy val: 0.797\n"
     ]
    },
    {
     "data": {
      "text/html": [
       "<div>\n",
       "<style scoped>\n",
       "    .dataframe tbody tr th:only-of-type {\n",
       "        vertical-align: middle;\n",
       "    }\n",
       "\n",
       "    .dataframe tbody tr th {\n",
       "        vertical-align: top;\n",
       "    }\n",
       "\n",
       "    .dataframe thead th {\n",
       "        text-align: right;\n",
       "    }\n",
       "</style>\n",
       "<table border=\"1\" class=\"dataframe\">\n",
       "  <thead>\n",
       "    <tr style=\"text-align: right;\">\n",
       "      <th></th>\n",
       "      <th>precision</th>\n",
       "      <th>recall</th>\n",
       "      <th>f1-score</th>\n",
       "      <th>support</th>\n",
       "      <th>roc_auc</th>\n",
       "    </tr>\n",
       "  </thead>\n",
       "  <tbody>\n",
       "    <tr>\n",
       "      <th>0</th>\n",
       "      <td>0.741803</td>\n",
       "      <td>0.754167</td>\n",
       "      <td>0.747934</td>\n",
       "      <td>1200.000000</td>\n",
       "      <td>0.862500</td>\n",
       "    </tr>\n",
       "    <tr>\n",
       "      <th>1</th>\n",
       "      <td>0.936222</td>\n",
       "      <td>0.954167</td>\n",
       "      <td>0.945109</td>\n",
       "      <td>1200.000000</td>\n",
       "      <td>0.973472</td>\n",
       "    </tr>\n",
       "    <tr>\n",
       "      <th>2</th>\n",
       "      <td>0.659420</td>\n",
       "      <td>0.682500</td>\n",
       "      <td>0.670762</td>\n",
       "      <td>1200.000000</td>\n",
       "      <td>0.821667</td>\n",
       "    </tr>\n",
       "    <tr>\n",
       "      <th>3</th>\n",
       "      <td>0.825818</td>\n",
       "      <td>0.778333</td>\n",
       "      <td>0.801373</td>\n",
       "      <td>1200.000000</td>\n",
       "      <td>0.880046</td>\n",
       "    </tr>\n",
       "    <tr>\n",
       "      <th>4</th>\n",
       "      <td>0.672370</td>\n",
       "      <td>0.655000</td>\n",
       "      <td>0.663571</td>\n",
       "      <td>1200.000000</td>\n",
       "      <td>0.809769</td>\n",
       "    </tr>\n",
       "    <tr>\n",
       "      <th>5</th>\n",
       "      <td>0.905961</td>\n",
       "      <td>0.899167</td>\n",
       "      <td>0.902551</td>\n",
       "      <td>1200.000000</td>\n",
       "      <td>0.944398</td>\n",
       "    </tr>\n",
       "    <tr>\n",
       "      <th>6</th>\n",
       "      <td>0.547170</td>\n",
       "      <td>0.555833</td>\n",
       "      <td>0.551468</td>\n",
       "      <td>1200.000000</td>\n",
       "      <td>0.752361</td>\n",
       "    </tr>\n",
       "    <tr>\n",
       "      <th>7</th>\n",
       "      <td>0.879368</td>\n",
       "      <td>0.880833</td>\n",
       "      <td>0.880100</td>\n",
       "      <td>1200.000000</td>\n",
       "      <td>0.933704</td>\n",
       "    </tr>\n",
       "    <tr>\n",
       "      <th>8</th>\n",
       "      <td>0.913151</td>\n",
       "      <td>0.920000</td>\n",
       "      <td>0.916563</td>\n",
       "      <td>1200.000000</td>\n",
       "      <td>0.955139</td>\n",
       "    </tr>\n",
       "    <tr>\n",
       "      <th>9</th>\n",
       "      <td>0.897822</td>\n",
       "      <td>0.893333</td>\n",
       "      <td>0.895572</td>\n",
       "      <td>1200.000000</td>\n",
       "      <td>0.941019</td>\n",
       "    </tr>\n",
       "    <tr>\n",
       "      <th>accuracy</th>\n",
       "      <td>0.797333</td>\n",
       "      <td>0.797333</td>\n",
       "      <td>0.797333</td>\n",
       "      <td>0.797333</td>\n",
       "      <td>0.797333</td>\n",
       "    </tr>\n",
       "    <tr>\n",
       "      <th>macro_avg</th>\n",
       "      <td>0.797911</td>\n",
       "      <td>0.797333</td>\n",
       "      <td>0.797500</td>\n",
       "      <td>1200.000000</td>\n",
       "      <td>0.887407</td>\n",
       "    </tr>\n",
       "    <tr>\n",
       "      <th>weighted_avg</th>\n",
       "      <td>0.797911</td>\n",
       "      <td>0.797333</td>\n",
       "      <td>0.797500</td>\n",
       "      <td>1200.000000</td>\n",
       "      <td>0.887407</td>\n",
       "    </tr>\n",
       "  </tbody>\n",
       "</table>\n",
       "</div>"
      ],
      "text/plain": [
       "              precision    recall  f1-score      support   roc_auc\n",
       "0              0.741803  0.754167  0.747934  1200.000000  0.862500\n",
       "1              0.936222  0.954167  0.945109  1200.000000  0.973472\n",
       "2              0.659420  0.682500  0.670762  1200.000000  0.821667\n",
       "3              0.825818  0.778333  0.801373  1200.000000  0.880046\n",
       "4              0.672370  0.655000  0.663571  1200.000000  0.809769\n",
       "5              0.905961  0.899167  0.902551  1200.000000  0.944398\n",
       "6              0.547170  0.555833  0.551468  1200.000000  0.752361\n",
       "7              0.879368  0.880833  0.880100  1200.000000  0.933704\n",
       "8              0.913151  0.920000  0.916563  1200.000000  0.955139\n",
       "9              0.897822  0.893333  0.895572  1200.000000  0.941019\n",
       "accuracy       0.797333  0.797333  0.797333     0.797333  0.797333\n",
       "macro_avg      0.797911  0.797333  0.797500  1200.000000  0.887407\n",
       "weighted_avg   0.797911  0.797333  0.797500  1200.000000  0.887407"
      ]
     },
     "execution_count": 100,
     "metadata": {},
     "output_type": "execute_result"
    }
   ],
   "source": [
    "ad = DecisionTreeClassifier(random_state = seed)\n",
    "ad.fit(x_train, y_train)\n",
    "y_pred = ad.predict(x_val)\n",
    "\n",
    "print(\"Accuracy training : {:.3f}\".format(ad.score(x_train, y_train)))\n",
    "print(\"Accuracy val: {:.3f}\".format(ad.score(x_val, y_val)))\n",
    "classif_report(y_val, y_pred)"
   ]
  },
  {
   "cell_type": "markdown",
   "metadata": {},
   "source": [
    "### Naive Bayes"
   ]
  },
  {
   "cell_type": "code",
   "execution_count": 103,
   "metadata": {},
   "outputs": [
    {
     "name": "stdout",
     "output_type": "stream",
     "text": [
      "Accuracy training : 0.666\n",
      "Accuracy val: 0.668\n"
     ]
    },
    {
     "data": {
      "text/html": [
       "<div>\n",
       "<style scoped>\n",
       "    .dataframe tbody tr th:only-of-type {\n",
       "        vertical-align: middle;\n",
       "    }\n",
       "\n",
       "    .dataframe tbody tr th {\n",
       "        vertical-align: top;\n",
       "    }\n",
       "\n",
       "    .dataframe thead th {\n",
       "        text-align: right;\n",
       "    }\n",
       "</style>\n",
       "<table border=\"1\" class=\"dataframe\">\n",
       "  <thead>\n",
       "    <tr style=\"text-align: right;\">\n",
       "      <th></th>\n",
       "      <th>precision</th>\n",
       "      <th>recall</th>\n",
       "      <th>f1-score</th>\n",
       "      <th>support</th>\n",
       "      <th>roc_auc</th>\n",
       "    </tr>\n",
       "  </thead>\n",
       "  <tbody>\n",
       "    <tr>\n",
       "      <th>0</th>\n",
       "      <td>0.748617</td>\n",
       "      <td>0.789167</td>\n",
       "      <td>0.768357</td>\n",
       "      <td>1200.000000</td>\n",
       "      <td>0.879861</td>\n",
       "    </tr>\n",
       "    <tr>\n",
       "      <th>1</th>\n",
       "      <td>0.984404</td>\n",
       "      <td>0.894167</td>\n",
       "      <td>0.937118</td>\n",
       "      <td>1200.000000</td>\n",
       "      <td>0.946296</td>\n",
       "    </tr>\n",
       "    <tr>\n",
       "      <th>2</th>\n",
       "      <td>0.624021</td>\n",
       "      <td>0.597500</td>\n",
       "      <td>0.610473</td>\n",
       "      <td>1200.000000</td>\n",
       "      <td>0.778750</td>\n",
       "    </tr>\n",
       "    <tr>\n",
       "      <th>3</th>\n",
       "      <td>0.665416</td>\n",
       "      <td>0.886667</td>\n",
       "      <td>0.760272</td>\n",
       "      <td>1200.000000</td>\n",
       "      <td>0.918565</td>\n",
       "    </tr>\n",
       "    <tr>\n",
       "      <th>4</th>\n",
       "      <td>0.460134</td>\n",
       "      <td>0.630000</td>\n",
       "      <td>0.531833</td>\n",
       "      <td>1200.000000</td>\n",
       "      <td>0.773935</td>\n",
       "    </tr>\n",
       "    <tr>\n",
       "      <th>5</th>\n",
       "      <td>0.691176</td>\n",
       "      <td>0.156667</td>\n",
       "      <td>0.255435</td>\n",
       "      <td>1200.000000</td>\n",
       "      <td>0.574444</td>\n",
       "    </tr>\n",
       "    <tr>\n",
       "      <th>6</th>\n",
       "      <td>0.322414</td>\n",
       "      <td>0.155833</td>\n",
       "      <td>0.210112</td>\n",
       "      <td>1200.000000</td>\n",
       "      <td>0.559722</td>\n",
       "    </tr>\n",
       "    <tr>\n",
       "      <th>7</th>\n",
       "      <td>0.595329</td>\n",
       "      <td>0.913333</td>\n",
       "      <td>0.720816</td>\n",
       "      <td>1200.000000</td>\n",
       "      <td>0.922176</td>\n",
       "    </tr>\n",
       "    <tr>\n",
       "      <th>8</th>\n",
       "      <td>0.887198</td>\n",
       "      <td>0.825833</td>\n",
       "      <td>0.855416</td>\n",
       "      <td>1200.000000</td>\n",
       "      <td>0.907083</td>\n",
       "    </tr>\n",
       "    <tr>\n",
       "      <th>9</th>\n",
       "      <td>0.686981</td>\n",
       "      <td>0.826667</td>\n",
       "      <td>0.750378</td>\n",
       "      <td>1200.000000</td>\n",
       "      <td>0.892407</td>\n",
       "    </tr>\n",
       "    <tr>\n",
       "      <th>accuracy</th>\n",
       "      <td>0.667583</td>\n",
       "      <td>0.667583</td>\n",
       "      <td>0.667583</td>\n",
       "      <td>0.667583</td>\n",
       "      <td>0.667583</td>\n",
       "    </tr>\n",
       "    <tr>\n",
       "      <th>macro_avg</th>\n",
       "      <td>0.666569</td>\n",
       "      <td>0.667583</td>\n",
       "      <td>0.640021</td>\n",
       "      <td>1200.000000</td>\n",
       "      <td>0.815324</td>\n",
       "    </tr>\n",
       "    <tr>\n",
       "      <th>weighted_avg</th>\n",
       "      <td>0.666569</td>\n",
       "      <td>0.667583</td>\n",
       "      <td>0.640021</td>\n",
       "      <td>1200.000000</td>\n",
       "      <td>0.815324</td>\n",
       "    </tr>\n",
       "  </tbody>\n",
       "</table>\n",
       "</div>"
      ],
      "text/plain": [
       "              precision    recall  f1-score      support   roc_auc\n",
       "0              0.748617  0.789167  0.768357  1200.000000  0.879861\n",
       "1              0.984404  0.894167  0.937118  1200.000000  0.946296\n",
       "2              0.624021  0.597500  0.610473  1200.000000  0.778750\n",
       "3              0.665416  0.886667  0.760272  1200.000000  0.918565\n",
       "4              0.460134  0.630000  0.531833  1200.000000  0.773935\n",
       "5              0.691176  0.156667  0.255435  1200.000000  0.574444\n",
       "6              0.322414  0.155833  0.210112  1200.000000  0.559722\n",
       "7              0.595329  0.913333  0.720816  1200.000000  0.922176\n",
       "8              0.887198  0.825833  0.855416  1200.000000  0.907083\n",
       "9              0.686981  0.826667  0.750378  1200.000000  0.892407\n",
       "accuracy       0.667583  0.667583  0.667583     0.667583  0.667583\n",
       "macro_avg      0.666569  0.667583  0.640021  1200.000000  0.815324\n",
       "weighted_avg   0.666569  0.667583  0.640021  1200.000000  0.815324"
      ]
     },
     "execution_count": 103,
     "metadata": {},
     "output_type": "execute_result"
    }
   ],
   "source": [
    "nb = MultinomialNB(alpha=1.0) #alpha = 1.0 es el default \n",
    "nb.fit(x_train, y_train)\n",
    "\n",
    "y_pred = nb.predict(x_val)\n",
    "print(\"Accuracy training : {:.3f}\".format(nb.score(x_train, y_train)))\n",
    "print(\"Accuracy val: {:.3f}\".format(nb.score(x_val, y_val)))\n",
    "classif_report(y_val, y_pred)"
   ]
  },
  {
   "cell_type": "markdown",
   "metadata": {},
   "source": [
    "## Métricas relevantes para el problema en el conjunto de validación"
   ]
  },
  {
   "cell_type": "markdown",
   "metadata": {},
   "source": [
    "### Métricas"
   ]
  },
  {
   "cell_type": "markdown",
   "metadata": {},
   "source": [
    "### Justificación"
   ]
  },
  {
   "cell_type": "markdown",
   "metadata": {
    "tags": []
   },
   "source": [
    "## Exploración de modelo Random Forest"
   ]
  },
  {
   "cell_type": "code",
   "execution_count": 25,
   "metadata": {},
   "outputs": [],
   "source": [
    "#La función crea un csv\n",
    "def ensemble_exploring(xtrain, ytrain, xval, yval, model=\"random forest\", \n",
    "                params={'n_estimators': None,\n",
    "                               'max_depth': None},\n",
    "                results_folder=None):\n",
    "    for key,values in tqdm(params.items()):\n",
    "        if model==\"random forest\":\n",
    "            print(f\"Exploring {model} classifier\")\n",
    "            start = time.time()\n",
    "            clf = RandomForestClassifier(random_state=42)\n",
    "        elif model == \"gradient boosting\": \n",
    "            print(f\"Exploring {model} classifier\")\n",
    "            start = time.time()\n",
    "            clf = GradientBoostingClassifier(random_state=42)\n",
    "        else: \n",
    "            print(\"Model must be 'gradient boosting' or 'random forest'\")\n",
    "            break\n",
    "        scores = []\n",
    "        max_n_est = None #esto es para iterar fijando este parámetro\n",
    "        for v in tqdm(values):  \n",
    "            if max_n_est: \n",
    "                p = {key:v, \"n_estimators\":max_n_est}\n",
    "            else:\n",
    "                p = {key:v}\n",
    "            clf.set_params(**p)\n",
    "            clf.fit(x_train, y_train)\n",
    "            stop = time.time()\n",
    "            y_pred = clf.predict(x_val)\n",
    "            result_dict = {key:v, 'training_acc':clf.score(xtrain, ytrain), 'test_acc':clf.score(xval, yval), 'time':stop-start}\n",
    "            scores.append(result_dict)\n",
    "        today = datetime.now().strftime(\"%Y%m%d\")\n",
    "        path = f\"{results_folder}/results_{model.replace(' ','_')}_parm_{key}_{today}.csv\"\n",
    "        results = pd.DataFrame(scores).set_index(key)\n",
    "        results.to_csv(path)\n",
    "        if key == \"n_estimators\":\n",
    "            max_n_est = int(results[['test_acc']].idxmax())"
   ]
  },
  {
   "cell_type": "code",
   "execution_count": 35,
   "metadata": {},
   "outputs": [],
   "source": [
    "img_folder= \"./img\"\n",
    "                \n",
    "from pathlib import Path\n",
    "Path(img_folder).mkdir(parents=True, exist_ok=True)\n",
    "\n",
    "result_folder= \"./results\"\n",
    "                \n",
    "from pathlib import Path\n",
    "Path(result_folder).mkdir(parents=True, exist_ok=True)\n",
    "\n",
    "#######################################################\n",
    "### ESTA PARTE YA SE CORRIO\n",
    "######################################################\n",
    "# rf_params = params={'n_estimators': range(50, 501, 50),\n",
    "#                     'max_depth': range(10, 101, 10)}\n",
    "# ensemble_exploring(x_train, y_train, x_val, y_val, \n",
    "#                    model=\"random forest\",\n",
    "#                    params=rf_params,\n",
    "#                    results_folder = result_folder)\n"
   ]
  },
  {
   "cell_type": "markdown",
   "metadata": {},
   "source": [
    "Grafico las distintas métricas para cada valor de n_estimators"
   ]
  },
  {
   "cell_type": "code",
   "execution_count": 41,
   "metadata": {},
   "outputs": [
    {
     "data": {
      "image/png": "[encoded data removed]",
      "text/plain": [
       "<Figure size 432x288 with 2 Axes>"
      ]
     },
     "metadata": {
      "needs_background": "light"
     },
     "output_type": "display_data"
    }
   ],
   "source": [
    "model = \"random forest\"\n",
    "parameter = \"n_estimators\"\n",
    "lastdate = \"20220608\" #chequear el ultimo archivo para levantar\n",
    "input_path = f\"./results/results_{model.replace(' ','_')}_parm_{parameter}_{lastdate}.csv\" #armo el path para levantar el csv correcto\n",
    "\n",
    "scores_rf_df = pd.read_csv(input_path)\n",
    "\n",
    "fig, ax1 = plt.subplots()\n",
    "\n",
    "ax2 = ax1.twinx()\n",
    "p1 = ax1.plot(scores_rf_df[parameter], scores_rf_df.training_acc, 'b-', label = 'training accuracy')\n",
    "p2 = ax1.plot(scores_rf_df[parameter], scores_rf_df.test_acc, 'r-', label = 'test accuracy')\n",
    "p3 = ax2.plot(scores_rf_df[parameter], scores_rf_df.time, 'g--', label = 'time spent')\n",
    "\n",
    "ax1.set_xlabel(parameter)\n",
    "ax1.set_ylabel('accuracy')\n",
    "ax2.set_ylabel('time spent', color='g')\n",
    "\n",
    "# added these three lines\n",
    "lgs = p1+p2+p3\n",
    "labs = [l.get_label() for l in lgs]\n",
    "ax1.legend(lgs, labs, loc=\"center left\")\n",
    "\n",
    "output_path =  f\"./results/results_{model.replace(' ','_')}_parm_{parameter}_{lastdate}.png\"\n",
    "\n",
    "#plt.show()\n",
    "plt.savefig(output_path, dpi=200, facecolor=\"white\")"
   ]
  },
  {
   "cell_type": "code",
   "execution_count": 44,
   "metadata": {},
   "outputs": [
    {
     "data": {
      "image/png": "[encoded data removed]",
      "text/plain": [
       "<Figure size 432x288 with 2 Axes>"
      ]
     },
     "metadata": {
      "needs_background": "light"
     },
     "output_type": "display_data"
    }
   ],
   "source": [
    "model = \"random forest\"\n",
    "parameter = \"max_depth\"\n",
    "lastdate = \"20220608\" #chequear el ultimo archivo para levantar\n",
    "input_path = f\"./results/results_{model.replace(' ','_')}_parm_{parameter}_{lastdate}.csv\" #armo el path para levantar el csv correcto\n",
    "\n",
    "scores_rf_df = pd.read_csv(input_path)\n",
    "\n",
    "fig, ax1 = plt.subplots()\n",
    "\n",
    "ax2 = ax1.twinx()\n",
    "p1 = ax1.plot(scores_rf_df[parameter], scores_rf_df.training_acc, 'b-', label = 'training accuracy')\n",
    "p2 = ax1.plot(scores_rf_df[parameter], scores_rf_df.test_acc, 'r-', label = 'test accuracy')\n",
    "p3 = ax2.plot(scores_rf_df[parameter], scores_rf_df.time, 'g--', label = 'time spent')\n",
    "\n",
    "ax1.set_xlabel(parameter)\n",
    "ax1.set_ylabel('accuracy')\n",
    "ax2.set_ylabel('time spent', color='g')\n",
    "\n",
    "# added these three lines\n",
    "lgs = p1+p2+p3\n",
    "labs = [l.get_label() for l in lgs]\n",
    "ax1.legend(lgs, labs, loc=\"best\")\n",
    "\n",
    "output_path =  f\"./results/results_{model.replace(' ','_')}_parm_{parameter}_{lastdate}.png\"\n",
    "\n",
    "#plt.show()\n",
    "plt.savefig(output_path, dpi=200, facecolor=\"white\")"
   ]
  },
  {
   "cell_type": "markdown",
   "metadata": {},
   "source": [
    "## Exploración de modelo Gradient Boosting Machine"
   ]
  },
  {
   "cell_type": "code",
   "execution_count": null,
   "metadata": {},
   "outputs": [
    {
     "name": "stderr",
     "output_type": "stream",
     "text": [
      "  0%|                                                                                           | 0/10 [00:00<?, ?it/s]"
     ]
    }
   ],
   "source": [
    "img_folder= \"./img\"\n",
    "                \n",
    "from pathlib import Path\n",
    "Path(img_folder).mkdir(parents=True, exist_ok=True)\n",
    "\n",
    "result_folder= \"./results\"\n",
    "                \n",
    "from pathlib import Path\n",
    "Path(result_folder).mkdir(parents=True, exist_ok=True)\n",
    "\n",
    "#Falta correr esta parte. \n",
    "gb_params = params={'n_estimators': range(50, 151, 10),\n",
    "                    'max_depth': range(10, 101, 10)}\n",
    "\n",
    "ensemble_exploring(x_train, y_train, x_val, y_val, \n",
    "                   model=\"gradient boosting\",\n",
    "                   params=gb_params,\n",
    "                   results_folder = result_folder)\n"
   ]
  },
  {
   "cell_type": "code",
   "execution_count": null,
   "metadata": {},
   "outputs": [],
   "source": [
    "model = \"gradient boosting\"\n",
    "parameter = \"n_estimators\"\n",
    "lastdate = \"20220608\" #chequear el ultimo archivo para levantar\n",
    "input_path = f\"./results/results_{model.replace(' ','_')}_parm_{parameter}_{lastdate}.csv\" #armo el path para levantar el csv correcto\n",
    "\n",
    "scores_gb_df = pd.read_csv(input_path)\n",
    "\n",
    "fig, ax1 = plt.subplots()\n",
    "\n",
    "ax2 = ax1.twinx()\n",
    "p1 = ax1.plot(scores_gb_df[parameter], scores_gb_df.training_acc, 'b-', label = 'training accuracy')\n",
    "p2 = ax1.plot(scores_gb_df[parameter], scores_gb_df.test_acc, 'r-', label = 'test accuracy')\n",
    "p3 = ax2.plot(scores_gb_df[parameter], scores_gb_df.time, 'g--', label = 'time spent')\n",
    "\n",
    "ax1.set_xlabel(parameter)\n",
    "ax1.set_ylabel('accuracy')\n",
    "ax2.set_ylabel('time spent', color='g')\n",
    "\n",
    "# added these three lines\n",
    "lgs = p1+p2+p3\n",
    "labs = [l.get_label() for l in lgs]\n",
    "ax1.legend(lgs, labs, loc=\"best\")\n",
    "\n",
    "output_path =  f\"./results/results_{model.replace(' ','_')}_parm_{parameter}_{lastdate}.png\"\n",
    "\n",
    "plt.savefig(output_path, dpi=200, facecolor=\"white\")"
   ]
  },
  {
   "cell_type": "code",
   "execution_count": null,
   "metadata": {},
   "outputs": [],
   "source": [
    "model = \"gradient boosting\"\n",
    "parameter = \"max_depth\"\n",
    "lastdate = \"20220608\" #chequear el ultimo archivo para levantar\n",
    "input_path = f\"./results/results_{model.replace(' ','_')}_parm_{parameter}_{lastdate}.csv\" #armo el path para levantar el csv correcto\n",
    "\n",
    "scores_gb_df = pd.read_csv(input_path)\n",
    "\n",
    "fig, ax1 = plt.subplots()\n",
    "\n",
    "ax2 = ax1.twinx()\n",
    "p1 = ax1.plot(scores_gb_df[parameter], scores_gb_df.training_acc, 'b-', label = 'training accuracy')\n",
    "p2 = ax1.plot(scores_gb_df[parameter], scores_gb_df.test_acc, 'r-', label = 'test accuracy')\n",
    "p3 = ax2.plot(scores_gb_df[parameter], scores_gb_df.time, 'g--', label = 'time spent')\n",
    "\n",
    "ax1.set_xlabel(parameter)\n",
    "ax1.set_ylabel('accuracy')\n",
    "ax2.set_ylabel('time spent', color='g')\n",
    "\n",
    "# added these three lines\n",
    "lgs = p1+p2+p3\n",
    "labs = [l.get_label() for l in lgs]\n",
    "ax1.legend(lgs, labs, loc=\"best\")\n",
    "\n",
    "output_path =  f\"./results/results_{model.replace(' ','_')}_parm_{parameter}_{lastdate}.png\"\n",
    "\n",
    "plt.savefig(output_path, dpi=200, facecolor=\"white\")"
   ]
  },
  {
   "cell_type": "markdown",
   "metadata": {},
   "source": [
    "## Análisis de mejores modelos obtenidos de Random Forest y Gradient Boosting Machine"
   ]
  },
  {
   "cell_type": "markdown",
   "metadata": {},
   "source": [
    "### Evaluación con conjunto de test"
   ]
  },
  {
   "cell_type": "code",
   "execution_count": null,
   "metadata": {},
   "outputs": [],
   "source": []
  },
  {
   "cell_type": "markdown",
   "metadata": {},
   "source": [
    "### Análisis de resultados en base a métricas elegidas"
   ]
  },
  {
   "cell_type": "markdown",
   "metadata": {},
   "source": [
    "#### Análisis de métricas"
   ]
  },
  {
   "cell_type": "code",
   "execution_count": null,
   "metadata": {},
   "outputs": [],
   "source": []
  },
  {
   "cell_type": "markdown",
   "metadata": {},
   "source": [
    "### Conclusión sobre mejor modelo"
   ]
  },
  {
   "cell_type": "code",
   "execution_count": null,
   "metadata": {},
   "outputs": [],
   "source": []
  },
  {
   "cell_type": "markdown",
   "metadata": {},
   "source": [
    "### Matriz de confusión de mejor modelo"
   ]
  },
  {
   "cell_type": "code",
   "execution_count": null,
   "metadata": {},
   "outputs": [],
   "source": []
  },
  {
   "cell_type": "markdown",
   "metadata": {},
   "source": [
    "## Estabilidad del modelo frente al ruido"
   ]
  },
  {
   "cell_type": "code",
   "execution_count": null,
   "metadata": {},
   "outputs": [],
   "source": []
  },
  {
   "cell_type": "markdown",
   "metadata": {},
   "source": [
    "## Redes Neuronales"
   ]
  },
  {
   "cell_type": "code",
   "execution_count": 17,
   "metadata": {},
   "outputs": [
    {
     "name": "stdout",
     "output_type": "stream",
     "text": [
      "Downloading data from https://storage.googleapis.com/tensorflow/tf-keras-datasets/train-labels-idx1-ubyte.gz\n",
      "29515/29515 [==============================] - 0s 1us/step\n",
      "Downloading data from https://storage.googleapis.com/tensorflow/tf-keras-datasets/train-images-idx3-ubyte.gz\n",
      "26421880/26421880 [==============================] - 6s 0us/step\n",
      "Downloading data from https://storage.googleapis.com/tensorflow/tf-keras-datasets/t10k-labels-idx1-ubyte.gz\n",
      "5148/5148 [==============================] - 0s 0s/step\n",
      "Downloading data from https://storage.googleapis.com/tensorflow/tf-keras-datasets/t10k-images-idx3-ubyte.gz\n",
      "4422102/4422102 [==============================] - 1s 0us/step\n"
     ]
    }
   ],
   "source": [
    "import tensorflow as tf\n",
    "import tensorflow.keras.layers as tfkl\n",
    "from tensorflow.keras.datasets import fashion_mnist\n",
    "\n",
    "(train_images, train_labels), (test_images, test_labels) = fashion_mnist.load_data()\n",
    "\n",
    "class_names = ['T-shirt/top', 'Trouser', 'Pullover', 'Dress', 'Coat',\n",
    "               'Sandal', 'Shirt', 'Sneaker', 'Bag', 'Ankle boot']\n",
    "\n",
    "from sklearn.preprocessing import OneHotEncoder\n",
    "from sklearn.model_selection import train_test_split\n",
    "\n",
    "ohe = OneHotEncoder()\n",
    "train_labels = ohe.fit_transform(train_labels.reshape(-1,1)).toarray()\n",
    "test_labels = ohe.fit_transform(test_labels.reshape(-1,1)).toarray()\n",
    "\n",
    "train_images,val_images,train_labels,val_labels = train_test_split(train_images,train_labels,test_size=0.2)"
   ]
  },
  {
   "cell_type": "code",
   "execution_count": 24,
   "metadata": {},
   "outputs": [],
   "source": [
    "def entrenar_modelo(hparams):\n",
    "  layer_in = tfkl.Input(shape=(28,28)) #Todo modelo necesita una entrada, y debemos especificar sus dimensiones\n",
    "  layer_add_channel = tf.expand_dims(layer_in,axis=3)\n",
    "  conv_block1 = tfkl.Conv2D(16,(3,3),padding='SAME',activation='relu')(layer_add_channel)\n",
    "  conv_block1 = tfkl.Conv2D(16,(3,3),padding='SAME',activation='relu')(conv_block1)\n",
    "  pool_1 = tfkl.MaxPooling2D(pool_size=(2,2))(conv_block1) #Aca queda (14,14)\n",
    "  conv_block2 = tfkl.Conv2D(32,(3,3),padding='SAME',activation='relu')(pool_1)\n",
    "  conv_block2 = tfkl.Conv2D(32,(3,3),padding='SAME',activation='relu')(conv_block2)\n",
    "  pool_2 = tfkl.MaxPooling2D(pool_size=(2,2))(conv_block2) #Aca queda (7,7)\n",
    "  conv_block3 = tfkl.Conv2D(32,(3,3),padding='SAME',activation='relu')(pool_2)\n",
    "  conv_block3 = tfkl.Conv2D(8,(3,3),padding='SAME',activation='relu')(conv_block3)\n",
    "  #Esta capa rompe la imagen achicada (8,7,7) y la vuelve un vector de 392 elementos\n",
    "  flatten_layer = tfkl.Flatten()(conv_block3)\n",
    "  hidden_layer = tfkl.Dense(units=128,activation='relu')(flatten_layer)\n",
    "  #Esta es la capa de salida\n",
    "  output_layer = tfkl.Dense(units=10,activation='softmax')(flatten_layer)\n",
    "\n",
    "  mlp_model = tf.keras.Model(inputs=[layer_in],outputs=[output_layer])\n",
    "\n",
    "  optimizer = tf.keras.optimizers.Adam(learning_rate=0.001)\n",
    "  metrics_list = [tf.keras.metrics.CategoricalAccuracy(),\n",
    "                  tf.keras.metrics.Precision(),\n",
    "                  tf.keras.metrics.Recall(),\n",
    "                  tf.keras.metrics.AUC()]\n",
    "  metric_names = ['loss','acc','precision','recall','auc']\n",
    "  mlp_model.compile(optimizer=optimizer,loss='categorical_crossentropy',metrics=metrics_list)\n",
    "\n",
    "  cb_list = [tf.keras.callbacks.TensorBoard(log_dir='tblogs'),\n",
    "              tf.keras.callbacks.ModelCheckpoint(filepath='checkpoints/model.{epoch:02d}-{val_loss:.2f}.h5'),\n",
    "            tf.keras.callbacks.EarlyStopping(monitor='val_loss',patience=5)]\n",
    "\n",
    "  mlp_model.fit(x=train_images,y=train_labels,validation_data=(val_images,val_labels),batch_size=hparams['batch_size'],epochs=50,callbacks=cb_list)\n",
    "  performance = mlp_model.evaluate(x=val_images,y=val_labels)\n",
    "  performance = dict(zip(metric_names,performance))\n",
    "\n",
    "  return mlp_model, performance, hparams"
   ]
  },
  {
   "cell_type": "code",
   "execution_count": 25,
   "metadata": {},
   "outputs": [
    {
     "name": "stderr",
     "output_type": "stream",
     "text": [
      "  0%|                                                                                            | 0/5 [00:00<?, ?it/s]"
     ]
    },
    {
     "name": "stdout",
     "output_type": "stream",
     "text": [
      "Epoch 1/50\n",
      "94/94 [==============================] - 38s 393ms/step - loss: 1.4136 - categorical_accuracy: 0.6209 - precision_4: 0.7819 - recall_4: 0.4843 - auc_4: 0.9166 - val_loss: 0.5453 - val_categorical_accuracy: 0.8119 - val_precision_4: 0.8703 - val_recall_4: 0.7439 - val_auc_4: 0.9818\n",
      "Epoch 2/50\n",
      "94/94 [==============================] - 39s 412ms/step - loss: 0.4729 - categorical_accuracy: 0.8353 - precision_4: 0.8761 - recall_4: 0.7873 - auc_4: 0.9859 - val_loss: 0.4294 - val_categorical_accuracy: 0.8482 - val_precision_4: 0.8848 - val_recall_4: 0.8072 - val_auc_4: 0.9883\n",
      "Epoch 3/50\n",
      "94/94 [==============================] - 38s 406ms/step - loss: 0.4013 - categorical_accuracy: 0.8595 - precision_4: 0.8899 - recall_4: 0.8270 - auc_4: 0.9893 - val_loss: 0.3896 - val_categorical_accuracy: 0.8625 - val_precision_4: 0.8911 - val_recall_4: 0.8343 - val_auc_4: 0.9900\n",
      "Epoch 4/50\n",
      "94/94 [==============================] - 39s 413ms/step - loss: 0.3590 - categorical_accuracy: 0.8735 - precision_4: 0.8986 - recall_4: 0.8488 - auc_4: 0.9911 - val_loss: 0.3512 - val_categorical_accuracy: 0.8770 - val_precision_4: 0.9042 - val_recall_4: 0.8518 - val_auc_4: 0.9916\n",
      "Epoch 5/50\n",
      "94/94 [==============================] - 39s 411ms/step - loss: 0.3302 - categorical_accuracy: 0.8845 - precision_4: 0.9063 - recall_4: 0.8631 - auc_4: 0.9924 - val_loss: 0.3360 - val_categorical_accuracy: 0.8799 - val_precision_4: 0.9029 - val_recall_4: 0.8580 - val_auc_4: 0.9922\n",
      "Epoch 6/50\n",
      "94/94 [==============================] - 38s 401ms/step - loss: 0.3145 - categorical_accuracy: 0.8890 - precision_4: 0.9105 - recall_4: 0.8697 - auc_4: 0.9930 - val_loss: 0.3215 - val_categorical_accuracy: 0.8853 - val_precision_4: 0.9057 - val_recall_4: 0.8664 - val_auc_4: 0.9927\n",
      "Epoch 7/50\n",
      "94/94 [==============================] - 37s 398ms/step - loss: 0.2889 - categorical_accuracy: 0.8977 - precision_4: 0.9161 - recall_4: 0.8809 - auc_4: 0.9940 - val_loss: 0.3150 - val_categorical_accuracy: 0.8901 - val_precision_4: 0.9071 - val_recall_4: 0.8736 - val_auc_4: 0.9926\n",
      "Epoch 8/50\n",
      "94/94 [==============================] - 41s 432ms/step - loss: 0.2744 - categorical_accuracy: 0.9032 - precision_4: 0.9202 - recall_4: 0.8886 - auc_4: 0.9944 - val_loss: 0.3060 - val_categorical_accuracy: 0.8903 - val_precision_4: 0.9064 - val_recall_4: 0.8746 - val_auc_4: 0.9931\n",
      "Epoch 9/50\n",
      "94/94 [==============================] - 38s 403ms/step - loss: 0.2672 - categorical_accuracy: 0.9037 - precision_4: 0.9201 - recall_4: 0.8900 - auc_4: 0.9947 - val_loss: 0.3216 - val_categorical_accuracy: 0.8852 - val_precision_4: 0.9028 - val_recall_4: 0.8705 - val_auc_4: 0.9920\n",
      "Epoch 10/50\n",
      "94/94 [==============================] - 38s 406ms/step - loss: 0.2500 - categorical_accuracy: 0.9115 - precision_4: 0.9263 - recall_4: 0.8979 - auc_4: 0.9953 - val_loss: 0.2908 - val_categorical_accuracy: 0.9015 - val_precision_4: 0.9171 - val_recall_4: 0.8853 - val_auc_4: 0.9935\n",
      "Epoch 11/50\n",
      "94/94 [==============================] - 38s 401ms/step - loss: 0.2441 - categorical_accuracy: 0.9127 - precision_4: 0.9265 - recall_4: 0.8999 - auc_4: 0.9954 - val_loss: 0.2951 - val_categorical_accuracy: 0.8959 - val_precision_4: 0.9106 - val_recall_4: 0.8814 - val_auc_4: 0.9931\n",
      "Epoch 12/50\n",
      "94/94 [==============================] - 38s 408ms/step - loss: 0.2322 - categorical_accuracy: 0.9163 - precision_4: 0.9285 - recall_4: 0.9039 - auc_4: 0.9958 - val_loss: 0.2838 - val_categorical_accuracy: 0.9007 - val_precision_4: 0.9151 - val_recall_4: 0.8874 - val_auc_4: 0.9935\n",
      "Epoch 13/50\n",
      "94/94 [==============================] - 38s 401ms/step - loss: 0.2211 - categorical_accuracy: 0.9201 - precision_4: 0.9333 - recall_4: 0.9092 - auc_4: 0.9962 - val_loss: 0.2854 - val_categorical_accuracy: 0.8967 - val_precision_4: 0.9133 - val_recall_4: 0.8843 - val_auc_4: 0.9935\n",
      "Epoch 14/50\n",
      "94/94 [==============================] - 39s 411ms/step - loss: 0.2107 - categorical_accuracy: 0.9253 - precision_4: 0.9372 - recall_4: 0.9141 - auc_4: 0.9965 - val_loss: 0.2903 - val_categorical_accuracy: 0.8986 - val_precision_4: 0.9104 - val_recall_4: 0.8882 - val_auc_4: 0.9930\n",
      "Epoch 15/50\n",
      "94/94 [==============================] - 39s 416ms/step - loss: 0.2074 - categorical_accuracy: 0.9258 - precision_4: 0.9360 - recall_4: 0.9153 - auc_4: 0.9965 - val_loss: 0.2903 - val_categorical_accuracy: 0.8974 - val_precision_4: 0.9107 - val_recall_4: 0.8867 - val_auc_4: 0.9931\n",
      "Epoch 16/50\n",
      "94/94 [==============================] - 39s 410ms/step - loss: 0.2011 - categorical_accuracy: 0.9271 - precision_4: 0.9381 - recall_4: 0.9178 - auc_4: 0.9968 - val_loss: 0.2880 - val_categorical_accuracy: 0.9014 - val_precision_4: 0.9143 - val_recall_4: 0.8920 - val_auc_4: 0.9927\n",
      "Epoch 17/50\n",
      "94/94 [==============================] - 39s 411ms/step - loss: 0.1924 - categorical_accuracy: 0.9309 - precision_4: 0.9402 - recall_4: 0.9220 - auc_4: 0.9969 - val_loss: 0.2842 - val_categorical_accuracy: 0.9029 - val_precision_4: 0.9151 - val_recall_4: 0.8930 - val_auc_4: 0.9929\n",
      "375/375 [==============================] - 3s 9ms/step - loss: 0.2842 - categorical_accuracy: 0.9029 - precision_4: 0.9151 - recall_4: 0.8930 - auc_4: 0.9929\n"
     ]
    },
    {
     "name": "stderr",
     "output_type": "stream",
     "text": [
      " 20%|████████████████▌                                                                  | 1/5 [10:55<43:43, 655.87s/it]"
     ]
    },
    {
     "name": "stdout",
     "output_type": "stream",
     "text": [
      "Epoch 1/50\n",
      "188/188 [==============================] - 44s 226ms/step - loss: 0.8764 - categorical_accuracy: 0.7182 - precision_5: 0.8371 - recall_5: 0.6298 - auc_5: 0.9612 - val_loss: 0.4481 - val_categorical_accuracy: 0.8409 - val_precision_5: 0.8760 - val_recall_5: 0.8057 - val_auc_5: 0.9870\n",
      "Epoch 2/50\n",
      "188/188 [==============================] - 43s 230ms/step - loss: 0.4102 - categorical_accuracy: 0.8534 - precision_5: 0.8876 - recall_5: 0.8208 - auc_5: 0.9891 - val_loss: 0.3745 - val_categorical_accuracy: 0.8655 - val_precision_5: 0.8984 - val_recall_5: 0.8367 - val_auc_5: 0.9907\n",
      "Epoch 3/50\n",
      "188/188 [==============================] - 41s 220ms/step - loss: 0.3501 - categorical_accuracy: 0.8752 - precision_5: 0.8996 - recall_5: 0.8509 - auc_5: 0.9917 - val_loss: 0.3401 - val_categorical_accuracy: 0.8780 - val_precision_5: 0.9013 - val_recall_5: 0.8572 - val_auc_5: 0.9920\n",
      "Epoch 4/50\n",
      "188/188 [==============================] - 40s 215ms/step - loss: 0.3156 - categorical_accuracy: 0.8877 - precision_5: 0.9079 - recall_5: 0.8671 - auc_5: 0.9931 - val_loss: 0.3298 - val_categorical_accuracy: 0.8813 - val_precision_5: 0.9020 - val_recall_5: 0.8625 - val_auc_5: 0.9921\n",
      "Epoch 5/50\n",
      "188/188 [==============================] - 40s 213ms/step - loss: 0.2943 - categorical_accuracy: 0.8953 - precision_5: 0.9139 - recall_5: 0.8765 - auc_5: 0.9940 - val_loss: 0.3088 - val_categorical_accuracy: 0.8907 - val_precision_5: 0.9082 - val_recall_5: 0.8747 - val_auc_5: 0.9932\n",
      "Epoch 6/50\n",
      "188/188 [==============================] - 40s 215ms/step - loss: 0.2772 - categorical_accuracy: 0.9002 - precision_5: 0.9175 - recall_5: 0.8833 - auc_5: 0.9945 - val_loss: 0.2995 - val_categorical_accuracy: 0.8925 - val_precision_5: 0.9108 - val_recall_5: 0.8797 - val_auc_5: 0.9933\n",
      "Epoch 7/50\n",
      "188/188 [==============================] - 40s 214ms/step - loss: 0.2571 - categorical_accuracy: 0.9067 - precision_5: 0.9230 - recall_5: 0.8930 - auc_5: 0.9951 - val_loss: 0.2858 - val_categorical_accuracy: 0.8991 - val_precision_5: 0.9133 - val_recall_5: 0.8879 - val_auc_5: 0.9937\n",
      "Epoch 8/50\n",
      "188/188 [==============================] - 41s 219ms/step - loss: 0.2497 - categorical_accuracy: 0.9094 - precision_5: 0.9245 - recall_5: 0.8955 - auc_5: 0.9954 - val_loss: 0.3115 - val_categorical_accuracy: 0.8867 - val_precision_5: 0.9053 - val_recall_5: 0.8741 - val_auc_5: 0.9928\n",
      "Epoch 9/50\n",
      "188/188 [==============================] - 40s 215ms/step - loss: 0.2345 - categorical_accuracy: 0.9149 - precision_5: 0.9287 - recall_5: 0.9024 - auc_5: 0.9959 - val_loss: 0.2813 - val_categorical_accuracy: 0.9027 - val_precision_5: 0.9152 - val_recall_5: 0.8904 - val_auc_5: 0.9936\n",
      "Epoch 10/50\n",
      "188/188 [==============================] - 41s 216ms/step - loss: 0.2185 - categorical_accuracy: 0.9197 - precision_5: 0.9327 - recall_5: 0.9092 - auc_5: 0.9963 - val_loss: 0.3002 - val_categorical_accuracy: 0.8945 - val_precision_5: 0.9086 - val_recall_5: 0.8829 - val_auc_5: 0.9925\n",
      "Epoch 11/50\n",
      "188/188 [==============================] - 40s 214ms/step - loss: 0.2119 - categorical_accuracy: 0.9217 - precision_5: 0.9344 - recall_5: 0.9111 - auc_5: 0.9965 - val_loss: 0.2917 - val_categorical_accuracy: 0.8991 - val_precision_5: 0.9120 - val_recall_5: 0.8925 - val_auc_5: 0.9929\n",
      "Epoch 12/50\n",
      "188/188 [==============================] - 40s 214ms/step - loss: 0.2025 - categorical_accuracy: 0.9262 - precision_5: 0.9375 - recall_5: 0.9171 - auc_5: 0.9967 - val_loss: 0.2736 - val_categorical_accuracy: 0.9051 - val_precision_5: 0.9199 - val_recall_5: 0.8924 - val_auc_5: 0.9938\n",
      "Epoch 13/50\n",
      "188/188 [==============================] - 43s 227ms/step - loss: 0.1905 - categorical_accuracy: 0.9301 - precision_5: 0.9398 - recall_5: 0.9212 - auc_5: 0.9970 - val_loss: 0.2869 - val_categorical_accuracy: 0.9028 - val_precision_5: 0.9131 - val_recall_5: 0.8945 - val_auc_5: 0.9928\n",
      "Epoch 14/50\n",
      "188/188 [==============================] - 44s 233ms/step - loss: 0.1879 - categorical_accuracy: 0.9305 - precision_5: 0.9400 - recall_5: 0.9218 - auc_5: 0.9972 - val_loss: 0.2839 - val_categorical_accuracy: 0.9039 - val_precision_5: 0.9136 - val_recall_5: 0.8965 - val_auc_5: 0.9929\n",
      "Epoch 15/50\n",
      "188/188 [==============================] - 43s 228ms/step - loss: 0.1784 - categorical_accuracy: 0.9351 - precision_5: 0.9435 - recall_5: 0.9272 - auc_5: 0.9973 - val_loss: 0.2867 - val_categorical_accuracy: 0.9053 - val_precision_5: 0.9132 - val_recall_5: 0.8988 - val_auc_5: 0.9923\n",
      "Epoch 16/50\n",
      "188/188 [==============================] - 43s 229ms/step - loss: 0.1734 - categorical_accuracy: 0.9355 - precision_5: 0.9439 - recall_5: 0.9281 - auc_5: 0.9974 - val_loss: 0.2722 - val_categorical_accuracy: 0.9107 - val_precision_5: 0.9185 - val_recall_5: 0.9028 - val_auc_5: 0.9927\n",
      "Epoch 17/50\n",
      "188/188 [==============================] - 41s 219ms/step - loss: 0.1623 - categorical_accuracy: 0.9407 - precision_5: 0.9485 - recall_5: 0.9339 - auc_5: 0.9978 - val_loss: 0.2965 - val_categorical_accuracy: 0.8998 - val_precision_5: 0.9082 - val_recall_5: 0.8925 - val_auc_5: 0.9924\n",
      "Epoch 18/50\n",
      "188/188 [==============================] - 42s 225ms/step - loss: 0.1544 - categorical_accuracy: 0.9439 - precision_5: 0.9510 - recall_5: 0.9377 - auc_5: 0.9980 - val_loss: 0.3018 - val_categorical_accuracy: 0.9044 - val_precision_5: 0.9125 - val_recall_5: 0.8959 - val_auc_5: 0.9916\n",
      "Epoch 19/50\n",
      "188/188 [==============================] - 41s 216ms/step - loss: 0.1523 - categorical_accuracy: 0.9436 - precision_5: 0.9504 - recall_5: 0.9377 - auc_5: 0.9978 - val_loss: 0.2920 - val_categorical_accuracy: 0.9050 - val_precision_5: 0.9129 - val_recall_5: 0.8992 - val_auc_5: 0.9919\n",
      "Epoch 20/50\n",
      "188/188 [==============================] - 40s 214ms/step - loss: 0.1437 - categorical_accuracy: 0.9475 - precision_5: 0.9539 - recall_5: 0.9414 - auc_5: 0.9981 - val_loss: 0.3021 - val_categorical_accuracy: 0.9037 - val_precision_5: 0.9124 - val_recall_5: 0.8980 - val_auc_5: 0.9909\n",
      "Epoch 21/50\n",
      "188/188 [==============================] - 41s 216ms/step - loss: 0.1431 - categorical_accuracy: 0.9472 - precision_5: 0.9534 - recall_5: 0.9419 - auc_5: 0.9982 - val_loss: 0.2897 - val_categorical_accuracy: 0.9097 - val_precision_5: 0.9177 - val_recall_5: 0.9051 - val_auc_5: 0.9915\n",
      "375/375 [==============================] - 3s 8ms/step - loss: 0.2897 - categorical_accuracy: 0.9097 - precision_5: 0.9177 - recall_5: 0.9051 - auc_5: 0.9915\n"
     ]
    },
    {
     "name": "stderr",
     "output_type": "stream",
     "text": [
      " 40%|█████████████████████████████████▏                                                 | 2/5 [25:27<39:09, 783.04s/it]"
     ]
    },
    {
     "name": "stdout",
     "output_type": "stream",
     "text": [
      "Epoch 1/50\n",
      "94/94 [==============================] - 39s 401ms/step - loss: 1.2006 - categorical_accuracy: 0.6425 - precision_6: 0.7946 - recall_6: 0.5116 - auc_6: 0.9281 - val_loss: 0.5491 - val_categorical_accuracy: 0.8064 - val_precision_6: 0.8602 - val_recall_6: 0.7582 - val_auc_6: 0.9814\n",
      "Epoch 2/50\n",
      "94/94 [==============================] - 39s 414ms/step - loss: 0.4678 - categorical_accuracy: 0.8343 - precision_6: 0.8747 - recall_6: 0.7937 - auc_6: 0.9859 - val_loss: 0.4260 - val_categorical_accuracy: 0.8512 - val_precision_6: 0.8893 - val_recall_6: 0.8139 - val_auc_6: 0.9883\n",
      "Epoch 3/50\n",
      "94/94 [==============================] - 38s 404ms/step - loss: 0.3860 - categorical_accuracy: 0.8639 - precision_6: 0.8938 - recall_6: 0.8356 - auc_6: 0.9900 - val_loss: 0.3746 - val_categorical_accuracy: 0.8650 - val_precision_6: 0.8934 - val_recall_6: 0.8414 - val_auc_6: 0.9902\n",
      "Epoch 4/50\n",
      "94/94 [==============================] - 38s 406ms/step - loss: 0.3468 - categorical_accuracy: 0.8764 - precision_6: 0.9022 - recall_6: 0.8520 - auc_6: 0.9918 - val_loss: 0.3556 - val_categorical_accuracy: 0.8739 - val_precision_6: 0.9018 - val_recall_6: 0.8477 - val_auc_6: 0.9910\n",
      "Epoch 5/50\n",
      "94/94 [==============================] - 38s 404ms/step - loss: 0.3175 - categorical_accuracy: 0.8869 - precision_6: 0.9094 - recall_6: 0.8659 - auc_6: 0.9929 - val_loss: 0.3402 - val_categorical_accuracy: 0.8799 - val_precision_6: 0.9013 - val_recall_6: 0.8618 - val_auc_6: 0.9914\n",
      "Epoch 6/50\n",
      "94/94 [==============================] - 38s 401ms/step - loss: 0.2978 - categorical_accuracy: 0.8929 - precision_6: 0.9130 - recall_6: 0.8751 - auc_6: 0.9937 - val_loss: 0.3358 - val_categorical_accuracy: 0.8838 - val_precision_6: 0.9015 - val_recall_6: 0.8672 - val_auc_6: 0.9915\n",
      "Epoch 7/50\n",
      "94/94 [==============================] - 37s 398ms/step - loss: 0.2834 - categorical_accuracy: 0.8989 - precision_6: 0.9168 - recall_6: 0.8822 - auc_6: 0.9943 - val_loss: 0.3131 - val_categorical_accuracy: 0.8883 - val_precision_6: 0.9066 - val_recall_6: 0.8716 - val_auc_6: 0.9925\n",
      "Epoch 8/50\n",
      "94/94 [==============================] - 38s 402ms/step - loss: 0.2673 - categorical_accuracy: 0.9040 - precision_6: 0.9202 - recall_6: 0.8888 - auc_6: 0.9948 - val_loss: 0.3105 - val_categorical_accuracy: 0.8948 - val_precision_6: 0.9111 - val_recall_6: 0.8788 - val_auc_6: 0.9923\n",
      "Epoch 9/50\n",
      "94/94 [==============================] - 38s 406ms/step - loss: 0.2547 - categorical_accuracy: 0.9082 - precision_6: 0.9238 - recall_6: 0.8942 - auc_6: 0.9952 - val_loss: 0.2975 - val_categorical_accuracy: 0.8938 - val_precision_6: 0.9091 - val_recall_6: 0.8803 - val_auc_6: 0.9932\n",
      "Epoch 10/50\n",
      "94/94 [==============================] - 38s 404ms/step - loss: 0.2464 - categorical_accuracy: 0.9103 - precision_6: 0.9248 - recall_6: 0.8971 - auc_6: 0.9956 - val_loss: 0.2956 - val_categorical_accuracy: 0.8962 - val_precision_6: 0.9101 - val_recall_6: 0.8813 - val_auc_6: 0.9929\n",
      "Epoch 11/50\n",
      "94/94 [==============================] - 38s 400ms/step - loss: 0.2339 - categorical_accuracy: 0.9154 - precision_6: 0.9290 - recall_6: 0.9029 - auc_6: 0.9961 - val_loss: 0.2902 - val_categorical_accuracy: 0.8976 - val_precision_6: 0.9136 - val_recall_6: 0.8822 - val_auc_6: 0.9935\n",
      "Epoch 12/50\n",
      "94/94 [==============================] - 37s 396ms/step - loss: 0.2218 - categorical_accuracy: 0.9208 - precision_6: 0.9332 - recall_6: 0.9095 - auc_6: 0.9963 - val_loss: 0.2979 - val_categorical_accuracy: 0.8975 - val_precision_6: 0.9091 - val_recall_6: 0.8874 - val_auc_6: 0.9926\n",
      "Epoch 13/50\n",
      "94/94 [==============================] - 37s 398ms/step - loss: 0.2157 - categorical_accuracy: 0.9217 - precision_6: 0.9340 - recall_6: 0.9111 - auc_6: 0.9966 - val_loss: 0.2849 - val_categorical_accuracy: 0.8994 - val_precision_6: 0.9140 - val_recall_6: 0.8879 - val_auc_6: 0.9934\n",
      "Epoch 14/50\n",
      "94/94 [==============================] - 37s 397ms/step - loss: 0.2091 - categorical_accuracy: 0.9238 - precision_6: 0.9351 - recall_6: 0.9127 - auc_6: 0.9965 - val_loss: 0.2953 - val_categorical_accuracy: 0.9004 - val_precision_6: 0.9113 - val_recall_6: 0.8920 - val_auc_6: 0.9924\n",
      "Epoch 15/50\n",
      "94/94 [==============================] - 37s 395ms/step - loss: 0.1992 - categorical_accuracy: 0.9279 - precision_6: 0.9385 - recall_6: 0.9182 - auc_6: 0.9969 - val_loss: 0.2930 - val_categorical_accuracy: 0.8984 - val_precision_6: 0.9113 - val_recall_6: 0.8871 - val_auc_6: 0.9927\n",
      "Epoch 16/50\n",
      "94/94 [==============================] - 38s 402ms/step - loss: 0.1921 - categorical_accuracy: 0.9300 - precision_6: 0.9404 - recall_6: 0.9211 - auc_6: 0.9972 - val_loss: 0.2969 - val_categorical_accuracy: 0.8978 - val_precision_6: 0.9096 - val_recall_6: 0.8883 - val_auc_6: 0.9925\n",
      "Epoch 17/50\n",
      "94/94 [==============================] - 37s 398ms/step - loss: 0.1884 - categorical_accuracy: 0.9313 - precision_6: 0.9411 - recall_6: 0.9232 - auc_6: 0.9971 - val_loss: 0.2988 - val_categorical_accuracy: 0.8944 - val_precision_6: 0.9064 - val_recall_6: 0.8847 - val_auc_6: 0.9928\n",
      "Epoch 18/50\n",
      "94/94 [==============================] - 37s 397ms/step - loss: 0.1766 - categorical_accuracy: 0.9351 - precision_6: 0.9439 - recall_6: 0.9267 - auc_6: 0.9976 - val_loss: 0.2861 - val_categorical_accuracy: 0.9038 - val_precision_6: 0.9138 - val_recall_6: 0.8967 - val_auc_6: 0.9927\n",
      "375/375 [==============================] - 3s 8ms/step - loss: 0.2861 - categorical_accuracy: 0.9038 - precision_6: 0.9138 - recall_6: 0.8967 - auc_6: 0.9927\n"
     ]
    },
    {
     "name": "stderr",
     "output_type": "stream",
     "text": [
      " 60%|█████████████████████████████████████████████████▊                                 | 3/5 [36:50<24:34, 737.27s/it]"
     ]
    },
    {
     "name": "stdout",
     "output_type": "stream",
     "text": [
      "Epoch 1/50\n",
      "94/94 [==============================] - 38s 397ms/step - loss: 0.8388 - categorical_accuracy: 0.7146 - precision_7: 0.8183 - recall_7: 0.6238 - auc_7: 0.9591 - val_loss: 0.4852 - val_categorical_accuracy: 0.8285 - val_precision_7: 0.8699 - val_recall_7: 0.7894 - val_auc_7: 0.9853\n",
      "Epoch 2/50\n",
      "94/94 [==============================] - 37s 393ms/step - loss: 0.4298 - categorical_accuracy: 0.8514 - precision_7: 0.8834 - recall_7: 0.8164 - auc_7: 0.9880 - val_loss: 0.3798 - val_categorical_accuracy: 0.8662 - val_precision_7: 0.8958 - val_recall_7: 0.8397 - val_auc_7: 0.9905\n",
      "Epoch 3/50\n",
      "94/94 [==============================] - 37s 395ms/step - loss: 0.3521 - categorical_accuracy: 0.8751 - precision_7: 0.9002 - recall_7: 0.8518 - auc_7: 0.9914 - val_loss: 0.3495 - val_categorical_accuracy: 0.8761 - val_precision_7: 0.9017 - val_recall_7: 0.8509 - val_auc_7: 0.9918\n",
      "Epoch 4/50\n",
      "94/94 [==============================] - 37s 395ms/step - loss: 0.3171 - categorical_accuracy: 0.8871 - precision_7: 0.9089 - recall_7: 0.8680 - auc_7: 0.9928 - val_loss: 0.3242 - val_categorical_accuracy: 0.8885 - val_precision_7: 0.9065 - val_recall_7: 0.8717 - val_auc_7: 0.9923\n",
      "Epoch 5/50\n",
      "94/94 [==============================] - 37s 397ms/step - loss: 0.2944 - categorical_accuracy: 0.8942 - precision_7: 0.9134 - recall_7: 0.8783 - auc_7: 0.9937 - val_loss: 0.3134 - val_categorical_accuracy: 0.8906 - val_precision_7: 0.9090 - val_recall_7: 0.8739 - val_auc_7: 0.9929\n",
      "Epoch 6/50\n",
      "94/94 [==============================] - 37s 394ms/step - loss: 0.2726 - categorical_accuracy: 0.9035 - precision_7: 0.9204 - recall_7: 0.8880 - auc_7: 0.9946 - val_loss: 0.3115 - val_categorical_accuracy: 0.8893 - val_precision_7: 0.9086 - val_recall_7: 0.8763 - val_auc_7: 0.9928\n",
      "Epoch 7/50\n",
      "94/94 [==============================] - 37s 394ms/step - loss: 0.2606 - categorical_accuracy: 0.9063 - precision_7: 0.9220 - recall_7: 0.8927 - auc_7: 0.9949 - val_loss: 0.2891 - val_categorical_accuracy: 0.8976 - val_precision_7: 0.9143 - val_recall_7: 0.8863 - val_auc_7: 0.9936\n",
      "Epoch 8/50\n",
      "94/94 [==============================] - 37s 393ms/step - loss: 0.2371 - categorical_accuracy: 0.9142 - precision_7: 0.9289 - recall_7: 0.9015 - auc_7: 0.9957 - val_loss: 0.2972 - val_categorical_accuracy: 0.8935 - val_precision_7: 0.9073 - val_recall_7: 0.8825 - val_auc_7: 0.9928\n",
      "Epoch 9/50\n",
      "94/94 [==============================] - 37s 394ms/step - loss: 0.2278 - categorical_accuracy: 0.9183 - precision_7: 0.9314 - recall_7: 0.9066 - auc_7: 0.9961 - val_loss: 0.2850 - val_categorical_accuracy: 0.9008 - val_precision_7: 0.9144 - val_recall_7: 0.8887 - val_auc_7: 0.9935\n",
      "Epoch 10/50\n",
      "94/94 [==============================] - 37s 394ms/step - loss: 0.2152 - categorical_accuracy: 0.9228 - precision_7: 0.9337 - recall_7: 0.9114 - auc_7: 0.9963 - val_loss: 0.2849 - val_categorical_accuracy: 0.8989 - val_precision_7: 0.9146 - val_recall_7: 0.8857 - val_auc_7: 0.9938\n",
      "Epoch 11/50\n",
      "94/94 [==============================] - 37s 395ms/step - loss: 0.2012 - categorical_accuracy: 0.9271 - precision_7: 0.9377 - recall_7: 0.9176 - auc_7: 0.9968 - val_loss: 0.2895 - val_categorical_accuracy: 0.8997 - val_precision_7: 0.9132 - val_recall_7: 0.8903 - val_auc_7: 0.9929\n",
      "Epoch 12/50\n",
      "94/94 [==============================] - 37s 393ms/step - loss: 0.1916 - categorical_accuracy: 0.9302 - precision_7: 0.9408 - recall_7: 0.9216 - auc_7: 0.9971 - val_loss: 0.2853 - val_categorical_accuracy: 0.9018 - val_precision_7: 0.9147 - val_recall_7: 0.8917 - val_auc_7: 0.9934\n",
      "Epoch 13/50\n",
      "94/94 [==============================] - 37s 393ms/step - loss: 0.1833 - categorical_accuracy: 0.9339 - precision_7: 0.9435 - recall_7: 0.9262 - auc_7: 0.9972 - val_loss: 0.2834 - val_categorical_accuracy: 0.9023 - val_precision_7: 0.9158 - val_recall_7: 0.8926 - val_auc_7: 0.9931\n",
      "Epoch 14/50\n",
      "94/94 [==============================] - 37s 395ms/step - loss: 0.1748 - categorical_accuracy: 0.9376 - precision_7: 0.9469 - recall_7: 0.9296 - auc_7: 0.9974 - val_loss: 0.2975 - val_categorical_accuracy: 0.8990 - val_precision_7: 0.9095 - val_recall_7: 0.8882 - val_auc_7: 0.9927\n",
      "Epoch 15/50\n",
      "94/94 [==============================] - 37s 392ms/step - loss: 0.1675 - categorical_accuracy: 0.9389 - precision_7: 0.9469 - recall_7: 0.9316 - auc_7: 0.9977 - val_loss: 0.3038 - val_categorical_accuracy: 0.8993 - val_precision_7: 0.9090 - val_recall_7: 0.8931 - val_auc_7: 0.9917\n",
      "Epoch 16/50\n",
      "94/94 [==============================] - 37s 392ms/step - loss: 0.1610 - categorical_accuracy: 0.9406 - precision_7: 0.9480 - recall_7: 0.9339 - auc_7: 0.9979 - val_loss: 0.2888 - val_categorical_accuracy: 0.9017 - val_precision_7: 0.9113 - val_recall_7: 0.8945 - val_auc_7: 0.9923\n",
      "Epoch 17/50\n",
      "94/94 [==============================] - 37s 396ms/step - loss: 0.1502 - categorical_accuracy: 0.9455 - precision_7: 0.9523 - recall_7: 0.9395 - auc_7: 0.9980 - val_loss: 0.2978 - val_categorical_accuracy: 0.9043 - val_precision_7: 0.9137 - val_recall_7: 0.8973 - val_auc_7: 0.9919\n",
      "Epoch 18/50\n",
      "94/94 [==============================] - 37s 393ms/step - loss: 0.1471 - categorical_accuracy: 0.9473 - precision_7: 0.9534 - recall_7: 0.9408 - auc_7: 0.9982 - val_loss: 0.3056 - val_categorical_accuracy: 0.9042 - val_precision_7: 0.9116 - val_recall_7: 0.8981 - val_auc_7: 0.9911\n",
      "375/375 [==============================] - 3s 8ms/step - loss: 0.3056 - categorical_accuracy: 0.9042 - precision_7: 0.9116 - recall_7: 0.8981 - auc_7: 0.9911\n"
     ]
    },
    {
     "name": "stderr",
     "output_type": "stream",
     "text": [
      " 80%|██████████████████████████████████████████████████████████████████▍                | 4/5 [48:01<11:50, 710.92s/it]"
     ]
    },
    {
     "name": "stdout",
     "output_type": "stream",
     "text": [
      "Epoch 1/50\n",
      "1500/1500 [==============================] - 56s 37ms/step - loss: 0.5115 - categorical_accuracy: 0.8221 - precision_8: 0.8689 - recall_8: 0.7768 - auc_8: 0.9838 - val_loss: 0.3840 - val_categorical_accuracy: 0.8622 - val_precision_8: 0.8900 - val_recall_8: 0.8388 - val_auc_8: 0.9902\n",
      "Epoch 2/50\n",
      "1500/1500 [==============================] - 55s 36ms/step - loss: 0.3350 - categorical_accuracy: 0.8799 - precision_8: 0.9013 - recall_8: 0.8597 - auc_8: 0.9922 - val_loss: 0.3259 - val_categorical_accuracy: 0.8817 - val_precision_8: 0.8986 - val_recall_8: 0.8674 - val_auc_8: 0.9921\n",
      "Epoch 3/50\n",
      "1500/1500 [==============================] - 55s 36ms/step - loss: 0.2934 - categorical_accuracy: 0.8936 - precision_8: 0.9116 - recall_8: 0.8779 - auc_8: 0.9939 - val_loss: 0.2861 - val_categorical_accuracy: 0.8969 - val_precision_8: 0.9157 - val_recall_8: 0.8801 - val_auc_8: 0.9945\n",
      "Epoch 4/50\n",
      "1500/1500 [==============================] - 54s 36ms/step - loss: 0.2723 - categorical_accuracy: 0.9007 - precision_8: 0.9158 - recall_8: 0.8867 - auc_8: 0.9945 - val_loss: 0.2933 - val_categorical_accuracy: 0.8953 - val_precision_8: 0.9104 - val_recall_8: 0.8823 - val_auc_8: 0.9934\n",
      "Epoch 5/50\n",
      "1500/1500 [==============================] - 55s 36ms/step - loss: 0.2518 - categorical_accuracy: 0.9086 - precision_8: 0.9229 - recall_8: 0.8963 - auc_8: 0.9953 - val_loss: 0.2851 - val_categorical_accuracy: 0.9003 - val_precision_8: 0.9140 - val_recall_8: 0.8884 - val_auc_8: 0.9935\n",
      "Epoch 6/50\n",
      "1500/1500 [==============================] - 54s 36ms/step - loss: 0.2387 - categorical_accuracy: 0.9119 - precision_8: 0.9250 - recall_8: 0.9007 - auc_8: 0.9955 - val_loss: 0.2845 - val_categorical_accuracy: 0.9030 - val_precision_8: 0.9141 - val_recall_8: 0.8922 - val_auc_8: 0.9929\n",
      "Epoch 7/50\n",
      "1500/1500 [==============================] - 55s 37ms/step - loss: 0.2262 - categorical_accuracy: 0.9164 - precision_8: 0.9281 - recall_8: 0.9062 - auc_8: 0.9961 - val_loss: 0.2701 - val_categorical_accuracy: 0.9043 - val_precision_8: 0.9183 - val_recall_8: 0.8917 - val_auc_8: 0.9944\n",
      "Epoch 8/50\n",
      "1500/1500 [==============================] - 55s 36ms/step - loss: 0.2134 - categorical_accuracy: 0.9228 - precision_8: 0.9329 - recall_8: 0.9133 - auc_8: 0.9964 - val_loss: 0.2736 - val_categorical_accuracy: 0.9032 - val_precision_8: 0.9156 - val_recall_8: 0.8918 - val_auc_8: 0.9937\n",
      "Epoch 9/50\n",
      "1500/1500 [==============================] - 54s 36ms/step - loss: 0.2057 - categorical_accuracy: 0.9251 - precision_8: 0.9346 - recall_8: 0.9163 - auc_8: 0.9966 - val_loss: 0.2630 - val_categorical_accuracy: 0.9097 - val_precision_8: 0.9217 - val_recall_8: 0.9001 - val_auc_8: 0.9939\n",
      "Epoch 10/50\n",
      "1500/1500 [==============================] - 55s 36ms/step - loss: 0.1969 - categorical_accuracy: 0.9276 - precision_8: 0.9372 - recall_8: 0.9195 - auc_8: 0.9968 - val_loss: 0.2676 - val_categorical_accuracy: 0.9057 - val_precision_8: 0.9172 - val_recall_8: 0.8959 - val_auc_8: 0.9940\n",
      "Epoch 11/50\n",
      "1500/1500 [==============================] - 516s 344ms/step - loss: 0.1898 - categorical_accuracy: 0.9304 - precision_8: 0.9382 - recall_8: 0.9226 - auc_8: 0.9970 - val_loss: 0.2822 - val_categorical_accuracy: 0.9006 - val_precision_8: 0.9099 - val_recall_8: 0.8916 - val_auc_8: 0.9935\n",
      "Epoch 12/50\n",
      "1500/1500 [==============================] - 53s 35ms/step - loss: 0.1850 - categorical_accuracy: 0.9312 - precision_8: 0.9390 - recall_8: 0.9246 - auc_8: 0.9971 - val_loss: 0.2723 - val_categorical_accuracy: 0.9046 - val_precision_8: 0.9143 - val_recall_8: 0.8983 - val_auc_8: 0.9935\n",
      "Epoch 13/50\n",
      "1500/1500 [==============================] - 56s 37ms/step - loss: 0.1783 - categorical_accuracy: 0.9340 - precision_8: 0.9407 - recall_8: 0.9280 - auc_8: 0.9971 - val_loss: 0.2769 - val_categorical_accuracy: 0.9038 - val_precision_8: 0.9162 - val_recall_8: 0.8946 - val_auc_8: 0.9932\n",
      "Epoch 14/50\n",
      "1500/1500 [==============================] - 55s 37ms/step - loss: 0.1735 - categorical_accuracy: 0.9357 - precision_8: 0.9427 - recall_8: 0.9304 - auc_8: 0.9972 - val_loss: 0.2722 - val_categorical_accuracy: 0.9094 - val_precision_8: 0.9196 - val_recall_8: 0.9021 - val_auc_8: 0.9935\n",
      "375/375 [==============================] - 3s 8ms/step - loss: 0.2722 - categorical_accuracy: 0.9094 - precision_8: 0.9196 - recall_8: 0.9021 - auc_8: 0.9935\n"
     ]
    },
    {
     "name": "stderr",
     "output_type": "stream",
     "text": [
      "100%|█████████████████████████████████████████████████████████████████████████████████| 5/5 [1:08:31<00:00, 822.31s/it]\n"
     ]
    }
   ],
   "source": [
    "from sklearn.model_selection import ParameterSampler\n",
    "\n",
    "hyperparameter_space = {'units': np.arange(10,1000,20),'activation': ['relu','tanh','sigmoid','elu'],'batch_size':[16,32,64,128,256,512]}\n",
    "hyperparameters = list(ParameterSampler(hyperparameter_space,n_iter=5))\n",
    "\n",
    "best_recall = 0\n",
    "best_model = None\n",
    "best_params = None\n",
    "hyp_results = []\n",
    "for hparam in tqdm(hyperparameters):\n",
    "  model, perf, hparams = entrenar_modelo(hparam)\n",
    "  if perf['recall'] > best_recall:\n",
    "    best_recall = perf['recall']\n",
    "    best_model = model\n",
    "    best_params = hparams\n",
    "  hyp_results.append({'params': hparams,'performance': perf})\n",
    "hyp_results_df = pd.DataFrame(hyp_results)"
   ]
  },
  {
   "cell_type": "code",
   "execution_count": 32,
   "metadata": {},
   "outputs": [],
   "source": [
    "hyp_results_df.to_csv(\"./results/conv2d_hypopt_20220610.csv\")"
   ]
  }
 ],
 "metadata": {
  "interpreter": {
   "hash": "112989f40982219f9c2133127490be09f86560db102a13a350eb86b01002b443"
  },
  "kernelspec": {
   "display_name": "Python 3 (ipykernel)",
   "language": "python",
   "name": "python3"
  },
  "language_info": {
   "codemirror_mode": {
    "name": "ipython",
    "version": 3
   },
   "file_extension": ".py",
   "mimetype": "text/x-python",
   "name": "python",
   "nbconvert_exporter": "python",
   "pygments_lexer": "ipython3",
   "version": "3.10.4"
  }
 },
 "nbformat": 4,
 "nbformat_minor": 4
}
