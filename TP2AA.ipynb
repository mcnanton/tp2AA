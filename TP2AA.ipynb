{
 "cells": [
  {
   "cell_type": "markdown",
   "metadata": {},
   "source": [
    "# TP2: Modelado sobre dataset Fashion MNIST"
   ]
  },
  {
   "cell_type": "markdown",
   "metadata": {},
   "source": [
    "## Librerías"
   ]
  },
  {
   "cell_type": "markdown",
   "metadata": {},
   "source": [
    "Fuente: https://pjreddie.com/projects/mnist-in-csv/"
   ]
  },
  {
   "cell_type": "code",
   "execution_count": 1,
   "metadata": {},
   "outputs": [],
   "source": [
    "import pandas as pd\n",
    "import os\n",
    "import gzip\n",
    "import numpy as np\n",
    "import time\n",
    "from tqdm import tqdm\n",
    "import matplotlib.pyplot as plt\n",
    "import seaborn as sns\n",
    "import requests\n",
    "\n",
    "from sklearn.ensemble import BaggingClassifier\n",
    "from sklearn.neighbors import KNeighborsClassifier\n",
    "from sklearn.ensemble import RandomForestClassifier\n",
    "from sklearn.ensemble import AdaBoostClassifier\n",
    "from sklearn.ensemble import GradientBoostingClassifier\n",
    "from sklearn.tree import DecisionTreeClassifier\n",
    "from sklearn.model_selection import RandomizedSearchCV, GridSearchCV\n",
    "from sklearn.naive_bayes import MultinomialNB\n",
    "from sklearn.metrics import confusion_matrix, classification_report\n",
    "from sklearn.metrics import roc_auc_score\n",
    "from tqdm import tqdm"
   ]
  },
  {
   "cell_type": "markdown",
   "metadata": {},
   "source": [
    "Correr una sola vez para descargar toda la data luego mutear todo el chunk. "
   ]
  },
  {
   "cell_type": "code",
   "execution_count": 2,
   "metadata": {},
   "outputs": [],
   "source": [
    "# def download_gz_from_url(url, output_folder): \n",
    "#     file_name = url.split(\"/\")[-1]\n",
    "#     r = requests.get(url, stream=True)\n",
    "#     with open(output_folder+\"/\"+file_name, 'wb') as f:\n",
    "#         for chunk in r.raw.stream(1024, decode_content=False):\n",
    "#             if chunk:\n",
    "#                 f.write(chunk)\n",
    "\n",
    "# output_folder= \"./data\"\n",
    "                \n",
    "# from pathlib import Path\n",
    "# Path(output_folder).mkdir(parents=True, exist_ok=True)\n",
    "                \n",
    "# urls = [\"http://fashion-mnist.s3-website.eu-central-1.amazonaws.com/train-images-idx3-ubyte.gz\", #x_train\n",
    "#         \"http://fashion-mnist.s3-website.eu-central-1.amazonaws.com/train-labels-idx1-ubyte.gz\", #y_train\n",
    "#         \"http://fashion-mnist.s3-website.eu-central-1.amazonaws.com/t10k-images-idx3-ubyte.gz\", #x_test\n",
    "#         \"http://fashion-mnist.s3-website.eu-central-1.amazonaws.com/t10k-labels-idx1-ubyte.gz\" #y_test\n",
    "#        ]\n",
    "                \n",
    "# for url in tqdm(urls):\n",
    "#     download_gz_from_url(url,output_folder)"
   ]
  },
  {
   "cell_type": "markdown",
   "metadata": {},
   "source": [
    "## Carga de Datos"
   ]
  },
  {
   "cell_type": "code",
   "execution_count": 2,
   "metadata": {},
   "outputs": [],
   "source": [
    "import mnist_fashion_reader as mnist\n",
    "\n",
    "X_train, y_train = mnist.load_mnist('data/', kind='train') #devuelve amigables objetos de Pandas\n",
    "X_test, y_test = mnist.load_mnist('data/', kind='t10k') #devuevle amigables objetos de Pandas"
   ]
  },
  {
   "cell_type": "markdown",
   "metadata": {},
   "source": [
    "## Punto 1: Exploración del dataset"
   ]
  },
  {
   "cell_type": "markdown",
   "metadata": {},
   "source": [
    "Realizar una breve descripción del dataset. ¿Qué cantidad de datos tiene este conjunto? ¿Cuántos atributos? ¿Qué rangos de valores toman los atributos? ¿Qué cantidad de clases hay para clasificar? ¿Están balanceadas? Realizar un gráfico donde se muestran ejemplos de las clases (Puede ir a un anexo)."
   ]
  },
  {
   "cell_type": "markdown",
   "metadata": {},
   "source": [
    "### Cantidad de datos del conjunto"
   ]
  },
  {
   "cell_type": "code",
   "execution_count": 4,
   "metadata": {},
   "outputs": [],
   "source": [
    "df_entrenamiento = pd.concat([X_train.reset_index(drop=True), y_train], axis=1)\n",
    "df_test = pd.concat([X_test.reset_index(drop=True), y_test], axis=1)\n",
    "df_completo = pd.concat([df_entrenamiento, df_test])"
   ]
  },
  {
   "cell_type": "code",
   "execution_count": 5,
   "metadata": {},
   "outputs": [
    {
     "name": "stdout",
     "output_type": "stream",
     "text": [
      "Entrenamiento: (60000, 785)   +   Test: (10000, 785)   -->   Completo: (70000, 785)\n"
     ]
    }
   ],
   "source": [
    "print('Entrenamiento:', df_entrenamiento.shape,'  +  ' ,'Test:', df_test.shape, '  -->  ' , 'Completo:', df_completo.shape)"
   ]
  },
  {
   "cell_type": "code",
   "execution_count": 6,
   "metadata": {},
   "outputs": [
    {
     "name": "stdout",
     "output_type": "stream",
     "text": [
      "El dataset completo posee 70000 registros. Cada registro corresponde a una imagen del dataset.\n"
     ]
    }
   ],
   "source": [
    "print(f\"El dataset completo posee {len(df_completo)} registros. Cada registro corresponde a una imagen del dataset.\")"
   ]
  },
  {
   "cell_type": "markdown",
   "metadata": {},
   "source": [
    "### Atributos"
   ]
  },
  {
   "cell_type": "markdown",
   "metadata": {},
   "source": [
    "#### Cantidad de atributos"
   ]
  },
  {
   "cell_type": "code",
   "execution_count": 7,
   "metadata": {},
   "outputs": [
    {
     "name": "stdout",
     "output_type": "stream",
     "text": [
      "Cada atributo representa el valor de cada uno de los pixeles de cada imagen. Dado que cada imagen tiene un formato de 28 x 28 pixeles en escala de grises, el dataset posee 784 atributos por registro, correspondientes al valor en escala de gris de cada pixel que compone la imagen\n",
      "+ UN (1) atributo con valores de 0 a 9 correspondiente a las clases a clasificar\n"
     ]
    }
   ],
   "source": [
    "print(f\"Cada atributo representa el valor de cada uno de los pixeles de cada imagen. Dado que cada imagen tiene un formato de 28 x 28 pixeles en escala de grises, el dataset posee {len(df_completo.columns)-1} atributos por registro, correspondientes al valor en escala de gris de cada pixel que compone la imagen\")\n",
    "\n",
    "print(\"+ UN (1) atributo con valores de 0 a 9 correspondiente a las clases a clasificar\" )"
   ]
  },
  {
   "cell_type": "markdown",
   "metadata": {},
   "source": [
    "#### Rangos de valores"
   ]
  },
  {
   "cell_type": "code",
   "execution_count": 8,
   "metadata": {},
   "outputs": [],
   "source": [
    "max_val = df_completo.max().max()\n",
    "min_val = df_completo.min().min()"
   ]
  },
  {
   "cell_type": "code",
   "execution_count": 9,
   "metadata": {},
   "outputs": [
    {
     "name": "stdout",
     "output_type": "stream",
     "text": [
      "El valor mínimo de los atributos es 0 , y el máximo es 255. Cada valor es un integer entre 0 y 255\n"
     ]
    }
   ],
   "source": [
    "print(f\"El valor mínimo de los atributos es {min_val} , y el máximo es {max_val}. Cada valor es un integer entre {min_val} y {max_val}\")"
   ]
  },
  {
   "cell_type": "markdown",
   "metadata": {},
   "source": [
    "#### Clases a clasificar"
   ]
  },
  {
   "cell_type": "code",
   "execution_count": 10,
   "metadata": {},
   "outputs": [
    {
     "data": {
      "text/plain": [
       "array([0, 1, 2, 3, 4, 5, 6, 7, 8, 9], dtype=uint8)"
      ]
     },
     "execution_count": 10,
     "metadata": {},
     "output_type": "execute_result"
    }
   ],
   "source": [
    "clases = np.sort(df_completo[0].unique())\n",
    "\n",
    "clases"
   ]
  },
  {
   "cell_type": "code",
   "execution_count": 11,
   "metadata": {},
   "outputs": [
    {
     "name": "stdout",
     "output_type": "stream",
     "text": [
      "El dataset está compuesto por 10 clases\n"
     ]
    }
   ],
   "source": [
    "print(f\"El dataset está compuesto por {len(clases)} clases\")"
   ]
  },
  {
   "cell_type": "markdown",
   "metadata": {},
   "source": [
    "##### N de clases"
   ]
  },
  {
   "cell_type": "code",
   "execution_count": 12,
   "metadata": {},
   "outputs": [
    {
     "name": "stdout",
     "output_type": "stream",
     "text": [
      "Las clases son: [0 1 2 3 4 5 6 7 8 9]\n"
     ]
    }
   ],
   "source": [
    "print(f\"Las clases son: {clases}\")"
   ]
  },
  {
   "cell_type": "markdown",
   "metadata": {},
   "source": [
    "##### Balanceo de clases"
   ]
  },
  {
   "cell_type": "code",
   "execution_count": 13,
   "metadata": {},
   "outputs": [
    {
     "data": {
      "text/html": [
       "<div>\n",
       "<style scoped>\n",
       "    .dataframe tbody tr th:only-of-type {\n",
       "        vertical-align: middle;\n",
       "    }\n",
       "\n",
       "    .dataframe tbody tr th {\n",
       "        vertical-align: top;\n",
       "    }\n",
       "\n",
       "    .dataframe thead th {\n",
       "        text-align: right;\n",
       "    }\n",
       "</style>\n",
       "<table border=\"1\" class=\"dataframe\">\n",
       "  <thead>\n",
       "    <tr style=\"text-align: right;\">\n",
       "      <th></th>\n",
       "      <th>Cant</th>\n",
       "      <th>%</th>\n",
       "    </tr>\n",
       "  </thead>\n",
       "  <tbody>\n",
       "    <tr>\n",
       "      <th>0</th>\n",
       "      <td>7000</td>\n",
       "      <td>0.1</td>\n",
       "    </tr>\n",
       "    <tr>\n",
       "      <th>1</th>\n",
       "      <td>7000</td>\n",
       "      <td>0.1</td>\n",
       "    </tr>\n",
       "    <tr>\n",
       "      <th>2</th>\n",
       "      <td>7000</td>\n",
       "      <td>0.1</td>\n",
       "    </tr>\n",
       "    <tr>\n",
       "      <th>3</th>\n",
       "      <td>7000</td>\n",
       "      <td>0.1</td>\n",
       "    </tr>\n",
       "    <tr>\n",
       "      <th>4</th>\n",
       "      <td>7000</td>\n",
       "      <td>0.1</td>\n",
       "    </tr>\n",
       "    <tr>\n",
       "      <th>5</th>\n",
       "      <td>7000</td>\n",
       "      <td>0.1</td>\n",
       "    </tr>\n",
       "    <tr>\n",
       "      <th>6</th>\n",
       "      <td>7000</td>\n",
       "      <td>0.1</td>\n",
       "    </tr>\n",
       "    <tr>\n",
       "      <th>7</th>\n",
       "      <td>7000</td>\n",
       "      <td>0.1</td>\n",
       "    </tr>\n",
       "    <tr>\n",
       "      <th>8</th>\n",
       "      <td>7000</td>\n",
       "      <td>0.1</td>\n",
       "    </tr>\n",
       "    <tr>\n",
       "      <th>9</th>\n",
       "      <td>7000</td>\n",
       "      <td>0.1</td>\n",
       "    </tr>\n",
       "  </tbody>\n",
       "</table>\n",
       "</div>"
      ],
      "text/plain": [
       "   Cant    %\n",
       "0  7000  0.1\n",
       "1  7000  0.1\n",
       "2  7000  0.1\n",
       "3  7000  0.1\n",
       "4  7000  0.1\n",
       "5  7000  0.1\n",
       "6  7000  0.1\n",
       "7  7000  0.1\n",
       "8  7000  0.1\n",
       "9  7000  0.1"
      ]
     },
     "execution_count": 13,
     "metadata": {},
     "output_type": "execute_result"
    }
   ],
   "source": [
    "Q = df_completo[0].value_counts().rename(\"Cant\")\n",
    "P = df_completo[0].value_counts(normalize=True).rename(\"%\")\n",
    "\n",
    "pd.concat([Q, P], axis=1).sort_index()\n"
   ]
  },
  {
   "cell_type": "markdown",
   "metadata": {},
   "source": [
    "##### Visualización "
   ]
  },
  {
   "cell_type": "markdown",
   "metadata": {},
   "source": [
    "## Separación en desarrollo y testeo"
   ]
  },
  {
   "cell_type": "markdown",
   "metadata": {},
   "source": [
    "Separación de datos respetando la división presente en el github oficial de desarrollo y testeo"
   ]
  },
  {
   "cell_type": "code",
   "execution_count": 14,
   "metadata": {},
   "outputs": [
    {
     "data": {
      "text/plain": [
       "(60000, 784)"
      ]
     },
     "execution_count": 14,
     "metadata": {},
     "output_type": "execute_result"
    }
   ],
   "source": [
    "X_train.shape"
   ]
  },
  {
   "cell_type": "code",
   "execution_count": 15,
   "metadata": {},
   "outputs": [
    {
     "data": {
      "text/plain": [
       "(60000,)"
      ]
     },
     "execution_count": 15,
     "metadata": {},
     "output_type": "execute_result"
    }
   ],
   "source": [
    "y_train.shape"
   ]
  },
  {
   "cell_type": "code",
   "execution_count": 16,
   "metadata": {},
   "outputs": [
    {
     "data": {
      "text/plain": [
       "(10000, 784)"
      ]
     },
     "execution_count": 16,
     "metadata": {},
     "output_type": "execute_result"
    }
   ],
   "source": [
    "X_test.shape"
   ]
  },
  {
   "cell_type": "code",
   "execution_count": 17,
   "metadata": {},
   "outputs": [
    {
     "data": {
      "text/plain": [
       "(10000,)"
      ]
     },
     "execution_count": 17,
     "metadata": {},
     "output_type": "execute_result"
    }
   ],
   "source": [
    "y_test.shape"
   ]
  },
  {
   "cell_type": "code",
   "execution_count": 18,
   "metadata": {},
   "outputs": [
    {
     "data": {
      "text/html": [
       "<div>\n",
       "<style scoped>\n",
       "    .dataframe tbody tr th:only-of-type {\n",
       "        vertical-align: middle;\n",
       "    }\n",
       "\n",
       "    .dataframe tbody tr th {\n",
       "        vertical-align: top;\n",
       "    }\n",
       "\n",
       "    .dataframe thead th {\n",
       "        text-align: right;\n",
       "    }\n",
       "</style>\n",
       "<table border=\"1\" class=\"dataframe\">\n",
       "  <thead>\n",
       "    <tr style=\"text-align: right;\">\n",
       "      <th></th>\n",
       "      <th>Cant</th>\n",
       "      <th>%</th>\n",
       "    </tr>\n",
       "    <tr>\n",
       "      <th>train</th>\n",
       "      <th></th>\n",
       "      <th></th>\n",
       "    </tr>\n",
       "  </thead>\n",
       "  <tbody>\n",
       "    <tr>\n",
       "      <th>0</th>\n",
       "      <td>6000</td>\n",
       "      <td>0.1</td>\n",
       "    </tr>\n",
       "    <tr>\n",
       "      <th>1</th>\n",
       "      <td>6000</td>\n",
       "      <td>0.1</td>\n",
       "    </tr>\n",
       "    <tr>\n",
       "      <th>2</th>\n",
       "      <td>6000</td>\n",
       "      <td>0.1</td>\n",
       "    </tr>\n",
       "    <tr>\n",
       "      <th>3</th>\n",
       "      <td>6000</td>\n",
       "      <td>0.1</td>\n",
       "    </tr>\n",
       "    <tr>\n",
       "      <th>4</th>\n",
       "      <td>6000</td>\n",
       "      <td>0.1</td>\n",
       "    </tr>\n",
       "    <tr>\n",
       "      <th>5</th>\n",
       "      <td>6000</td>\n",
       "      <td>0.1</td>\n",
       "    </tr>\n",
       "    <tr>\n",
       "      <th>6</th>\n",
       "      <td>6000</td>\n",
       "      <td>0.1</td>\n",
       "    </tr>\n",
       "    <tr>\n",
       "      <th>7</th>\n",
       "      <td>6000</td>\n",
       "      <td>0.1</td>\n",
       "    </tr>\n",
       "    <tr>\n",
       "      <th>8</th>\n",
       "      <td>6000</td>\n",
       "      <td>0.1</td>\n",
       "    </tr>\n",
       "    <tr>\n",
       "      <th>9</th>\n",
       "      <td>6000</td>\n",
       "      <td>0.1</td>\n",
       "    </tr>\n",
       "  </tbody>\n",
       "</table>\n",
       "</div>"
      ],
      "text/plain": [
       "       Cant    %\n",
       "train           \n",
       "0      6000  0.1\n",
       "1      6000  0.1\n",
       "2      6000  0.1\n",
       "3      6000  0.1\n",
       "4      6000  0.1\n",
       "5      6000  0.1\n",
       "6      6000  0.1\n",
       "7      6000  0.1\n",
       "8      6000  0.1\n",
       "9      6000  0.1"
      ]
     },
     "execution_count": 18,
     "metadata": {},
     "output_type": "execute_result"
    }
   ],
   "source": [
    "Q1 = y_train.value_counts().rename(\"Cant\")\n",
    "P1 = y_train.value_counts(normalize=True).rename(\"%\")\n",
    "\n",
    "pd.concat([Q1, P1], axis=1).sort_index().rename_axis('train')"
   ]
  },
  {
   "cell_type": "code",
   "execution_count": 19,
   "metadata": {},
   "outputs": [
    {
     "data": {
      "text/html": [
       "<div>\n",
       "<style scoped>\n",
       "    .dataframe tbody tr th:only-of-type {\n",
       "        vertical-align: middle;\n",
       "    }\n",
       "\n",
       "    .dataframe tbody tr th {\n",
       "        vertical-align: top;\n",
       "    }\n",
       "\n",
       "    .dataframe thead th {\n",
       "        text-align: right;\n",
       "    }\n",
       "</style>\n",
       "<table border=\"1\" class=\"dataframe\">\n",
       "  <thead>\n",
       "    <tr style=\"text-align: right;\">\n",
       "      <th></th>\n",
       "      <th>Cant</th>\n",
       "      <th>%</th>\n",
       "    </tr>\n",
       "    <tr>\n",
       "      <th>test</th>\n",
       "      <th></th>\n",
       "      <th></th>\n",
       "    </tr>\n",
       "  </thead>\n",
       "  <tbody>\n",
       "    <tr>\n",
       "      <th>0</th>\n",
       "      <td>1000</td>\n",
       "      <td>0.1</td>\n",
       "    </tr>\n",
       "    <tr>\n",
       "      <th>1</th>\n",
       "      <td>1000</td>\n",
       "      <td>0.1</td>\n",
       "    </tr>\n",
       "    <tr>\n",
       "      <th>2</th>\n",
       "      <td>1000</td>\n",
       "      <td>0.1</td>\n",
       "    </tr>\n",
       "    <tr>\n",
       "      <th>3</th>\n",
       "      <td>1000</td>\n",
       "      <td>0.1</td>\n",
       "    </tr>\n",
       "    <tr>\n",
       "      <th>4</th>\n",
       "      <td>1000</td>\n",
       "      <td>0.1</td>\n",
       "    </tr>\n",
       "    <tr>\n",
       "      <th>5</th>\n",
       "      <td>1000</td>\n",
       "      <td>0.1</td>\n",
       "    </tr>\n",
       "    <tr>\n",
       "      <th>6</th>\n",
       "      <td>1000</td>\n",
       "      <td>0.1</td>\n",
       "    </tr>\n",
       "    <tr>\n",
       "      <th>7</th>\n",
       "      <td>1000</td>\n",
       "      <td>0.1</td>\n",
       "    </tr>\n",
       "    <tr>\n",
       "      <th>8</th>\n",
       "      <td>1000</td>\n",
       "      <td>0.1</td>\n",
       "    </tr>\n",
       "    <tr>\n",
       "      <th>9</th>\n",
       "      <td>1000</td>\n",
       "      <td>0.1</td>\n",
       "    </tr>\n",
       "  </tbody>\n",
       "</table>\n",
       "</div>"
      ],
      "text/plain": [
       "      Cant    %\n",
       "test           \n",
       "0     1000  0.1\n",
       "1     1000  0.1\n",
       "2     1000  0.1\n",
       "3     1000  0.1\n",
       "4     1000  0.1\n",
       "5     1000  0.1\n",
       "6     1000  0.1\n",
       "7     1000  0.1\n",
       "8     1000  0.1\n",
       "9     1000  0.1"
      ]
     },
     "execution_count": 19,
     "metadata": {},
     "output_type": "execute_result"
    }
   ],
   "source": [
    "Q2 = y_test.value_counts().rename(\"Cant\")\n",
    "P2 = y_test.value_counts(normalize=True).rename(\"%\")\n",
    "\n",
    "pd.concat([Q2, P2], axis=1).sort_index().rename_axis('test')"
   ]
  },
  {
   "cell_type": "markdown",
   "metadata": {},
   "source": [
    "## Separación del conjunto de desarrollo en entrenamiento y validación"
   ]
  },
  {
   "cell_type": "markdown",
   "metadata": {},
   "source": [
    "Conjunto de entrenamiento (85.71%):\n",
    "* x_train, y_train = 80% del conjunto de entrenamiento\n",
    "* x_val, y_val = 20% del conjunto de entrenamiento\n",
    "\n",
    "Conjunto de testing(14.29%)\n",
    "* X_test, y_test = Conjunto held-out de testing"
   ]
  },
  {
   "cell_type": "code",
   "execution_count": 4,
   "metadata": {},
   "outputs": [],
   "source": [
    "from sklearn.model_selection import train_test_split\n",
    "seed = 42\n",
    "\n",
    "x_train, x_val, y_train, y_val = train_test_split(X_train,y_train, test_size=0.2, random_state=seed, stratify = y_train) "
   ]
  },
  {
   "cell_type": "markdown",
   "metadata": {},
   "source": [
    "## Entrenamiento inicial de modelos"
   ]
  },
  {
   "cell_type": "markdown",
   "metadata": {},
   "source": [
    "Entrenamiento de 4 modelos con sus hiperparámetros por defecto"
   ]
  },
  {
   "cell_type": "code",
   "execution_count": 5,
   "metadata": {},
   "outputs": [],
   "source": [
    "#https://stackoverflow-com.translate.goog/questions/39685740/calculate-sklearn-roc-auc-score-for-multi-class?_x_tr_sl=es&_x_tr_tl=en&_x_tr_hl=es&_x_tr_pto=wapp\n",
    "def roc_auc_score_multiclass(actual_class, pred_class, average = \"macro\"):\n",
    "\n",
    "  #creating a set of all the unique classes using the actual class list\n",
    "  unique_class = set(actual_class)\n",
    "  roc_auc_dict = {}\n",
    "  for per_class in unique_class:\n",
    "    #creating a list of all the classes except the current class \n",
    "    other_class = [x for x in unique_class if x != per_class]\n",
    "\n",
    "    #marking the current class as 1 and all other classes as 0\n",
    "    new_actual_class = [0 if x in other_class else 1 for x in actual_class]\n",
    "    new_pred_class = [0 if x in other_class else 1 for x in pred_class]\n",
    "\n",
    "    #using the sklearn metrics method to calculate the roc_auc_score\n",
    "    roc_auc = roc_auc_score(new_actual_class, new_pred_class, average = average)\n",
    "    roc_auc_dict[per_class] = roc_auc\n",
    "\n",
    "  return roc_auc_dict\n",
    "\n",
    "def classif_report(true_vals, pred_vals):\n",
    "    n_class = y_val.nunique()\n",
    "    sk_report = classification_report(true_vals, pred_vals, output_dict=True)\n",
    "    reportA = pd.DataFrame(sk_report).stack().unstack(0).iloc[0:n_class] \n",
    "    reportA['roc_auc'] = [v for k,v in roc_auc_score_multiclass(true_vals, pred_vals, average = \"macro\").items()]\n",
    "    acc_score = [sk_report['accuracy']]*5\n",
    "    macro_avg = reportA.mean()\n",
    "    weighted_avg = np.average(reportA, axis = 0, weights=reportA.support)\n",
    "    reportB = pd.DataFrame({\"accuracy\":acc_score,\n",
    "                            \"macro_avg\": macro_avg,\n",
    "                            \"weighted_avg\":weighted_avg}).stack().unstack(0)\n",
    "    report = pd.concat([reportA, reportB], axis=0)\n",
    "                            \n",
    "    return report"
   ]
  },
  {
   "cell_type": "markdown",
   "metadata": {},
   "source": [
    "### Boosting"
   ]
  },
  {
   "cell_type": "markdown",
   "metadata": {},
   "source": [
    "#### GradientBoostingClassifier"
   ]
  },
  {
   "cell_type": "code",
   "execution_count": 92,
   "metadata": {},
   "outputs": [],
   "source": [
    "seed = 42"
   ]
  },
  {
   "cell_type": "code",
   "execution_count": 94,
   "metadata": {},
   "outputs": [
    {
     "name": "stdout",
     "output_type": "stream",
     "text": [
      "      Iter       Train Loss   Remaining Time \n",
      "         1           1.8519           66.54m\n",
      "         2           1.6078           68.75m\n",
      "         3           1.4292           68.18m\n",
      "         4           1.2882           66.75m\n",
      "         5           1.1791           65.91m\n",
      "         6           1.0887           64.87m\n",
      "         7           1.0126           64.13m\n",
      "         8           0.9453           63.43m\n",
      "         9           0.8882           62.62m\n",
      "        10           0.8397           62.21m\n",
      "        20           0.5629           54.83m\n",
      "        30           0.4552           47.82m\n",
      "        40           0.3994           40.88m\n",
      "        50           0.3635           34.01m\n",
      "        60           0.3375           27.26m\n",
      "        70           0.3178           20.47m\n",
      "        80           0.3014           13.67m\n",
      "        90           0.2868            6.83m\n",
      "       100           0.2743            0.00s\n",
      "Accuracy training : 0.908\n",
      "Accuracy val: 0.875\n"
     ]
    },
    {
     "data": {
      "text/html": [
       "<div>\n",
       "<style scoped>\n",
       "    .dataframe tbody tr th:only-of-type {\n",
       "        vertical-align: middle;\n",
       "    }\n",
       "\n",
       "    .dataframe tbody tr th {\n",
       "        vertical-align: top;\n",
       "    }\n",
       "\n",
       "    .dataframe thead th {\n",
       "        text-align: right;\n",
       "    }\n",
       "</style>\n",
       "<table border=\"1\" class=\"dataframe\">\n",
       "  <thead>\n",
       "    <tr style=\"text-align: right;\">\n",
       "      <th></th>\n",
       "      <th>precision</th>\n",
       "      <th>recall</th>\n",
       "      <th>f1-score</th>\n",
       "      <th>support</th>\n",
       "      <th>roc_auc</th>\n",
       "    </tr>\n",
       "  </thead>\n",
       "  <tbody>\n",
       "    <tr>\n",
       "      <th>0</th>\n",
       "      <td>0.816867</td>\n",
       "      <td>0.847500</td>\n",
       "      <td>0.831902</td>\n",
       "      <td>1200.0000</td>\n",
       "      <td>0.913194</td>\n",
       "    </tr>\n",
       "    <tr>\n",
       "      <th>1</th>\n",
       "      <td>0.990638</td>\n",
       "      <td>0.970000</td>\n",
       "      <td>0.980211</td>\n",
       "      <td>1200.0000</td>\n",
       "      <td>0.984491</td>\n",
       "    </tr>\n",
       "    <tr>\n",
       "      <th>2</th>\n",
       "      <td>0.762175</td>\n",
       "      <td>0.782500</td>\n",
       "      <td>0.772204</td>\n",
       "      <td>1200.0000</td>\n",
       "      <td>0.877685</td>\n",
       "    </tr>\n",
       "    <tr>\n",
       "      <th>3</th>\n",
       "      <td>0.886870</td>\n",
       "      <td>0.895000</td>\n",
       "      <td>0.890917</td>\n",
       "      <td>1200.0000</td>\n",
       "      <td>0.941157</td>\n",
       "    </tr>\n",
       "    <tr>\n",
       "      <th>4</th>\n",
       "      <td>0.773570</td>\n",
       "      <td>0.800000</td>\n",
       "      <td>0.786563</td>\n",
       "      <td>1200.0000</td>\n",
       "      <td>0.886991</td>\n",
       "    </tr>\n",
       "    <tr>\n",
       "      <th>5</th>\n",
       "      <td>0.966302</td>\n",
       "      <td>0.955833</td>\n",
       "      <td>0.961039</td>\n",
       "      <td>1200.0000</td>\n",
       "      <td>0.976065</td>\n",
       "    </tr>\n",
       "    <tr>\n",
       "      <th>6</th>\n",
       "      <td>0.697993</td>\n",
       "      <td>0.637500</td>\n",
       "      <td>0.666376</td>\n",
       "      <td>1200.0000</td>\n",
       "      <td>0.803426</td>\n",
       "    </tr>\n",
       "    <tr>\n",
       "      <th>7</th>\n",
       "      <td>0.939669</td>\n",
       "      <td>0.947500</td>\n",
       "      <td>0.943568</td>\n",
       "      <td>1200.0000</td>\n",
       "      <td>0.970370</td>\n",
       "    </tr>\n",
       "    <tr>\n",
       "      <th>8</th>\n",
       "      <td>0.965087</td>\n",
       "      <td>0.967500</td>\n",
       "      <td>0.966292</td>\n",
       "      <td>1200.0000</td>\n",
       "      <td>0.981806</td>\n",
       "    </tr>\n",
       "    <tr>\n",
       "      <th>9</th>\n",
       "      <td>0.951667</td>\n",
       "      <td>0.951667</td>\n",
       "      <td>0.951667</td>\n",
       "      <td>1200.0000</td>\n",
       "      <td>0.973148</td>\n",
       "    </tr>\n",
       "    <tr>\n",
       "      <th>accuracy</th>\n",
       "      <td>0.875500</td>\n",
       "      <td>0.875500</td>\n",
       "      <td>0.875500</td>\n",
       "      <td>0.8755</td>\n",
       "      <td>0.875500</td>\n",
       "    </tr>\n",
       "    <tr>\n",
       "      <th>macro_avg</th>\n",
       "      <td>0.875084</td>\n",
       "      <td>0.875500</td>\n",
       "      <td>0.875074</td>\n",
       "      <td>1200.0000</td>\n",
       "      <td>0.930833</td>\n",
       "    </tr>\n",
       "    <tr>\n",
       "      <th>weighted_avg</th>\n",
       "      <td>0.875084</td>\n",
       "      <td>0.875500</td>\n",
       "      <td>0.875074</td>\n",
       "      <td>1200.0000</td>\n",
       "      <td>0.930833</td>\n",
       "    </tr>\n",
       "  </tbody>\n",
       "</table>\n",
       "</div>"
      ],
      "text/plain": [
       "              precision    recall  f1-score    support   roc_auc\n",
       "0              0.816867  0.847500  0.831902  1200.0000  0.913194\n",
       "1              0.990638  0.970000  0.980211  1200.0000  0.984491\n",
       "2              0.762175  0.782500  0.772204  1200.0000  0.877685\n",
       "3              0.886870  0.895000  0.890917  1200.0000  0.941157\n",
       "4              0.773570  0.800000  0.786563  1200.0000  0.886991\n",
       "5              0.966302  0.955833  0.961039  1200.0000  0.976065\n",
       "6              0.697993  0.637500  0.666376  1200.0000  0.803426\n",
       "7              0.939669  0.947500  0.943568  1200.0000  0.970370\n",
       "8              0.965087  0.967500  0.966292  1200.0000  0.981806\n",
       "9              0.951667  0.951667  0.951667  1200.0000  0.973148\n",
       "accuracy       0.875500  0.875500  0.875500     0.8755  0.875500\n",
       "macro_avg      0.875084  0.875500  0.875074  1200.0000  0.930833\n",
       "weighted_avg   0.875084  0.875500  0.875074  1200.0000  0.930833"
      ]
     },
     "execution_count": 94,
     "metadata": {},
     "output_type": "execute_result"
    }
   ],
   "source": [
    "gbc = GradientBoostingClassifier(random_state = seed, verbose=1)\n",
    "gbc.fit(x_train, y_train)\n",
    "y_pred = gbc.predict(x_val)\n",
    "\n",
    "print(\"Accuracy training : {:.3f}\".format(gbc.score(x_train, y_train)))\n",
    "print(\"Accuracy val: {:.3f}\".format(gbc.score(x_val, y_val)))\n",
    "classif_report(y_val, y_pred)"
   ]
  },
  {
   "cell_type": "markdown",
   "metadata": {},
   "source": [
    "### Bagging"
   ]
  },
  {
   "cell_type": "markdown",
   "metadata": {},
   "source": [
    "#### Random Forest Classifier"
   ]
  },
  {
   "cell_type": "code",
   "execution_count": 96,
   "metadata": {},
   "outputs": [
    {
     "name": "stderr",
     "output_type": "stream",
     "text": [
      "[Parallel(n_jobs=-1)]: Using backend ThreadingBackend with 12 concurrent workers.\n",
      "[Parallel(n_jobs=-1)]: Done  26 tasks      | elapsed:    3.5s\n",
      "[Parallel(n_jobs=-1)]: Done 100 out of 100 | elapsed:   10.1s finished\n",
      "[Parallel(n_jobs=12)]: Using backend ThreadingBackend with 12 concurrent workers.\n",
      "[Parallel(n_jobs=12)]: Done  26 tasks      | elapsed:    0.0s\n",
      "[Parallel(n_jobs=12)]: Done 100 out of 100 | elapsed:    0.1s finished\n",
      "[Parallel(n_jobs=12)]: Using backend ThreadingBackend with 12 concurrent workers.\n",
      "[Parallel(n_jobs=12)]: Done  26 tasks      | elapsed:    0.1s\n",
      "[Parallel(n_jobs=12)]: Done 100 out of 100 | elapsed:    0.6s finished\n",
      "[Parallel(n_jobs=12)]: Using backend ThreadingBackend with 12 concurrent workers.\n",
      "[Parallel(n_jobs=12)]: Done  26 tasks      | elapsed:    0.0s\n"
     ]
    },
    {
     "name": "stdout",
     "output_type": "stream",
     "text": [
      "Accuracy training : 1.000\n"
     ]
    },
    {
     "name": "stderr",
     "output_type": "stream",
     "text": [
      "[Parallel(n_jobs=12)]: Done 100 out of 100 | elapsed:    0.1s finished\n"
     ]
    },
    {
     "name": "stdout",
     "output_type": "stream",
     "text": [
      "Accuracy val: 0.883\n"
     ]
    },
    {
     "data": {
      "text/html": [
       "<div>\n",
       "<style scoped>\n",
       "    .dataframe tbody tr th:only-of-type {\n",
       "        vertical-align: middle;\n",
       "    }\n",
       "\n",
       "    .dataframe tbody tr th {\n",
       "        vertical-align: top;\n",
       "    }\n",
       "\n",
       "    .dataframe thead th {\n",
       "        text-align: right;\n",
       "    }\n",
       "</style>\n",
       "<table border=\"1\" class=\"dataframe\">\n",
       "  <thead>\n",
       "    <tr style=\"text-align: right;\">\n",
       "      <th></th>\n",
       "      <th>precision</th>\n",
       "      <th>recall</th>\n",
       "      <th>f1-score</th>\n",
       "      <th>support</th>\n",
       "      <th>roc_auc</th>\n",
       "    </tr>\n",
       "  </thead>\n",
       "  <tbody>\n",
       "    <tr>\n",
       "      <th>0</th>\n",
       "      <td>0.833200</td>\n",
       "      <td>0.870000</td>\n",
       "      <td>0.851203</td>\n",
       "      <td>1200.000000</td>\n",
       "      <td>0.925324</td>\n",
       "    </tr>\n",
       "    <tr>\n",
       "      <th>1</th>\n",
       "      <td>0.993168</td>\n",
       "      <td>0.969167</td>\n",
       "      <td>0.981021</td>\n",
       "      <td>1200.000000</td>\n",
       "      <td>0.984213</td>\n",
       "    </tr>\n",
       "    <tr>\n",
       "      <th>2</th>\n",
       "      <td>0.772727</td>\n",
       "      <td>0.807500</td>\n",
       "      <td>0.789731</td>\n",
       "      <td>1200.000000</td>\n",
       "      <td>0.890556</td>\n",
       "    </tr>\n",
       "    <tr>\n",
       "      <th>3</th>\n",
       "      <td>0.880452</td>\n",
       "      <td>0.908333</td>\n",
       "      <td>0.894176</td>\n",
       "      <td>1200.000000</td>\n",
       "      <td>0.947315</td>\n",
       "    </tr>\n",
       "    <tr>\n",
       "      <th>4</th>\n",
       "      <td>0.772370</td>\n",
       "      <td>0.820000</td>\n",
       "      <td>0.795473</td>\n",
       "      <td>1200.000000</td>\n",
       "      <td>0.896574</td>\n",
       "    </tr>\n",
       "    <tr>\n",
       "      <th>5</th>\n",
       "      <td>0.964942</td>\n",
       "      <td>0.963333</td>\n",
       "      <td>0.964137</td>\n",
       "      <td>1200.000000</td>\n",
       "      <td>0.979722</td>\n",
       "    </tr>\n",
       "    <tr>\n",
       "      <th>6</th>\n",
       "      <td>0.750501</td>\n",
       "      <td>0.624167</td>\n",
       "      <td>0.681529</td>\n",
       "      <td>1200.000000</td>\n",
       "      <td>0.800556</td>\n",
       "    </tr>\n",
       "    <tr>\n",
       "      <th>7</th>\n",
       "      <td>0.939217</td>\n",
       "      <td>0.940000</td>\n",
       "      <td>0.939608</td>\n",
       "      <td>1200.000000</td>\n",
       "      <td>0.966620</td>\n",
       "    </tr>\n",
       "    <tr>\n",
       "      <th>8</th>\n",
       "      <td>0.963756</td>\n",
       "      <td>0.975000</td>\n",
       "      <td>0.969345</td>\n",
       "      <td>1200.000000</td>\n",
       "      <td>0.985463</td>\n",
       "    </tr>\n",
       "    <tr>\n",
       "      <th>9</th>\n",
       "      <td>0.949124</td>\n",
       "      <td>0.948333</td>\n",
       "      <td>0.948729</td>\n",
       "      <td>1200.000000</td>\n",
       "      <td>0.971343</td>\n",
       "    </tr>\n",
       "    <tr>\n",
       "      <th>accuracy</th>\n",
       "      <td>0.882583</td>\n",
       "      <td>0.882583</td>\n",
       "      <td>0.882583</td>\n",
       "      <td>0.882583</td>\n",
       "      <td>0.882583</td>\n",
       "    </tr>\n",
       "    <tr>\n",
       "      <th>macro_avg</th>\n",
       "      <td>0.881946</td>\n",
       "      <td>0.882583</td>\n",
       "      <td>0.881495</td>\n",
       "      <td>1200.000000</td>\n",
       "      <td>0.934769</td>\n",
       "    </tr>\n",
       "    <tr>\n",
       "      <th>weighted_avg</th>\n",
       "      <td>0.881946</td>\n",
       "      <td>0.882583</td>\n",
       "      <td>0.881495</td>\n",
       "      <td>1200.000000</td>\n",
       "      <td>0.934769</td>\n",
       "    </tr>\n",
       "  </tbody>\n",
       "</table>\n",
       "</div>"
      ],
      "text/plain": [
       "              precision    recall  f1-score      support   roc_auc\n",
       "0              0.833200  0.870000  0.851203  1200.000000  0.925324\n",
       "1              0.993168  0.969167  0.981021  1200.000000  0.984213\n",
       "2              0.772727  0.807500  0.789731  1200.000000  0.890556\n",
       "3              0.880452  0.908333  0.894176  1200.000000  0.947315\n",
       "4              0.772370  0.820000  0.795473  1200.000000  0.896574\n",
       "5              0.964942  0.963333  0.964137  1200.000000  0.979722\n",
       "6              0.750501  0.624167  0.681529  1200.000000  0.800556\n",
       "7              0.939217  0.940000  0.939608  1200.000000  0.966620\n",
       "8              0.963756  0.975000  0.969345  1200.000000  0.985463\n",
       "9              0.949124  0.948333  0.948729  1200.000000  0.971343\n",
       "accuracy       0.882583  0.882583  0.882583     0.882583  0.882583\n",
       "macro_avg      0.881946  0.882583  0.881495  1200.000000  0.934769\n",
       "weighted_avg   0.881946  0.882583  0.881495  1200.000000  0.934769"
      ]
     },
     "execution_count": 96,
     "metadata": {},
     "output_type": "execute_result"
    }
   ],
   "source": [
    "rf = RandomForestClassifier(random_state = seed, verbose=1, n_jobs=-1)\n",
    "rf.fit(x_train, y_train)\n",
    "y_pred = rf.predict(x_val)\n",
    "\n",
    "print(\"Accuracy training : {:.3f}\".format(rf.score(x_train, y_train)))\n",
    "print(\"Accuracy val: {:.3f}\".format(rf.score(x_val, y_val)))\n",
    "classif_report(y_val, y_pred)"
   ]
  },
  {
   "cell_type": "markdown",
   "metadata": {},
   "source": [
    "#### Bagging decision trees\n",
    "\n",
    "Alternativa al random forest"
   ]
  },
  {
   "cell_type": "code",
   "execution_count": 98,
   "metadata": {},
   "outputs": [
    {
     "name": "stderr",
     "output_type": "stream",
     "text": [
      "[Parallel(n_jobs=10)]: Using backend LokyBackend with 10 concurrent workers.\n",
      "[Parallel(n_jobs=10)]: Done   2 out of  10 | elapsed:   34.6s remaining:  2.3min\n",
      "[Parallel(n_jobs=10)]: Done  10 out of  10 | elapsed:   35.6s finished\n",
      "[Parallel(n_jobs=10)]: Using backend LokyBackend with 10 concurrent workers.\n",
      "[Parallel(n_jobs=10)]: Done   2 out of  10 | elapsed:    0.1s remaining:    0.8s\n",
      "[Parallel(n_jobs=10)]: Done  10 out of  10 | elapsed:    0.1s finished\n",
      "[Parallel(n_jobs=10)]: Using backend LokyBackend with 10 concurrent workers.\n",
      "[Parallel(n_jobs=10)]: Done   2 out of  10 | elapsed:    1.1s remaining:    4.7s\n",
      "[Parallel(n_jobs=10)]: Done  10 out of  10 | elapsed:    1.3s finished\n"
     ]
    },
    {
     "name": "stdout",
     "output_type": "stream",
     "text": [
      "Accuracy training : 0.994\n"
     ]
    },
    {
     "name": "stderr",
     "output_type": "stream",
     "text": [
      "[Parallel(n_jobs=10)]: Using backend LokyBackend with 10 concurrent workers.\n",
      "[Parallel(n_jobs=10)]: Done   2 out of  10 | elapsed:    0.1s remaining:    0.8s\n",
      "[Parallel(n_jobs=10)]: Done  10 out of  10 | elapsed:    0.1s finished\n"
     ]
    },
    {
     "name": "stdout",
     "output_type": "stream",
     "text": [
      "Accuracy val: 0.858\n"
     ]
    },
    {
     "data": {
      "text/html": [
       "<div>\n",
       "<style scoped>\n",
       "    .dataframe tbody tr th:only-of-type {\n",
       "        vertical-align: middle;\n",
       "    }\n",
       "\n",
       "    .dataframe tbody tr th {\n",
       "        vertical-align: top;\n",
       "    }\n",
       "\n",
       "    .dataframe thead th {\n",
       "        text-align: right;\n",
       "    }\n",
       "</style>\n",
       "<table border=\"1\" class=\"dataframe\">\n",
       "  <thead>\n",
       "    <tr style=\"text-align: right;\">\n",
       "      <th></th>\n",
       "      <th>precision</th>\n",
       "      <th>recall</th>\n",
       "      <th>f1-score</th>\n",
       "      <th>support</th>\n",
       "      <th>roc_auc</th>\n",
       "    </tr>\n",
       "  </thead>\n",
       "  <tbody>\n",
       "    <tr>\n",
       "      <th>0</th>\n",
       "      <td>0.793638</td>\n",
       "      <td>0.852500</td>\n",
       "      <td>0.822017</td>\n",
       "      <td>1200.000000</td>\n",
       "      <td>0.913935</td>\n",
       "    </tr>\n",
       "    <tr>\n",
       "      <th>1</th>\n",
       "      <td>0.977368</td>\n",
       "      <td>0.971667</td>\n",
       "      <td>0.974509</td>\n",
       "      <td>1200.000000</td>\n",
       "      <td>0.984583</td>\n",
       "    </tr>\n",
       "    <tr>\n",
       "      <th>2</th>\n",
       "      <td>0.734148</td>\n",
       "      <td>0.800833</td>\n",
       "      <td>0.766042</td>\n",
       "      <td>1200.000000</td>\n",
       "      <td>0.884306</td>\n",
       "    </tr>\n",
       "    <tr>\n",
       "      <th>3</th>\n",
       "      <td>0.855870</td>\n",
       "      <td>0.880833</td>\n",
       "      <td>0.868172</td>\n",
       "      <td>1200.000000</td>\n",
       "      <td>0.932176</td>\n",
       "    </tr>\n",
       "    <tr>\n",
       "      <th>4</th>\n",
       "      <td>0.755328</td>\n",
       "      <td>0.738333</td>\n",
       "      <td>0.746734</td>\n",
       "      <td>1200.000000</td>\n",
       "      <td>0.855880</td>\n",
       "    </tr>\n",
       "    <tr>\n",
       "      <th>5</th>\n",
       "      <td>0.937811</td>\n",
       "      <td>0.942500</td>\n",
       "      <td>0.940150</td>\n",
       "      <td>1200.000000</td>\n",
       "      <td>0.967778</td>\n",
       "    </tr>\n",
       "    <tr>\n",
       "      <th>6</th>\n",
       "      <td>0.700201</td>\n",
       "      <td>0.580000</td>\n",
       "      <td>0.634458</td>\n",
       "      <td>1200.000000</td>\n",
       "      <td>0.776204</td>\n",
       "    </tr>\n",
       "    <tr>\n",
       "      <th>7</th>\n",
       "      <td>0.911837</td>\n",
       "      <td>0.930833</td>\n",
       "      <td>0.921237</td>\n",
       "      <td>1200.000000</td>\n",
       "      <td>0.960417</td>\n",
       "    </tr>\n",
       "    <tr>\n",
       "      <th>8</th>\n",
       "      <td>0.945724</td>\n",
       "      <td>0.958333</td>\n",
       "      <td>0.951987</td>\n",
       "      <td>1200.000000</td>\n",
       "      <td>0.976111</td>\n",
       "    </tr>\n",
       "    <tr>\n",
       "      <th>9</th>\n",
       "      <td>0.951724</td>\n",
       "      <td>0.920000</td>\n",
       "      <td>0.935593</td>\n",
       "      <td>1200.000000</td>\n",
       "      <td>0.957407</td>\n",
       "    </tr>\n",
       "    <tr>\n",
       "      <th>accuracy</th>\n",
       "      <td>0.857583</td>\n",
       "      <td>0.857583</td>\n",
       "      <td>0.857583</td>\n",
       "      <td>0.857583</td>\n",
       "      <td>0.857583</td>\n",
       "    </tr>\n",
       "    <tr>\n",
       "      <th>macro_avg</th>\n",
       "      <td>0.856365</td>\n",
       "      <td>0.857583</td>\n",
       "      <td>0.856090</td>\n",
       "      <td>1200.000000</td>\n",
       "      <td>0.920880</td>\n",
       "    </tr>\n",
       "    <tr>\n",
       "      <th>weighted_avg</th>\n",
       "      <td>0.856365</td>\n",
       "      <td>0.857583</td>\n",
       "      <td>0.856090</td>\n",
       "      <td>1200.000000</td>\n",
       "      <td>0.920880</td>\n",
       "    </tr>\n",
       "  </tbody>\n",
       "</table>\n",
       "</div>"
      ],
      "text/plain": [
       "              precision    recall  f1-score      support   roc_auc\n",
       "0              0.793638  0.852500  0.822017  1200.000000  0.913935\n",
       "1              0.977368  0.971667  0.974509  1200.000000  0.984583\n",
       "2              0.734148  0.800833  0.766042  1200.000000  0.884306\n",
       "3              0.855870  0.880833  0.868172  1200.000000  0.932176\n",
       "4              0.755328  0.738333  0.746734  1200.000000  0.855880\n",
       "5              0.937811  0.942500  0.940150  1200.000000  0.967778\n",
       "6              0.700201  0.580000  0.634458  1200.000000  0.776204\n",
       "7              0.911837  0.930833  0.921237  1200.000000  0.960417\n",
       "8              0.945724  0.958333  0.951987  1200.000000  0.976111\n",
       "9              0.951724  0.920000  0.935593  1200.000000  0.957407\n",
       "accuracy       0.857583  0.857583  0.857583     0.857583  0.857583\n",
       "macro_avg      0.856365  0.857583  0.856090  1200.000000  0.920880\n",
       "weighted_avg   0.856365  0.857583  0.856090  1200.000000  0.920880"
      ]
     },
     "execution_count": 98,
     "metadata": {},
     "output_type": "execute_result"
    }
   ],
   "source": [
    "dt = DecisionTreeClassifier(random_state=seed)\n",
    "bdt = BaggingClassifier(dt, random_state = seed, verbose=1, n_jobs=-1)\n",
    "\n",
    "bdt.fit(x_train, y_train)\n",
    "y_pred = bdt.predict(x_val)\n",
    "\n",
    "print(\"Accuracy training : {:.3f}\".format(bdt.score(x_train, y_train)))\n",
    "print(\"Accuracy val: {:.3f}\".format(bdt.score(x_val, y_val)))\n",
    "classif_report(y_val, y_pred)"
   ]
  },
  {
   "cell_type": "markdown",
   "metadata": {},
   "source": [
    "### Árbol de decisión"
   ]
  },
  {
   "cell_type": "code",
   "execution_count": 100,
   "metadata": {},
   "outputs": [
    {
     "name": "stdout",
     "output_type": "stream",
     "text": [
      "Accuracy training : 1.000\n",
      "Accuracy val: 0.797\n"
     ]
    },
    {
     "data": {
      "text/html": [
       "<div>\n",
       "<style scoped>\n",
       "    .dataframe tbody tr th:only-of-type {\n",
       "        vertical-align: middle;\n",
       "    }\n",
       "\n",
       "    .dataframe tbody tr th {\n",
       "        vertical-align: top;\n",
       "    }\n",
       "\n",
       "    .dataframe thead th {\n",
       "        text-align: right;\n",
       "    }\n",
       "</style>\n",
       "<table border=\"1\" class=\"dataframe\">\n",
       "  <thead>\n",
       "    <tr style=\"text-align: right;\">\n",
       "      <th></th>\n",
       "      <th>precision</th>\n",
       "      <th>recall</th>\n",
       "      <th>f1-score</th>\n",
       "      <th>support</th>\n",
       "      <th>roc_auc</th>\n",
       "    </tr>\n",
       "  </thead>\n",
       "  <tbody>\n",
       "    <tr>\n",
       "      <th>0</th>\n",
       "      <td>0.741803</td>\n",
       "      <td>0.754167</td>\n",
       "      <td>0.747934</td>\n",
       "      <td>1200.000000</td>\n",
       "      <td>0.862500</td>\n",
       "    </tr>\n",
       "    <tr>\n",
       "      <th>1</th>\n",
       "      <td>0.936222</td>\n",
       "      <td>0.954167</td>\n",
       "      <td>0.945109</td>\n",
       "      <td>1200.000000</td>\n",
       "      <td>0.973472</td>\n",
       "    </tr>\n",
       "    <tr>\n",
       "      <th>2</th>\n",
       "      <td>0.659420</td>\n",
       "      <td>0.682500</td>\n",
       "      <td>0.670762</td>\n",
       "      <td>1200.000000</td>\n",
       "      <td>0.821667</td>\n",
       "    </tr>\n",
       "    <tr>\n",
       "      <th>3</th>\n",
       "      <td>0.825818</td>\n",
       "      <td>0.778333</td>\n",
       "      <td>0.801373</td>\n",
       "      <td>1200.000000</td>\n",
       "      <td>0.880046</td>\n",
       "    </tr>\n",
       "    <tr>\n",
       "      <th>4</th>\n",
       "      <td>0.672370</td>\n",
       "      <td>0.655000</td>\n",
       "      <td>0.663571</td>\n",
       "      <td>1200.000000</td>\n",
       "      <td>0.809769</td>\n",
       "    </tr>\n",
       "    <tr>\n",
       "      <th>5</th>\n",
       "      <td>0.905961</td>\n",
       "      <td>0.899167</td>\n",
       "      <td>0.902551</td>\n",
       "      <td>1200.000000</td>\n",
       "      <td>0.944398</td>\n",
       "    </tr>\n",
       "    <tr>\n",
       "      <th>6</th>\n",
       "      <td>0.547170</td>\n",
       "      <td>0.555833</td>\n",
       "      <td>0.551468</td>\n",
       "      <td>1200.000000</td>\n",
       "      <td>0.752361</td>\n",
       "    </tr>\n",
       "    <tr>\n",
       "      <th>7</th>\n",
       "      <td>0.879368</td>\n",
       "      <td>0.880833</td>\n",
       "      <td>0.880100</td>\n",
       "      <td>1200.000000</td>\n",
       "      <td>0.933704</td>\n",
       "    </tr>\n",
       "    <tr>\n",
       "      <th>8</th>\n",
       "      <td>0.913151</td>\n",
       "      <td>0.920000</td>\n",
       "      <td>0.916563</td>\n",
       "      <td>1200.000000</td>\n",
       "      <td>0.955139</td>\n",
       "    </tr>\n",
       "    <tr>\n",
       "      <th>9</th>\n",
       "      <td>0.897822</td>\n",
       "      <td>0.893333</td>\n",
       "      <td>0.895572</td>\n",
       "      <td>1200.000000</td>\n",
       "      <td>0.941019</td>\n",
       "    </tr>\n",
       "    <tr>\n",
       "      <th>accuracy</th>\n",
       "      <td>0.797333</td>\n",
       "      <td>0.797333</td>\n",
       "      <td>0.797333</td>\n",
       "      <td>0.797333</td>\n",
       "      <td>0.797333</td>\n",
       "    </tr>\n",
       "    <tr>\n",
       "      <th>macro_avg</th>\n",
       "      <td>0.797911</td>\n",
       "      <td>0.797333</td>\n",
       "      <td>0.797500</td>\n",
       "      <td>1200.000000</td>\n",
       "      <td>0.887407</td>\n",
       "    </tr>\n",
       "    <tr>\n",
       "      <th>weighted_avg</th>\n",
       "      <td>0.797911</td>\n",
       "      <td>0.797333</td>\n",
       "      <td>0.797500</td>\n",
       "      <td>1200.000000</td>\n",
       "      <td>0.887407</td>\n",
       "    </tr>\n",
       "  </tbody>\n",
       "</table>\n",
       "</div>"
      ],
      "text/plain": [
       "              precision    recall  f1-score      support   roc_auc\n",
       "0              0.741803  0.754167  0.747934  1200.000000  0.862500\n",
       "1              0.936222  0.954167  0.945109  1200.000000  0.973472\n",
       "2              0.659420  0.682500  0.670762  1200.000000  0.821667\n",
       "3              0.825818  0.778333  0.801373  1200.000000  0.880046\n",
       "4              0.672370  0.655000  0.663571  1200.000000  0.809769\n",
       "5              0.905961  0.899167  0.902551  1200.000000  0.944398\n",
       "6              0.547170  0.555833  0.551468  1200.000000  0.752361\n",
       "7              0.879368  0.880833  0.880100  1200.000000  0.933704\n",
       "8              0.913151  0.920000  0.916563  1200.000000  0.955139\n",
       "9              0.897822  0.893333  0.895572  1200.000000  0.941019\n",
       "accuracy       0.797333  0.797333  0.797333     0.797333  0.797333\n",
       "macro_avg      0.797911  0.797333  0.797500  1200.000000  0.887407\n",
       "weighted_avg   0.797911  0.797333  0.797500  1200.000000  0.887407"
      ]
     },
     "execution_count": 100,
     "metadata": {},
     "output_type": "execute_result"
    }
   ],
   "source": [
    "ad = DecisionTreeClassifier(random_state = seed)\n",
    "ad.fit(x_train, y_train)\n",
    "y_pred = ad.predict(x_val)\n",
    "\n",
    "print(\"Accuracy training : {:.3f}\".format(ad.score(x_train, y_train)))\n",
    "print(\"Accuracy val: {:.3f}\".format(ad.score(x_val, y_val)))\n",
    "classif_report(y_val, y_pred)"
   ]
  },
  {
   "cell_type": "markdown",
   "metadata": {},
   "source": [
    "### Naive Bayes"
   ]
  },
  {
   "cell_type": "code",
   "execution_count": 103,
   "metadata": {},
   "outputs": [
    {
     "name": "stdout",
     "output_type": "stream",
     "text": [
      "Accuracy training : 0.666\n",
      "Accuracy val: 0.668\n"
     ]
    },
    {
     "data": {
      "text/html": [
       "<div>\n",
       "<style scoped>\n",
       "    .dataframe tbody tr th:only-of-type {\n",
       "        vertical-align: middle;\n",
       "    }\n",
       "\n",
       "    .dataframe tbody tr th {\n",
       "        vertical-align: top;\n",
       "    }\n",
       "\n",
       "    .dataframe thead th {\n",
       "        text-align: right;\n",
       "    }\n",
       "</style>\n",
       "<table border=\"1\" class=\"dataframe\">\n",
       "  <thead>\n",
       "    <tr style=\"text-align: right;\">\n",
       "      <th></th>\n",
       "      <th>precision</th>\n",
       "      <th>recall</th>\n",
       "      <th>f1-score</th>\n",
       "      <th>support</th>\n",
       "      <th>roc_auc</th>\n",
       "    </tr>\n",
       "  </thead>\n",
       "  <tbody>\n",
       "    <tr>\n",
       "      <th>0</th>\n",
       "      <td>0.748617</td>\n",
       "      <td>0.789167</td>\n",
       "      <td>0.768357</td>\n",
       "      <td>1200.000000</td>\n",
       "      <td>0.879861</td>\n",
       "    </tr>\n",
       "    <tr>\n",
       "      <th>1</th>\n",
       "      <td>0.984404</td>\n",
       "      <td>0.894167</td>\n",
       "      <td>0.937118</td>\n",
       "      <td>1200.000000</td>\n",
       "      <td>0.946296</td>\n",
       "    </tr>\n",
       "    <tr>\n",
       "      <th>2</th>\n",
       "      <td>0.624021</td>\n",
       "      <td>0.597500</td>\n",
       "      <td>0.610473</td>\n",
       "      <td>1200.000000</td>\n",
       "      <td>0.778750</td>\n",
       "    </tr>\n",
       "    <tr>\n",
       "      <th>3</th>\n",
       "      <td>0.665416</td>\n",
       "      <td>0.886667</td>\n",
       "      <td>0.760272</td>\n",
       "      <td>1200.000000</td>\n",
       "      <td>0.918565</td>\n",
       "    </tr>\n",
       "    <tr>\n",
       "      <th>4</th>\n",
       "      <td>0.460134</td>\n",
       "      <td>0.630000</td>\n",
       "      <td>0.531833</td>\n",
       "      <td>1200.000000</td>\n",
       "      <td>0.773935</td>\n",
       "    </tr>\n",
       "    <tr>\n",
       "      <th>5</th>\n",
       "      <td>0.691176</td>\n",
       "      <td>0.156667</td>\n",
       "      <td>0.255435</td>\n",
       "      <td>1200.000000</td>\n",
       "      <td>0.574444</td>\n",
       "    </tr>\n",
       "    <tr>\n",
       "      <th>6</th>\n",
       "      <td>0.322414</td>\n",
       "      <td>0.155833</td>\n",
       "      <td>0.210112</td>\n",
       "      <td>1200.000000</td>\n",
       "      <td>0.559722</td>\n",
       "    </tr>\n",
       "    <tr>\n",
       "      <th>7</th>\n",
       "      <td>0.595329</td>\n",
       "      <td>0.913333</td>\n",
       "      <td>0.720816</td>\n",
       "      <td>1200.000000</td>\n",
       "      <td>0.922176</td>\n",
       "    </tr>\n",
       "    <tr>\n",
       "      <th>8</th>\n",
       "      <td>0.887198</td>\n",
       "      <td>0.825833</td>\n",
       "      <td>0.855416</td>\n",
       "      <td>1200.000000</td>\n",
       "      <td>0.907083</td>\n",
       "    </tr>\n",
       "    <tr>\n",
       "      <th>9</th>\n",
       "      <td>0.686981</td>\n",
       "      <td>0.826667</td>\n",
       "      <td>0.750378</td>\n",
       "      <td>1200.000000</td>\n",
       "      <td>0.892407</td>\n",
       "    </tr>\n",
       "    <tr>\n",
       "      <th>accuracy</th>\n",
       "      <td>0.667583</td>\n",
       "      <td>0.667583</td>\n",
       "      <td>0.667583</td>\n",
       "      <td>0.667583</td>\n",
       "      <td>0.667583</td>\n",
       "    </tr>\n",
       "    <tr>\n",
       "      <th>macro_avg</th>\n",
       "      <td>0.666569</td>\n",
       "      <td>0.667583</td>\n",
       "      <td>0.640021</td>\n",
       "      <td>1200.000000</td>\n",
       "      <td>0.815324</td>\n",
       "    </tr>\n",
       "    <tr>\n",
       "      <th>weighted_avg</th>\n",
       "      <td>0.666569</td>\n",
       "      <td>0.667583</td>\n",
       "      <td>0.640021</td>\n",
       "      <td>1200.000000</td>\n",
       "      <td>0.815324</td>\n",
       "    </tr>\n",
       "  </tbody>\n",
       "</table>\n",
       "</div>"
      ],
      "text/plain": [
       "              precision    recall  f1-score      support   roc_auc\n",
       "0              0.748617  0.789167  0.768357  1200.000000  0.879861\n",
       "1              0.984404  0.894167  0.937118  1200.000000  0.946296\n",
       "2              0.624021  0.597500  0.610473  1200.000000  0.778750\n",
       "3              0.665416  0.886667  0.760272  1200.000000  0.918565\n",
       "4              0.460134  0.630000  0.531833  1200.000000  0.773935\n",
       "5              0.691176  0.156667  0.255435  1200.000000  0.574444\n",
       "6              0.322414  0.155833  0.210112  1200.000000  0.559722\n",
       "7              0.595329  0.913333  0.720816  1200.000000  0.922176\n",
       "8              0.887198  0.825833  0.855416  1200.000000  0.907083\n",
       "9              0.686981  0.826667  0.750378  1200.000000  0.892407\n",
       "accuracy       0.667583  0.667583  0.667583     0.667583  0.667583\n",
       "macro_avg      0.666569  0.667583  0.640021  1200.000000  0.815324\n",
       "weighted_avg   0.666569  0.667583  0.640021  1200.000000  0.815324"
      ]
     },
     "execution_count": 103,
     "metadata": {},
     "output_type": "execute_result"
    }
   ],
   "source": [
    "nb = MultinomialNB(alpha=1.0) #alpha = 1.0 es el default \n",
    "nb.fit(x_train, y_train)\n",
    "\n",
    "y_pred = nb.predict(x_val)\n",
    "print(\"Accuracy training : {:.3f}\".format(nb.score(x_train, y_train)))\n",
    "print(\"Accuracy val: {:.3f}\".format(nb.score(x_val, y_val)))\n",
    "classif_report(y_val, y_pred)"
   ]
  },
  {
   "cell_type": "markdown",
   "metadata": {},
   "source": [
    "## Métricas relevantes para el problema en el conjunto de validación"
   ]
  },
  {
   "cell_type": "markdown",
   "metadata": {},
   "source": [
    "### Métricas"
   ]
  },
  {
   "cell_type": "markdown",
   "metadata": {},
   "source": [
    "### Justificación"
   ]
  },
  {
   "cell_type": "markdown",
   "metadata": {},
   "source": [
    "## Exploración de modelo Random Forest"
   ]
  },
  {
   "cell_type": "code",
   "execution_count": 7,
   "metadata": {},
   "outputs": [
    {
     "data": {
      "text/plain": [
       "range(100, 500, 50)"
      ]
     },
     "execution_count": 7,
     "metadata": {},
     "output_type": "execute_result"
    }
   ],
   "source": []
  },
  {
   "cell_type": "code",
   "execution_count": null,
   "metadata": {},
   "outputs": [],
   "source": [
    "img_folder= \"./img\"\n",
    "                \n",
    "from pathlib import Path\n",
    "Path(img_folder).mkdir(parents=True, exist_ok=True)\n",
    "\n",
    "result_folder= \"./results\"\n",
    "                \n",
    "from pathlib import Path\n",
    "Path(result_folder).mkdir(parents=True, exist_ok=True)\n",
    "\n",
    "def ensemble_exploring(xtrain, ytrain, xval, yval, model=\"random forest\", \n",
    "                params={'n_estimators': None,\n",
    "                               'max_depth': None},\n",
    "                results_folder=True):\n",
    "    for key,values in params.items():\n",
    "        if model==\"random forest\":\n",
    "            print(f\"Exploring {model} classifier\")\n",
    "            start = time.time()\n",
    "            clf = RandomForestClassifier(random_state=42)\n",
    "        elif model == \"gradient boosting\": \n",
    "            print(f\"Exploring {model} classifier\")\n",
    "            start = time.time()\n",
    "            clf = GradientBoostingClassifier(random_state=42)\n",
    "        else: \n",
    "            print(\"Model must be 'gradient boosting' or 'random forest'\")\n",
    "            break\n",
    "        scores = []\n",
    "        max_n_est = None\n",
    "        for v in values:  \n",
    "            if max_n_est: \n",
    "                p = {key:v, \"n_estimators\":max_n_est}\n",
    "            else:\n",
    "                p = {key:v}\n",
    "            clf.set_params(**p)\n",
    "            clf.fit(x_train, y_train)\n",
    "            stop = time.time()\n",
    "            y_pred = clf.predict(x_val)\n",
    "            result_dict = {key:v, 'training_acc':clf.score(xtrain, ytrain), 'test_acc':clf.score(xval, yval), 'time':stop-start}\n",
    "            scores.append(result_dict)\n",
    "        path = f\"{result_folder}/results_{model}_parm_{key}\"\n",
    "        results = pd.DataFrame(scores).set_index(key)\n",
    "        if key == \"n_estimators\":\n",
    "            max_n_est = results[key].idmax()\n",
    "            \n"
   ]
  },
  {
   "cell_type": "code",
   "execution_count": 42,
   "metadata": {},
   "outputs": [],
   "source": [
    "\n",
    "for i in range(50, 501, 50):   ## modificar el range si se quiere probar otra combinación de hiperparámetros\n",
    "   if i == 0:\n",
    "      n_estimators = i + 1\n",
    "   else:\n",
    "      n_estimators = i\n",
    "\n",
    "   start = time.time()\n",
    "\n",
    "   rf = RandomForestClassifier(random_state=42, n_estimators = n_estimators)\n",
    "   rf.fit(x_train, y_train)\n",
    "\n",
    "   stop = time.time()\n",
    "   \n",
    "   y_pred = rf.predict(x_val)\n",
    "\n",
    "   dict_rf = {'n_estimators':n_estimators, 'training_acc':rf.score(x_train, y_train), 'test_acc':rf.score(x_val, y_val), 'time':stop-start}\n",
    "\n",
    "   scores_rf.append(dict_rf)\n"
   ]
  },
  {
   "cell_type": "markdown",
   "metadata": {},
   "source": [
    "Grafico las distintas métricas para cada valor de n_estimators"
   ]
  },
  {
   "cell_type": "code",
   "execution_count": 44,
   "metadata": {},
   "outputs": [],
   "source": [
    "scores_rf_df = pd.DataFrame(scores_rf)\n",
    "\n",
    "fig, axs = plt.subplots(1, 3, figsize=(18,3))\n",
    "axs[0].plot(scores_rf_df.n_estimators, scores_rf_df.training_acc)\n",
    "axs[0].set_title(\"Training Accuracy\")\n",
    "axs[0].set_xlabel('nº estimators')\n",
    "axs[1].plot(scores_rf_df.n_estimators, scores_rf_df.test_acc)\n",
    "axs[1].set_title(\"Test Accuracy\")\n",
    "axs[1].set_xlabel('nº estimators')\n",
    "axs[2].plot(scores_rf_df.n_estimators, scores_rf_df.time)\n",
    "axs[2].set_title(\"Time (en segundos)\")\n",
    "axs[2].set_xlabel('nº estimators')\n",
    "fig.tight_layout()"
   ]
  },
  {
   "cell_type": "code",
   "execution_count": 69,
   "metadata": {},
   "outputs": [
    {
     "data": {
      "image/png": "[encoded data removed]",
      "text/plain": [
       "<Figure size 432x288 with 2 Axes>"
      ]
     },
     "metadata": {
      "needs_background": "light"
     },
     "output_type": "display_data"
    }
   ],
   "source": [
    "fig, ax1 = plt.subplots()\n",
    "\n",
    "ax2 = ax1.twinx()\n",
    "ax1.plot(scores_rf_df.n_estimators, scores_rf_df.training_acc, 'b-', label = 'training accuracy')\n",
    "ax1.plot(scores_rf_df.n_estimators, scores_rf_df.test_acc, 'r-', label = 'test accuracy')\n",
    "ax2.plot(scores_rf_df.n_estimators, scores_rf_df.time, 'g--', label = 'time spent')\n",
    "\n",
    "ax1.set_xlabel('nº estimators')\n",
    "ax1.set_ylabel('accuracy')\n",
    "ax2.set_ylabel('time spent', color='g')\n",
    "ax1.legend(loc=\"best\")\n",
    "ax2.legend(loc=\"lower left\")\n",
    "\n",
    "plt.show()"
   ]
  },
  {
   "cell_type": "code",
   "execution_count": 76,
   "metadata": {},
   "outputs": [
    {
     "data": {
      "text/plain": [
       "n_estimators    450.000000\n",
       "training_acc      1.000000\n",
       "test_acc          0.885750\n",
       "time            323.463038\n",
       "Name: 9, dtype: float64"
      ]
     },
     "execution_count": 76,
     "metadata": {},
     "output_type": "execute_result"
    }
   ],
   "source": [
    "scores_rf_df.iloc[scores_rf_df.test_acc.argmax()]"
   ]
  },
  {
   "cell_type": "markdown",
   "metadata": {},
   "source": [
    "Fijando `n_estimators` $= 100$ (dado que no se modifica mucho el score) se analiza variando `max_depth`"
   ]
  },
  {
   "cell_type": "code",
   "execution_count": 108,
   "metadata": {},
   "outputs": [
    {
     "name": "stderr",
     "output_type": "stream",
     "text": [
      "100%|██████████████████████████████████████████████████████████████████████████████████| 20/20 [17:18<00:00, 51.92s/it]\n"
     ]
    }
   ],
   "source": [
    "scores_rf = []\n",
    "\n",
    "for depth in tqdm(range(5, 101, 5)):   ## modificar el range si se quiere probar otra combinación de hiperparámetros\n",
    "   \n",
    "   start = time.time()\n",
    "\n",
    "   rf = RandomForestClassifier(random_state=42, n_estimators = 450, max_depth=depth, n_jobs=-1)\n",
    "   rf.fit(x_train, y_train)\n",
    "\n",
    "   stop = time.time()\n",
    "   \n",
    "   y_pred = rf.predict(x_val)\n",
    "\n",
    "   dict_rf = {'max_depth':depth, 'training_acc':rf.score(x_train, y_train), 'test_acc':rf.score(x_val, y_val), 'time':stop-start}\n",
    "\n",
    "   scores_rf.append(dict_rf)"
   ]
  },
  {
   "cell_type": "code",
   "execution_count": 109,
   "metadata": {},
   "outputs": [
    {
     "data": {
      "image/png": "[encoded data removed]",
      "text/plain": [
       "<Figure size 432x288 with 2 Axes>"
      ]
     },
     "metadata": {
      "needs_background": "light"
     },
     "output_type": "display_data"
    }
   ],
   "source": [
    "scores_rf_df = pd.DataFrame(scores_rf)[['max_depth','training_acc','test_acc','time']]\n",
    "\n",
    "fig, ax1 = plt.subplots()\n",
    "\n",
    "ax2 = ax1.twinx()\n",
    "ax1.plot(scores_rf_df.max_depth, scores_rf_df.training_acc, 'b-', label = 'training accuracy')\n",
    "ax1.plot(scores_rf_df.max_depth, scores_rf_df.test_acc, 'r-', label = 'test accuracy')\n",
    "ax2.plot(scores_rf_df.max_depth, scores_rf_df.time, 'g--', label = 'time spent')\n",
    "\n",
    "ax1.set_xlabel('max_depth')\n",
    "ax1.set_ylabel('accuracy')\n",
    "ax2.set_ylabel('time spent', color='g')\n",
    "ax1.legend(loc=\"best\")\n",
    "ax2.legend(loc=\"lower left\")\n",
    "\n",
    "plt.show()"
   ]
  },
  {
   "cell_type": "markdown",
   "metadata": {},
   "source": [
    "## Exploración de modelo Gradient Boosting Machine"
   ]
  },
  {
   "cell_type": "code",
   "execution_count": null,
   "metadata": {},
   "outputs": [
    {
     "name": "stderr",
     "output_type": "stream",
     "text": [
      "  0%|                                                                                           | 0/10 [00:00<?, ?it/s]"
     ]
    }
   ],
   "source": [
    "scores_gbc = []\n",
    "\n",
    "for n in tqdm(range(50, 501, 50)):   ## modificar el range si se quiere probar otra combinación de hiperparámetros\n",
    "   start = time.time()\n",
    "\n",
    "   gbc = GradientBoostingClassifier(random_state = seed)\n",
    "   gbc.fit(x_train, y_train)\n",
    "\n",
    "   stop = time.time()\n",
    "   \n",
    "   y_pred = gbc.predict(x_val)\n",
    "\n",
    "   dict_gbc = {'n_estimators':n, 'training_acc':gbc.score(x_train, y_train), 'test_acc':gbc.score(x_val, y_val), 'time':stop-start}\n",
    "\n",
    "   scores_gbc.append(dict_gbc)\n",
    "\n",
    "scores_gbc_df = pd.DataFrame(scores_gbc)[['n_estimators','training_acc','test_acc','time']]\n",
    "\n",
    "fig, ax1 = plt.subplots()\n",
    "\n",
    "ax2 = ax1.twinx()\n",
    "ax1.plot(scores_gbc_df.n_estimators, scores_gbc_df.training_acc, 'b-', label = 'training accuracy')\n",
    "ax1.plot(scores_gbc_df.n_estimators, scores_gbc_df.test_acc, 'r-', label = 'test accuracy')\n",
    "ax2.plot(scores_gbc_df.n_estimators, scores_gbc_df.time, 'g--', label = 'time spent')\n",
    "\n",
    "ax1.set_xlabel('max_depth')\n",
    "ax1.set_ylabel('accuracy')\n",
    "ax2.set_ylabel('time spent', color='g')\n",
    "ax1.legend(loc=\"best\")\n",
    "ax2.legend(loc=\"lower left\")\n",
    "\n",
    "plt.show()"
   ]
  },
  {
   "cell_type": "markdown",
   "metadata": {},
   "source": [
    "## Análisis de mejores modelos obtenidos de Random Forest y Gradient Boosting Machine"
   ]
  },
  {
   "cell_type": "markdown",
   "metadata": {},
   "source": [
    "### Evaluación con conjunto de test"
   ]
  },
  {
   "cell_type": "code",
   "execution_count": null,
   "metadata": {},
   "outputs": [],
   "source": []
  },
  {
   "cell_type": "markdown",
   "metadata": {},
   "source": [
    "### Análisis de resultados en base a métricas elegidas"
   ]
  },
  {
   "cell_type": "markdown",
   "metadata": {},
   "source": [
    "#### Análisis de métricas"
   ]
  },
  {
   "cell_type": "code",
   "execution_count": null,
   "metadata": {},
   "outputs": [],
   "source": []
  },
  {
   "cell_type": "markdown",
   "metadata": {},
   "source": [
    "### Conclusión sobre mejor modelo"
   ]
  },
  {
   "cell_type": "code",
   "execution_count": null,
   "metadata": {},
   "outputs": [],
   "source": []
  },
  {
   "cell_type": "markdown",
   "metadata": {},
   "source": [
    "### Matriz de confusión de mejor modelo"
   ]
  },
  {
   "cell_type": "code",
   "execution_count": null,
   "metadata": {},
   "outputs": [],
   "source": []
  },
  {
   "cell_type": "markdown",
   "metadata": {},
   "source": [
    "## Estabilidad del modelo frente al ruido"
   ]
  },
  {
   "cell_type": "code",
   "execution_count": null,
   "metadata": {},
   "outputs": [],
   "source": []
  }
 ],
 "metadata": {
  "interpreter": {
   "hash": "112989f40982219f9c2133127490be09f86560db102a13a350eb86b01002b443"
  },
  "kernelspec": {
   "display_name": "Python 3 (ipykernel)",
   "language": "python",
   "name": "python3"
  },
  "language_info": {
   "codemirror_mode": {
    "name": "ipython",
    "version": 3
   },
   "file_extension": ".py",
   "mimetype": "text/x-python",
   "name": "python",
   "nbconvert_exporter": "python",
   "pygments_lexer": "ipython3",
   "version": "3.10.4"
  }
 },
 "nbformat": 4,
 "nbformat_minor": 4
}
