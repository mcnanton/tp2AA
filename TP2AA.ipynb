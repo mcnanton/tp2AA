{
 "cells": [
  {
   "cell_type": "markdown",
   "metadata": {},
   "source": [
    "# TP2: Modelado sobre dataset Fashion MNIST"
   ]
  },
  {
   "cell_type": "markdown",
   "metadata": {
    "jp-MarkdownHeadingCollapsed": true,
    "tags": []
   },
   "source": [
    "## Librerías"
   ]
  },
  {
   "cell_type": "markdown",
   "metadata": {},
   "source": [
    "Fuente: https://pjreddie.com/projects/mnist-in-csv/"
   ]
  },
  {
   "cell_type": "code",
   "execution_count": 1,
   "metadata": {},
   "outputs": [],
   "source": [
    "import pandas as pd\n",
    "import os\n",
    "import gzip\n",
    "import numpy as np\n",
    "import time\n",
    "from datetime import datetime\n",
    "from tqdm import tqdm\n",
    "import matplotlib.pyplot as plt\n",
    "import seaborn as sns\n",
    "import requests\n",
    "import glob\n",
    "import re\n",
    "\n",
    "from sklearn.ensemble import BaggingClassifier\n",
    "from sklearn.neighbors import KNeighborsClassifier\n",
    "from sklearn.ensemble import RandomForestClassifier\n",
    "from sklearn.ensemble import AdaBoostClassifier\n",
    "from sklearn.ensemble import GradientBoostingClassifier\n",
    "from sklearn.tree import DecisionTreeClassifier\n",
    "from sklearn.model_selection import RandomizedSearchCV, GridSearchCV\n",
    "from sklearn.naive_bayes import MultinomialNB\n",
    "from sklearn.metrics import confusion_matrix, classification_report\n",
    "from sklearn.metrics import roc_auc_score\n",
    "from PIL import Image, ImageOps\n",
    "from itertools import product\n",
    "from random import sample\n",
    "import pickle"
   ]
  },
  {
   "cell_type": "markdown",
   "metadata": {},
   "source": [
    "Correr una sola vez para descargar toda la data luego mutear todo el chunk. "
   ]
  },
  {
   "cell_type": "code",
   "execution_count": 2,
   "metadata": {},
   "outputs": [],
   "source": [
    "# def download_gz_from_url(url, output_folder): \n",
    "#     file_name = url.split(\"/\")[-1]\n",
    "#     r = requests.get(url, stream=True)\n",
    "#     with open(output_folder+\"/\"+file_name, 'wb') as f:\n",
    "#         for chunk in r.raw.stream(1024, decode_content=False):\n",
    "#             if chunk:\n",
    "#                 f.write(chunk)\n",
    "\n",
    "# output_folder= \"./data\"\n",
    "                \n",
    "# from pathlib import Path\n",
    "# Path(output_folder).mkdir(parents=True, exist_ok=True)\n",
    "                \n",
    "# urls = [\"http://fashion-mnist.s3-website.eu-central-1.amazonaws.com/train-images-idx3-ubyte.gz\", #x_train\n",
    "#         \"http://fashion-mnist.s3-website.eu-central-1.amazonaws.com/train-labels-idx1-ubyte.gz\", #y_train\n",
    "#         \"http://fashion-mnist.s3-website.eu-central-1.amazonaws.com/t10k-images-idx3-ubyte.gz\", #x_test\n",
    "#         \"http://fashion-mnist.s3-website.eu-central-1.amazonaws.com/t10k-labels-idx1-ubyte.gz\" #y_test\n",
    "#        ]\n",
    "                \n",
    "# for url in tqdm(urls):\n",
    "#     download_gz_from_url(url,output_folder)"
   ]
  },
  {
   "cell_type": "markdown",
   "metadata": {
    "tags": []
   },
   "source": [
    "## Carga de Datos"
   ]
  },
  {
   "cell_type": "code",
   "execution_count": 3,
   "metadata": {},
   "outputs": [],
   "source": [
    "import mnist_fashion_reader as mnist\n",
    "\n",
    "X_train, y_train = mnist.load_mnist('data/', kind='train') #devuelve amigables objetos de Pandas\n",
    "X_test, y_test = mnist.load_mnist('data/', kind='t10k') #devuevle amigables objetos de Pandas"
   ]
  },
  {
   "cell_type": "markdown",
   "metadata": {
    "tags": []
   },
   "source": [
    "## Punto 1: Exploración del dataset"
   ]
  },
  {
   "cell_type": "markdown",
   "metadata": {},
   "source": [
    "Realizar una breve descripción del dataset. \n",
    "\n",
    "* ¿Qué cantidad de datos tiene este conjunto?\n",
    "\n",
    "* ¿Cuántos atributos? \n",
    "\n",
    "* ¿Qué rangos de valores toman los atributos?\n",
    "\n",
    "* ¿Qué cantidad de clases hay para clasificar?\n",
    "\n",
    "* ¿Están balanceadas?\n",
    "\n",
    "* Realizar un gráfico donde se muestran ejemplos de las clases (Puede ir a un anexo)."
   ]
  },
  {
   "cell_type": "markdown",
   "metadata": {},
   "source": [
    "### Cantidad de datos del conjunto"
   ]
  },
  {
   "cell_type": "code",
   "execution_count": 4,
   "metadata": {},
   "outputs": [],
   "source": [
    "df_entrenamiento = pd.concat([X_train.reset_index(drop=True), y_train], axis=1)\n",
    "df_test = pd.concat([X_test.reset_index(drop=True), y_test], axis=1)\n",
    "df_completo = pd.concat([df_entrenamiento, df_test])"
   ]
  },
  {
   "cell_type": "code",
   "execution_count": 5,
   "metadata": {},
   "outputs": [
    {
     "name": "stdout",
     "output_type": "stream",
     "text": [
      "Entrenamiento: (60000, 785)   +   Test: (10000, 785)   -->   Completo: (70000, 785)\n"
     ]
    }
   ],
   "source": [
    "print('Entrenamiento:', df_entrenamiento.shape,'  +  ' ,'Test:', df_test.shape, '  -->  ' , 'Completo:', df_completo.shape)"
   ]
  },
  {
   "cell_type": "code",
   "execution_count": 6,
   "metadata": {},
   "outputs": [
    {
     "name": "stdout",
     "output_type": "stream",
     "text": [
      "El dataset completo posee 70000 registros. Cada registro corresponde a una imagen del dataset.\n"
     ]
    }
   ],
   "source": [
    "print(f\"El dataset completo posee {len(df_completo)} registros. Cada registro corresponde a una imagen del dataset.\")"
   ]
  },
  {
   "cell_type": "markdown",
   "metadata": {},
   "source": [
    "### Atributos"
   ]
  },
  {
   "cell_type": "markdown",
   "metadata": {},
   "source": [
    "#### Cantidad de atributos"
   ]
  },
  {
   "cell_type": "code",
   "execution_count": 7,
   "metadata": {},
   "outputs": [
    {
     "name": "stdout",
     "output_type": "stream",
     "text": [
      "Cada atributo representa el valor de cada uno de los pixeles de cada imagen. Dado que cada imagen tiene un formato de 28 x 28 pixeles en escala de grises, el dataset posee 784 atributos por registro, correspondientes al valor en escala de gris de cada pixel que compone la imagen\n",
      "+ UN (1) atributo con valores de 0 a 9 correspondiente a las clases a clasificar\n"
     ]
    }
   ],
   "source": [
    "print(f\"Cada atributo representa el valor de cada uno de los pixeles de cada imagen. Dado que cada imagen tiene un formato de 28 x 28 pixeles en escala de grises, el dataset posee {len(df_completo.columns)-1} atributos por registro, correspondientes al valor en escala de gris de cada pixel que compone la imagen\")\n",
    "\n",
    "print(\"+ UN (1) atributo con valores de 0 a 9 correspondiente a las clases a clasificar\" )"
   ]
  },
  {
   "cell_type": "code",
   "execution_count": 8,
   "metadata": {},
   "outputs": [
    {
     "data": {
      "text/plain": [
       "784"
      ]
     },
     "execution_count": 8,
     "metadata": {},
     "output_type": "execute_result"
    }
   ],
   "source": [
    "28*28"
   ]
  },
  {
   "cell_type": "markdown",
   "metadata": {},
   "source": [
    "#### Rangos de valores"
   ]
  },
  {
   "cell_type": "code",
   "execution_count": 9,
   "metadata": {},
   "outputs": [],
   "source": [
    "max_val = df_completo.max().max()\n",
    "min_val = df_completo.min().min()"
   ]
  },
  {
   "cell_type": "code",
   "execution_count": 10,
   "metadata": {},
   "outputs": [
    {
     "name": "stdout",
     "output_type": "stream",
     "text": [
      "El valor mínimo de los atributos es 0 , y el máximo es 255. Cada valor es un integer entre 0 y 255\n"
     ]
    }
   ],
   "source": [
    "print(f\"El valor mínimo de los atributos es {min_val} , y el máximo es {max_val}. Cada valor es un integer entre {min_val} y {max_val}\")"
   ]
  },
  {
   "cell_type": "markdown",
   "metadata": {},
   "source": [
    "#### Clases a clasificar"
   ]
  },
  {
   "cell_type": "code",
   "execution_count": 11,
   "metadata": {},
   "outputs": [
    {
     "data": {
      "text/plain": [
       "array([0, 1, 2, 3, 4, 5, 6, 7, 8, 9], dtype=uint8)"
      ]
     },
     "execution_count": 11,
     "metadata": {},
     "output_type": "execute_result"
    }
   ],
   "source": [
    "clases = np.sort(df_completo[0].unique())\n",
    "\n",
    "clases"
   ]
  },
  {
   "cell_type": "code",
   "execution_count": 12,
   "metadata": {},
   "outputs": [
    {
     "name": "stdout",
     "output_type": "stream",
     "text": [
      "El dataset está compuesto por 10 clases\n"
     ]
    }
   ],
   "source": [
    "print(f\"El dataset está compuesto por {len(clases)} clases\")"
   ]
  },
  {
   "cell_type": "markdown",
   "metadata": {},
   "source": [
    "##### N de clases"
   ]
  },
  {
   "cell_type": "code",
   "execution_count": 13,
   "metadata": {},
   "outputs": [
    {
     "name": "stdout",
     "output_type": "stream",
     "text": [
      "Las clases son: [0 1 2 3 4 5 6 7 8 9]\n"
     ]
    }
   ],
   "source": [
    "print(f\"Las clases son: {clases}\")"
   ]
  },
  {
   "cell_type": "markdown",
   "metadata": {},
   "source": [
    "##### Balanceo de clases"
   ]
  },
  {
   "cell_type": "code",
   "execution_count": 14,
   "metadata": {},
   "outputs": [
    {
     "data": {
      "text/html": [
       "<div>\n",
       "<style scoped>\n",
       "    .dataframe tbody tr th:only-of-type {\n",
       "        vertical-align: middle;\n",
       "    }\n",
       "\n",
       "    .dataframe tbody tr th {\n",
       "        vertical-align: top;\n",
       "    }\n",
       "\n",
       "    .dataframe thead th {\n",
       "        text-align: right;\n",
       "    }\n",
       "</style>\n",
       "<table border=\"1\" class=\"dataframe\">\n",
       "  <thead>\n",
       "    <tr style=\"text-align: right;\">\n",
       "      <th></th>\n",
       "      <th>Cant</th>\n",
       "      <th>%</th>\n",
       "    </tr>\n",
       "  </thead>\n",
       "  <tbody>\n",
       "    <tr>\n",
       "      <th>0</th>\n",
       "      <td>7000</td>\n",
       "      <td>10.0</td>\n",
       "    </tr>\n",
       "    <tr>\n",
       "      <th>1</th>\n",
       "      <td>7000</td>\n",
       "      <td>10.0</td>\n",
       "    </tr>\n",
       "    <tr>\n",
       "      <th>2</th>\n",
       "      <td>7000</td>\n",
       "      <td>10.0</td>\n",
       "    </tr>\n",
       "    <tr>\n",
       "      <th>3</th>\n",
       "      <td>7000</td>\n",
       "      <td>10.0</td>\n",
       "    </tr>\n",
       "    <tr>\n",
       "      <th>4</th>\n",
       "      <td>7000</td>\n",
       "      <td>10.0</td>\n",
       "    </tr>\n",
       "    <tr>\n",
       "      <th>5</th>\n",
       "      <td>7000</td>\n",
       "      <td>10.0</td>\n",
       "    </tr>\n",
       "    <tr>\n",
       "      <th>6</th>\n",
       "      <td>7000</td>\n",
       "      <td>10.0</td>\n",
       "    </tr>\n",
       "    <tr>\n",
       "      <th>7</th>\n",
       "      <td>7000</td>\n",
       "      <td>10.0</td>\n",
       "    </tr>\n",
       "    <tr>\n",
       "      <th>8</th>\n",
       "      <td>7000</td>\n",
       "      <td>10.0</td>\n",
       "    </tr>\n",
       "    <tr>\n",
       "      <th>9</th>\n",
       "      <td>7000</td>\n",
       "      <td>10.0</td>\n",
       "    </tr>\n",
       "  </tbody>\n",
       "</table>\n",
       "</div>"
      ],
      "text/plain": [
       "   Cant     %\n",
       "0  7000  10.0\n",
       "1  7000  10.0\n",
       "2  7000  10.0\n",
       "3  7000  10.0\n",
       "4  7000  10.0\n",
       "5  7000  10.0\n",
       "6  7000  10.0\n",
       "7  7000  10.0\n",
       "8  7000  10.0\n",
       "9  7000  10.0"
      ]
     },
     "execution_count": 14,
     "metadata": {},
     "output_type": "execute_result"
    }
   ],
   "source": [
    "Q = df_completo[0].value_counts().rename(\"Cant\")\n",
    "P = 100*df_completo[0].value_counts(normalize=True).rename(\"%\")\n",
    "\n",
    "pd.concat([Q, P], axis=1).sort_index()\n"
   ]
  },
  {
   "cell_type": "markdown",
   "metadata": {},
   "source": [
    "##### Grafico donde se muestran ejemplos de las clases (Puede ir a un anexo)"
   ]
  },
  {
   "cell_type": "markdown",
   "metadata": {},
   "source": [
    "1er Ejemplo:"
   ]
  },
  {
   "cell_type": "code",
   "execution_count": 15,
   "metadata": {},
   "outputs": [
    {
     "data": {
      "image/png": "[encoded data removed]",
      "text/plain": [
       "<Figure size 1224x576 with 10 Axes>"
      ]
     },
     "metadata": {},
     "output_type": "display_data"
    }
   ],
   "source": [
    "clases = np.sort(df_completo[0].unique())\n",
    "\n",
    "class_names = ['T-shirt/top', 'Trouser', 'Pullover', 'Dress', 'Coat',\n",
    "               'Sandal', 'Shirt', 'Sneaker', 'Bag', 'Ankle boot']\n",
    "\n",
    "\n",
    "## Ejemplo 1\n",
    "plt.figure(figsize=(17,8))\n",
    "for i,clase_i in enumerate(clases):\n",
    "  filtro_i = y_train == clase_i\n",
    "  plt.subplot(2,5,i+1)\n",
    "  plt.title(str(class_names[clase_i])+str([clase_i]))\n",
    "  plt.xticks([])\n",
    "  plt.yticks([])\n",
    "  plt.grid(False)\n",
    "  plt.imshow(np.array(X_train[filtro_i].iloc[0]).reshape(28,28),cmap='binary')\n",
    "plt.tight_layout()"
   ]
  },
  {
   "cell_type": "markdown",
   "metadata": {},
   "source": [
    "2do Ejemplo:"
   ]
  },
  {
   "cell_type": "code",
   "execution_count": 16,
   "metadata": {},
   "outputs": [
    {
     "data": {
      "image/png": "[encoded data removed]",
      "text/plain": [
       "<Figure size 1224x576 with 10 Axes>"
      ]
     },
     "metadata": {},
     "output_type": "display_data"
    }
   ],
   "source": [
    "## Ejemplo 2\n",
    "plt.figure(figsize=(17,8))\n",
    "for i,clase_i in enumerate(clases):\n",
    "  filtro_i = y_train == clase_i\n",
    "  plt.subplot(2,5,i+1)\n",
    "  plt.title(str(class_names[clase_i])+str([clase_i]))\n",
    "  plt.xticks([])\n",
    "  plt.yticks([])\n",
    "  plt.grid(False)\n",
    "  plt.imshow(np.array(X_train[filtro_i].iloc[1]).reshape(28,28),cmap='binary')\n",
    "plt.tight_layout()"
   ]
  },
  {
   "cell_type": "code",
   "execution_count": 17,
   "metadata": {},
   "outputs": [
    {
     "data": {
      "image/png": "[encoded data removed]",
      "text/plain": [
       "<Figure size 1224x576 with 10 Axes>"
      ]
     },
     "metadata": {},
     "output_type": "display_data"
    }
   ],
   "source": [
    "## Ejemplo 3\n",
    "plt.figure(figsize=(17,8))\n",
    "for i,clase_i in enumerate(clases):\n",
    "  filtro_i = y_train == clase_i\n",
    "  plt.subplot(2,5,i+1)\n",
    "  plt.title(str(class_names[clase_i])+str([clase_i]))\n",
    "  plt.xticks([])\n",
    "  plt.yticks([])\n",
    "  plt.grid(False)\n",
    "  plt.imshow(np.array(X_train[filtro_i].iloc[2]).reshape(28,28),cmap='binary')\n",
    "plt.tight_layout()"
   ]
  },
  {
   "cell_type": "markdown",
   "metadata": {
    "tags": []
   },
   "source": [
    "## Punto 2: Separación en desarrollo y testeo"
   ]
  },
  {
   "cell_type": "markdown",
   "metadata": {},
   "source": [
    "Separación de datos respetando la división presente en el github oficial de desarrollo y testeo"
   ]
  },
  {
   "cell_type": "code",
   "execution_count": 18,
   "metadata": {},
   "outputs": [
    {
     "data": {
      "text/plain": [
       "(60000, 784)"
      ]
     },
     "execution_count": 18,
     "metadata": {},
     "output_type": "execute_result"
    }
   ],
   "source": [
    "X_train.shape"
   ]
  },
  {
   "cell_type": "code",
   "execution_count": 19,
   "metadata": {},
   "outputs": [
    {
     "data": {
      "text/plain": [
       "(60000,)"
      ]
     },
     "execution_count": 19,
     "metadata": {},
     "output_type": "execute_result"
    }
   ],
   "source": [
    "y_train.shape"
   ]
  },
  {
   "cell_type": "code",
   "execution_count": 20,
   "metadata": {},
   "outputs": [
    {
     "data": {
      "text/plain": [
       "(10000, 784)"
      ]
     },
     "execution_count": 20,
     "metadata": {},
     "output_type": "execute_result"
    }
   ],
   "source": [
    "X_test.shape"
   ]
  },
  {
   "cell_type": "code",
   "execution_count": 21,
   "metadata": {},
   "outputs": [
    {
     "data": {
      "text/plain": [
       "(10000,)"
      ]
     },
     "execution_count": 21,
     "metadata": {},
     "output_type": "execute_result"
    }
   ],
   "source": [
    "y_test.shape"
   ]
  },
  {
   "cell_type": "code",
   "execution_count": 22,
   "metadata": {},
   "outputs": [
    {
     "data": {
      "text/html": [
       "<div>\n",
       "<style scoped>\n",
       "    .dataframe tbody tr th:only-of-type {\n",
       "        vertical-align: middle;\n",
       "    }\n",
       "\n",
       "    .dataframe tbody tr th {\n",
       "        vertical-align: top;\n",
       "    }\n",
       "\n",
       "    .dataframe thead th {\n",
       "        text-align: right;\n",
       "    }\n",
       "</style>\n",
       "<table border=\"1\" class=\"dataframe\">\n",
       "  <thead>\n",
       "    <tr style=\"text-align: right;\">\n",
       "      <th></th>\n",
       "      <th>Cant</th>\n",
       "      <th>%</th>\n",
       "    </tr>\n",
       "    <tr>\n",
       "      <th>train</th>\n",
       "      <th></th>\n",
       "      <th></th>\n",
       "    </tr>\n",
       "  </thead>\n",
       "  <tbody>\n",
       "    <tr>\n",
       "      <th>0</th>\n",
       "      <td>6000</td>\n",
       "      <td>10.0</td>\n",
       "    </tr>\n",
       "    <tr>\n",
       "      <th>1</th>\n",
       "      <td>6000</td>\n",
       "      <td>10.0</td>\n",
       "    </tr>\n",
       "    <tr>\n",
       "      <th>2</th>\n",
       "      <td>6000</td>\n",
       "      <td>10.0</td>\n",
       "    </tr>\n",
       "    <tr>\n",
       "      <th>3</th>\n",
       "      <td>6000</td>\n",
       "      <td>10.0</td>\n",
       "    </tr>\n",
       "    <tr>\n",
       "      <th>4</th>\n",
       "      <td>6000</td>\n",
       "      <td>10.0</td>\n",
       "    </tr>\n",
       "    <tr>\n",
       "      <th>5</th>\n",
       "      <td>6000</td>\n",
       "      <td>10.0</td>\n",
       "    </tr>\n",
       "    <tr>\n",
       "      <th>6</th>\n",
       "      <td>6000</td>\n",
       "      <td>10.0</td>\n",
       "    </tr>\n",
       "    <tr>\n",
       "      <th>7</th>\n",
       "      <td>6000</td>\n",
       "      <td>10.0</td>\n",
       "    </tr>\n",
       "    <tr>\n",
       "      <th>8</th>\n",
       "      <td>6000</td>\n",
       "      <td>10.0</td>\n",
       "    </tr>\n",
       "    <tr>\n",
       "      <th>9</th>\n",
       "      <td>6000</td>\n",
       "      <td>10.0</td>\n",
       "    </tr>\n",
       "  </tbody>\n",
       "</table>\n",
       "</div>"
      ],
      "text/plain": [
       "       Cant     %\n",
       "train            \n",
       "0      6000  10.0\n",
       "1      6000  10.0\n",
       "2      6000  10.0\n",
       "3      6000  10.0\n",
       "4      6000  10.0\n",
       "5      6000  10.0\n",
       "6      6000  10.0\n",
       "7      6000  10.0\n",
       "8      6000  10.0\n",
       "9      6000  10.0"
      ]
     },
     "execution_count": 22,
     "metadata": {},
     "output_type": "execute_result"
    }
   ],
   "source": [
    "Q1 = y_train.value_counts().rename(\"Cant\")\n",
    "P1 = 100*y_train.value_counts(normalize=True).rename(\"%\")\n",
    "\n",
    "pd.concat([Q1, P1], axis=1).sort_index().rename_axis('train')"
   ]
  },
  {
   "cell_type": "code",
   "execution_count": 23,
   "metadata": {},
   "outputs": [
    {
     "data": {
      "text/html": [
       "<div>\n",
       "<style scoped>\n",
       "    .dataframe tbody tr th:only-of-type {\n",
       "        vertical-align: middle;\n",
       "    }\n",
       "\n",
       "    .dataframe tbody tr th {\n",
       "        vertical-align: top;\n",
       "    }\n",
       "\n",
       "    .dataframe thead th {\n",
       "        text-align: right;\n",
       "    }\n",
       "</style>\n",
       "<table border=\"1\" class=\"dataframe\">\n",
       "  <thead>\n",
       "    <tr style=\"text-align: right;\">\n",
       "      <th></th>\n",
       "      <th>Cant</th>\n",
       "      <th>%</th>\n",
       "    </tr>\n",
       "    <tr>\n",
       "      <th>test</th>\n",
       "      <th></th>\n",
       "      <th></th>\n",
       "    </tr>\n",
       "  </thead>\n",
       "  <tbody>\n",
       "    <tr>\n",
       "      <th>0</th>\n",
       "      <td>1000</td>\n",
       "      <td>10.0</td>\n",
       "    </tr>\n",
       "    <tr>\n",
       "      <th>1</th>\n",
       "      <td>1000</td>\n",
       "      <td>10.0</td>\n",
       "    </tr>\n",
       "    <tr>\n",
       "      <th>2</th>\n",
       "      <td>1000</td>\n",
       "      <td>10.0</td>\n",
       "    </tr>\n",
       "    <tr>\n",
       "      <th>3</th>\n",
       "      <td>1000</td>\n",
       "      <td>10.0</td>\n",
       "    </tr>\n",
       "    <tr>\n",
       "      <th>4</th>\n",
       "      <td>1000</td>\n",
       "      <td>10.0</td>\n",
       "    </tr>\n",
       "    <tr>\n",
       "      <th>5</th>\n",
       "      <td>1000</td>\n",
       "      <td>10.0</td>\n",
       "    </tr>\n",
       "    <tr>\n",
       "      <th>6</th>\n",
       "      <td>1000</td>\n",
       "      <td>10.0</td>\n",
       "    </tr>\n",
       "    <tr>\n",
       "      <th>7</th>\n",
       "      <td>1000</td>\n",
       "      <td>10.0</td>\n",
       "    </tr>\n",
       "    <tr>\n",
       "      <th>8</th>\n",
       "      <td>1000</td>\n",
       "      <td>10.0</td>\n",
       "    </tr>\n",
       "    <tr>\n",
       "      <th>9</th>\n",
       "      <td>1000</td>\n",
       "      <td>10.0</td>\n",
       "    </tr>\n",
       "  </tbody>\n",
       "</table>\n",
       "</div>"
      ],
      "text/plain": [
       "      Cant     %\n",
       "test            \n",
       "0     1000  10.0\n",
       "1     1000  10.0\n",
       "2     1000  10.0\n",
       "3     1000  10.0\n",
       "4     1000  10.0\n",
       "5     1000  10.0\n",
       "6     1000  10.0\n",
       "7     1000  10.0\n",
       "8     1000  10.0\n",
       "9     1000  10.0"
      ]
     },
     "execution_count": 23,
     "metadata": {},
     "output_type": "execute_result"
    }
   ],
   "source": [
    "Q2 = y_test.value_counts().rename(\"Cant\")\n",
    "P2 = 100*y_test.value_counts(normalize=True).rename(\"%\")\n",
    "\n",
    "pd.concat([Q2, P2], axis=1).sort_index().rename_axis('test')"
   ]
  },
  {
   "cell_type": "markdown",
   "metadata": {
    "tags": []
   },
   "source": [
    "## Punto 3: Separación del conjunto de desarrollo en entrenamiento y validación"
   ]
  },
  {
   "cell_type": "markdown",
   "metadata": {},
   "source": [
    "Conjunto de entrenamiento (85.71%):\n",
    "* x_train, y_train = 80% del conjunto de entrenamiento\n",
    "* x_val, y_val = 20% del conjunto de entrenamiento\n",
    "\n",
    "Conjunto de testing(14.29%)\n",
    "* X_test, y_test = Conjunto held-out de testing"
   ]
  },
  {
   "cell_type": "code",
   "execution_count": 24,
   "metadata": {},
   "outputs": [],
   "source": [
    "from sklearn.model_selection import train_test_split\n",
    "seed = 42\n",
    "\n",
    "x_train, x_val, y_train, y_val = train_test_split(X_train,y_train, test_size=0.2, random_state=seed, stratify = y_train) "
   ]
  },
  {
   "cell_type": "markdown",
   "metadata": {
    "tags": []
   },
   "source": [
    "## Punto 4: Entrenamiento inicial de modelos\n",
    "Entrenamiento de 4 modelos con sus hiperparámetros por defecto\n",
    "\n",
    "* Boosting\n",
    " \n",
    "* Bagging\n",
    "\n",
    "* Naive Bayes\n",
    "\n",
    "* Arbon de decisión\n"
   ]
  },
  {
   "cell_type": "markdown",
   "metadata": {},
   "source": [
    "#### Se definen funciones para generar el reporte con la metricas de evaluación relevantes\n",
    "* **precision**     [por clase **+** average: macro y weighted]\n",
    "\n",
    "* **recall**        [por clase **+** average: macro y weighted]\t\n",
    "\n",
    "* **f1-score**\t    [por clase **+** average: macro y weighted]\n",
    "\n",
    "* **roc_auc**       [por clase **+** average: macro y weighted]\n",
    "\n",
    "* **Accuracy**"
   ]
  },
  {
   "cell_type": "code",
   "execution_count": 25,
   "metadata": {},
   "outputs": [],
   "source": [
    "#https://stackoverflow-com.translate.goog/questions/39685740/calculate-sklearn-roc-auc-score-for-multi-class?_x_tr_sl=es&_x_tr_tl=en&_x_tr_hl=es&_x_tr_pto=wapp\n",
    "def roc_auc_score_multiclass(actual_class, pred_class, average = \"macro\"):\n",
    "\n",
    "  #creating a set of all the unique classes using the actual class list\n",
    "  unique_class = set(actual_class)\n",
    "  roc_auc_dict = {}\n",
    "  for per_class in unique_class:\n",
    "    #creating a list of all the classes except the current class \n",
    "    other_class = [x for x in unique_class if x != per_class]\n",
    "\n",
    "    #marking the current class as 1 and all other classes as 0\n",
    "    new_actual_class = [0 if x in other_class else 1 for x in actual_class]\n",
    "    new_pred_class = [0 if x in other_class else 1 for x in pred_class]\n",
    "\n",
    "    #using the sklearn metrics method to calculate the roc_auc_score\n",
    "    roc_auc = roc_auc_score(new_actual_class, new_pred_class, average = average)\n",
    "    roc_auc_dict[per_class] = roc_auc\n",
    "\n",
    "  return roc_auc_dict\n",
    "\n",
    "def classif_report(true_vals, pred_vals):\n",
    "    n_class = true_vals.nunique()\n",
    "    sk_report = classification_report(true_vals, pred_vals, output_dict=True)\n",
    "    reportA = pd.DataFrame(sk_report).stack().unstack(0).iloc[0:n_class] \n",
    "    reportA['roc_auc'] = [v for k,v in roc_auc_score_multiclass(true_vals, pred_vals, average = \"macro\").items()]\n",
    "    acc_score = [sk_report['accuracy']]*5\n",
    "    macro_avg = reportA.mean()\n",
    "    weighted_avg = np.average(reportA, axis = 0, weights=reportA.support)\n",
    "    reportB = pd.DataFrame({\"accuracy\":acc_score,\n",
    "                            \"macro_avg\": macro_avg,\n",
    "                            \"weighted_avg\":weighted_avg}).stack().unstack(0)\n",
    "    report = pd.concat([reportA, reportB], axis=0)\n",
    "                            \n",
    "    return report"
   ]
  },
  {
   "cell_type": "markdown",
   "metadata": {},
   "source": [
    "### Boosting\n",
    "\n",
    "* GradientBoostingClassifier"
   ]
  },
  {
   "cell_type": "markdown",
   "metadata": {},
   "source": [
    "#### GradientBoostingClassifier"
   ]
  },
  {
   "cell_type": "code",
   "execution_count": 26,
   "metadata": {},
   "outputs": [],
   "source": [
    "# gbc = GradientBoostingClassifier(random_state = seed, verbose=1)\n",
    "# gbc.fit(x_train, y_train)\n",
    "# with open('models/gradientboostclassifier_base.pkl', 'wb') as modelFile:\n",
    "#    pickle.dump(gbc, modelFile)"
   ]
  },
  {
   "cell_type": "code",
   "execution_count": 27,
   "metadata": {},
   "outputs": [
    {
     "name": "stderr",
     "output_type": "stream",
     "text": [
      "C:\\Users\\Usuario\\anaconda3\\envs\\tp2AA\\lib\\site-packages\\sklearn\\base.py:329: UserWarning: Trying to unpickle estimator DummyClassifier from version 0.23.1 when using version 1.0.2. This might lead to breaking code or invalid results. Use at your own risk. For more info please refer to:\n",
      "https://scikit-learn.org/stable/modules/model_persistence.html#security-maintainability-limitations\n",
      "  warnings.warn(\n",
      "C:\\Users\\Usuario\\anaconda3\\envs\\tp2AA\\lib\\site-packages\\sklearn\\base.py:329: UserWarning: Trying to unpickle estimator DecisionTreeRegressor from version 0.23.1 when using version 1.0.2. This might lead to breaking code or invalid results. Use at your own risk. For more info please refer to:\n",
      "https://scikit-learn.org/stable/modules/model_persistence.html#security-maintainability-limitations\n",
      "  warnings.warn(\n",
      "C:\\Users\\Usuario\\anaconda3\\envs\\tp2AA\\lib\\site-packages\\sklearn\\base.py:329: UserWarning: Trying to unpickle estimator GradientBoostingClassifier from version 0.23.1 when using version 1.0.2. This might lead to breaking code or invalid results. Use at your own risk. For more info please refer to:\n",
      "https://scikit-learn.org/stable/modules/model_persistence.html#security-maintainability-limitations\n",
      "  warnings.warn(\n",
      "C:\\Users\\Usuario\\anaconda3\\envs\\tp2AA\\lib\\site-packages\\sklearn\\base.py:443: UserWarning: X has feature names, but GradientBoostingClassifier was fitted without feature names\n",
      "  warnings.warn(\n",
      "C:\\Users\\Usuario\\anaconda3\\envs\\tp2AA\\lib\\site-packages\\sklearn\\base.py:443: UserWarning: X has feature names, but GradientBoostingClassifier was fitted without feature names\n",
      "  warnings.warn(\n"
     ]
    },
    {
     "name": "stdout",
     "output_type": "stream",
     "text": [
      "Accuracy training : 0.908\n"
     ]
    },
    {
     "name": "stderr",
     "output_type": "stream",
     "text": [
      "C:\\Users\\Usuario\\anaconda3\\envs\\tp2AA\\lib\\site-packages\\sklearn\\base.py:443: UserWarning: X has feature names, but GradientBoostingClassifier was fitted without feature names\n",
      "  warnings.warn(\n"
     ]
    },
    {
     "name": "stdout",
     "output_type": "stream",
     "text": [
      "Accuracy val: 0.875\n"
     ]
    }
   ],
   "source": [
    "with open('models/gradientboostclassifier_base.pkl','rb') as modelFile:\n",
    "     gbc = pickle.load(modelFile)\n",
    "        \n",
    "y_pred = gbc.predict(x_val)\n",
    "\n",
    "print(\"Accuracy training : {:.3f}\".format(gbc.score(x_train, y_train)))\n",
    "print(\"Accuracy val: {:.3f}\".format(gbc.score(x_val, y_val)))\n",
    "gbc_report = classif_report(y_val, y_pred)"
   ]
  },
  {
   "cell_type": "markdown",
   "metadata": {},
   "source": [
    "### Bagging\n",
    "\n",
    "* Random Forest Classifier\n",
    "\n",
    "* Bagging decision trees"
   ]
  },
  {
   "cell_type": "markdown",
   "metadata": {},
   "source": [
    "#### Random Forest Classifier"
   ]
  },
  {
   "cell_type": "code",
   "execution_count": 28,
   "metadata": {},
   "outputs": [],
   "source": [
    "# rf = RandomForestClassifier(random_state = seed, verbose=1, n_jobs=-1)\n",
    "# rf.fit(x_train, y_train)\n",
    "# with open('models/random_forest_base.pkl', 'wb') as modelFile:\n",
    "#    pickle.dump(rf, modelFile)"
   ]
  },
  {
   "cell_type": "code",
   "execution_count": 29,
   "metadata": {},
   "outputs": [
    {
     "name": "stderr",
     "output_type": "stream",
     "text": [
      "C:\\Users\\Usuario\\anaconda3\\envs\\tp2AA\\lib\\site-packages\\sklearn\\base.py:329: UserWarning: Trying to unpickle estimator DecisionTreeClassifier from version 1.1.1 when using version 1.0.2. This might lead to breaking code or invalid results. Use at your own risk. For more info please refer to:\n",
      "https://scikit-learn.org/stable/modules/model_persistence.html#security-maintainability-limitations\n",
      "  warnings.warn(\n",
      "C:\\Users\\Usuario\\anaconda3\\envs\\tp2AA\\lib\\site-packages\\sklearn\\base.py:329: UserWarning: Trying to unpickle estimator RandomForestClassifier from version 1.1.1 when using version 1.0.2. This might lead to breaking code or invalid results. Use at your own risk. For more info please refer to:\n",
      "https://scikit-learn.org/stable/modules/model_persistence.html#security-maintainability-limitations\n",
      "  warnings.warn(\n",
      "[Parallel(n_jobs=12)]: Using backend ThreadingBackend with 12 concurrent workers.\n",
      "[Parallel(n_jobs=12)]: Done  26 tasks      | elapsed:    0.0s\n",
      "[Parallel(n_jobs=12)]: Done 100 out of 100 | elapsed:    0.3s finished\n",
      "[Parallel(n_jobs=12)]: Using backend ThreadingBackend with 12 concurrent workers.\n",
      "[Parallel(n_jobs=12)]: Done  26 tasks      | elapsed:    0.2s\n",
      "[Parallel(n_jobs=12)]: Done 100 out of 100 | elapsed:    0.8s finished\n",
      "[Parallel(n_jobs=12)]: Using backend ThreadingBackend with 12 concurrent workers.\n",
      "[Parallel(n_jobs=12)]: Done  26 tasks      | elapsed:    0.0s\n"
     ]
    },
    {
     "name": "stdout",
     "output_type": "stream",
     "text": [
      "Accuracy training : 1.000\n"
     ]
    },
    {
     "name": "stderr",
     "output_type": "stream",
     "text": [
      "[Parallel(n_jobs=12)]: Done 100 out of 100 | elapsed:    0.1s finished\n"
     ]
    },
    {
     "name": "stdout",
     "output_type": "stream",
     "text": [
      "Accuracy val: 0.883\n"
     ]
    }
   ],
   "source": [
    "with open('models/random_forest_base.pkl', 'rb') as modelFile:\n",
    "     rf = pickle.load(modelFile)\n",
    "\n",
    "y_pred = rf.predict(x_val)\n",
    "print(\"Accuracy training : {:.3f}\".format(rf.score(x_train, y_train)))\n",
    "print(\"Accuracy val: {:.3f}\".format(rf.score(x_val, y_val)))\n",
    "rf_report = classif_report(y_val, y_pred)"
   ]
  },
  {
   "cell_type": "markdown",
   "metadata": {},
   "source": [
    "#### Bagging decision trees\n",
    "\n",
    "Alternativa al random forest"
   ]
  },
  {
   "cell_type": "code",
   "execution_count": 30,
   "metadata": {},
   "outputs": [],
   "source": [
    "# dt = DecisionTreeClassifier(random_state=seed)\n",
    "# bdt = BaggingClassifier(dt, random_state = seed, verbose=1, n_jobs=-1)\n",
    "# bdt.fit(x_train, y_train)\n",
    "# with open('models/baggingdt_base.pkl', 'wb') as modelFile:\n",
    "#    pickle.dump(bdt, modelFile)"
   ]
  },
  {
   "cell_type": "code",
   "execution_count": 31,
   "metadata": {},
   "outputs": [
    {
     "name": "stderr",
     "output_type": "stream",
     "text": [
      "C:\\Users\\Usuario\\anaconda3\\envs\\tp2AA\\lib\\site-packages\\sklearn\\base.py:329: UserWarning: Trying to unpickle estimator DecisionTreeClassifier from version 1.1.1 when using version 1.0.2. This might lead to breaking code or invalid results. Use at your own risk. For more info please refer to:\n",
      "https://scikit-learn.org/stable/modules/model_persistence.html#security-maintainability-limitations\n",
      "  warnings.warn(\n",
      "C:\\Users\\Usuario\\anaconda3\\envs\\tp2AA\\lib\\site-packages\\sklearn\\base.py:329: UserWarning: Trying to unpickle estimator BaggingClassifier from version 1.1.1 when using version 1.0.2. This might lead to breaking code or invalid results. Use at your own risk. For more info please refer to:\n",
      "https://scikit-learn.org/stable/modules/model_persistence.html#security-maintainability-limitations\n",
      "  warnings.warn(\n",
      "[Parallel(n_jobs=10)]: Using backend LokyBackend with 10 concurrent workers.\n",
      "[Parallel(n_jobs=10)]: Done   2 out of  10 | elapsed:    3.3s remaining:   13.5s\n",
      "[Parallel(n_jobs=10)]: Done  10 out of  10 | elapsed:    3.4s finished\n",
      "[Parallel(n_jobs=10)]: Using backend LokyBackend with 10 concurrent workers.\n",
      "[Parallel(n_jobs=10)]: Done   2 out of  10 | elapsed:    1.5s remaining:    6.1s\n",
      "[Parallel(n_jobs=10)]: Done  10 out of  10 | elapsed:    1.6s finished\n"
     ]
    },
    {
     "name": "stdout",
     "output_type": "stream",
     "text": [
      "Accuracy training : 0.994\n"
     ]
    },
    {
     "name": "stderr",
     "output_type": "stream",
     "text": [
      "[Parallel(n_jobs=10)]: Using backend LokyBackend with 10 concurrent workers.\n",
      "[Parallel(n_jobs=10)]: Done   2 out of  10 | elapsed:    0.1s remaining:    0.8s\n",
      "[Parallel(n_jobs=10)]: Done  10 out of  10 | elapsed:    0.2s finished\n"
     ]
    },
    {
     "name": "stdout",
     "output_type": "stream",
     "text": [
      "Accuracy val: 0.858\n"
     ]
    }
   ],
   "source": [
    "with open('models/baggingdt_base.pkl', 'rb') as modelFile:\n",
    "     bdt = pickle.load(modelFile)\n",
    "\n",
    "y_pred = bdt.predict(x_val)\n",
    "print(\"Accuracy training : {:.3f}\".format(bdt.score(x_train, y_train)))\n",
    "print(\"Accuracy val: {:.3f}\".format(bdt.score(x_val, y_val)))\n",
    "bdt_report = classif_report(y_val, y_pred)"
   ]
  },
  {
   "cell_type": "markdown",
   "metadata": {},
   "source": [
    "### Árbol de decisión"
   ]
  },
  {
   "cell_type": "code",
   "execution_count": 32,
   "metadata": {},
   "outputs": [],
   "source": [
    "# ad = DecisionTreeClassifier(random_state = seed)\n",
    "# ad.fit(x_train, y_train)\n",
    "# with open('models/dt_base.pkl', 'wb') as modelFile:\n",
    "#    pickle.dump(ad, modelFile)"
   ]
  },
  {
   "cell_type": "code",
   "execution_count": 33,
   "metadata": {},
   "outputs": [
    {
     "name": "stderr",
     "output_type": "stream",
     "text": [
      "C:\\Users\\Usuario\\anaconda3\\envs\\tp2AA\\lib\\site-packages\\sklearn\\base.py:329: UserWarning: Trying to unpickle estimator DecisionTreeClassifier from version 1.1.1 when using version 1.0.2. This might lead to breaking code or invalid results. Use at your own risk. For more info please refer to:\n",
      "https://scikit-learn.org/stable/modules/model_persistence.html#security-maintainability-limitations\n",
      "  warnings.warn(\n"
     ]
    },
    {
     "name": "stdout",
     "output_type": "stream",
     "text": [
      "Accuracy training : 1.000\n",
      "Accuracy val: 0.797\n"
     ]
    }
   ],
   "source": [
    "with open('models/dt_base.pkl','rb') as modelFile:\n",
    "     ad = pickle.load(modelFile)\n",
    "\n",
    "y_pred = ad.predict(x_val)\n",
    "print(\"Accuracy training : {:.3f}\".format(ad.score(x_train, y_train)))\n",
    "print(\"Accuracy val: {:.3f}\".format(ad.score(x_val, y_val)))\n",
    "ad_report = classif_report(y_val, y_pred)"
   ]
  },
  {
   "cell_type": "markdown",
   "metadata": {},
   "source": [
    "### Naive Bayes"
   ]
  },
  {
   "cell_type": "code",
   "execution_count": 34,
   "metadata": {},
   "outputs": [],
   "source": [
    "# nb = MultinomialNB(alpha=1.0) #alpha = 1.0 es el default \n",
    "# nb.fit(x_train, y_train)\n",
    "# with open('models/naivebayes_base.pkl', 'wb') as modelFile:\n",
    "#    pickle.dump(nb, modelFile)"
   ]
  },
  {
   "cell_type": "code",
   "execution_count": 35,
   "metadata": {},
   "outputs": [
    {
     "name": "stderr",
     "output_type": "stream",
     "text": [
      "C:\\Users\\Usuario\\anaconda3\\envs\\tp2AA\\lib\\site-packages\\sklearn\\base.py:329: UserWarning: Trying to unpickle estimator MultinomialNB from version 1.1.1 when using version 1.0.2. This might lead to breaking code or invalid results. Use at your own risk. For more info please refer to:\n",
      "https://scikit-learn.org/stable/modules/model_persistence.html#security-maintainability-limitations\n",
      "  warnings.warn(\n"
     ]
    },
    {
     "name": "stdout",
     "output_type": "stream",
     "text": [
      "Accuracy training : 0.666\n",
      "Accuracy val: 0.668\n"
     ]
    }
   ],
   "source": [
    "with open('models/naivebayes_base.pkl','rb') as modelFile:\n",
    "     nb = pickle.load(modelFile)\n",
    "        \n",
    "y_pred = nb.predict(x_val)\n",
    "print(\"Accuracy training : {:.3f}\".format(nb.score(x_train, y_train)))\n",
    "print(\"Accuracy val: {:.3f}\".format(nb.score(x_val, y_val)))\n",
    "nb_report = classif_report(y_val, y_pred)"
   ]
  },
  {
   "cell_type": "code",
   "execution_count": 40,
   "metadata": {},
   "outputs": [
    {
     "data": {
      "text/html": [
       "<div>\n",
       "<style scoped>\n",
       "    .dataframe tbody tr th:only-of-type {\n",
       "        vertical-align: middle;\n",
       "    }\n",
       "\n",
       "    .dataframe tbody tr th {\n",
       "        vertical-align: top;\n",
       "    }\n",
       "\n",
       "    .dataframe thead th {\n",
       "        text-align: right;\n",
       "    }\n",
       "</style>\n",
       "<table border=\"1\" class=\"dataframe\">\n",
       "  <thead>\n",
       "    <tr style=\"text-align: right;\">\n",
       "      <th></th>\n",
       "      <th>Naive Bayes</th>\n",
       "      <th>Decision Tree</th>\n",
       "      <th>Bagging</th>\n",
       "      <th>Gradient Boosting</th>\n",
       "    </tr>\n",
       "    <tr>\n",
       "      <th>Class/Metric</th>\n",
       "      <th></th>\n",
       "      <th></th>\n",
       "      <th></th>\n",
       "      <th></th>\n",
       "    </tr>\n",
       "  </thead>\n",
       "  <tbody>\n",
       "    <tr>\n",
       "      <th>T-shirt/top [0]</th>\n",
       "      <td>0.768357</td>\n",
       "      <td>0.747934</td>\n",
       "      <td>0.822017</td>\n",
       "      <td>0.831902</td>\n",
       "    </tr>\n",
       "    <tr>\n",
       "      <th>Trouser [1]</th>\n",
       "      <td>0.937118</td>\n",
       "      <td>0.945109</td>\n",
       "      <td>0.974509</td>\n",
       "      <td>0.980211</td>\n",
       "    </tr>\n",
       "    <tr>\n",
       "      <th>Pullover [2]</th>\n",
       "      <td>0.610473</td>\n",
       "      <td>0.670762</td>\n",
       "      <td>0.766042</td>\n",
       "      <td>0.772204</td>\n",
       "    </tr>\n",
       "    <tr>\n",
       "      <th>Dress [3]</th>\n",
       "      <td>0.760272</td>\n",
       "      <td>0.801373</td>\n",
       "      <td>0.868172</td>\n",
       "      <td>0.890917</td>\n",
       "    </tr>\n",
       "    <tr>\n",
       "      <th>Coat [4]</th>\n",
       "      <td>0.531833</td>\n",
       "      <td>0.663571</td>\n",
       "      <td>0.746734</td>\n",
       "      <td>0.786563</td>\n",
       "    </tr>\n",
       "    <tr>\n",
       "      <th>Sandal [5]</th>\n",
       "      <td>0.255435</td>\n",
       "      <td>0.902551</td>\n",
       "      <td>0.940150</td>\n",
       "      <td>0.961039</td>\n",
       "    </tr>\n",
       "    <tr>\n",
       "      <th>Shirt [6]</th>\n",
       "      <td>0.210112</td>\n",
       "      <td>0.551468</td>\n",
       "      <td>0.634458</td>\n",
       "      <td>0.666376</td>\n",
       "    </tr>\n",
       "    <tr>\n",
       "      <th>Sneaker [7]</th>\n",
       "      <td>0.720816</td>\n",
       "      <td>0.880100</td>\n",
       "      <td>0.921237</td>\n",
       "      <td>0.943568</td>\n",
       "    </tr>\n",
       "    <tr>\n",
       "      <th>Bag [8]</th>\n",
       "      <td>0.855416</td>\n",
       "      <td>0.916563</td>\n",
       "      <td>0.951987</td>\n",
       "      <td>0.966292</td>\n",
       "    </tr>\n",
       "    <tr>\n",
       "      <th>Ankle boot [9]</th>\n",
       "      <td>0.750378</td>\n",
       "      <td>0.895572</td>\n",
       "      <td>0.935593</td>\n",
       "      <td>0.951667</td>\n",
       "    </tr>\n",
       "    <tr>\n",
       "      <th>accuracy</th>\n",
       "      <td>0.667583</td>\n",
       "      <td>0.797333</td>\n",
       "      <td>0.857583</td>\n",
       "      <td>0.875500</td>\n",
       "    </tr>\n",
       "    <tr>\n",
       "      <th>avg_f1-score</th>\n",
       "      <td>0.640021</td>\n",
       "      <td>0.797500</td>\n",
       "      <td>0.856090</td>\n",
       "      <td>0.875074</td>\n",
       "    </tr>\n",
       "  </tbody>\n",
       "</table>\n",
       "</div>"
      ],
      "text/plain": [
       "                 Naive Bayes  Decision Tree   Bagging  Gradient Boosting\n",
       "Class/Metric                                                            \n",
       "T-shirt/top [0]     0.768357       0.747934  0.822017           0.831902\n",
       "Trouser [1]         0.937118       0.945109  0.974509           0.980211\n",
       "Pullover [2]        0.610473       0.670762  0.766042           0.772204\n",
       "Dress [3]           0.760272       0.801373  0.868172           0.890917\n",
       "Coat [4]            0.531833       0.663571  0.746734           0.786563\n",
       "Sandal [5]          0.255435       0.902551  0.940150           0.961039\n",
       "Shirt [6]           0.210112       0.551468  0.634458           0.666376\n",
       "Sneaker [7]         0.720816       0.880100  0.921237           0.943568\n",
       "Bag [8]             0.855416       0.916563  0.951987           0.966292\n",
       "Ankle boot [9]      0.750378       0.895572  0.935593           0.951667\n",
       "accuracy            0.667583       0.797333  0.857583           0.875500\n",
       "avg_f1-score        0.640021       0.797500  0.856090           0.875074"
      ]
     },
     "execution_count": 40,
     "metadata": {},
     "output_type": "execute_result"
    }
   ],
   "source": [
    "#compilando todo\n",
    "\n",
    "metric = \"f1-score\"\n",
    "nombres = ['T-shirt/top [0]', 'Trouser [1]', 'Pullover [2]', 'Dress [3]', 'Coat [4]', 'Sandal [5]', 'Shirt [6]', 'Sneaker [7]', 'Bag [8]', 'Ankle boot [9]']\n",
    "index_serie = pd.Series(nombres + ['accuracy',\"avg_\"+metric])\n",
    "nbr = nb_report[metric][:12].reset_index(drop=True)\n",
    "adr = ad_report[metric][:12].reset_index(drop=True)\n",
    "bdtr = bdt_report[metric][:12].reset_index(drop=True)\n",
    "#rfr = rf_report[metric][:12].reset_index(drop=True)\n",
    "gbcr = gbc_report[metric][:12].reset_index(drop=True)\n",
    "\n",
    "tabla = pd.concat([index_serie, nbr, adr, bdtr, gbcr], axis=1).set_index(0)\n",
    "\n",
    "tabla.columns = ['Naive Bayes','Decision Tree','Bagging', 'Gradient Boosting']\n",
    "tabla.index.name=\"Class/Metric\"\n",
    "tabla"
   ]
  },
  {
   "cell_type": "code",
   "execution_count": 47,
   "metadata": {},
   "outputs": [
    {
     "name": "stdout",
     "output_type": "stream",
     "text": [
      "\\begin{table}\n",
      "\\caption{Resumen de Métricas}\n",
      "\\begin{tabular}{lrrrr}\n",
      " & Naive Bayes & Decision Tree & Bagging & Gradient Boosting \\\\\n",
      "Class/Metric &  &  &  &  \\\\\n",
      "T-shirt/top [0] & 0.768 & 0.748 & 0.822 & 0.832 \\\\\n",
      "Trouser [1] & 0.937 & 0.945 & 0.975 & 0.980 \\\\\n",
      "Pullover [2] & 0.610 & 0.671 & 0.766 & 0.772 \\\\\n",
      "Dress [3] & 0.760 & 0.801 & 0.868 & 0.891 \\\\\n",
      "Coat [4] & 0.532 & 0.664 & 0.747 & 0.787 \\\\\n",
      "Sandal [5] & 0.255 & 0.903 & 0.940 & 0.961 \\\\\n",
      "Shirt [6] & 0.210 & 0.551 & 0.634 & 0.666 \\\\\n",
      "Sneaker [7] & 0.721 & 0.880 & 0.921 & 0.944 \\\\\n",
      "Bag [8] & 0.855 & 0.917 & 0.952 & 0.966 \\\\\n",
      "Ankle boot [9] & 0.750 & 0.896 & 0.936 & 0.952 \\\\\n",
      "accuracy & 0.668 & 0.797 & 0.858 & 0.875 \\\\\n",
      "avg_f1-score & 0.640 & 0.798 & 0.856 & 0.875 \\\\\n",
      "\\end{tabular}\n",
      "\\end{table}\n",
      "\n"
     ]
    }
   ],
   "source": [
    "t = tabla.style.format(precision=3)\n",
    "print(t.to_latex(caption=\"Resumen de Métricas\"))"
   ]
  },
  {
   "cell_type": "markdown",
   "metadata": {},
   "source": [
    "### Métricas relevantes para el problema en el conjunto de validación"
   ]
  },
  {
   "cell_type": "markdown",
   "metadata": {},
   "source": [
    "Las metricas ya estan calculadas para cada modelo (ver arriba)\n",
    "\n",
    "Se calcularon todas las metricas que consideramos relevantes, que nos muestran la capacidad de prediccion del modelo por cada clase y de manera global:\n",
    "* **precision**     [por clase **+** average]\n",
    "\n",
    "* **recall**        [por clase **+** average]\t\n",
    "\n",
    "* **f1-score**\t    [por clase **+** average]\n",
    "\n",
    "* **roc_auc**       [por clase **+** average]\n",
    "\n",
    "* **Accuracy**"
   ]
  },
  {
   "cell_type": "markdown",
   "metadata": {},
   "source": [
    "Para evaluar la performance de cada modelo se realizó la apertura de cada metrica por clase, para poder ver el desempeño del modelo clasificando cada clase en particular:\n",
    "- Para evitar perder el detalle comparando el desempeño en cada una con un modelo aleatorio y descubrir si predice en algun caso por debajo de ese umbral minimo (0,5)\n",
    "- tiene algun especial desequilibro entre precision y recall en alguna clase en particular\n",
    "- y poder comparar el desempeño en c/u, sabiendo el modelo cuales predice mejor y cuales le cuesta mas.\n",
    "\n",
    "Con cada una de estas metricas buscamos ver:\n",
    "* Precision: vemos la tasa de predichos en la clase correcta sobre el total predecido como esa clase\n",
    "* Recall: vemos que % encuentra del total existente en esa clase\n",
    "* f1-score: obtenemos una media armonica entre precision y recall\n",
    "* roc-auc: como un resumen de la calidad de las predicciones positivas del modelo, que proporción de la clase son predichos correctamente del total existente (tasa de verdaderos positivo) vs los que clasifica erradamente (tasa de falsos positivos) sobre los negativos reales.\n",
    "\n",
    "El average nos entrega una medida global del modelo en su conjunto:\n",
    "Y al tratarse de un dataset perfectamente balanceado, el promedio es un buen indicador, sopesando cada clase por igual.\n",
    "\n",
    "*Para evaluar a los distintos modelos se utilizará la métrica Accuracy, no obstante no se considerarán modelos cuya roc_auc para al menos 1 categoría sea menor a 0.5*."
   ]
  },
  {
   "cell_type": "markdown",
   "metadata": {},
   "source": [
    "### Justificación"
   ]
  },
  {
   "cell_type": "markdown",
   "metadata": {},
   "source": [
    "El Accuracy como medida global unica para evaluar a cada modelo es una métrica que nos otorga un buen resumen de su performance, resumiendo su matriz de confusión en un unico valor que, si bien puede ocultarnos información del desempeño de cada clase en particular, al igual que los average, por tratarse un de un conjunto de datos balanceado nos brinda una buena medida resumen general.\n",
    "Por otro lado, dado que el objetivo del modelo es discriminar entre 10 clases, consideramos que un modelo funcional debe como mínimo poseer un valor diagnóstico para cada una de las 10 clases, por lo que se descartarán a todos los modelos en los que la métrica roc_auc sea igual o menor a 0.5 para alguna de las 10 clases."
   ]
  },
  {
   "cell_type": "markdown",
   "metadata": {
    "tags": []
   },
   "source": [
    "## Punto 5: Exploración de modelo Random Forest"
   ]
  },
  {
   "cell_type": "code",
   "execution_count": 7,
   "metadata": {},
   "outputs": [],
   "source": [
    "#La función crea un csv\n",
    "def ensemble_exploring(xtrain, ytrain, xval, yval, model=\"random forest\", \n",
    "                params={'n_estimators': None,\n",
    "                               'max_depth': None},\n",
    "                results_folder=None):\n",
    "    for key,values in tqdm(params.items()):\n",
    "        if model==\"random forest\":\n",
    "            print(f\"Exploring {model} classifier\")\n",
    "            start = time.time()\n",
    "            clf = RandomForestClassifier(random_state=42)\n",
    "        elif model == \"gradient boosting\": \n",
    "            print(f\"Exploring {model} classifier\")\n",
    "            start = time.time()\n",
    "            clf = GradientBoostingClassifier(random_state=42)\n",
    "        else: \n",
    "            print(\"Model must be 'gradient boosting' or 'random forest'\")\n",
    "            break\n",
    "        scores = []\n",
    "        max_n_est = None #esto es para iterar fijando este parámetro\n",
    "        for v in tqdm(values):  \n",
    "            if max_n_est: \n",
    "                p = {key:v, \"n_estimators\":max_n_est}\n",
    "            else:\n",
    "                p = {key:v}\n",
    "            clf.set_params(**p)\n",
    "            clf.fit(x_train, y_train)\n",
    "            stop = time.time()\n",
    "            y_pred = clf.predict(x_val)\n",
    "            result_dict = {key:v, 'training_acc':clf.score(xtrain, ytrain), 'test_acc':clf.score(xval, yval), 'time':stop-start}\n",
    "            scores.append(result_dict)\n",
    "        today = datetime.now().strftime(\"%Y%m%d\")\n",
    "        path = f\"{results_folder}/results_{model.replace(' ','_')}_parm_{key}_{today}.csv\"\n",
    "        results = pd.DataFrame(scores).set_index(key)\n",
    "        results.to_csv(path)\n",
    "        if key == \"n_estimators\":\n",
    "            max_n_est = int(results[['test_acc']].idxmax())"
   ]
  },
  {
   "cell_type": "code",
   "execution_count": 8,
   "metadata": {},
   "outputs": [],
   "source": [
    "img_folder= \"./img\"\n",
    "                \n",
    "from pathlib import Path\n",
    "Path(img_folder).mkdir(parents=True, exist_ok=True)\n",
    "\n",
    "result_folder= \"./results\"\n",
    "                \n",
    "from pathlib import Path\n",
    "Path(result_folder).mkdir(parents=True, exist_ok=True)\n",
    "\n",
    "#######################################################\n",
    "### ESTA PARTE YA SE CORRIO\n",
    "######################################################\n",
    "# rf_params = params={'n_estimators': range(50, 501, 50),\n",
    "#                     'max_depth': range(10, 101, 10)}\n",
    "# ensemble_exploring(x_train, y_train, x_val, y_val, \n",
    "#                    model=\"random forest\",\n",
    "#                    params=rf_params,\n",
    "#                    results_folder = result_folder)\n"
   ]
  },
  {
   "cell_type": "markdown",
   "metadata": {},
   "source": [
    "Grafico las distintas métricas para cada valor de n_estimators"
   ]
  },
  {
   "cell_type": "code",
   "execution_count": 40,
   "metadata": {},
   "outputs": [
    {
     "data": {
      "image/png": "[encoded data removed]",
      "text/plain": [
       "<Figure size 432x288 with 2 Axes>"
      ]
     },
     "metadata": {
      "needs_background": "light"
     },
     "output_type": "display_data"
    }
   ],
   "source": [
    "model = \"random forest\"\n",
    "parameter = \"n_estimators\"\n",
    "lastdate = \"20220608\" #chequear el ultimo archivo para levantar\n",
    "input_path = f\"./results/results_{model.replace(' ','_')}_parm_{parameter}_{lastdate}.csv\" #armo el path para levantar el csv correcto\n",
    "\n",
    "scores_rf_df = pd.read_csv(input_path)\n",
    "\n",
    "fig, ax1 = plt.subplots()\n",
    "\n",
    "ax2 = ax1.twinx()\n",
    "p1 = ax1.plot(scores_rf_df[parameter], scores_rf_df.training_acc, 'b-', label = 'training accuracy')\n",
    "p2 = ax1.plot(scores_rf_df[parameter], scores_rf_df.test_acc, 'r-', label = 'test accuracy')\n",
    "p3 = ax2.plot(scores_rf_df[parameter], scores_rf_df.time, 'g--', label = 'time spent')\n",
    "\n",
    "ax1.set_xlabel(parameter)\n",
    "ax1.set_ylabel('accuracy')\n",
    "ax2.set_ylabel('time spent', color='g')\n",
    "\n",
    "# added these three lines\n",
    "lgs = p1+p2+p3\n",
    "labs = [l.get_label() for l in lgs]\n",
    "ax1.legend(lgs, labs, loc=\"center left\")\n",
    "\n",
    "output_path =  f\"./img/results_{model.replace(' ','_')}_parm_{parameter}_{lastdate}.png\"\n",
    "\n",
    "#plt.show()\n",
    "plt.savefig(output_path, dpi=200, facecolor=\"white\")"
   ]
  },
  {
   "cell_type": "code",
   "execution_count": 39,
   "metadata": {},
   "outputs": [
    {
     "data": {
      "image/png": "[encoded data removed]",
      "text/plain": [
       "<Figure size 432x288 with 2 Axes>"
      ]
     },
     "metadata": {
      "needs_background": "light"
     },
     "output_type": "display_data"
    }
   ],
   "source": [
    "model = \"random forest\"\n",
    "parameter = \"max_depth\"\n",
    "lastdate = \"20220608\" #chequear el ultimo archivo para levantar\n",
    "input_path = f\"./results/results_{model.replace(' ','_')}_parm_{parameter}_{lastdate}.csv\" #armo el path para levantar el csv correcto\n",
    "\n",
    "scores_rf_df = pd.read_csv(input_path)\n",
    "\n",
    "fig, ax1 = plt.subplots()\n",
    "\n",
    "ax2 = ax1.twinx()\n",
    "p1 = ax1.plot(scores_rf_df[parameter], scores_rf_df.training_acc, 'b-', label = 'training accuracy')\n",
    "p2 = ax1.plot(scores_rf_df[parameter], scores_rf_df.test_acc, 'r-', label = 'test accuracy')\n",
    "p3 = ax2.plot(scores_rf_df[parameter], scores_rf_df.time, 'g--', label = 'time spent')\n",
    "\n",
    "ax1.set_xlabel(parameter)\n",
    "ax1.set_ylabel('accuracy')\n",
    "ax2.set_ylabel('time spent', color='g')\n",
    "\n",
    "# added these three lines\n",
    "lgs = p1+p2+p3\n",
    "labs = [l.get_label() for l in lgs]\n",
    "ax1.legend(lgs, labs, loc=\"best\")\n",
    "\n",
    "output_path =  f\"./img/results_{model.replace(' ','_')}_parm_{parameter}_{lastdate}.png\"\n",
    "\n",
    "#plt.show()\n",
    "plt.savefig(output_path, dpi=200, facecolor=\"white\")"
   ]
  },
  {
   "cell_type": "markdown",
   "metadata": {
    "tags": []
   },
   "source": [
    "## Punto 6: Exploración de modelo Gradient Boosting Machine"
   ]
  },
  {
   "cell_type": "code",
   "execution_count": null,
   "metadata": {},
   "outputs": [],
   "source": [
    "img_folder= \"./img\"\n",
    "                \n",
    "from pathlib import Path\n",
    "Path(img_folder).mkdir(parents=True, exist_ok=True)\n",
    "\n",
    "result_folder= \"./results\"\n",
    "                \n",
    "from pathlib import Path\n",
    "Path(result_folder).mkdir(parents=True, exist_ok=True)\n",
    "\n",
    "#Falta correr esta parte. \n",
    "gb_params = params={'n_estimators': [10,50,100,150,200],\n",
    "                    'max_depth': [1,3,5,7,9]}\n",
    "\n",
    "ensemble_exploring(x_train, y_train, x_val, y_val, \n",
    "                   model=\"gradient boosting\",\n",
    "                   params=gb_params,\n",
    "                   results_folder = result_folder)\n",
    "\n",
    "#######################################################\n",
    "### ESTA PARTE YA SE CORRIO -> se corto despues de 14 horas incompleto\n",
    "######################################################\n",
    "#  0%|          | 0/2 [00:00<?, ?it/s]\n",
    "# \n",
    "# Exploring gradient boosting classifier\n",
    "# 100%|██████████| 5/5 [2:30:52<00:00, 1810.41s/it]\n",
    "# 50%|█████     | 1/2 [2:30:52<2:30:52, 9052.10s/it]\n",
    "#\n",
    "# Exploring gradient boosting classifier3\n",
    "# 30%|███       | 3/10 [20:26:23<47:41:35, 24527.99s/it]\n",
    "# 50%|█████     | 1/2 [22:57:16<22:57:16, 82636.07s/it]"
   ]
  },
  {
   "cell_type": "code",
   "execution_count": 38,
   "metadata": {},
   "outputs": [
    {
     "data": {
      "image/png": "[encoded data removed]",
      "text/plain": [
       "<Figure size 432x288 with 2 Axes>"
      ]
     },
     "metadata": {
      "needs_background": "light"
     },
     "output_type": "display_data"
    }
   ],
   "source": [
    "model = \"gradient boosting\"\n",
    "parameter = \"n_estimators\"\n",
    "lastdate = \"20220609\" #chequear el ultimo archivo para levantar\n",
    "input_path = f\"./results/results_{model.replace(' ','_')}_parm_{parameter}_{lastdate}.csv\" #armo el path para levantar el csv correcto\n",
    "\n",
    "scores_gb_df = pd.read_csv(input_path)\n",
    "\n",
    "fig, ax1 = plt.subplots()\n",
    "\n",
    "ax2 = ax1.twinx()\n",
    "p1 = ax1.plot(scores_gb_df[parameter], scores_gb_df.training_acc, 'b-', label = 'training accuracy')\n",
    "p2 = ax1.plot(scores_gb_df[parameter], scores_gb_df.test_acc, 'r-', label = 'test accuracy')\n",
    "p3 = ax2.plot(scores_gb_df[parameter], scores_gb_df.time, 'g--', label = 'time spent')\n",
    "\n",
    "ax1.set_xlabel(parameter)\n",
    "ax1.set_ylabel('accuracy')\n",
    "ax2.set_ylabel('time spent', color='g')\n",
    "\n",
    "# added these three lines\n",
    "lgs = p1+p2+p3\n",
    "labs = [l.get_label() for l in lgs]\n",
    "ax1.legend(lgs, labs, loc=\"best\")\n",
    "\n",
    "output_path =  f\"./img/results_{model.replace(' ','_')}_parm_{parameter}_{lastdate}.png\"\n",
    "\n",
    "plt.savefig(output_path, dpi=200, facecolor=\"white\")"
   ]
  },
  {
   "cell_type": "code",
   "execution_count": 37,
   "metadata": {},
   "outputs": [
    {
     "data": {
      "image/png": "[encoded data removed]",
      "text/plain": [
       "<Figure size 432x288 with 2 Axes>"
      ]
     },
     "metadata": {
      "needs_background": "light"
     },
     "output_type": "display_data"
    }
   ],
   "source": [
    "model = \"gradient boosting\"\n",
    "parameter = \"max_depth\"\n",
    "lastdate = \"20220611\" #chequear el ultimo archivo para levantar\n",
    "input_path = f\"./results/results_{model.replace(' ','_')}_parm_{parameter}_{lastdate}.csv\" #armo el path para levantar el csv correcto\n",
    "\n",
    "scores_gb_df = pd.read_csv(input_path)\n",
    "\n",
    "fig, ax1 = plt.subplots()\n",
    "\n",
    "ax2 = ax1.twinx()\n",
    "p1 = ax1.plot(scores_gb_df[parameter], scores_gb_df.training_acc, 'b-', label = 'training accuracy')\n",
    "p2 = ax1.plot(scores_gb_df[parameter], scores_gb_df.test_acc, 'r-', label = 'test accuracy')\n",
    "p3 = ax2.plot(scores_gb_df[parameter], scores_gb_df.time, 'g--', label = 'time spent')\n",
    "\n",
    "ax1.set_xlabel(parameter)\n",
    "ax1.set_ylabel('accuracy')\n",
    "ax2.set_ylabel('time spent', color='g')\n",
    "\n",
    "# added these three lines\n",
    "lgs = p1+p2+p3\n",
    "labs = [l.get_label() for l in lgs]\n",
    "ax1.legend(lgs, labs, loc=\"best\")\n",
    "\n",
    "output_path =  f\"./img/results_{model.replace(' ','_')}_parm_{parameter}_{lastdate}.png\"\n",
    "\n",
    "plt.savefig(output_path, dpi=200, facecolor=\"white\")"
   ]
  },
  {
   "cell_type": "markdown",
   "metadata": {
    "tags": []
   },
   "source": [
    "## Punto 7: Análisis de mejores modelos obtenidos de Random Forest y Gradient Boosting Machine"
   ]
  },
  {
   "cell_type": "markdown",
   "metadata": {},
   "source": [
    "### Vuelvo a entrenar los modelos anteriores, pero con los hiperparámetros óptimos"
   ]
  },
  {
   "cell_type": "markdown",
   "metadata": {},
   "source": [
    "PASO 1: Recupero los Conjuntos de Datos originales\n",
    "* Desarrollo: X_dev, y_dev\n",
    "\n",
    "* Test: X_test, y_test\n"
   ]
  },
  {
   "cell_type": "code",
   "execution_count": 48,
   "metadata": {},
   "outputs": [
    {
     "name": "stdout",
     "output_type": "stream",
     "text": [
      "(60000, 784)  +  (60000,)\n"
     ]
    }
   ],
   "source": [
    "# Verificamos conjunto desarrollo -> 60mil registros\n",
    "X_dev = X_train\n",
    "y_dev = df_entrenamiento[0]\n",
    "\n",
    "print(X_dev.shape, ' + ', y_dev.shape)"
   ]
  },
  {
   "cell_type": "code",
   "execution_count": 49,
   "metadata": {},
   "outputs": [
    {
     "name": "stdout",
     "output_type": "stream",
     "text": [
      "(10000, 784)  +  (10000,)\n"
     ]
    }
   ],
   "source": [
    "# Verificamos conjunto de Test -> 10mil registros\n",
    "\n",
    "print(X_test.shape, ' + ', y_test.shape)"
   ]
  },
  {
   "cell_type": "markdown",
   "metadata": {},
   "source": [
    "PASO 2: Recupero los mejores parametros de cada modelo -> re-entrenamos los modelos usando esos parametros y con todo el dataset de desarrollo"
   ]
  },
  {
   "cell_type": "markdown",
   "metadata": {},
   "source": [
    "#### Random Forest"
   ]
  },
  {
   "cell_type": "code",
   "execution_count": 51,
   "metadata": {},
   "outputs": [
    {
     "name": "stdout",
     "output_type": "stream",
     "text": [
      "los hiperparámetros óptimos del random forest son nº estimators = 450 y max_depth = 30\n"
     ]
    }
   ],
   "source": [
    "# Mejores Parametros Random Forest:\n",
    "n_estimators_rf = 450\n",
    "max_depth_rf = 30\n",
    "\n",
    "print(f'los hiperparámetros óptimos del random forest son nº estimators = {n_estimators_rf} y max_depth = {max_depth_rf}')  # leerlos del csv\n",
    "\n",
    "# rfo = RandomForestClassifier(random_state = 42, verbose=1, n_jobs=-1, n_estimators=n_estimators_rf, max_depth=max_depth_rf)\n",
    "# rfo.fit(X_dev, y_dev)\n",
    "# with open('models/random_forest_opt.pkl', 'wb') as modelFile:\n",
    "#    pickle.dump(rfo, modelFile)"
   ]
  },
  {
   "cell_type": "markdown",
   "metadata": {
    "tags": []
   },
   "source": [
    "#### Gradient boosting machines"
   ]
  },
  {
   "cell_type": "code",
   "execution_count": 52,
   "metadata": {},
   "outputs": [
    {
     "name": "stdout",
     "output_type": "stream",
     "text": [
      "los hiperparámetros óptimos del gradient boosting machines son nº estimators = 50 y max_depth = 7\n"
     ]
    }
   ],
   "source": [
    "# Mejores Parametros Gradient Boosting:\n",
    "n_estimators_gb = 50\n",
    "max_depth_gb = 7\n",
    "print(f'los hiperparámetros óptimos del gradient boosting machines son nº estimators = {n_estimators_gb} y max_depth = {max_depth_gb}')  # leerlos del csv\n",
    "\n",
    "# gbmo = GradientBoostingClassifier(random_state=42, n_estimators = n_estimators_gb, max_depth = max_depth_gb)\n",
    "# gbmo.fit(X_dev, y_dev)\n",
    "# with open('models/gradientboostingmachines_opt.pkl', 'wb') as modelFile:\n",
    "#    pickle.dump(gbmo, modelFile)\n"
   ]
  },
  {
   "cell_type": "markdown",
   "metadata": {
    "tags": []
   },
   "source": [
    "### Evaluación sobre el conjunto de test"
   ]
  },
  {
   "cell_type": "code",
   "execution_count": 53,
   "metadata": {},
   "outputs": [
    {
     "name": "stdout",
     "output_type": "stream",
     "text": [
      "(10000, 784)  +  (10000,)\n"
     ]
    }
   ],
   "source": [
    "# Verificamos conjunto de Test -> 10mil registros\n",
    "\n",
    "print(X_test.shape, ' + ', y_test.shape)"
   ]
  },
  {
   "cell_type": "markdown",
   "metadata": {},
   "source": [
    "Definimos funcion para generar el reporte de metricas:"
   ]
  },
  {
   "cell_type": "code",
   "execution_count": 54,
   "metadata": {},
   "outputs": [],
   "source": [
    "def preatty_classif_report(y_test, y_pred):\n",
    "    f = ['accuracy', 'macro_avg', 'weighted_avg']\n",
    "    nombres = ['T-shirt/top [0]', 'Trouser [1]', 'Pullover [2]', 'Dress [3]', 'Coat [4]', 'Sandal [5]', 'Shirt [6]', 'Sneaker [7]', 'Bag [8]', 'Ankle boot [9]']\n",
    "    index_rep = nombres + f\n",
    "        \n",
    "    dfc= classif_report(y_test, y_pred).round(3)\n",
    "    dfc.loc[f,'support'] = len(y_test)\n",
    "    dfc.support = dfc.support.astype(int)\n",
    "    dfc = dfc[['precision', 'recall', 'f1-score', 'roc_auc', 'support']]\n",
    "    dfc.index = index_rep\n",
    "    return dfc"
   ]
  },
  {
   "cell_type": "markdown",
   "metadata": {},
   "source": [
    "Evaluamos el Modelo de Random Forest"
   ]
  },
  {
   "cell_type": "code",
   "execution_count": 55,
   "metadata": {},
   "outputs": [
    {
     "name": "stderr",
     "output_type": "stream",
     "text": [
      "[Parallel(n_jobs=12)]: Using backend ThreadingBackend with 12 concurrent workers.\n",
      "[Parallel(n_jobs=12)]: Done  26 tasks      | elapsed:    0.0s\n",
      "[Parallel(n_jobs=12)]: Done 176 tasks      | elapsed:    0.4s\n",
      "[Parallel(n_jobs=12)]: Done 426 tasks      | elapsed:    0.9s\n",
      "[Parallel(n_jobs=12)]: Done 450 out of 450 | elapsed:    0.9s finished\n"
     ]
    }
   ],
   "source": [
    "# Predecimos con el modelo de Random Forest optimizado, sobre el conjunto de test original:\n",
    "with open('models/random_forest_opt.pkl','rb') as modelFile:\n",
    "     rfo = pickle.load(modelFile)\n",
    "y_rfpred = rfo.predict(X_test)"
   ]
  },
  {
   "cell_type": "code",
   "execution_count": 56,
   "metadata": {},
   "outputs": [
    {
     "data": {
      "text/html": [
       "<div>\n",
       "<style scoped>\n",
       "    .dataframe tbody tr th:only-of-type {\n",
       "        vertical-align: middle;\n",
       "    }\n",
       "\n",
       "    .dataframe tbody tr th {\n",
       "        vertical-align: top;\n",
       "    }\n",
       "\n",
       "    .dataframe thead th {\n",
       "        text-align: right;\n",
       "    }\n",
       "</style>\n",
       "<table border=\"1\" class=\"dataframe\">\n",
       "  <thead>\n",
       "    <tr style=\"text-align: right;\">\n",
       "      <th></th>\n",
       "      <th>precision</th>\n",
       "      <th>recall</th>\n",
       "      <th>f1-score</th>\n",
       "      <th>roc_auc</th>\n",
       "      <th>support</th>\n",
       "    </tr>\n",
       "  </thead>\n",
       "  <tbody>\n",
       "    <tr>\n",
       "      <th>T-shirt/top [0]</th>\n",
       "      <td>0.825</td>\n",
       "      <td>0.857</td>\n",
       "      <td>0.841</td>\n",
       "      <td>0.918</td>\n",
       "      <td>1000</td>\n",
       "    </tr>\n",
       "    <tr>\n",
       "      <th>Trouser [1]</th>\n",
       "      <td>0.994</td>\n",
       "      <td>0.962</td>\n",
       "      <td>0.978</td>\n",
       "      <td>0.981</td>\n",
       "      <td>1000</td>\n",
       "    </tr>\n",
       "    <tr>\n",
       "      <th>Pullover [2]</th>\n",
       "      <td>0.774</td>\n",
       "      <td>0.806</td>\n",
       "      <td>0.789</td>\n",
       "      <td>0.890</td>\n",
       "      <td>1000</td>\n",
       "    </tr>\n",
       "    <tr>\n",
       "      <th>Dress [3]</th>\n",
       "      <td>0.881</td>\n",
       "      <td>0.914</td>\n",
       "      <td>0.897</td>\n",
       "      <td>0.950</td>\n",
       "      <td>1000</td>\n",
       "    </tr>\n",
       "    <tr>\n",
       "      <th>Coat [4]</th>\n",
       "      <td>0.769</td>\n",
       "      <td>0.824</td>\n",
       "      <td>0.796</td>\n",
       "      <td>0.898</td>\n",
       "      <td>1000</td>\n",
       "    </tr>\n",
       "    <tr>\n",
       "      <th>Sandal [5]</th>\n",
       "      <td>0.977</td>\n",
       "      <td>0.958</td>\n",
       "      <td>0.967</td>\n",
       "      <td>0.978</td>\n",
       "      <td>1000</td>\n",
       "    </tr>\n",
       "    <tr>\n",
       "      <th>Shirt [6]</th>\n",
       "      <td>0.718</td>\n",
       "      <td>0.593</td>\n",
       "      <td>0.650</td>\n",
       "      <td>0.784</td>\n",
       "      <td>1000</td>\n",
       "    </tr>\n",
       "    <tr>\n",
       "      <th>Sneaker [7]</th>\n",
       "      <td>0.928</td>\n",
       "      <td>0.952</td>\n",
       "      <td>0.940</td>\n",
       "      <td>0.972</td>\n",
       "      <td>1000</td>\n",
       "    </tr>\n",
       "    <tr>\n",
       "      <th>Bag [8]</th>\n",
       "      <td>0.962</td>\n",
       "      <td>0.975</td>\n",
       "      <td>0.968</td>\n",
       "      <td>0.985</td>\n",
       "      <td>1000</td>\n",
       "    </tr>\n",
       "    <tr>\n",
       "      <th>Ankle boot [9]</th>\n",
       "      <td>0.953</td>\n",
       "      <td>0.949</td>\n",
       "      <td>0.951</td>\n",
       "      <td>0.972</td>\n",
       "      <td>1000</td>\n",
       "    </tr>\n",
       "    <tr>\n",
       "      <th>accuracy</th>\n",
       "      <td>0.879</td>\n",
       "      <td>0.879</td>\n",
       "      <td>0.879</td>\n",
       "      <td>0.879</td>\n",
       "      <td>10000</td>\n",
       "    </tr>\n",
       "    <tr>\n",
       "      <th>macro_avg</th>\n",
       "      <td>0.878</td>\n",
       "      <td>0.879</td>\n",
       "      <td>0.878</td>\n",
       "      <td>0.933</td>\n",
       "      <td>10000</td>\n",
       "    </tr>\n",
       "    <tr>\n",
       "      <th>weighted_avg</th>\n",
       "      <td>0.878</td>\n",
       "      <td>0.879</td>\n",
       "      <td>0.878</td>\n",
       "      <td>0.933</td>\n",
       "      <td>10000</td>\n",
       "    </tr>\n",
       "  </tbody>\n",
       "</table>\n",
       "</div>"
      ],
      "text/plain": [
       "                 precision  recall  f1-score  roc_auc  support\n",
       "T-shirt/top [0]      0.825   0.857     0.841    0.918     1000\n",
       "Trouser [1]          0.994   0.962     0.978    0.981     1000\n",
       "Pullover [2]         0.774   0.806     0.789    0.890     1000\n",
       "Dress [3]            0.881   0.914     0.897    0.950     1000\n",
       "Coat [4]             0.769   0.824     0.796    0.898     1000\n",
       "Sandal [5]           0.977   0.958     0.967    0.978     1000\n",
       "Shirt [6]            0.718   0.593     0.650    0.784     1000\n",
       "Sneaker [7]          0.928   0.952     0.940    0.972     1000\n",
       "Bag [8]              0.962   0.975     0.968    0.985     1000\n",
       "Ankle boot [9]       0.953   0.949     0.951    0.972     1000\n",
       "accuracy             0.879   0.879     0.879    0.879    10000\n",
       "macro_avg            0.878   0.879     0.878    0.933    10000\n",
       "weighted_avg         0.878   0.879     0.878    0.933    10000"
      ]
     },
     "execution_count": 56,
     "metadata": {},
     "output_type": "execute_result"
    }
   ],
   "source": [
    "# Analizamos los resultados obtenido, con las metricas de evaluación: accuracy, precision, recall, f1-score, roc_auc\n",
    "eval_rf = preatty_classif_report(y_test, y_rfpred)\n",
    "eval_rf"
   ]
  },
  {
   "cell_type": "markdown",
   "metadata": {},
   "source": [
    "Evaluamos el Modelo de Gradient Boosting"
   ]
  },
  {
   "cell_type": "code",
   "execution_count": 57,
   "metadata": {},
   "outputs": [],
   "source": [
    "# # Predecimos con el modelo de Gradient Boosting optimizado, sobre el conjunto de test original:\n",
    "with open('models/gradientboostingmachines_opt.pkl', 'rb') as modelFile:\n",
    "    gbmo = pickle.load(modelFile)\n",
    "y_gbpred = gbmo.predict(X_test)"
   ]
  },
  {
   "cell_type": "code",
   "execution_count": 58,
   "metadata": {},
   "outputs": [
    {
     "data": {
      "text/html": [
       "<div>\n",
       "<style scoped>\n",
       "    .dataframe tbody tr th:only-of-type {\n",
       "        vertical-align: middle;\n",
       "    }\n",
       "\n",
       "    .dataframe tbody tr th {\n",
       "        vertical-align: top;\n",
       "    }\n",
       "\n",
       "    .dataframe thead th {\n",
       "        text-align: right;\n",
       "    }\n",
       "</style>\n",
       "<table border=\"1\" class=\"dataframe\">\n",
       "  <thead>\n",
       "    <tr style=\"text-align: right;\">\n",
       "      <th></th>\n",
       "      <th>precision</th>\n",
       "      <th>recall</th>\n",
       "      <th>f1-score</th>\n",
       "      <th>roc_auc</th>\n",
       "      <th>support</th>\n",
       "    </tr>\n",
       "  </thead>\n",
       "  <tbody>\n",
       "    <tr>\n",
       "      <th>T-shirt/top [0]</th>\n",
       "      <td>0.825</td>\n",
       "      <td>0.860</td>\n",
       "      <td>0.842</td>\n",
       "      <td>0.920</td>\n",
       "      <td>1000</td>\n",
       "    </tr>\n",
       "    <tr>\n",
       "      <th>Trouser [1]</th>\n",
       "      <td>0.993</td>\n",
       "      <td>0.955</td>\n",
       "      <td>0.973</td>\n",
       "      <td>0.977</td>\n",
       "      <td>1000</td>\n",
       "    </tr>\n",
       "    <tr>\n",
       "      <th>Pullover [2]</th>\n",
       "      <td>0.773</td>\n",
       "      <td>0.796</td>\n",
       "      <td>0.784</td>\n",
       "      <td>0.885</td>\n",
       "      <td>1000</td>\n",
       "    </tr>\n",
       "    <tr>\n",
       "      <th>Dress [3]</th>\n",
       "      <td>0.878</td>\n",
       "      <td>0.902</td>\n",
       "      <td>0.890</td>\n",
       "      <td>0.944</td>\n",
       "      <td>1000</td>\n",
       "    </tr>\n",
       "    <tr>\n",
       "      <th>Coat [4]</th>\n",
       "      <td>0.782</td>\n",
       "      <td>0.812</td>\n",
       "      <td>0.797</td>\n",
       "      <td>0.893</td>\n",
       "      <td>1000</td>\n",
       "    </tr>\n",
       "    <tr>\n",
       "      <th>Sandal [5]</th>\n",
       "      <td>0.976</td>\n",
       "      <td>0.960</td>\n",
       "      <td>0.968</td>\n",
       "      <td>0.979</td>\n",
       "      <td>1000</td>\n",
       "    </tr>\n",
       "    <tr>\n",
       "      <th>Shirt [6]</th>\n",
       "      <td>0.698</td>\n",
       "      <td>0.623</td>\n",
       "      <td>0.658</td>\n",
       "      <td>0.796</td>\n",
       "      <td>1000</td>\n",
       "    </tr>\n",
       "    <tr>\n",
       "      <th>Sneaker [7]</th>\n",
       "      <td>0.936</td>\n",
       "      <td>0.955</td>\n",
       "      <td>0.946</td>\n",
       "      <td>0.974</td>\n",
       "      <td>1000</td>\n",
       "    </tr>\n",
       "    <tr>\n",
       "      <th>Bag [8]</th>\n",
       "      <td>0.963</td>\n",
       "      <td>0.967</td>\n",
       "      <td>0.965</td>\n",
       "      <td>0.981</td>\n",
       "      <td>1000</td>\n",
       "    </tr>\n",
       "    <tr>\n",
       "      <th>Ankle boot [9]</th>\n",
       "      <td>0.952</td>\n",
       "      <td>0.951</td>\n",
       "      <td>0.951</td>\n",
       "      <td>0.973</td>\n",
       "      <td>1000</td>\n",
       "    </tr>\n",
       "    <tr>\n",
       "      <th>accuracy</th>\n",
       "      <td>0.878</td>\n",
       "      <td>0.878</td>\n",
       "      <td>0.878</td>\n",
       "      <td>0.878</td>\n",
       "      <td>10000</td>\n",
       "    </tr>\n",
       "    <tr>\n",
       "      <th>macro_avg</th>\n",
       "      <td>0.878</td>\n",
       "      <td>0.878</td>\n",
       "      <td>0.877</td>\n",
       "      <td>0.932</td>\n",
       "      <td>10000</td>\n",
       "    </tr>\n",
       "    <tr>\n",
       "      <th>weighted_avg</th>\n",
       "      <td>0.878</td>\n",
       "      <td>0.878</td>\n",
       "      <td>0.877</td>\n",
       "      <td>0.932</td>\n",
       "      <td>10000</td>\n",
       "    </tr>\n",
       "  </tbody>\n",
       "</table>\n",
       "</div>"
      ],
      "text/plain": [
       "                 precision  recall  f1-score  roc_auc  support\n",
       "T-shirt/top [0]      0.825   0.860     0.842    0.920     1000\n",
       "Trouser [1]          0.993   0.955     0.973    0.977     1000\n",
       "Pullover [2]         0.773   0.796     0.784    0.885     1000\n",
       "Dress [3]            0.878   0.902     0.890    0.944     1000\n",
       "Coat [4]             0.782   0.812     0.797    0.893     1000\n",
       "Sandal [5]           0.976   0.960     0.968    0.979     1000\n",
       "Shirt [6]            0.698   0.623     0.658    0.796     1000\n",
       "Sneaker [7]          0.936   0.955     0.946    0.974     1000\n",
       "Bag [8]              0.963   0.967     0.965    0.981     1000\n",
       "Ankle boot [9]       0.952   0.951     0.951    0.973     1000\n",
       "accuracy             0.878   0.878     0.878    0.878    10000\n",
       "macro_avg            0.878   0.878     0.877    0.932    10000\n",
       "weighted_avg         0.878   0.878     0.877    0.932    10000"
      ]
     },
     "execution_count": 58,
     "metadata": {},
     "output_type": "execute_result"
    }
   ],
   "source": [
    "# Analizamos los resultados obtenido, con las metricas de evaluación: accuracy, precision, recall, f1-score, roc_auc\n",
    "eval_gb = preatty_classif_report(y_test, y_gbpred)\n",
    "eval_gb"
   ]
  },
  {
   "cell_type": "markdown",
   "metadata": {
    "tags": []
   },
   "source": [
    "### Comparación de modelos y Análisis de resultados en base a métricas elegidas"
   ]
  },
  {
   "cell_type": "markdown",
   "metadata": {},
   "source": [
    "#### Análisis de métricas"
   ]
  },
  {
   "cell_type": "code",
   "execution_count": 61,
   "metadata": {},
   "outputs": [
    {
     "data": {
      "text/html": [
       "<div>\n",
       "<style scoped>\n",
       "    .dataframe tbody tr th:only-of-type {\n",
       "        vertical-align: middle;\n",
       "    }\n",
       "\n",
       "    .dataframe tbody tr th {\n",
       "        vertical-align: top;\n",
       "    }\n",
       "\n",
       "    .dataframe thead th {\n",
       "        text-align: right;\n",
       "    }\n",
       "</style>\n",
       "<table border=\"1\" class=\"dataframe\">\n",
       "  <thead>\n",
       "    <tr style=\"text-align: right;\">\n",
       "      <th></th>\n",
       "      <th>Random Forest</th>\n",
       "      <th>Gradient Boosting</th>\n",
       "    </tr>\n",
       "    <tr>\n",
       "      <th>Class/Metric</th>\n",
       "      <th></th>\n",
       "      <th></th>\n",
       "    </tr>\n",
       "  </thead>\n",
       "  <tbody>\n",
       "    <tr>\n",
       "      <th>T-shirt/top [0]</th>\n",
       "      <td>0.840608</td>\n",
       "      <td>0.841899</td>\n",
       "    </tr>\n",
       "    <tr>\n",
       "      <th>Trouser [1]</th>\n",
       "      <td>0.977642</td>\n",
       "      <td>0.973496</td>\n",
       "    </tr>\n",
       "    <tr>\n",
       "      <th>Pullover [2]</th>\n",
       "      <td>0.789422</td>\n",
       "      <td>0.784236</td>\n",
       "    </tr>\n",
       "    <tr>\n",
       "      <th>Dress [3]</th>\n",
       "      <td>0.897398</td>\n",
       "      <td>0.889985</td>\n",
       "    </tr>\n",
       "    <tr>\n",
       "      <th>Coat [4]</th>\n",
       "      <td>0.795751</td>\n",
       "      <td>0.796860</td>\n",
       "    </tr>\n",
       "    <tr>\n",
       "      <th>Sandal [5]</th>\n",
       "      <td>0.967188</td>\n",
       "      <td>0.967742</td>\n",
       "    </tr>\n",
       "    <tr>\n",
       "      <th>Shirt [6]</th>\n",
       "      <td>0.649507</td>\n",
       "      <td>0.658214</td>\n",
       "    </tr>\n",
       "    <tr>\n",
       "      <th>Sneaker [7]</th>\n",
       "      <td>0.939783</td>\n",
       "      <td>0.945545</td>\n",
       "    </tr>\n",
       "    <tr>\n",
       "      <th>Bag [8]</th>\n",
       "      <td>0.968222</td>\n",
       "      <td>0.965070</td>\n",
       "    </tr>\n",
       "    <tr>\n",
       "      <th>Ankle boot [9]</th>\n",
       "      <td>0.950902</td>\n",
       "      <td>0.951476</td>\n",
       "    </tr>\n",
       "    <tr>\n",
       "      <th>accuracy</th>\n",
       "      <td>0.879000</td>\n",
       "      <td>0.878100</td>\n",
       "    </tr>\n",
       "    <tr>\n",
       "      <th>avg_f1-score</th>\n",
       "      <td>0.877642</td>\n",
       "      <td>0.877452</td>\n",
       "    </tr>\n",
       "  </tbody>\n",
       "</table>\n",
       "</div>"
      ],
      "text/plain": [
       "                 Random Forest  Gradient Boosting\n",
       "Class/Metric                                     \n",
       "T-shirt/top [0]       0.840608           0.841899\n",
       "Trouser [1]           0.977642           0.973496\n",
       "Pullover [2]          0.789422           0.784236\n",
       "Dress [3]             0.897398           0.889985\n",
       "Coat [4]              0.795751           0.796860\n",
       "Sandal [5]            0.967188           0.967742\n",
       "Shirt [6]             0.649507           0.658214\n",
       "Sneaker [7]           0.939783           0.945545\n",
       "Bag [8]               0.968222           0.965070\n",
       "Ankle boot [9]        0.950902           0.951476\n",
       "accuracy              0.879000           0.878100\n",
       "avg_f1-score          0.877642           0.877452"
      ]
     },
     "execution_count": 61,
     "metadata": {},
     "output_type": "execute_result"
    }
   ],
   "source": [
    "#compilando los dos modelos\n",
    "\n",
    "gbmo_report = classif_report(y_test, y_gbpred)\n",
    "rfo_report = classif_report(y_test, y_rfpred)\n",
    "\n",
    "\n",
    "metric = \"f1-score\"\n",
    "nombres = ['T-shirt/top [0]', 'Trouser [1]', 'Pullover [2]', 'Dress [3]', 'Coat [4]', 'Sandal [5]', 'Shirt [6]', 'Sneaker [7]', 'Bag [8]', 'Ankle boot [9]']\n",
    "index_serie = pd.Series(nombres + ['accuracy',\"avg_\"+metric])\n",
    "rfor = rfo_report[metric][:12].reset_index(drop=True)\n",
    "gbmor = gbmo_report[metric][:12].reset_index(drop=True)\n",
    "\n",
    "tabla2 = pd.concat([index_serie, rfor, gbmor], axis=1).set_index(0)\n",
    "\n",
    "tabla2.columns = ['Random Forest','Gradient Boosting']\n",
    "tabla2.index.name=\"Class/Metric\"\n",
    "tabla2"
   ]
  },
  {
   "cell_type": "code",
   "execution_count": 62,
   "metadata": {},
   "outputs": [
    {
     "name": "stdout",
     "output_type": "stream",
     "text": [
      "\\begin{table}\n",
      "\\caption{Resumen de Métricas: mejores modelos}\n",
      "\\begin{tabular}{lrr}\n",
      " & Random Forest & Gradient Boosting \\\\\n",
      "Class/Metric &  &  \\\\\n",
      "T-shirt/top [0] & 0.841 & 0.842 \\\\\n",
      "Trouser [1] & 0.978 & 0.973 \\\\\n",
      "Pullover [2] & 0.789 & 0.784 \\\\\n",
      "Dress [3] & 0.897 & 0.890 \\\\\n",
      "Coat [4] & 0.796 & 0.797 \\\\\n",
      "Sandal [5] & 0.967 & 0.968 \\\\\n",
      "Shirt [6] & 0.650 & 0.658 \\\\\n",
      "Sneaker [7] & 0.940 & 0.946 \\\\\n",
      "Bag [8] & 0.968 & 0.965 \\\\\n",
      "Ankle boot [9] & 0.951 & 0.951 \\\\\n",
      "accuracy & 0.879 & 0.878 \\\\\n",
      "avg_f1-score & 0.878 & 0.877 \\\\\n",
      "\\end{tabular}\n",
      "\\end{table}\n",
      "\n"
     ]
    }
   ],
   "source": [
    "t2 = tabla2.style.format(precision=3)\n",
    "print(t2.to_latex(caption=\"Resumen de Métricas: mejores modelos\"))"
   ]
  },
  {
   "cell_type": "code",
   "execution_count": 30,
   "metadata": {},
   "outputs": [
    {
     "data": {
      "text/html": [
       "<div>\n",
       "<style scoped>\n",
       "    .dataframe tbody tr th:only-of-type {\n",
       "        vertical-align: middle;\n",
       "    }\n",
       "\n",
       "    .dataframe tbody tr th {\n",
       "        vertical-align: top;\n",
       "    }\n",
       "\n",
       "    .dataframe thead th {\n",
       "        text-align: right;\n",
       "    }\n",
       "</style>\n",
       "<table border=\"1\" class=\"dataframe\">\n",
       "  <thead>\n",
       "    <tr style=\"text-align: right;\">\n",
       "      <th></th>\n",
       "      <th>precision</th>\n",
       "      <th>recall</th>\n",
       "      <th>f1-score</th>\n",
       "      <th>roc_auc</th>\n",
       "      <th>support</th>\n",
       "      <th>Rf || Gb</th>\n",
       "      <th>precision</th>\n",
       "      <th>recall</th>\n",
       "      <th>f1-score</th>\n",
       "      <th>roc_auc</th>\n",
       "      <th>support</th>\n",
       "    </tr>\n",
       "  </thead>\n",
       "  <tbody>\n",
       "    <tr>\n",
       "      <th>T-shirt/top [0]</th>\n",
       "      <td>0.825</td>\n",
       "      <td>0.857</td>\n",
       "      <td>0.841</td>\n",
       "      <td>0.918</td>\n",
       "      <td>1000</td>\n",
       "      <td>&lt;---||---&gt;</td>\n",
       "      <td>0.825</td>\n",
       "      <td>0.860</td>\n",
       "      <td>0.842</td>\n",
       "      <td>0.920</td>\n",
       "      <td>1000</td>\n",
       "    </tr>\n",
       "    <tr>\n",
       "      <th>Trouser [1]</th>\n",
       "      <td>0.994</td>\n",
       "      <td>0.962</td>\n",
       "      <td>0.978</td>\n",
       "      <td>0.981</td>\n",
       "      <td>1000</td>\n",
       "      <td>&lt;---||---&gt;</td>\n",
       "      <td>0.993</td>\n",
       "      <td>0.955</td>\n",
       "      <td>0.973</td>\n",
       "      <td>0.977</td>\n",
       "      <td>1000</td>\n",
       "    </tr>\n",
       "    <tr>\n",
       "      <th>Pullover [2]</th>\n",
       "      <td>0.774</td>\n",
       "      <td>0.806</td>\n",
       "      <td>0.789</td>\n",
       "      <td>0.890</td>\n",
       "      <td>1000</td>\n",
       "      <td>&lt;---||---&gt;</td>\n",
       "      <td>0.773</td>\n",
       "      <td>0.796</td>\n",
       "      <td>0.784</td>\n",
       "      <td>0.885</td>\n",
       "      <td>1000</td>\n",
       "    </tr>\n",
       "    <tr>\n",
       "      <th>Dress [3]</th>\n",
       "      <td>0.881</td>\n",
       "      <td>0.914</td>\n",
       "      <td>0.897</td>\n",
       "      <td>0.950</td>\n",
       "      <td>1000</td>\n",
       "      <td>&lt;---||---&gt;</td>\n",
       "      <td>0.878</td>\n",
       "      <td>0.902</td>\n",
       "      <td>0.890</td>\n",
       "      <td>0.944</td>\n",
       "      <td>1000</td>\n",
       "    </tr>\n",
       "    <tr>\n",
       "      <th>Coat [4]</th>\n",
       "      <td>0.769</td>\n",
       "      <td>0.824</td>\n",
       "      <td>0.796</td>\n",
       "      <td>0.898</td>\n",
       "      <td>1000</td>\n",
       "      <td>&lt;---||---&gt;</td>\n",
       "      <td>0.782</td>\n",
       "      <td>0.812</td>\n",
       "      <td>0.797</td>\n",
       "      <td>0.893</td>\n",
       "      <td>1000</td>\n",
       "    </tr>\n",
       "    <tr>\n",
       "      <th>Sandal [5]</th>\n",
       "      <td>0.977</td>\n",
       "      <td>0.958</td>\n",
       "      <td>0.967</td>\n",
       "      <td>0.978</td>\n",
       "      <td>1000</td>\n",
       "      <td>&lt;---||---&gt;</td>\n",
       "      <td>0.976</td>\n",
       "      <td>0.960</td>\n",
       "      <td>0.968</td>\n",
       "      <td>0.979</td>\n",
       "      <td>1000</td>\n",
       "    </tr>\n",
       "    <tr>\n",
       "      <th>Shirt [6]</th>\n",
       "      <td>0.718</td>\n",
       "      <td>0.593</td>\n",
       "      <td>0.650</td>\n",
       "      <td>0.784</td>\n",
       "      <td>1000</td>\n",
       "      <td>&lt;---||---&gt;</td>\n",
       "      <td>0.698</td>\n",
       "      <td>0.623</td>\n",
       "      <td>0.658</td>\n",
       "      <td>0.796</td>\n",
       "      <td>1000</td>\n",
       "    </tr>\n",
       "    <tr>\n",
       "      <th>Sneaker [7]</th>\n",
       "      <td>0.928</td>\n",
       "      <td>0.952</td>\n",
       "      <td>0.940</td>\n",
       "      <td>0.972</td>\n",
       "      <td>1000</td>\n",
       "      <td>&lt;---||---&gt;</td>\n",
       "      <td>0.936</td>\n",
       "      <td>0.955</td>\n",
       "      <td>0.946</td>\n",
       "      <td>0.974</td>\n",
       "      <td>1000</td>\n",
       "    </tr>\n",
       "    <tr>\n",
       "      <th>Bag [8]</th>\n",
       "      <td>0.962</td>\n",
       "      <td>0.975</td>\n",
       "      <td>0.968</td>\n",
       "      <td>0.985</td>\n",
       "      <td>1000</td>\n",
       "      <td>&lt;---||---&gt;</td>\n",
       "      <td>0.963</td>\n",
       "      <td>0.967</td>\n",
       "      <td>0.965</td>\n",
       "      <td>0.981</td>\n",
       "      <td>1000</td>\n",
       "    </tr>\n",
       "    <tr>\n",
       "      <th>Ankle boot [9]</th>\n",
       "      <td>0.953</td>\n",
       "      <td>0.949</td>\n",
       "      <td>0.951</td>\n",
       "      <td>0.972</td>\n",
       "      <td>1000</td>\n",
       "      <td>&lt;---||---&gt;</td>\n",
       "      <td>0.952</td>\n",
       "      <td>0.951</td>\n",
       "      <td>0.951</td>\n",
       "      <td>0.973</td>\n",
       "      <td>1000</td>\n",
       "    </tr>\n",
       "    <tr>\n",
       "      <th>accuracy</th>\n",
       "      <td>0.879</td>\n",
       "      <td>0.879</td>\n",
       "      <td>0.879</td>\n",
       "      <td>0.879</td>\n",
       "      <td>10000</td>\n",
       "      <td>&lt;---||---&gt;</td>\n",
       "      <td>0.878</td>\n",
       "      <td>0.878</td>\n",
       "      <td>0.878</td>\n",
       "      <td>0.878</td>\n",
       "      <td>10000</td>\n",
       "    </tr>\n",
       "    <tr>\n",
       "      <th>macro_avg</th>\n",
       "      <td>0.878</td>\n",
       "      <td>0.879</td>\n",
       "      <td>0.878</td>\n",
       "      <td>0.933</td>\n",
       "      <td>10000</td>\n",
       "      <td>&lt;---||---&gt;</td>\n",
       "      <td>0.878</td>\n",
       "      <td>0.878</td>\n",
       "      <td>0.877</td>\n",
       "      <td>0.932</td>\n",
       "      <td>10000</td>\n",
       "    </tr>\n",
       "    <tr>\n",
       "      <th>weighted_avg</th>\n",
       "      <td>0.878</td>\n",
       "      <td>0.879</td>\n",
       "      <td>0.878</td>\n",
       "      <td>0.933</td>\n",
       "      <td>10000</td>\n",
       "      <td>&lt;---||---&gt;</td>\n",
       "      <td>0.878</td>\n",
       "      <td>0.878</td>\n",
       "      <td>0.877</td>\n",
       "      <td>0.932</td>\n",
       "      <td>10000</td>\n",
       "    </tr>\n",
       "  </tbody>\n",
       "</table>\n",
       "</div>"
      ],
      "text/plain": [
       "                 precision  recall  f1-score  roc_auc  support    Rf || Gb  \\\n",
       "T-shirt/top [0]      0.825   0.857     0.841    0.918     1000  <---||--->   \n",
       "Trouser [1]          0.994   0.962     0.978    0.981     1000  <---||--->   \n",
       "Pullover [2]         0.774   0.806     0.789    0.890     1000  <---||--->   \n",
       "Dress [3]            0.881   0.914     0.897    0.950     1000  <---||--->   \n",
       "Coat [4]             0.769   0.824     0.796    0.898     1000  <---||--->   \n",
       "Sandal [5]           0.977   0.958     0.967    0.978     1000  <---||--->   \n",
       "Shirt [6]            0.718   0.593     0.650    0.784     1000  <---||--->   \n",
       "Sneaker [7]          0.928   0.952     0.940    0.972     1000  <---||--->   \n",
       "Bag [8]              0.962   0.975     0.968    0.985     1000  <---||--->   \n",
       "Ankle boot [9]       0.953   0.949     0.951    0.972     1000  <---||--->   \n",
       "accuracy             0.879   0.879     0.879    0.879    10000  <---||--->   \n",
       "macro_avg            0.878   0.879     0.878    0.933    10000  <---||--->   \n",
       "weighted_avg         0.878   0.879     0.878    0.933    10000  <---||--->   \n",
       "\n",
       "                 precision  recall  f1-score  roc_auc  support  \n",
       "T-shirt/top [0]      0.825   0.860     0.842    0.920     1000  \n",
       "Trouser [1]          0.993   0.955     0.973    0.977     1000  \n",
       "Pullover [2]         0.773   0.796     0.784    0.885     1000  \n",
       "Dress [3]            0.878   0.902     0.890    0.944     1000  \n",
       "Coat [4]             0.782   0.812     0.797    0.893     1000  \n",
       "Sandal [5]           0.976   0.960     0.968    0.979     1000  \n",
       "Shirt [6]            0.698   0.623     0.658    0.796     1000  \n",
       "Sneaker [7]          0.936   0.955     0.946    0.974     1000  \n",
       "Bag [8]              0.963   0.967     0.965    0.981     1000  \n",
       "Ankle boot [9]       0.952   0.951     0.951    0.973     1000  \n",
       "accuracy             0.878   0.878     0.878    0.878    10000  \n",
       "macro_avg            0.878   0.878     0.877    0.932    10000  \n",
       "weighted_avg         0.878   0.878     0.877    0.932    10000  "
      ]
     },
     "execution_count": 30,
     "metadata": {},
     "output_type": "execute_result"
    }
   ],
   "source": [
    "# Comparamos los resultados de los dos modelos:\n",
    "eval_rf['Rf || Gb'] = '<---||--->'\n",
    "\n",
    "pd.concat([eval_rf, eval_gb], axis=1)"
   ]
  },
  {
   "cell_type": "markdown",
   "metadata": {},
   "source": [
    "Hay algunas prendas que son difíciles de predecir para ambos modelos, tales como Shirt, Pullover y Coat."
   ]
  },
  {
   "cell_type": "markdown",
   "metadata": {},
   "source": [
    "### Conclusión sobre mejor modelo"
   ]
  },
  {
   "cell_type": "markdown",
   "metadata": {},
   "source": [
    "nombres"
   ]
  },
  {
   "cell_type": "markdown",
   "metadata": {
    "tags": []
   },
   "source": [
    "## Punto 8: Matriz de confusión de mejor modelo y su analisis"
   ]
  },
  {
   "cell_type": "code",
   "execution_count": 124,
   "metadata": {},
   "outputs": [
    {
     "data": {
      "text/html": [
       "<div>\n",
       "<style scoped>\n",
       "    .dataframe tbody tr th:only-of-type {\n",
       "        vertical-align: middle;\n",
       "    }\n",
       "\n",
       "    .dataframe tbody tr th {\n",
       "        vertical-align: top;\n",
       "    }\n",
       "\n",
       "    .dataframe thead th {\n",
       "        text-align: right;\n",
       "    }\n",
       "</style>\n",
       "<table border=\"1\" class=\"dataframe\">\n",
       "  <thead>\n",
       "    <tr style=\"text-align: right;\">\n",
       "      <th></th>\n",
       "      <th>T-shirt/top [0]</th>\n",
       "      <th>Trouser [1]</th>\n",
       "      <th>Pullover [2]</th>\n",
       "      <th>Dress [3]</th>\n",
       "      <th>Coat [4]</th>\n",
       "      <th>Sandal [5]</th>\n",
       "      <th>Shirt [6]</th>\n",
       "      <th>Sneaker [7]</th>\n",
       "      <th>Bag [8]</th>\n",
       "      <th>Ankle boot [9]</th>\n",
       "    </tr>\n",
       "  </thead>\n",
       "  <tbody>\n",
       "    <tr>\n",
       "      <th>T-shirt/top [0]</th>\n",
       "      <td>857</td>\n",
       "      <td>0</td>\n",
       "      <td>9</td>\n",
       "      <td>29</td>\n",
       "      <td>5</td>\n",
       "      <td>1</td>\n",
       "      <td>88</td>\n",
       "      <td>0</td>\n",
       "      <td>11</td>\n",
       "      <td>0</td>\n",
       "    </tr>\n",
       "    <tr>\n",
       "      <th>Trouser [1]</th>\n",
       "      <td>2</td>\n",
       "      <td>962</td>\n",
       "      <td>2</td>\n",
       "      <td>20</td>\n",
       "      <td>4</td>\n",
       "      <td>0</td>\n",
       "      <td>9</td>\n",
       "      <td>0</td>\n",
       "      <td>1</td>\n",
       "      <td>0</td>\n",
       "    </tr>\n",
       "    <tr>\n",
       "      <th>Pullover [2]</th>\n",
       "      <td>13</td>\n",
       "      <td>0</td>\n",
       "      <td>806</td>\n",
       "      <td>10</td>\n",
       "      <td>116</td>\n",
       "      <td>0</td>\n",
       "      <td>51</td>\n",
       "      <td>0</td>\n",
       "      <td>4</td>\n",
       "      <td>0</td>\n",
       "    </tr>\n",
       "    <tr>\n",
       "      <th>Dress [3]</th>\n",
       "      <td>15</td>\n",
       "      <td>2</td>\n",
       "      <td>11</td>\n",
       "      <td>914</td>\n",
       "      <td>28</td>\n",
       "      <td>0</td>\n",
       "      <td>28</td>\n",
       "      <td>0</td>\n",
       "      <td>2</td>\n",
       "      <td>0</td>\n",
       "    </tr>\n",
       "    <tr>\n",
       "      <th>Coat [4]</th>\n",
       "      <td>1</td>\n",
       "      <td>1</td>\n",
       "      <td>89</td>\n",
       "      <td>33</td>\n",
       "      <td>824</td>\n",
       "      <td>0</td>\n",
       "      <td>50</td>\n",
       "      <td>0</td>\n",
       "      <td>2</td>\n",
       "      <td>0</td>\n",
       "    </tr>\n",
       "    <tr>\n",
       "      <th>Sandal [5]</th>\n",
       "      <td>0</td>\n",
       "      <td>0</td>\n",
       "      <td>0</td>\n",
       "      <td>1</td>\n",
       "      <td>0</td>\n",
       "      <td>958</td>\n",
       "      <td>0</td>\n",
       "      <td>29</td>\n",
       "      <td>1</td>\n",
       "      <td>11</td>\n",
       "    </tr>\n",
       "    <tr>\n",
       "      <th>Shirt [6]</th>\n",
       "      <td>151</td>\n",
       "      <td>1</td>\n",
       "      <td>123</td>\n",
       "      <td>28</td>\n",
       "      <td>88</td>\n",
       "      <td>0</td>\n",
       "      <td>593</td>\n",
       "      <td>0</td>\n",
       "      <td>16</td>\n",
       "      <td>0</td>\n",
       "    </tr>\n",
       "    <tr>\n",
       "      <th>Sneaker [7]</th>\n",
       "      <td>0</td>\n",
       "      <td>0</td>\n",
       "      <td>0</td>\n",
       "      <td>0</td>\n",
       "      <td>0</td>\n",
       "      <td>12</td>\n",
       "      <td>0</td>\n",
       "      <td>952</td>\n",
       "      <td>0</td>\n",
       "      <td>36</td>\n",
       "    </tr>\n",
       "    <tr>\n",
       "      <th>Bag [8]</th>\n",
       "      <td>0</td>\n",
       "      <td>2</td>\n",
       "      <td>2</td>\n",
       "      <td>2</td>\n",
       "      <td>6</td>\n",
       "      <td>2</td>\n",
       "      <td>7</td>\n",
       "      <td>4</td>\n",
       "      <td>975</td>\n",
       "      <td>0</td>\n",
       "    </tr>\n",
       "    <tr>\n",
       "      <th>Ankle boot [9]</th>\n",
       "      <td>0</td>\n",
       "      <td>0</td>\n",
       "      <td>0</td>\n",
       "      <td>0</td>\n",
       "      <td>0</td>\n",
       "      <td>8</td>\n",
       "      <td>0</td>\n",
       "      <td>41</td>\n",
       "      <td>2</td>\n",
       "      <td>949</td>\n",
       "    </tr>\n",
       "  </tbody>\n",
       "</table>\n",
       "</div>"
      ],
      "text/plain": [
       "                 T-shirt/top [0]  Trouser [1]  Pullover [2]  Dress [3]  \\\n",
       "T-shirt/top [0]              857            0             9         29   \n",
       "Trouser [1]                    2          962             2         20   \n",
       "Pullover [2]                  13            0           806         10   \n",
       "Dress [3]                     15            2            11        914   \n",
       "Coat [4]                       1            1            89         33   \n",
       "Sandal [5]                     0            0             0          1   \n",
       "Shirt [6]                    151            1           123         28   \n",
       "Sneaker [7]                    0            0             0          0   \n",
       "Bag [8]                        0            2             2          2   \n",
       "Ankle boot [9]                 0            0             0          0   \n",
       "\n",
       "                 Coat [4]  Sandal [5]  Shirt [6]  Sneaker [7]  Bag [8]  \\\n",
       "T-shirt/top [0]         5           1         88            0       11   \n",
       "Trouser [1]             4           0          9            0        1   \n",
       "Pullover [2]          116           0         51            0        4   \n",
       "Dress [3]              28           0         28            0        2   \n",
       "Coat [4]              824           0         50            0        2   \n",
       "Sandal [5]              0         958          0           29        1   \n",
       "Shirt [6]              88           0        593            0       16   \n",
       "Sneaker [7]             0          12          0          952        0   \n",
       "Bag [8]                 6           2          7            4      975   \n",
       "Ankle boot [9]          0           8          0           41        2   \n",
       "\n",
       "                 Ankle boot [9]  \n",
       "T-shirt/top [0]               0  \n",
       "Trouser [1]                   0  \n",
       "Pullover [2]                  0  \n",
       "Dress [3]                     0  \n",
       "Coat [4]                      0  \n",
       "Sandal [5]                   11  \n",
       "Shirt [6]                     0  \n",
       "Sneaker [7]                  36  \n",
       "Bag [8]                       0  \n",
       "Ankle boot [9]              949  "
      ]
     },
     "execution_count": 124,
     "metadata": {},
     "output_type": "execute_result"
    }
   ],
   "source": [
    "# Creamos la matriz de confusion:\n",
    "from sklearn.metrics import confusion_matrix\n",
    "import seaborn as sns\n",
    "\n",
    "nombres = ['T-shirt/top [0]', 'Trouser [1]', 'Pullover [2]', 'Dress [3]', 'Coat [4]', 'Sandal [5]', 'Shirt [6]', 'Sneaker [7]', 'Bag [8]', 'Ankle boot [9]']\n",
    "clases = [0, 1, 2, 3, 4, 5, 6, 7, 8, 9]\n",
    "dicc = dict(zip(clases, nombres))\n",
    "\n",
    "\n",
    "matriz = confusion_matrix(y_test, y_rfpred)\n",
    "df_mc = pd.DataFrame(matriz, index=nombres, columns=nombres)\n",
    "#df_mc.index.map(dicc)\n",
    "#df_mc.columns.map(dicc)\n",
    "\n",
    "df_mc"
   ]
  },
  {
   "cell_type": "code",
   "execution_count": 126,
   "metadata": {},
   "outputs": [
    {
     "data": {
      "image/png": "[encoded data removed]",
      "text/plain": [
       "<Figure size 720x720 with 1 Axes>"
      ]
     },
     "metadata": {
      "needs_background": "light"
     },
     "output_type": "display_data"
    }
   ],
   "source": [
    "# graficamos la matriz de confusion\n",
    "\n",
    "plt.figure(figsize=(10,10))\n",
    "sns.heatmap(df_mc, annot=True, linewidths=.5, fmt=\".0f\", square = True, cmap = 'Blues_r', cbar=None ).set(xlabel='Predicted Class', ylabel='True Class')\n",
    "plt.title(\"Confusion Matrix: Random Forest\", fontsize=16), plt.tight_layout()\n",
    "#plt.show()\n",
    "\n",
    "plt.savefig(\"./img/confusion_matrix_best_model.png\", dpi=200, facecolor=\"white\")"
   ]
  },
  {
   "cell_type": "markdown",
   "metadata": {
    "tags": []
   },
   "source": [
    "## Punto 9: Estabilidad del modelo frente al ruido"
   ]
  },
  {
   "cell_type": "markdown",
   "metadata": {},
   "source": [
    "### Datos faltantes"
   ]
  },
  {
   "cell_type": "code",
   "execution_count": 10,
   "metadata": {},
   "outputs": [],
   "source": [
    "p = 0.1 #Proporción de 0s a introducir\n",
    "n = int(X_test.shape[0]*X_test.shape[1]*p)          #Calculate count of nans. Reemplazar nombre del dataframe\n",
    "\n",
    "#Sample exactly n indexes\n",
    "ids = sample(list(product(range(X_test.shape[0]), range(X_test.shape[1]))), n)\n",
    "idx, idy = list(zip(*ids))\n",
    "\n",
    "data = X_test.to_numpy().astype(float)            #Get data as numpy\n",
    "data[idx, idy] = 0                         \n",
    "\n",
    "#Assign to new dataframe\n",
    "X_ruido_zeros = pd.DataFrame(data, columns=X_test.columns, index=X_test.index)\n"
   ]
  },
  {
   "cell_type": "code",
   "execution_count": 11,
   "metadata": {
    "scrolled": true
   },
   "outputs": [
    {
     "data": {
      "image/png": "[encoded data removed]",
      "text/plain": [
       "<Figure size 1224x576 with 10 Axes>"
      ]
     },
     "metadata": {},
     "output_type": "display_data"
    }
   ],
   "source": [
    "clases = np.sort(df_completo[0].unique())\n",
    "\n",
    "class_names = ['T-shirt/top', 'Trouser', 'Pullover', 'Dress', 'Coat',\n",
    "               'Sandal', 'Shirt', 'Sneaker', 'Bag', 'Ankle boot']\n",
    "\n",
    "\n",
    "## Ejemplo 1\n",
    "plt.figure(figsize=(17,8))\n",
    "for i,clase_i in enumerate(clases):\n",
    "  filtro_i = y_test == clase_i\n",
    "  plt.subplot(2,5,i+1)\n",
    "  plt.title(str(class_names[clase_i])+str([clase_i]))\n",
    "  plt.xticks([])\n",
    "  plt.yticks([])\n",
    "  plt.grid(False)\n",
    "  plt.imshow(np.array(X_ruido_zeros[filtro_i].iloc[0]).reshape(28,28),cmap='binary')\n",
    "plt.tight_layout()"
   ]
  },
  {
   "cell_type": "code",
   "execution_count": 12,
   "metadata": {},
   "outputs": [
    {
     "name": "stderr",
     "output_type": "stream",
     "text": [
      "[Parallel(n_jobs=6)]: Using backend ThreadingBackend with 6 concurrent workers.\n",
      "[Parallel(n_jobs=6)]: Done  38 tasks      | elapsed:    0.0s\n",
      "[Parallel(n_jobs=6)]: Done 188 tasks      | elapsed:    0.1s\n",
      "[Parallel(n_jobs=6)]: Done 438 tasks      | elapsed:    0.4s\n",
      "[Parallel(n_jobs=6)]: Done 450 out of 450 | elapsed:    0.4s finished\n"
     ]
    },
    {
     "data": {
      "text/html": [
       "<div>\n",
       "<style scoped>\n",
       "    .dataframe tbody tr th:only-of-type {\n",
       "        vertical-align: middle;\n",
       "    }\n",
       "\n",
       "    .dataframe tbody tr th {\n",
       "        vertical-align: top;\n",
       "    }\n",
       "\n",
       "    .dataframe thead th {\n",
       "        text-align: right;\n",
       "    }\n",
       "</style>\n",
       "<table border=\"1\" class=\"dataframe\">\n",
       "  <thead>\n",
       "    <tr style=\"text-align: right;\">\n",
       "      <th></th>\n",
       "      <th>precision</th>\n",
       "      <th>recall</th>\n",
       "      <th>f1-score</th>\n",
       "      <th>support</th>\n",
       "      <th>roc_auc</th>\n",
       "    </tr>\n",
       "  </thead>\n",
       "  <tbody>\n",
       "    <tr>\n",
       "      <th>0</th>\n",
       "      <td>0.824579</td>\n",
       "      <td>0.8320</td>\n",
       "      <td>0.828273</td>\n",
       "      <td>1000.0000</td>\n",
       "      <td>0.906167</td>\n",
       "    </tr>\n",
       "    <tr>\n",
       "      <th>1</th>\n",
       "      <td>0.995838</td>\n",
       "      <td>0.9570</td>\n",
       "      <td>0.976033</td>\n",
       "      <td>1000.0000</td>\n",
       "      <td>0.978278</td>\n",
       "    </tr>\n",
       "    <tr>\n",
       "      <th>2</th>\n",
       "      <td>0.771543</td>\n",
       "      <td>0.7700</td>\n",
       "      <td>0.770771</td>\n",
       "      <td>1000.0000</td>\n",
       "      <td>0.872333</td>\n",
       "    </tr>\n",
       "    <tr>\n",
       "      <th>3</th>\n",
       "      <td>0.804007</td>\n",
       "      <td>0.9230</td>\n",
       "      <td>0.859404</td>\n",
       "      <td>1000.0000</td>\n",
       "      <td>0.949000</td>\n",
       "    </tr>\n",
       "    <tr>\n",
       "      <th>4</th>\n",
       "      <td>0.764535</td>\n",
       "      <td>0.7890</td>\n",
       "      <td>0.776575</td>\n",
       "      <td>1000.0000</td>\n",
       "      <td>0.881000</td>\n",
       "    </tr>\n",
       "    <tr>\n",
       "      <th>5</th>\n",
       "      <td>0.882565</td>\n",
       "      <td>0.9770</td>\n",
       "      <td>0.927385</td>\n",
       "      <td>1000.0000</td>\n",
       "      <td>0.981278</td>\n",
       "    </tr>\n",
       "    <tr>\n",
       "      <th>6</th>\n",
       "      <td>0.691657</td>\n",
       "      <td>0.5720</td>\n",
       "      <td>0.626163</td>\n",
       "      <td>1000.0000</td>\n",
       "      <td>0.771833</td>\n",
       "    </tr>\n",
       "    <tr>\n",
       "      <th>7</th>\n",
       "      <td>0.927492</td>\n",
       "      <td>0.9210</td>\n",
       "      <td>0.924235</td>\n",
       "      <td>1000.0000</td>\n",
       "      <td>0.956500</td>\n",
       "    </tr>\n",
       "    <tr>\n",
       "      <th>8</th>\n",
       "      <td>0.948970</td>\n",
       "      <td>0.9670</td>\n",
       "      <td>0.957900</td>\n",
       "      <td>1000.0000</td>\n",
       "      <td>0.980611</td>\n",
       "    </tr>\n",
       "    <tr>\n",
       "      <th>9</th>\n",
       "      <td>0.971302</td>\n",
       "      <td>0.8800</td>\n",
       "      <td>0.923400</td>\n",
       "      <td>1000.0000</td>\n",
       "      <td>0.938556</td>\n",
       "    </tr>\n",
       "    <tr>\n",
       "      <th>accuracy</th>\n",
       "      <td>0.858800</td>\n",
       "      <td>0.8588</td>\n",
       "      <td>0.858800</td>\n",
       "      <td>0.8588</td>\n",
       "      <td>0.858800</td>\n",
       "    </tr>\n",
       "    <tr>\n",
       "      <th>macro_avg</th>\n",
       "      <td>0.858249</td>\n",
       "      <td>0.8588</td>\n",
       "      <td>0.857014</td>\n",
       "      <td>1000.0000</td>\n",
       "      <td>0.921556</td>\n",
       "    </tr>\n",
       "    <tr>\n",
       "      <th>weighted_avg</th>\n",
       "      <td>0.858249</td>\n",
       "      <td>0.8588</td>\n",
       "      <td>0.857014</td>\n",
       "      <td>1000.0000</td>\n",
       "      <td>0.921556</td>\n",
       "    </tr>\n",
       "  </tbody>\n",
       "</table>\n",
       "</div>"
      ],
      "text/plain": [
       "              precision  recall  f1-score    support   roc_auc\n",
       "0              0.824579  0.8320  0.828273  1000.0000  0.906167\n",
       "1              0.995838  0.9570  0.976033  1000.0000  0.978278\n",
       "2              0.771543  0.7700  0.770771  1000.0000  0.872333\n",
       "3              0.804007  0.9230  0.859404  1000.0000  0.949000\n",
       "4              0.764535  0.7890  0.776575  1000.0000  0.881000\n",
       "5              0.882565  0.9770  0.927385  1000.0000  0.981278\n",
       "6              0.691657  0.5720  0.626163  1000.0000  0.771833\n",
       "7              0.927492  0.9210  0.924235  1000.0000  0.956500\n",
       "8              0.948970  0.9670  0.957900  1000.0000  0.980611\n",
       "9              0.971302  0.8800  0.923400  1000.0000  0.938556\n",
       "accuracy       0.858800  0.8588  0.858800     0.8588  0.858800\n",
       "macro_avg      0.858249  0.8588  0.857014  1000.0000  0.921556\n",
       "weighted_avg   0.858249  0.8588  0.857014  1000.0000  0.921556"
      ]
     },
     "execution_count": 12,
     "metadata": {},
     "output_type": "execute_result"
    }
   ],
   "source": [
    "y_pred = rfo.predict(X_ruido_zeros)\n",
    "classif_report(y_test, y_pred)"
   ]
  },
  {
   "cell_type": "markdown",
   "metadata": {},
   "source": [
    "### Rotación de imágenes"
   ]
  },
  {
   "cell_type": "code",
   "execution_count": 13,
   "metadata": {},
   "outputs": [],
   "source": [
    "#https://stackoverflow.com/questions/27817718/reverse-dataframe-column-order\n",
    "X_ruido_rotacion = X_test[X_test.columns[::-1]]"
   ]
  },
  {
   "cell_type": "code",
   "execution_count": 14,
   "metadata": {},
   "outputs": [
    {
     "data": {
      "image/png": "[encoded data removed]",
      "text/plain": [
       "<Figure size 1224x576 with 10 Axes>"
      ]
     },
     "metadata": {},
     "output_type": "display_data"
    }
   ],
   "source": [
    "clases = np.sort(df_completo[0].unique())\n",
    "\n",
    "class_names = ['T-shirt/top', 'Trouser', 'Pullover', 'Dress', 'Coat',\n",
    "               'Sandal', 'Shirt', 'Sneaker', 'Bag', 'Ankle boot']\n",
    "\n",
    "\n",
    "## Ejemplo 1\n",
    "plt.figure(figsize=(17,8))\n",
    "for i,clase_i in enumerate(clases):\n",
    "  filtro_i = y_test == clase_i\n",
    "  plt.subplot(2,5,i+1)\n",
    "  plt.title(str(class_names[clase_i])+str([clase_i]))\n",
    "  plt.xticks([])\n",
    "  plt.yticks([])\n",
    "  plt.grid(False)\n",
    "  plt.imshow(np.array(X_ruido_rotacion[filtro_i].iloc[0]).reshape(28,28),cmap='binary')\n",
    "plt.tight_layout()"
   ]
  },
  {
   "cell_type": "code",
   "execution_count": 15,
   "metadata": {},
   "outputs": [
    {
     "name": "stderr",
     "output_type": "stream",
     "text": [
      "[Parallel(n_jobs=6)]: Using backend ThreadingBackend with 6 concurrent workers.\n",
      "[Parallel(n_jobs=6)]: Done  38 tasks      | elapsed:    0.0s\n",
      "[Parallel(n_jobs=6)]: Done 188 tasks      | elapsed:    0.1s\n",
      "[Parallel(n_jobs=6)]: Done 438 tasks      | elapsed:    0.3s\n",
      "[Parallel(n_jobs=6)]: Done 450 out of 450 | elapsed:    0.3s finished\n",
      "C:\\Users\\PC\\anaconda3\\lib\\site-packages\\sklearn\\metrics\\_classification.py:1221: UndefinedMetricWarning: Precision and F-score are ill-defined and being set to 0.0 in labels with no predicted samples. Use `zero_division` parameter to control this behavior.\n",
      "  _warn_prf(average, modifier, msg_start, len(result))\n"
     ]
    },
    {
     "data": {
      "text/html": [
       "<div>\n",
       "<style scoped>\n",
       "    .dataframe tbody tr th:only-of-type {\n",
       "        vertical-align: middle;\n",
       "    }\n",
       "\n",
       "    .dataframe tbody tr th {\n",
       "        vertical-align: top;\n",
       "    }\n",
       "\n",
       "    .dataframe thead th {\n",
       "        text-align: right;\n",
       "    }\n",
       "</style>\n",
       "<table border=\"1\" class=\"dataframe\">\n",
       "  <thead>\n",
       "    <tr style=\"text-align: right;\">\n",
       "      <th></th>\n",
       "      <th>precision</th>\n",
       "      <th>recall</th>\n",
       "      <th>f1-score</th>\n",
       "      <th>support</th>\n",
       "      <th>roc_auc</th>\n",
       "    </tr>\n",
       "  </thead>\n",
       "  <tbody>\n",
       "    <tr>\n",
       "      <th>0</th>\n",
       "      <td>0.064516</td>\n",
       "      <td>0.0340</td>\n",
       "      <td>0.044532</td>\n",
       "      <td>1000.0000</td>\n",
       "      <td>0.489611</td>\n",
       "    </tr>\n",
       "    <tr>\n",
       "      <th>1</th>\n",
       "      <td>0.067114</td>\n",
       "      <td>0.0100</td>\n",
       "      <td>0.017406</td>\n",
       "      <td>1000.0000</td>\n",
       "      <td>0.497278</td>\n",
       "    </tr>\n",
       "    <tr>\n",
       "      <th>2</th>\n",
       "      <td>0.168067</td>\n",
       "      <td>0.0200</td>\n",
       "      <td>0.035746</td>\n",
       "      <td>1000.0000</td>\n",
       "      <td>0.504500</td>\n",
       "    </tr>\n",
       "    <tr>\n",
       "      <th>3</th>\n",
       "      <td>0.360724</td>\n",
       "      <td>0.7770</td>\n",
       "      <td>0.492708</td>\n",
       "      <td>1000.0000</td>\n",
       "      <td>0.812000</td>\n",
       "    </tr>\n",
       "    <tr>\n",
       "      <th>4</th>\n",
       "      <td>0.124700</td>\n",
       "      <td>0.0520</td>\n",
       "      <td>0.073394</td>\n",
       "      <td>1000.0000</td>\n",
       "      <td>0.505722</td>\n",
       "    </tr>\n",
       "    <tr>\n",
       "      <th>5</th>\n",
       "      <td>0.941748</td>\n",
       "      <td>0.5820</td>\n",
       "      <td>0.719407</td>\n",
       "      <td>1000.0000</td>\n",
       "      <td>0.789000</td>\n",
       "    </tr>\n",
       "    <tr>\n",
       "      <th>6</th>\n",
       "      <td>0.223721</td>\n",
       "      <td>0.7300</td>\n",
       "      <td>0.342482</td>\n",
       "      <td>1000.0000</td>\n",
       "      <td>0.724278</td>\n",
       "    </tr>\n",
       "    <tr>\n",
       "      <th>7</th>\n",
       "      <td>0.500000</td>\n",
       "      <td>0.0020</td>\n",
       "      <td>0.003984</td>\n",
       "      <td>1000.0000</td>\n",
       "      <td>0.500889</td>\n",
       "    </tr>\n",
       "    <tr>\n",
       "      <th>8</th>\n",
       "      <td>0.214260</td>\n",
       "      <td>0.5890</td>\n",
       "      <td>0.314217</td>\n",
       "      <td>1000.0000</td>\n",
       "      <td>0.674500</td>\n",
       "    </tr>\n",
       "    <tr>\n",
       "      <th>9</th>\n",
       "      <td>0.000000</td>\n",
       "      <td>0.0000</td>\n",
       "      <td>0.000000</td>\n",
       "      <td>1000.0000</td>\n",
       "      <td>0.500000</td>\n",
       "    </tr>\n",
       "    <tr>\n",
       "      <th>accuracy</th>\n",
       "      <td>0.279600</td>\n",
       "      <td>0.2796</td>\n",
       "      <td>0.279600</td>\n",
       "      <td>0.2796</td>\n",
       "      <td>0.279600</td>\n",
       "    </tr>\n",
       "    <tr>\n",
       "      <th>macro_avg</th>\n",
       "      <td>0.266485</td>\n",
       "      <td>0.2796</td>\n",
       "      <td>0.204388</td>\n",
       "      <td>1000.0000</td>\n",
       "      <td>0.599778</td>\n",
       "    </tr>\n",
       "    <tr>\n",
       "      <th>weighted_avg</th>\n",
       "      <td>0.266485</td>\n",
       "      <td>0.2796</td>\n",
       "      <td>0.204388</td>\n",
       "      <td>1000.0000</td>\n",
       "      <td>0.599778</td>\n",
       "    </tr>\n",
       "  </tbody>\n",
       "</table>\n",
       "</div>"
      ],
      "text/plain": [
       "              precision  recall  f1-score    support   roc_auc\n",
       "0              0.064516  0.0340  0.044532  1000.0000  0.489611\n",
       "1              0.067114  0.0100  0.017406  1000.0000  0.497278\n",
       "2              0.168067  0.0200  0.035746  1000.0000  0.504500\n",
       "3              0.360724  0.7770  0.492708  1000.0000  0.812000\n",
       "4              0.124700  0.0520  0.073394  1000.0000  0.505722\n",
       "5              0.941748  0.5820  0.719407  1000.0000  0.789000\n",
       "6              0.223721  0.7300  0.342482  1000.0000  0.724278\n",
       "7              0.500000  0.0020  0.003984  1000.0000  0.500889\n",
       "8              0.214260  0.5890  0.314217  1000.0000  0.674500\n",
       "9              0.000000  0.0000  0.000000  1000.0000  0.500000\n",
       "accuracy       0.279600  0.2796  0.279600     0.2796  0.279600\n",
       "macro_avg      0.266485  0.2796  0.204388  1000.0000  0.599778\n",
       "weighted_avg   0.266485  0.2796  0.204388  1000.0000  0.599778"
      ]
     },
     "execution_count": 15,
     "metadata": {},
     "output_type": "execute_result"
    }
   ],
   "source": [
    "y_pred = rfo.predict(X_ruido_rotacion)\n",
    "classif_report(y_test, y_pred)"
   ]
  },
  {
   "cell_type": "markdown",
   "metadata": {},
   "source": [
    "### Espejado de imágenes"
   ]
  },
  {
   "cell_type": "code",
   "execution_count": 16,
   "metadata": {},
   "outputs": [],
   "source": [
    "X_copia = X_test.copy()\n",
    "X_espejado = []\n",
    "i = 0\n",
    "for x in range(1,len(X_copia)+1):\n",
    "    x = X_copia.iloc[i].to_numpy() #Paso ¿fila? a array\n",
    "    x = x.reshape(28,28) #Doy a cada fila forma 28x28\n",
    "    img = Image.fromarray(x, 'L') #Paso matrix 28x28 a image, la leo directamente como grayscale\n",
    "    im_mirror = ImageOps.mirror(img) #Espejo la imagen\n",
    "    im_mirror_array = np.array(im_mirror) #Paso la imagen nuevamente a array\n",
    "    im_mirror_array = im_mirror_array.flatten() #Flatten (para revertir el reshape 28x28)\n",
    "    X_espejado.append(im_mirror_array) #appendeo a X_espejado\n",
    "    i = i + 1   #Actualizo el contador\n",
    "X_espejado = np.array(X_espejado)\n",
    "X_espejado = X_espejado.reshape(10000, 28*28)\n",
    "X_espejado = pd.DataFrame(X_espejado)\n",
    "X_espejado.columns = X_test.columns\n"
   ]
  },
  {
   "cell_type": "code",
   "execution_count": 17,
   "metadata": {},
   "outputs": [
    {
     "data": {
      "image/png": "[encoded data removed]",
      "text/plain": [
       "<Figure size 1224x576 with 10 Axes>"
      ]
     },
     "metadata": {},
     "output_type": "display_data"
    }
   ],
   "source": [
    "clases = np.sort(df_completo[0].unique())\n",
    "\n",
    "class_names = ['T-shirt/top', 'Trouser', 'Pullover', 'Dress', 'Coat',\n",
    "               'Sandal', 'Shirt', 'Sneaker', 'Bag', 'Ankle boot']\n",
    "\n",
    "\n",
    "## Ejemplo 1\n",
    "plt.figure(figsize=(17,8))\n",
    "for i,clase_i in enumerate(clases):\n",
    "  filtro_i = y_test == clase_i\n",
    "  plt.subplot(2,5,i+1)\n",
    "  plt.title(str(class_names[clase_i])+str([clase_i]))\n",
    "  plt.xticks([])\n",
    "  plt.yticks([])\n",
    "  plt.grid(False)\n",
    "  plt.imshow(np.array(X_espejado[filtro_i].iloc[0]).reshape(28,28),cmap='binary')\n",
    "plt.tight_layout()"
   ]
  },
  {
   "cell_type": "code",
   "execution_count": 18,
   "metadata": {},
   "outputs": [
    {
     "name": "stderr",
     "output_type": "stream",
     "text": [
      "[Parallel(n_jobs=6)]: Using backend ThreadingBackend with 6 concurrent workers.\n",
      "[Parallel(n_jobs=6)]: Done  38 tasks      | elapsed:    0.0s\n",
      "[Parallel(n_jobs=6)]: Done 188 tasks      | elapsed:    0.1s\n",
      "[Parallel(n_jobs=6)]: Done 438 tasks      | elapsed:    0.3s\n",
      "[Parallel(n_jobs=6)]: Done 450 out of 450 | elapsed:    0.4s finished\n",
      "C:\\Users\\PC\\anaconda3\\lib\\site-packages\\sklearn\\metrics\\_classification.py:1221: UndefinedMetricWarning: Precision and F-score are ill-defined and being set to 0.0 in labels with no predicted samples. Use `zero_division` parameter to control this behavior.\n",
      "  _warn_prf(average, modifier, msg_start, len(result))\n"
     ]
    },
    {
     "data": {
      "text/html": [
       "<div>\n",
       "<style scoped>\n",
       "    .dataframe tbody tr th:only-of-type {\n",
       "        vertical-align: middle;\n",
       "    }\n",
       "\n",
       "    .dataframe tbody tr th {\n",
       "        vertical-align: top;\n",
       "    }\n",
       "\n",
       "    .dataframe thead th {\n",
       "        text-align: right;\n",
       "    }\n",
       "</style>\n",
       "<table border=\"1\" class=\"dataframe\">\n",
       "  <thead>\n",
       "    <tr style=\"text-align: right;\">\n",
       "      <th></th>\n",
       "      <th>precision</th>\n",
       "      <th>recall</th>\n",
       "      <th>f1-score</th>\n",
       "      <th>support</th>\n",
       "      <th>roc_auc</th>\n",
       "    </tr>\n",
       "  </thead>\n",
       "  <tbody>\n",
       "    <tr>\n",
       "      <th>0</th>\n",
       "      <td>0.812257</td>\n",
       "      <td>0.8350</td>\n",
       "      <td>0.823471</td>\n",
       "      <td>1000.0000</td>\n",
       "      <td>0.906778</td>\n",
       "    </tr>\n",
       "    <tr>\n",
       "      <th>1</th>\n",
       "      <td>0.993711</td>\n",
       "      <td>0.9480</td>\n",
       "      <td>0.970317</td>\n",
       "      <td>1000.0000</td>\n",
       "      <td>0.973667</td>\n",
       "    </tr>\n",
       "    <tr>\n",
       "      <th>2</th>\n",
       "      <td>0.757663</td>\n",
       "      <td>0.7910</td>\n",
       "      <td>0.773973</td>\n",
       "      <td>1000.0000</td>\n",
       "      <td>0.881444</td>\n",
       "    </tr>\n",
       "    <tr>\n",
       "      <th>3</th>\n",
       "      <td>0.838590</td>\n",
       "      <td>0.9040</td>\n",
       "      <td>0.870067</td>\n",
       "      <td>1000.0000</td>\n",
       "      <td>0.942333</td>\n",
       "    </tr>\n",
       "    <tr>\n",
       "      <th>4</th>\n",
       "      <td>0.741379</td>\n",
       "      <td>0.8170</td>\n",
       "      <td>0.777355</td>\n",
       "      <td>1000.0000</td>\n",
       "      <td>0.892667</td>\n",
       "    </tr>\n",
       "    <tr>\n",
       "      <th>5</th>\n",
       "      <td>0.570768</td>\n",
       "      <td>0.6170</td>\n",
       "      <td>0.592984</td>\n",
       "      <td>1000.0000</td>\n",
       "      <td>0.782722</td>\n",
       "    </tr>\n",
       "    <tr>\n",
       "      <th>6</th>\n",
       "      <td>0.581276</td>\n",
       "      <td>0.5650</td>\n",
       "      <td>0.573022</td>\n",
       "      <td>1000.0000</td>\n",
       "      <td>0.759889</td>\n",
       "    </tr>\n",
       "    <tr>\n",
       "      <th>7</th>\n",
       "      <td>0.961538</td>\n",
       "      <td>0.2000</td>\n",
       "      <td>0.331126</td>\n",
       "      <td>1000.0000</td>\n",
       "      <td>0.599556</td>\n",
       "    </tr>\n",
       "    <tr>\n",
       "      <th>8</th>\n",
       "      <td>0.380576</td>\n",
       "      <td>0.9640</td>\n",
       "      <td>0.545712</td>\n",
       "      <td>1000.0000</td>\n",
       "      <td>0.894833</td>\n",
       "    </tr>\n",
       "    <tr>\n",
       "      <th>9</th>\n",
       "      <td>0.000000</td>\n",
       "      <td>0.0000</td>\n",
       "      <td>0.000000</td>\n",
       "      <td>1000.0000</td>\n",
       "      <td>0.500000</td>\n",
       "    </tr>\n",
       "    <tr>\n",
       "      <th>accuracy</th>\n",
       "      <td>0.664100</td>\n",
       "      <td>0.6641</td>\n",
       "      <td>0.664100</td>\n",
       "      <td>0.6641</td>\n",
       "      <td>0.664100</td>\n",
       "    </tr>\n",
       "    <tr>\n",
       "      <th>macro_avg</th>\n",
       "      <td>0.663776</td>\n",
       "      <td>0.6641</td>\n",
       "      <td>0.625803</td>\n",
       "      <td>1000.0000</td>\n",
       "      <td>0.813389</td>\n",
       "    </tr>\n",
       "    <tr>\n",
       "      <th>weighted_avg</th>\n",
       "      <td>0.663776</td>\n",
       "      <td>0.6641</td>\n",
       "      <td>0.625803</td>\n",
       "      <td>1000.0000</td>\n",
       "      <td>0.813389</td>\n",
       "    </tr>\n",
       "  </tbody>\n",
       "</table>\n",
       "</div>"
      ],
      "text/plain": [
       "              precision  recall  f1-score    support   roc_auc\n",
       "0              0.812257  0.8350  0.823471  1000.0000  0.906778\n",
       "1              0.993711  0.9480  0.970317  1000.0000  0.973667\n",
       "2              0.757663  0.7910  0.773973  1000.0000  0.881444\n",
       "3              0.838590  0.9040  0.870067  1000.0000  0.942333\n",
       "4              0.741379  0.8170  0.777355  1000.0000  0.892667\n",
       "5              0.570768  0.6170  0.592984  1000.0000  0.782722\n",
       "6              0.581276  0.5650  0.573022  1000.0000  0.759889\n",
       "7              0.961538  0.2000  0.331126  1000.0000  0.599556\n",
       "8              0.380576  0.9640  0.545712  1000.0000  0.894833\n",
       "9              0.000000  0.0000  0.000000  1000.0000  0.500000\n",
       "accuracy       0.664100  0.6641  0.664100     0.6641  0.664100\n",
       "macro_avg      0.663776  0.6641  0.625803  1000.0000  0.813389\n",
       "weighted_avg   0.663776  0.6641  0.625803  1000.0000  0.813389"
      ]
     },
     "execution_count": 18,
     "metadata": {},
     "output_type": "execute_result"
    }
   ],
   "source": [
    "y_pred = rfo.predict(X_espejado)\n",
    "classif_report(y_test, y_pred)"
   ]
  },
  {
   "cell_type": "markdown",
   "metadata": {},
   "source": [
    "### Dataset en base a imágenes nuevas"
   ]
  },
  {
   "cell_type": "code",
   "execution_count": 19,
   "metadata": {},
   "outputs": [],
   "source": [
    "#Cargo directorio de imágenes\n",
    "images = glob.glob(\"data/clothing-dataset-subset/*.jpg\")\n",
    "#Guardo total de imagenes a parsear\n",
    "n_images = len(images)\n",
    "\n",
    "#Inicializo arrays\n",
    "array_X_newclothing = []\n",
    "array_X_newclothing_names = []\n",
    "#Patron para extraer nombre de imágenes\n",
    "patron = \"data/clothing-dataset-subset\\\\\\(.*?).jpg\"\n",
    "\n",
    "#Este loop:\n",
    "# Abre cada imagen, cambia su tamaño en pixeles a 28x28 y las pasa a greyscale\n",
    "# Guarda en el array array_X_newclothing cada imagen\n",
    "# Guarda en array_X_newclothing_names cada nombre de imagen. Lo vamos a necesitar para asociarlas a la categoría a la que corresponden\n",
    "\n",
    "for i in images:\n",
    "    fileImage = Image.open(i).convert(\"L\").resize([28,28],Image.ANTIALIAS)\n",
    "    array_fileImage = np.array(fileImage)\n",
    "    array_X_newclothing.append(array_fileImage)\n",
    "    fileName = re.findall(patron, i)\n",
    "    array_X_newclothing_names.append(fileName)"
   ]
  },
  {
   "cell_type": "code",
   "execution_count": 20,
   "metadata": {},
   "outputs": [
    {
     "data": {
      "text/plain": [
       "(2942, 784)"
      ]
     },
     "execution_count": 20,
     "metadata": {},
     "output_type": "execute_result"
    }
   ],
   "source": [
    "array_X_newclothing = np.array(array_X_newclothing)\n",
    "X_newclothing = array_X_newclothing.reshape(n_images,28*28)\n",
    "X_newclothing.shape"
   ]
  },
  {
   "cell_type": "code",
   "execution_count": 21,
   "metadata": {},
   "outputs": [
    {
     "data": {
      "text/plain": [
       "T-Shirt       1011\n",
       "Longsleeve     699\n",
       "Pants          692\n",
       "Shoes          431\n",
       "Shirt          378\n",
       "Dress          357\n",
       "Outwear        312\n",
       "Shorts         308\n",
       "Not sure       228\n",
       "Hat            171\n",
       "Skirt          155\n",
       "Polo           120\n",
       "Undershirt     118\n",
       "Blazer         109\n",
       "Hoodie         100\n",
       "Body            69\n",
       "Other           67\n",
       "Top             43\n",
       "Blouse          23\n",
       "Skip            12\n",
       "Name: label, dtype: int64"
      ]
     },
     "execution_count": 21,
     "metadata": {},
     "output_type": "execute_result"
    }
   ],
   "source": [
    "url_labels = 'https://raw.githubusercontent.com/alexeygrigorev/clothing-dataset/master/images.csv'\n",
    "df = pd.read_csv(url_labels)\n",
    "df.drop(['sender_id', 'kids'], axis=1, inplace=True)\n",
    "df.columns = ['filename' if x=='image' else x for x in df.columns]\n",
    "df.label.value_counts()"
   ]
  },
  {
   "cell_type": "code",
   "execution_count": 22,
   "metadata": {},
   "outputs": [
    {
     "data": {
      "text/plain": [
       "0    1011\n",
       "2     699\n",
       "1     692\n",
       "6     378\n",
       "3     357\n",
       "4     312\n",
       "Name: label, dtype: int64"
      ]
     },
     "execution_count": 22,
     "metadata": {},
     "output_type": "execute_result"
    }
   ],
   "source": [
    "#Recodifico nombres de ropa y las asocio a labels\n",
    "df.label[df.label==\"T-Shirt\"] = 0\n",
    "df.label[df.label==\"Pants\"] = 1\n",
    "df.label[df.label==\"Longsleeve\"] = 2\n",
    "df.label[df.label==\"Dress\"] = 3\n",
    "df.label[df.label==\"Outwear\"] = 4\n",
    "df.label[df.label==\"Shirt\"] = 6\n",
    "\n",
    "#Elimino todas las imágenes que no correspondan a las labels recodificadas (numéricas)\n",
    "df = df[pd.to_numeric(df['label'], errors='coerce').notnull()]\n",
    "df.label.value_counts()"
   ]
  },
  {
   "cell_type": "code",
   "execution_count": 23,
   "metadata": {},
   "outputs": [],
   "source": [
    "X_nc = pd.DataFrame(X_newclothing)\n",
    "X_nc['filename'] = array_X_newclothing_names\n",
    "X_nc['filename'] = X_nc['filename'].str[0]\n",
    "X_nc = pd.merge(X_nc, df, on =\"filename\")\n",
    "Y_nc = X_nc['label']\n",
    "X_nc.drop(['label', 'filename'], axis=1, inplace=True)\n",
    "X_nc =  pd.DataFrame(data=X_nc.values, columns=X_train.columns)"
   ]
  },
  {
   "cell_type": "code",
   "execution_count": 24,
   "metadata": {},
   "outputs": [
    {
     "data": {
      "image/png": "[encoded data removed]",
      "text/plain": [
       "<Figure size 1224x576 with 6 Axes>"
      ]
     },
     "metadata": {},
     "output_type": "display_data"
    }
   ],
   "source": [
    "clases = [0,1,2,3,4,6]\n",
    "\n",
    "class_names = ['T-shirt/top', 'Trouser', 'Pullover', 'Dress', 'Outwear', 'Shirt']\n",
    "\n",
    "\n",
    "## Ejemplo 1\n",
    "plt.figure(figsize=(17,8))\n",
    "for i,clase_i in enumerate(clases):\n",
    "  filtro_i = Y_nc == clase_i\n",
    "  plt.subplot(2,5,i+1)\n",
    "  plt.title(str([clase_i]))\n",
    "  plt.xticks([])\n",
    "  plt.yticks([])\n",
    "  plt.grid(False)\n",
    "  plt.imshow(np.array(X_nc[filtro_i].iloc[0]).reshape(28,28),cmap='binary')\n",
    "plt.tight_layout()"
   ]
  },
  {
   "cell_type": "code",
   "execution_count": 89,
   "metadata": {},
   "outputs": [
    {
     "name": "stderr",
     "output_type": "stream",
     "text": [
      "[Parallel(n_jobs=6)]: Using backend ThreadingBackend with 6 concurrent workers.\n",
      "[Parallel(n_jobs=6)]: Done  38 tasks      | elapsed:    0.0s\n",
      "[Parallel(n_jobs=6)]: Done 188 tasks      | elapsed:    0.0s\n",
      "[Parallel(n_jobs=6)]: Done 438 tasks      | elapsed:    0.0s\n",
      "[Parallel(n_jobs=6)]: Done 450 out of 450 | elapsed:    0.0s finished\n"
     ]
    },
    {
     "ename": "ValueError",
     "evalue": "Classification metrics can't handle a mix of unknown and multiclass targets",
     "output_type": "error",
     "traceback": [
      "\u001b[1;31m---------------------------------------------------------------------------\u001b[0m",
      "\u001b[1;31mValueError\u001b[0m                                Traceback (most recent call last)",
      "\u001b[1;32m<ipython-input-89-efa442e6c043>\u001b[0m in \u001b[0;36m<module>\u001b[1;34m\u001b[0m\n\u001b[0;32m      1\u001b[0m \u001b[0my_pred\u001b[0m \u001b[1;33m=\u001b[0m \u001b[0mrfo\u001b[0m\u001b[1;33m.\u001b[0m\u001b[0mpredict\u001b[0m\u001b[1;33m(\u001b[0m\u001b[0mX_nc\u001b[0m\u001b[1;33m)\u001b[0m\u001b[1;33m\u001b[0m\u001b[1;33m\u001b[0m\u001b[0m\n\u001b[1;32m----> 2\u001b[1;33m \u001b[0mclassification_report\u001b[0m\u001b[1;33m(\u001b[0m\u001b[0mY_nc\u001b[0m\u001b[1;33m,\u001b[0m \u001b[0my_pred\u001b[0m\u001b[1;33m)\u001b[0m\u001b[1;33m\u001b[0m\u001b[1;33m\u001b[0m\u001b[0m\n\u001b[0m",
      "\u001b[1;32m~\\anaconda3\\lib\\site-packages\\sklearn\\utils\\validation.py\u001b[0m in \u001b[0;36minner_f\u001b[1;34m(*args, **kwargs)\u001b[0m\n\u001b[0;32m     71\u001b[0m                           FutureWarning)\n\u001b[0;32m     72\u001b[0m         \u001b[0mkwargs\u001b[0m\u001b[1;33m.\u001b[0m\u001b[0mupdate\u001b[0m\u001b[1;33m(\u001b[0m\u001b[1;33m{\u001b[0m\u001b[0mk\u001b[0m\u001b[1;33m:\u001b[0m \u001b[0marg\u001b[0m \u001b[1;32mfor\u001b[0m \u001b[0mk\u001b[0m\u001b[1;33m,\u001b[0m \u001b[0marg\u001b[0m \u001b[1;32min\u001b[0m \u001b[0mzip\u001b[0m\u001b[1;33m(\u001b[0m\u001b[0msig\u001b[0m\u001b[1;33m.\u001b[0m\u001b[0mparameters\u001b[0m\u001b[1;33m,\u001b[0m \u001b[0margs\u001b[0m\u001b[1;33m)\u001b[0m\u001b[1;33m}\u001b[0m\u001b[1;33m)\u001b[0m\u001b[1;33m\u001b[0m\u001b[1;33m\u001b[0m\u001b[0m\n\u001b[1;32m---> 73\u001b[1;33m         \u001b[1;32mreturn\u001b[0m \u001b[0mf\u001b[0m\u001b[1;33m(\u001b[0m\u001b[1;33m**\u001b[0m\u001b[0mkwargs\u001b[0m\u001b[1;33m)\u001b[0m\u001b[1;33m\u001b[0m\u001b[1;33m\u001b[0m\u001b[0m\n\u001b[0m\u001b[0;32m     74\u001b[0m     \u001b[1;32mreturn\u001b[0m \u001b[0minner_f\u001b[0m\u001b[1;33m\u001b[0m\u001b[1;33m\u001b[0m\u001b[0m\n\u001b[0;32m     75\u001b[0m \u001b[1;33m\u001b[0m\u001b[0m\n",
      "\u001b[1;32m~\\anaconda3\\lib\\site-packages\\sklearn\\metrics\\_classification.py\u001b[0m in \u001b[0;36mclassification_report\u001b[1;34m(y_true, y_pred, labels, target_names, sample_weight, digits, output_dict, zero_division)\u001b[0m\n\u001b[0;32m   1927\u001b[0m     \"\"\"\n\u001b[0;32m   1928\u001b[0m \u001b[1;33m\u001b[0m\u001b[0m\n\u001b[1;32m-> 1929\u001b[1;33m     \u001b[0my_type\u001b[0m\u001b[1;33m,\u001b[0m \u001b[0my_true\u001b[0m\u001b[1;33m,\u001b[0m \u001b[0my_pred\u001b[0m \u001b[1;33m=\u001b[0m \u001b[0m_check_targets\u001b[0m\u001b[1;33m(\u001b[0m\u001b[0my_true\u001b[0m\u001b[1;33m,\u001b[0m \u001b[0my_pred\u001b[0m\u001b[1;33m)\u001b[0m\u001b[1;33m\u001b[0m\u001b[1;33m\u001b[0m\u001b[0m\n\u001b[0m\u001b[0;32m   1930\u001b[0m \u001b[1;33m\u001b[0m\u001b[0m\n\u001b[0;32m   1931\u001b[0m     \u001b[0mlabels_given\u001b[0m \u001b[1;33m=\u001b[0m \u001b[1;32mTrue\u001b[0m\u001b[1;33m\u001b[0m\u001b[1;33m\u001b[0m\u001b[0m\n",
      "\u001b[1;32m~\\anaconda3\\lib\\site-packages\\sklearn\\metrics\\_classification.py\u001b[0m in \u001b[0;36m_check_targets\u001b[1;34m(y_true, y_pred)\u001b[0m\n\u001b[0;32m     88\u001b[0m \u001b[1;33m\u001b[0m\u001b[0m\n\u001b[0;32m     89\u001b[0m     \u001b[1;32mif\u001b[0m \u001b[0mlen\u001b[0m\u001b[1;33m(\u001b[0m\u001b[0my_type\u001b[0m\u001b[1;33m)\u001b[0m \u001b[1;33m>\u001b[0m \u001b[1;36m1\u001b[0m\u001b[1;33m:\u001b[0m\u001b[1;33m\u001b[0m\u001b[1;33m\u001b[0m\u001b[0m\n\u001b[1;32m---> 90\u001b[1;33m         raise ValueError(\"Classification metrics can't handle a mix of {0} \"\n\u001b[0m\u001b[0;32m     91\u001b[0m                          \"and {1} targets\".format(type_true, type_pred))\n\u001b[0;32m     92\u001b[0m \u001b[1;33m\u001b[0m\u001b[0m\n",
      "\u001b[1;31mValueError\u001b[0m: Classification metrics can't handle a mix of unknown and multiclass targets"
     ]
    }
   ],
   "source": [
    "y_pred = rfo.predict(X_nc)\n",
    "accuracy = (Y_nc == y_pred).sum() / len(Y_nc)"
   ]
  },
  {
   "cell_type": "markdown",
   "metadata": {
    "tags": []
   },
   "source": [
    "## Punto 10: Redes Neuronales"
   ]
  },
  {
   "cell_type": "code",
   "execution_count": 63,
   "metadata": {},
   "outputs": [],
   "source": [
    "import tensorflow as tf\n",
    "import tensorflow.keras.layers as tfkl\n",
    "from tensorflow.keras.datasets import fashion_mnist\n",
    "\n",
    "(dev_images, dev_labels), (test_images, test_labels) = fashion_mnist.load_data()\n",
    "\n",
    "class_names = ['T-shirt/top', 'Trouser', 'Pullover', 'Dress', 'Coat',\n",
    "               'Sandal', 'Shirt', 'Sneaker', 'Bag', 'Ankle boot']\n",
    "\n",
    "from sklearn.preprocessing import OneHotEncoder\n",
    "from sklearn.model_selection import train_test_split\n",
    "\n",
    "ohe = OneHotEncoder()\n",
    "dev_labels = ohe.fit_transform(dev_labels.reshape(-1,1)).toarray()\n",
    "test_labels = ohe.fit_transform(test_labels.reshape(-1,1)).toarray()\n",
    "\n",
    "train_images,val_images,train_labels,val_labels = train_test_split(dev_images,dev_labels,test_size=0.2)"
   ]
  },
  {
   "cell_type": "code",
   "execution_count": 4,
   "metadata": {},
   "outputs": [
    {
     "name": "stdout",
     "output_type": "stream",
     "text": [
      "1 Physical GPUs, 1 Logical GPUs\n"
     ]
    },
    {
     "name": "stderr",
     "output_type": "stream",
     "text": [
      "2022-06-17 14:02:51.488482: I tensorflow/stream_executor/cuda/cuda_gpu_executor.cc:975] successful NUMA node read from SysFS had negative value (-1), but there must be at least one NUMA node, so returning NUMA node zero\n",
      "2022-06-17 14:02:51.520330: I tensorflow/stream_executor/cuda/cuda_gpu_executor.cc:975] successful NUMA node read from SysFS had negative value (-1), but there must be at least one NUMA node, so returning NUMA node zero\n",
      "2022-06-17 14:02:51.520716: I tensorflow/stream_executor/cuda/cuda_gpu_executor.cc:975] successful NUMA node read from SysFS had negative value (-1), but there must be at least one NUMA node, so returning NUMA node zero\n",
      "2022-06-17 14:02:51.521583: I tensorflow/core/platform/cpu_feature_guard.cc:193] This TensorFlow binary is optimized with oneAPI Deep Neural Network Library (oneDNN) to use the following CPU instructions in performance-critical operations:  AVX2 FMA\n",
      "To enable them in other operations, rebuild TensorFlow with the appropriate compiler flags.\n",
      "2022-06-17 14:02:51.521896: I tensorflow/stream_executor/cuda/cuda_gpu_executor.cc:975] successful NUMA node read from SysFS had negative value (-1), but there must be at least one NUMA node, so returning NUMA node zero\n",
      "2022-06-17 14:02:51.522263: I tensorflow/stream_executor/cuda/cuda_gpu_executor.cc:975] successful NUMA node read from SysFS had negative value (-1), but there must be at least one NUMA node, so returning NUMA node zero\n",
      "2022-06-17 14:02:51.522591: I tensorflow/stream_executor/cuda/cuda_gpu_executor.cc:975] successful NUMA node read from SysFS had negative value (-1), but there must be at least one NUMA node, so returning NUMA node zero\n",
      "2022-06-17 14:02:52.018811: I tensorflow/stream_executor/cuda/cuda_gpu_executor.cc:975] successful NUMA node read from SysFS had negative value (-1), but there must be at least one NUMA node, so returning NUMA node zero\n",
      "2022-06-17 14:02:52.019151: I tensorflow/stream_executor/cuda/cuda_gpu_executor.cc:975] successful NUMA node read from SysFS had negative value (-1), but there must be at least one NUMA node, so returning NUMA node zero\n",
      "2022-06-17 14:02:52.019425: I tensorflow/stream_executor/cuda/cuda_gpu_executor.cc:975] successful NUMA node read from SysFS had negative value (-1), but there must be at least one NUMA node, so returning NUMA node zero\n",
      "2022-06-17 14:02:52.019614: I tensorflow/core/common_runtime/gpu/gpu_device.cc:1532] Created device /job:localhost/replica:0/task:0/device:GPU:0 with 1626 MB memory:  -> device: 0, name: NVIDIA GeForce 940MX, pci bus id: 0000:01:00.0, compute capability: 5.0\n"
     ]
    }
   ],
   "source": [
    "gpus = tf.config.experimental.list_physical_devices('GPU')\n",
    "if gpus:\n",
    "    try:\n",
    "        # Currently, memory growth needs to be the same across GPUs\n",
    "        for gpu in gpus:\n",
    "            tf.config.experimental.set_memory_growth(gpu, True)\n",
    "        logical_gpus = tf.config.experimental.list_logical_devices('GPU')\n",
    "        print(len(gpus), \"Physical GPUs,\", len(logical_gpus), \"Logical GPUs\")\n",
    "    except RuntimeError as e:\n",
    "        # Memory growth must be set before GPUs have been initialized\n",
    "        print(e)"
   ]
  },
  {
   "cell_type": "code",
   "execution_count": 64,
   "metadata": {},
   "outputs": [],
   "source": [
    "#Voy a hacer una prueba para que teste distintas cantidades de neuronas en la capa oculta\n",
    "# y además utilice distintas funciones de activación. \n",
    "#por otro lado tambien optimiza el batch size. \n",
    "\n",
    "def entrenar_modelo(hparams, model_name):\n",
    "  layer_in = tfkl.Input(shape=(28,28)) #Todo modelo necesita una entrada, y debemos especificar sus dimensiones\n",
    "  layer_add_channel = tf.expand_dims(layer_in,axis=3)\n",
    "  conv_block1 = tfkl.Conv2D(16,(3,3),padding='SAME',activation='relu')(layer_add_channel)\n",
    "  conv_block1 = tfkl.Conv2D(16,(3,3),padding='SAME',activation='relu')(conv_block1)\n",
    "  pool_1 = tfkl.MaxPooling2D(pool_size=(2,2))(conv_block1) #Aca queda (14,14)\n",
    "  conv_block2 = tfkl.Conv2D(32,(3,3),padding='SAME',activation='relu')(pool_1)\n",
    "  conv_block2 = tfkl.Conv2D(32,(3,3),padding='SAME',activation='relu')(conv_block2)\n",
    "  pool_2 = tfkl.MaxPooling2D(pool_size=(2,2))(conv_block2) #Aca queda (7,7)\n",
    "  conv_block3 = tfkl.Conv2D(32,(3,3),padding='SAME',activation='relu')(pool_2)\n",
    "  conv_block3 = tfkl.Conv2D(8,(3,3),padding='SAME',activation='relu')(conv_block3)\n",
    "  #Esta capa rompe la imagen achicada (8,7,7) y la vuelve un vector de 392 elementos\n",
    "  flatten_layer = tfkl.Flatten()(conv_block3)\n",
    "  hidden_layer = tfkl.Dense(units=hparams['units'], activation=hparams['activation'])(flatten_layer)\n",
    "  #Esta es la capa de salida\n",
    "  output_layer = tfkl.Dense(units=10,activation='softmax')(flatten_layer)\n",
    "\n",
    "  conv2d_model = tf.keras.Model(inputs=[layer_in],outputs=[output_layer])\n",
    "  \n",
    "\n",
    "  optimizer = tf.keras.optimizers.Adam(learning_rate=hparams['learning_rate'])\n",
    "  metrics_list = [tf.keras.metrics.CategoricalAccuracy(),\n",
    "                  tf.keras.metrics.Precision(),\n",
    "                  tf.keras.metrics.Recall(),\n",
    "                  tf.keras.metrics.AUC()]\n",
    "  metric_names = ['loss','acc','precision','recall','auc']\n",
    "  conv2d_model.compile(optimizer=optimizer,loss='categorical_crossentropy',metrics=metrics_list)\n",
    "\n",
    "  cb_list = [tf.keras.callbacks.TensorBoard(log_dir='tblogs'),\n",
    "              tf.keras.callbacks.ModelCheckpoint(filepath='checkpoints/model.{epoch:02d}-{val_loss:.2f}.ckpt',\n",
    "                                                 save_weights_only=True),\n",
    "            tf.keras.callbacks.EarlyStopping(monitor='val_loss',patience=5)]\n",
    "\n",
    "  start = time.time()\n",
    "  conv2d_model.fit(x=train_images,y=train_labels,validation_data=(val_images,val_labels),batch_size=hparams['batch_size'],epochs=50,callbacks=cb_list)\n",
    "  elapsed_time = time.time() - start\n",
    "  performance = conv2d_model.evaluate(x=val_images,y=val_labels)\n",
    "  performance = dict(zip(metric_names,performance))\n",
    "\n",
    "  return conv2d_model, performance, hparams, elapsed_time"
   ]
  },
  {
   "cell_type": "code",
   "execution_count": 9,
   "metadata": {},
   "outputs": [],
   "source": [
    "# from sklearn.model_selection import ParameterSampler\n",
    "\n",
    "# hyperparameter_space = {'units': [32,56,128,512,1024,2048,4096,8192],\n",
    "#                         'activation': ['relu','tanh','sigmoid','elu'],\n",
    "#                         'batch_size':[16,32,64,128,256,512],\n",
    "#                         'learning_rate':[0.0001,0.001,0.01]}\n",
    "# hyperparameters = list(ParameterSampler(hyperparameter_space,n_iter=10))\n",
    "\n",
    "# best_recall = 0\n",
    "# best_model = None\n",
    "# best_params = None\n",
    "# hyp_results = []\n",
    "# for model_name, hparam in tqdm(enumerate(hyperparameters)):\n",
    "#   model, perf, hparams, elapsed_time = entrenar_modelo(hparam ,model_name=str(model_name+1))\n",
    "#   hyp_results.append({'model_name':model_name,'params': hparams,'performance': perf, 'elapsed_time': elapsed_time})  \n",
    "#   if perf['acc'] > best_acc:\n",
    "#     best_acc = perf['acc']\n",
    "#     best_model = model\n",
    "#     model.save_weights(f'./best_conv2d/model_{model_name}.ckpt')\n",
    "\n",
    "# hyp_results_df = pd.DataFrame(hyp_results)\n",
    "# hyp_results_df = pd.concat([hyp_results_df[['model_name','params','elapsed_time']], hyp_results_df['performance'].apply(pd.Series)], axis=1)\n",
    "# hoy = datetime.now().strftime(\"%Y%m%d\")\n",
    "# hyp_results_df.to_csv(f\"./results/conv2d_hypopt_{hoy}.csv\", index=False)"
   ]
  },
  {
   "cell_type": "code",
   "execution_count": 65,
   "metadata": {},
   "outputs": [
    {
     "data": {
      "text/html": [
       "<div>\n",
       "<style scoped>\n",
       "    .dataframe tbody tr th:only-of-type {\n",
       "        vertical-align: middle;\n",
       "    }\n",
       "\n",
       "    .dataframe tbody tr th {\n",
       "        vertical-align: top;\n",
       "    }\n",
       "\n",
       "    .dataframe thead th {\n",
       "        text-align: right;\n",
       "    }\n",
       "</style>\n",
       "<table border=\"1\" class=\"dataframe\">\n",
       "  <thead>\n",
       "    <tr style=\"text-align: right;\">\n",
       "      <th></th>\n",
       "      <th>model_name</th>\n",
       "      <th>params</th>\n",
       "      <th>elapsed_time</th>\n",
       "      <th>loss</th>\n",
       "      <th>acc</th>\n",
       "      <th>precision</th>\n",
       "      <th>recall</th>\n",
       "      <th>auc</th>\n",
       "    </tr>\n",
       "  </thead>\n",
       "  <tbody>\n",
       "    <tr>\n",
       "      <th>0</th>\n",
       "      <td>0</td>\n",
       "      <td>{'units': 56, 'learning_rate': 0.0001, 'batch_...</td>\n",
       "      <td>1191.423954</td>\n",
       "      <td>0.295286</td>\n",
       "      <td>0.898667</td>\n",
       "      <td>0.909323</td>\n",
       "      <td>0.890000</td>\n",
       "      <td>0.992898</td>\n",
       "    </tr>\n",
       "    <tr>\n",
       "      <th>1</th>\n",
       "      <td>1</td>\n",
       "      <td>{'units': 128, 'learning_rate': 0.0001, 'batch...</td>\n",
       "      <td>16570.518286</td>\n",
       "      <td>0.314543</td>\n",
       "      <td>0.892333</td>\n",
       "      <td>0.904477</td>\n",
       "      <td>0.882167</td>\n",
       "      <td>0.992367</td>\n",
       "    </tr>\n",
       "    <tr>\n",
       "      <th>2</th>\n",
       "      <td>2</td>\n",
       "      <td>{'units': 4096, 'learning_rate': 0.0001, 'batc...</td>\n",
       "      <td>1270.951972</td>\n",
       "      <td>0.329850</td>\n",
       "      <td>0.885333</td>\n",
       "      <td>0.897436</td>\n",
       "      <td>0.875000</td>\n",
       "      <td>0.991387</td>\n",
       "    </tr>\n",
       "    <tr>\n",
       "      <th>3</th>\n",
       "      <td>3</td>\n",
       "      <td>{'units': 32, 'learning_rate': 0.01, 'batch_si...</td>\n",
       "      <td>617.385063</td>\n",
       "      <td>0.410689</td>\n",
       "      <td>0.851583</td>\n",
       "      <td>0.886163</td>\n",
       "      <td>0.812833</td>\n",
       "      <td>0.989396</td>\n",
       "    </tr>\n",
       "    <tr>\n",
       "      <th>4</th>\n",
       "      <td>4</td>\n",
       "      <td>{'units': 512, 'learning_rate': 0.01, 'batch_s...</td>\n",
       "      <td>477.821110</td>\n",
       "      <td>0.622271</td>\n",
       "      <td>0.759667</td>\n",
       "      <td>0.804403</td>\n",
       "      <td>0.715583</td>\n",
       "      <td>0.976786</td>\n",
       "    </tr>\n",
       "    <tr>\n",
       "      <th>5</th>\n",
       "      <td>5</td>\n",
       "      <td>{'units': 56, 'learning_rate': 0.0001, 'batch_...</td>\n",
       "      <td>2343.354022</td>\n",
       "      <td>0.309517</td>\n",
       "      <td>0.896083</td>\n",
       "      <td>0.907135</td>\n",
       "      <td>0.888917</td>\n",
       "      <td>0.991615</td>\n",
       "    </tr>\n",
       "    <tr>\n",
       "      <th>6</th>\n",
       "      <td>6</td>\n",
       "      <td>{'units': 4096, 'learning_rate': 0.001, 'batch...</td>\n",
       "      <td>623.689023</td>\n",
       "      <td>0.292821</td>\n",
       "      <td>0.906417</td>\n",
       "      <td>0.911663</td>\n",
       "      <td>0.902167</td>\n",
       "      <td>0.991529</td>\n",
       "    </tr>\n",
       "    <tr>\n",
       "      <th>7</th>\n",
       "      <td>7</td>\n",
       "      <td>{'units': 32, 'learning_rate': 0.01, 'batch_si...</td>\n",
       "      <td>24007.940646</td>\n",
       "      <td>0.527349</td>\n",
       "      <td>0.803250</td>\n",
       "      <td>0.839993</td>\n",
       "      <td>0.767333</td>\n",
       "      <td>0.982578</td>\n",
       "    </tr>\n",
       "    <tr>\n",
       "      <th>8</th>\n",
       "      <td>8</td>\n",
       "      <td>{'units': 32, 'learning_rate': 0.0001, 'batch_...</td>\n",
       "      <td>1614.853620</td>\n",
       "      <td>0.318445</td>\n",
       "      <td>0.892583</td>\n",
       "      <td>0.906584</td>\n",
       "      <td>0.882333</td>\n",
       "      <td>0.991941</td>\n",
       "    </tr>\n",
       "    <tr>\n",
       "      <th>9</th>\n",
       "      <td>9</td>\n",
       "      <td>{'units': 1024, 'learning_rate': 0.0001, 'batc...</td>\n",
       "      <td>1807.543514</td>\n",
       "      <td>0.314800</td>\n",
       "      <td>0.893083</td>\n",
       "      <td>0.908288</td>\n",
       "      <td>0.883083</td>\n",
       "      <td>0.991766</td>\n",
       "    </tr>\n",
       "  </tbody>\n",
       "</table>\n",
       "</div>"
      ],
      "text/plain": [
       "   model_name                                             params  \\\n",
       "0           0  {'units': 56, 'learning_rate': 0.0001, 'batch_...   \n",
       "1           1  {'units': 128, 'learning_rate': 0.0001, 'batch...   \n",
       "2           2  {'units': 4096, 'learning_rate': 0.0001, 'batc...   \n",
       "3           3  {'units': 32, 'learning_rate': 0.01, 'batch_si...   \n",
       "4           4  {'units': 512, 'learning_rate': 0.01, 'batch_s...   \n",
       "5           5  {'units': 56, 'learning_rate': 0.0001, 'batch_...   \n",
       "6           6  {'units': 4096, 'learning_rate': 0.001, 'batch...   \n",
       "7           7  {'units': 32, 'learning_rate': 0.01, 'batch_si...   \n",
       "8           8  {'units': 32, 'learning_rate': 0.0001, 'batch_...   \n",
       "9           9  {'units': 1024, 'learning_rate': 0.0001, 'batc...   \n",
       "\n",
       "   elapsed_time      loss       acc  precision    recall       auc  \n",
       "0   1191.423954  0.295286  0.898667   0.909323  0.890000  0.992898  \n",
       "1  16570.518286  0.314543  0.892333   0.904477  0.882167  0.992367  \n",
       "2   1270.951972  0.329850  0.885333   0.897436  0.875000  0.991387  \n",
       "3    617.385063  0.410689  0.851583   0.886163  0.812833  0.989396  \n",
       "4    477.821110  0.622271  0.759667   0.804403  0.715583  0.976786  \n",
       "5   2343.354022  0.309517  0.896083   0.907135  0.888917  0.991615  \n",
       "6    623.689023  0.292821  0.906417   0.911663  0.902167  0.991529  \n",
       "7  24007.940646  0.527349  0.803250   0.839993  0.767333  0.982578  \n",
       "8   1614.853620  0.318445  0.892583   0.906584  0.882333  0.991941  \n",
       "9   1807.543514  0.314800  0.893083   0.908288  0.883083  0.991766  "
      ]
     },
     "execution_count": 65,
     "metadata": {},
     "output_type": "execute_result"
    }
   ],
   "source": [
    "hyp_results_df = pd.read_csv(f\"./results/conv2d_hypopt_20220612.csv\")\n",
    "hyp_results_df"
   ]
  },
  {
   "cell_type": "markdown",
   "metadata": {},
   "source": [
    "Entreno usando los mejores parámetros con el datateset de desarrollo completo. "
   ]
  },
  {
   "cell_type": "code",
   "execution_count": 66,
   "metadata": {},
   "outputs": [
    {
     "data": {
      "text/plain": [
       "{'units': 4096, 'learning_rate': 0.001, 'batch_size': 64, 'activation': 'tanh'}"
      ]
     },
     "execution_count": 66,
     "metadata": {},
     "output_type": "execute_result"
    }
   ],
   "source": [
    "import json\n",
    "model_name = 6\n",
    "idx = hyp_results_df[hyp_results_df.model_name==model_name].index[0]\n",
    "best_params = json.loads(hyp_results_df.loc[idx,'params'].replace(\"'\",'\"'))\n",
    "best_params    "
   ]
  },
  {
   "cell_type": "code",
   "execution_count": 69,
   "metadata": {},
   "outputs": [
    {
     "data": {
      "image/png": "[encoded data removed]",
      "text/plain": [
       "<IPython.core.display.Image object>"
      ]
     },
     "execution_count": 69,
     "metadata": {},
     "output_type": "execute_result"
    }
   ],
   "source": [
    "def create_model(hparams):\n",
    "  layer_in = tfkl.Input(shape=(28,28)) #Todo modelo necesita una entrada, y debemos especificar sus dimensiones\n",
    "  layer_add_channel = tf.expand_dims(layer_in,axis=3)\n",
    "  conv_block1 = tfkl.Conv2D(16,(3,3),padding='SAME',activation='relu')(layer_add_channel)\n",
    "  conv_block1 = tfkl.Conv2D(16,(3,3),padding='SAME',activation='relu')(conv_block1)\n",
    "  pool_1 = tfkl.MaxPooling2D(pool_size=(2,2))(conv_block1) #Aca queda (14,14)\n",
    "  conv_block2 = tfkl.Conv2D(32,(3,3),padding='SAME',activation='relu')(pool_1)\n",
    "  conv_block2 = tfkl.Conv2D(32,(3,3),padding='SAME',activation='relu')(conv_block2)\n",
    "  pool_2 = tfkl.MaxPooling2D(pool_size=(2,2))(conv_block2) #Aca queda (7,7)\n",
    "  conv_block3 = tfkl.Conv2D(32,(3,3),padding='SAME',activation='relu')(pool_2)\n",
    "  conv_block3 = tfkl.Conv2D(8,(3,3),padding='SAME',activation='relu')(conv_block3)\n",
    "  #Esta capa rompe la imagen achicada (8,7,7) y la vuelve un vector de 392 elementos\n",
    "  flatten_layer = tfkl.Flatten()(conv_block3)\n",
    "  hidden_layer = tfkl.Dense(units=hparams['units'], activation=hparams['activation'])(flatten_layer)\n",
    "  #Esta es la capa de salida\n",
    "  output_layer = tfkl.Dense(units=10,activation='softmax')(flatten_layer)\n",
    "  conv2d_model = tf.keras.Model(inputs=[layer_in],outputs=[output_layer])\n",
    "  return conv2d_model\n",
    "\n",
    "plotmod = create_model(best_params)\n",
    "\n",
    "tf.keras.utils.plot_model(\n",
    "    plotmod,\n",
    "    to_file='./img/conv2d_model.png',\n",
    "    show_shapes=True,\n",
    "    show_dtype=False,\n",
    "    show_layer_names=True,\n",
    "    rankdir='TB',\n",
    "    expand_nested=False,\n",
    "    dpi=96,\n",
    "    layer_range=None,\n",
    "    show_layer_activations=False\n",
    ")\n",
    "    "
   ]
  },
  {
   "cell_type": "code",
   "execution_count": 8,
   "metadata": {},
   "outputs": [
    {
     "name": "stdout",
     "output_type": "stream",
     "text": [
      "Epoch 1/50\n"
     ]
    },
    {
     "name": "stderr",
     "output_type": "stream",
     "text": [
      "2022-06-17 14:03:08.802189: I tensorflow/stream_executor/cuda/cuda_dnn.cc:384] Loaded cuDNN version 8400\n"
     ]
    },
    {
     "name": "stdout",
     "output_type": "stream",
     "text": [
      "750/750 [==] - 25s 29ms/step - loss: 0.5119 - categorical_accuracy: 0.8203 - precision: 0.8719 - recall: 0.7738 - auc: 0.9837 - val_loss: 0.3892 - val_categorical_accuracy: 0.8696 - val_precision: 0.8876 - val_recall: 0.8522 - val_auc: 0.9889\n",
      "Epoch 2/50\n",
      "750/750 [==] - 21s 28ms/step - loss: 0.3326 - categorical_accuracy: 0.8796 - precision: 0.9010 - recall: 0.8594 - auc: 0.9923 - val_loss: 0.3342 - val_categorical_accuracy: 0.8851 - val_precision: 0.9128 - val_recall: 0.8553 - val_auc: 0.9926\n",
      "Epoch 3/50\n",
      "750/750 [==] - 22s 29ms/step - loss: 0.2897 - categorical_accuracy: 0.8952 - precision: 0.9129 - recall: 0.8792 - auc: 0.9941 - val_loss: 0.3139 - val_categorical_accuracy: 0.8900 - val_precision: 0.9055 - val_recall: 0.8773 - val_auc: 0.9925\n",
      "Epoch 4/50\n",
      "750/750 [==] - 21s 29ms/step - loss: 0.2630 - categorical_accuracy: 0.9047 - precision: 0.9201 - recall: 0.8915 - auc: 0.9949 - val_loss: 0.3072 - val_categorical_accuracy: 0.8953 - val_precision: 0.9079 - val_recall: 0.8830 - val_auc: 0.9923\n",
      "Epoch 5/50\n",
      "750/750 [==] - 21s 28ms/step - loss: 0.2439 - categorical_accuracy: 0.9116 - precision: 0.9255 - recall: 0.8988 - auc: 0.9954 - val_loss: 0.2874 - val_categorical_accuracy: 0.9009 - val_precision: 0.9170 - val_recall: 0.8853 - val_auc: 0.9937\n",
      "Epoch 6/50\n",
      "750/750 [==] - 22s 29ms/step - loss: 0.2269 - categorical_accuracy: 0.9167 - precision: 0.9285 - recall: 0.9060 - auc: 0.9961 - val_loss: 0.2991 - val_categorical_accuracy: 0.8943 - val_precision: 0.9084 - val_recall: 0.8788 - val_auc: 0.9930\n",
      "Epoch 7/50\n",
      "750/750 [==] - 21s 28ms/step - loss: 0.2146 - categorical_accuracy: 0.9206 - precision: 0.9314 - recall: 0.9106 - auc: 0.9963 - val_loss: 0.2791 - val_categorical_accuracy: 0.9058 - val_precision: 0.9149 - val_recall: 0.8984 - val_auc: 0.9927\n",
      "Epoch 8/50\n",
      "750/750 [==] - 21s 28ms/step - loss: 0.2023 - categorical_accuracy: 0.9252 - precision: 0.9349 - recall: 0.9164 - auc: 0.9967 - val_loss: 0.2731 - val_categorical_accuracy: 0.9075 - val_precision: 0.9197 - val_recall: 0.8972 - val_auc: 0.9935\n",
      "Epoch 9/50\n",
      "750/750 [==] - 21s 28ms/step - loss: 0.1925 - categorical_accuracy: 0.9294 - precision: 0.9379 - recall: 0.9212 - auc: 0.9969 - val_loss: 0.2758 - val_categorical_accuracy: 0.9091 - val_precision: 0.9179 - val_recall: 0.9013 - val_auc: 0.9925\n",
      "Epoch 10/50\n",
      "750/750 [==] - 21s 28ms/step - loss: 0.1847 - categorical_accuracy: 0.9321 - precision: 0.9403 - recall: 0.9244 - auc: 0.9971 - val_loss: 0.2839 - val_categorical_accuracy: 0.9075 - val_precision: 0.9166 - val_recall: 0.9011 - val_auc: 0.9925\n",
      "Epoch 11/50\n",
      "750/750 [==] - 21s 28ms/step - loss: 0.1752 - categorical_accuracy: 0.9355 - precision: 0.9431 - recall: 0.9289 - auc: 0.9974 - val_loss: 0.2804 - val_categorical_accuracy: 0.9091 - val_precision: 0.9200 - val_recall: 0.8988 - val_auc: 0.9928\n",
      "Epoch 12/50\n",
      "750/750 [==] - 22s 29ms/step - loss: 0.1678 - categorical_accuracy: 0.9377 - precision: 0.9446 - recall: 0.9311 - auc: 0.9976 - val_loss: 0.2842 - val_categorical_accuracy: 0.9086 - val_precision: 0.9169 - val_recall: 0.9007 - val_auc: 0.9926\n",
      "Epoch 13/50\n",
      "750/750 [==] - 21s 28ms/step - loss: 0.1572 - categorical_accuracy: 0.9412 - precision: 0.9479 - recall: 0.9361 - auc: 0.9979 - val_loss: 0.2842 - val_categorical_accuracy: 0.9053 - val_precision: 0.9156 - val_recall: 0.8987 - val_auc: 0.9925\n",
      "375/375 [==] - 2s 6ms/step - loss: 0.2842 - categorical_accuracy: 0.9053 - precision: 0.9156 - recall: 0.8987 - auc: 0.9925\n"
     ]
    }
   ],
   "source": [
    "conv2d_model, performance, hparams, elapsed_time = entrenar_modelo(best_params, model_name=\"best_model\")"
   ]
  },
  {
   "cell_type": "code",
   "execution_count": 15,
   "metadata": {},
   "outputs": [
    {
     "name": "stdout",
     "output_type": "stream",
     "text": [
      "Evaluate model on test data\n",
      "157/157 [==] - 2s 11ms/step - loss: 0.2848 - categorical_accuracy: 0.9029 - precision: 0.9136 - recall: 0.8955 - auc: 0.9928\n",
      "test loss, test acc: [0.28484034538269043, 0.902899980545044, 0.9135890603065491, 0.8955000042915344, 0.9928462505340576]\n"
     ]
    }
   ],
   "source": [
    "print(\"Evaluate model on test data\")\n",
    "results = conv2d_model.evaluate(test_images, test_labels, batch_size=64)\n",
    "print(\"test loss, test acc:\", results)"
   ]
  },
  {
   "cell_type": "code",
   "execution_count": 62,
   "metadata": {},
   "outputs": [
    {
     "name": "stdout",
     "output_type": "stream",
     "text": [
      "Generate a prediction\n",
      "313/313 [==] - 2s 5ms/step\n"
     ]
    }
   ],
   "source": [
    "# Generate a prediction using model.predict() \n",
    "# and calculate it's shape:\n",
    "print(\"Generate a prediction\")\n",
    "prediction = conv2d_model.predict(test_images)"
   ]
  },
  {
   "cell_type": "code",
   "execution_count": 63,
   "metadata": {},
   "outputs": [
    {
     "data": {
      "text/plain": [
       "array([[1.7709864e-10, 8.8409247e-14, 3.2121864e-10, ..., 2.6129730e-05,\n",
       "        4.8452226e-10, 9.9997234e-01],\n",
       "       [2.0376879e-06, 1.4132378e-06, 9.9945670e-01, ..., 5.4745644e-09,\n",
       "        4.0862060e-09, 1.6696717e-07],\n",
       "       [5.9786642e-10, 1.0000000e+00, 3.0080549e-11, ..., 2.2310475e-15,\n",
       "        1.7790355e-10, 5.5737449e-15],\n",
       "       ...,\n",
       "       [3.1125014e-09, 8.1898403e-14, 1.9364446e-09, ..., 1.8628787e-09,\n",
       "        1.0000000e+00, 4.6320482e-11],\n",
       "       [4.0395797e-08, 9.9999988e-01, 6.2969391e-10, ..., 9.8137352e-11,\n",
       "        2.5329008e-11, 2.0510384e-10],\n",
       "       [5.9213511e-05, 1.1778798e-08, 4.8431393e-06, ..., 1.7978834e-01,\n",
       "        1.4713127e-02, 3.0739498e-04]], dtype=float32)"
      ]
     },
     "execution_count": 63,
     "metadata": {},
     "output_type": "execute_result"
    }
   ],
   "source": [
    "prediction #salida softmax "
   ]
  },
  {
   "cell_type": "code",
   "execution_count": 76,
   "metadata": {},
   "outputs": [],
   "source": [
    "ypreds = np.argmax(prediction, axis = 1)\n",
    "ytest = np.argmax(test_labels, axis = 1)"
   ]
  },
  {
   "cell_type": "code",
   "execution_count": 127,
   "metadata": {},
   "outputs": [
    {
     "data": {
      "image/png": "[encoded data removed]",
      "text/plain": [
       "<Figure size 720x720 with 1 Axes>"
      ]
     },
     "metadata": {
      "needs_background": "light"
     },
     "output_type": "display_data"
    }
   ],
   "source": [
    "nombres = ['T-shirt/top [0]', 'Trouser [1]', 'Pullover [2]', 'Dress [3]', 'Coat [4]', 'Sandal [5]', 'Shirt [6]', 'Sneaker [7]', 'Bag [8]', 'Ankle boot [9]']\n",
    "clases = [0, 1, 2, 3, 4, 5, 6, 7, 8, 9]\n",
    "dicc = dict(zip(clases, nombres))\n",
    "\n",
    "\n",
    "matriz = confusion_matrix(pd.Series(ypreds).map(dicc), pd.Series(ytest).map(dicc))\n",
    "df_mc = pd.DataFrame(matriz, index=nombres, columns=nombres)\n",
    "\n",
    "plt.figure(figsize=(10,10))\n",
    "sns.heatmap(df_mc, annot=True, linewidths=.5, fmt=\".0f\", square = True, cmap = 'Blues_r', cbar=None ).set(xlabel='Predicted Class', ylabel='True Class')\n",
    "plt.title(\"Confusion Matrix: Conv2D\", fontsize=16), plt.tight_layout()\n",
    "#plt.show()\n",
    "\n",
    "plt.savefig(\"./img/confusion_matrix_conv2d_model.png\", dpi=200, facecolor=\"white\")"
   ]
  },
  {
   "cell_type": "code",
   "execution_count": 107,
   "metadata": {},
   "outputs": [
    {
     "data": {
      "text/html": [
       "<div>\n",
       "<style scoped>\n",
       "    .dataframe tbody tr th:only-of-type {\n",
       "        vertical-align: middle;\n",
       "    }\n",
       "\n",
       "    .dataframe tbody tr th {\n",
       "        vertical-align: top;\n",
       "    }\n",
       "\n",
       "    .dataframe thead th {\n",
       "        text-align: right;\n",
       "    }\n",
       "</style>\n",
       "<table border=\"1\" class=\"dataframe\">\n",
       "  <thead>\n",
       "    <tr style=\"text-align: right;\">\n",
       "      <th></th>\n",
       "      <th>precision</th>\n",
       "      <th>recall</th>\n",
       "      <th>f1-score</th>\n",
       "      <th>roc_auc</th>\n",
       "      <th>support</th>\n",
       "    </tr>\n",
       "  </thead>\n",
       "  <tbody>\n",
       "    <tr>\n",
       "      <th>T-shirt/top [0]</th>\n",
       "      <td>0.858</td>\n",
       "      <td>0.841</td>\n",
       "      <td>0.849</td>\n",
       "      <td>0.913</td>\n",
       "      <td>1000</td>\n",
       "    </tr>\n",
       "    <tr>\n",
       "      <th>Trouser [1]</th>\n",
       "      <td>0.995</td>\n",
       "      <td>0.964</td>\n",
       "      <td>0.979</td>\n",
       "      <td>0.982</td>\n",
       "      <td>1000</td>\n",
       "    </tr>\n",
       "    <tr>\n",
       "      <th>Pullover [2]</th>\n",
       "      <td>0.867</td>\n",
       "      <td>0.834</td>\n",
       "      <td>0.850</td>\n",
       "      <td>0.910</td>\n",
       "      <td>1000</td>\n",
       "    </tr>\n",
       "    <tr>\n",
       "      <th>Dress [3]</th>\n",
       "      <td>0.899</td>\n",
       "      <td>0.911</td>\n",
       "      <td>0.905</td>\n",
       "      <td>0.950</td>\n",
       "      <td>1000</td>\n",
       "    </tr>\n",
       "    <tr>\n",
       "      <th>Coat [4]</th>\n",
       "      <td>0.805</td>\n",
       "      <td>0.879</td>\n",
       "      <td>0.840</td>\n",
       "      <td>0.928</td>\n",
       "      <td>1000</td>\n",
       "    </tr>\n",
       "    <tr>\n",
       "      <th>Sandal [5]</th>\n",
       "      <td>0.980</td>\n",
       "      <td>0.977</td>\n",
       "      <td>0.978</td>\n",
       "      <td>0.987</td>\n",
       "      <td>1000</td>\n",
       "    </tr>\n",
       "    <tr>\n",
       "      <th>Shirt [6]</th>\n",
       "      <td>0.726</td>\n",
       "      <td>0.717</td>\n",
       "      <td>0.721</td>\n",
       "      <td>0.843</td>\n",
       "      <td>1000</td>\n",
       "    </tr>\n",
       "    <tr>\n",
       "      <th>Sneaker [7]</th>\n",
       "      <td>0.949</td>\n",
       "      <td>0.970</td>\n",
       "      <td>0.959</td>\n",
       "      <td>0.982</td>\n",
       "      <td>1000</td>\n",
       "    </tr>\n",
       "    <tr>\n",
       "      <th>Bag [8]</th>\n",
       "      <td>0.986</td>\n",
       "      <td>0.975</td>\n",
       "      <td>0.980</td>\n",
       "      <td>0.987</td>\n",
       "      <td>1000</td>\n",
       "    </tr>\n",
       "    <tr>\n",
       "      <th>Ankle boot [9]</th>\n",
       "      <td>0.973</td>\n",
       "      <td>0.961</td>\n",
       "      <td>0.967</td>\n",
       "      <td>0.979</td>\n",
       "      <td>1000</td>\n",
       "    </tr>\n",
       "    <tr>\n",
       "      <th>accuracy</th>\n",
       "      <td>0.903</td>\n",
       "      <td>0.903</td>\n",
       "      <td>0.903</td>\n",
       "      <td>0.903</td>\n",
       "      <td>10000</td>\n",
       "    </tr>\n",
       "    <tr>\n",
       "      <th>macro_avg</th>\n",
       "      <td>0.904</td>\n",
       "      <td>0.903</td>\n",
       "      <td>0.903</td>\n",
       "      <td>0.946</td>\n",
       "      <td>10000</td>\n",
       "    </tr>\n",
       "    <tr>\n",
       "      <th>weighted_avg</th>\n",
       "      <td>0.904</td>\n",
       "      <td>0.903</td>\n",
       "      <td>0.903</td>\n",
       "      <td>0.946</td>\n",
       "      <td>10000</td>\n",
       "    </tr>\n",
       "  </tbody>\n",
       "</table>\n",
       "</div>"
      ],
      "text/plain": [
       "                 precision  recall  f1-score  roc_auc  support\n",
       "T-shirt/top [0]      0.858   0.841     0.849    0.913     1000\n",
       "Trouser [1]          0.995   0.964     0.979    0.982     1000\n",
       "Pullover [2]         0.867   0.834     0.850    0.910     1000\n",
       "Dress [3]            0.899   0.911     0.905    0.950     1000\n",
       "Coat [4]             0.805   0.879     0.840    0.928     1000\n",
       "Sandal [5]           0.980   0.977     0.978    0.987     1000\n",
       "Shirt [6]            0.726   0.717     0.721    0.843     1000\n",
       "Sneaker [7]          0.949   0.970     0.959    0.982     1000\n",
       "Bag [8]              0.986   0.975     0.980    0.987     1000\n",
       "Ankle boot [9]       0.973   0.961     0.967    0.979     1000\n",
       "accuracy             0.903   0.903     0.903    0.903    10000\n",
       "macro_avg            0.904   0.903     0.903    0.946    10000\n",
       "weighted_avg         0.904   0.903     0.903    0.946    10000"
      ]
     },
     "execution_count": 107,
     "metadata": {},
     "output_type": "execute_result"
    }
   ],
   "source": [
    "preatty_classif_report(pd.Series(ytest), pd.Series(ypreds))"
   ]
  },
  {
   "cell_type": "markdown",
   "metadata": {},
   "source": [
    "## Conv2d vs RF"
   ]
  },
  {
   "cell_type": "code",
   "execution_count": 128,
   "metadata": {},
   "outputs": [
    {
     "data": {
      "text/plain": [
       "array([9, 2, 1, ..., 8, 1, 5])"
      ]
     },
     "execution_count": 128,
     "metadata": {},
     "output_type": "execute_result"
    }
   ],
   "source": [
    "ypreds"
   ]
  },
  {
   "cell_type": "code",
   "execution_count": 129,
   "metadata": {},
   "outputs": [
    {
     "data": {
      "text/plain": [
       "array([9, 2, 1, ..., 8, 1, 5], dtype=uint8)"
      ]
     },
     "execution_count": 129,
     "metadata": {},
     "output_type": "execute_result"
    }
   ],
   "source": [
    "y_rfpred"
   ]
  },
  {
   "cell_type": "code",
   "execution_count": 130,
   "metadata": {},
   "outputs": [
    {
     "data": {
      "text/plain": [
       "array([9, 2, 1, ..., 8, 1, 5])"
      ]
     },
     "execution_count": 130,
     "metadata": {},
     "output_type": "execute_result"
    }
   ],
   "source": [
    "ytest"
   ]
  },
  {
   "cell_type": "code",
   "execution_count": 142,
   "metadata": {},
   "outputs": [
    {
     "data": {
      "image/png": "[encoded data removed]",
      "text/plain": [
       "<Figure size 720x360 with 2 Axes>"
      ]
     },
     "metadata": {
      "needs_background": "light"
     },
     "output_type": "display_data"
    }
   ],
   "source": [
    "nombres = ['T-shirt/top [0]', 'Trouser [1]', 'Pullover [2]', 'Dress [3]', 'Coat [4]', 'Sandal [5]', 'Shirt [6]', 'Sneaker [7]', 'Bag [8]', 'Ankle boot [9]']\n",
    "clases = [0, 1, 2, 3, 4, 5, 6, 7, 8, 9]\n",
    "dicc = dict(zip(clases, nombres))\n",
    "\n",
    "\n",
    "#CONV2D\n",
    "mconv2d = confusion_matrix(pd.Series(ypreds).map(dicc), pd.Series(ytest).map(dicc))\n",
    "mconv2d = pd.DataFrame(mconv2d, index=nombres, columns=nombres)\n",
    "\n",
    "#Random Forest\n",
    "mrf = confusion_matrix(pd.Series(y_rfpred).map(dicc), pd.Series(ytest).map(dicc))\n",
    "mrf = pd.DataFrame(mrf, index=nombres, columns=nombres)\n",
    "\n",
    "import matplotlib.ticker as ticker\n",
    "fig, axs = plt.subplots(ncols=2, figsize=(10,5))\n",
    "\n",
    "h1 = sns.heatmap(mconv2d, annot=True, linewidths=.5, fmt=\".0f\", square = True, cmap = 'Blues_r', cbar=None, ax=axs[0])\n",
    "axs[0].set_xlabel('Predicted Class', fontsize=12)\n",
    "axs[0].set_ylabel('True Class', fontsize=12)\n",
    "axs[0].set_title(\"Confusion Matrix: Conv2D\", fontsize=14)\n",
    "\n",
    "hs = sns.heatmap(mrf, annot=True, linewidths=.5, fmt=\".0f\", square = True, cmap = 'Blues_r', cbar=None, ax=axs[1])\n",
    "axs[1].set_xlabel('Predicted Class', fontsize=12)\n",
    "axs[1].set_title(\"Confusion Matrix: Random Forest\", fontsize=14)\n",
    "axs[1].yaxis.set_major_locator(ticker.NullLocator())\n",
    "\n",
    "# plt.show()\n",
    "plt.savefig(\"./img/confusion_matrix_conv2d_vs_rf.png\", dpi=200, facecolor=\"white\")"
   ]
  }
 ],
 "metadata": {
  "kernelspec": {
   "display_name": "Python 3 (ipykernel)",
   "language": "python",
   "name": "python3"
  },
  "language_info": {
   "codemirror_mode": {
    "name": "ipython",
    "version": 3
   },
   "file_extension": ".py",
   "mimetype": "text/x-python",
   "name": "python",
   "nbconvert_exporter": "python",
   "pygments_lexer": "ipython3",
   "version": "3.10.4"
  },
  "vscode": {
   "interpreter": {
    "hash": "d4e69fe0aa7235d541b9a363ebedf2d9cc61370392c472331abc8ef96ded87c0"
   }
  }
 },
 "nbformat": 4,
 "nbformat_minor": 4
}
