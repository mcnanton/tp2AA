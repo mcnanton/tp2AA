{
 "cells": [
  {
   "cell_type": "markdown",
   "metadata": {},
   "source": [
    "# TP2: Modelado sobre dataset Fashion MNIST"
   ]
  },
  {
   "cell_type": "markdown",
   "metadata": {},
   "source": [
    "## Librerías"
   ]
  },
  {
   "cell_type": "markdown",
   "metadata": {},
   "source": [
    "Fuente: https://pjreddie.com/projects/mnist-in-csv/"
   ]
  },
  {
   "cell_type": "code",
   "execution_count": 2,
   "metadata": {},
   "outputs": [],
   "source": [
    "import pandas as pd\n",
    "import os\n",
    "import gzip\n",
    "import numpy as np\n",
    "import time\n",
    "from datetime import datetime\n",
    "from tqdm import tqdm\n",
    "import matplotlib.pyplot as plt\n",
    "import seaborn as sns\n",
    "import requests\n",
    "\n",
    "from sklearn.ensemble import BaggingClassifier\n",
    "from sklearn.neighbors import KNeighborsClassifier\n",
    "from sklearn.ensemble import RandomForestClassifier\n",
    "from sklearn.ensemble import AdaBoostClassifier\n",
    "from sklearn.ensemble import GradientBoostingClassifier\n",
    "from sklearn.tree import DecisionTreeClassifier\n",
    "from sklearn.model_selection import RandomizedSearchCV, GridSearchCV\n",
    "from sklearn.naive_bayes import MultinomialNB\n",
    "from sklearn.metrics import confusion_matrix, classification_report\n",
    "from sklearn.metrics import roc_auc_score\n",
    "from tqdm import tqdm\n",
    "import pickle"
   ]
  },
  {
   "cell_type": "markdown",
   "metadata": {},
   "source": [
    "Correr una sola vez para descargar toda la data luego mutear todo el chunk. "
   ]
  },
  {
   "cell_type": "code",
   "execution_count": 2,
   "metadata": {},
   "outputs": [],
   "source": [
    "# def download_gz_from_url(url, output_folder): \n",
    "#     file_name = url.split(\"/\")[-1]\n",
    "#     r = requests.get(url, stream=True)\n",
    "#     with open(output_folder+\"/\"+file_name, 'wb') as f:\n",
    "#         for chunk in r.raw.stream(1024, decode_content=False):\n",
    "#             if chunk:\n",
    "#                 f.write(chunk)\n",
    "\n",
    "# output_folder= \"./data\"\n",
    "                \n",
    "# from pathlib import Path\n",
    "# Path(output_folder).mkdir(parents=True, exist_ok=True)\n",
    "                \n",
    "# urls = [\"http://fashion-mnist.s3-website.eu-central-1.amazonaws.com/train-images-idx3-ubyte.gz\", #x_train\n",
    "#         \"http://fashion-mnist.s3-website.eu-central-1.amazonaws.com/train-labels-idx1-ubyte.gz\", #y_train\n",
    "#         \"http://fashion-mnist.s3-website.eu-central-1.amazonaws.com/t10k-images-idx3-ubyte.gz\", #x_test\n",
    "#         \"http://fashion-mnist.s3-website.eu-central-1.amazonaws.com/t10k-labels-idx1-ubyte.gz\" #y_test\n",
    "#        ]\n",
    "                \n",
    "# for url in tqdm(urls):\n",
    "#     download_gz_from_url(url,output_folder)"
   ]
  },
  {
   "cell_type": "markdown",
   "metadata": {},
   "source": [
    "## Carga de Datos"
   ]
  },
  {
   "cell_type": "code",
   "execution_count": 3,
   "metadata": {},
   "outputs": [],
   "source": [
    "import mnist_fashion_reader as mnist\n",
    "\n",
    "X_train, y_train = mnist.load_mnist('data/', kind='train') #devuelve amigables objetos de Pandas\n",
    "X_test, y_test = mnist.load_mnist('data/', kind='t10k') #devuevle amigables objetos de Pandas"
   ]
  },
  {
   "cell_type": "markdown",
   "metadata": {},
   "source": [
    "## Punto 1: Exploración del dataset"
   ]
  },
  {
   "cell_type": "markdown",
   "metadata": {},
   "source": [
    "Realizar una breve descripción del dataset. \n",
    "\n",
    "* ¿Qué cantidad de datos tiene este conjunto?\n",
    "\n",
    "* ¿Cuántos atributos? \n",
    "\n",
    "* ¿Qué rangos de valores toman los atributos?\n",
    "\n",
    "* ¿Qué cantidad de clases hay para clasificar?\n",
    "\n",
    "* ¿Están balanceadas?\n",
    "\n",
    "* Realizar un gráfico donde se muestran ejemplos de las clases (Puede ir a un anexo)."
   ]
  },
  {
   "cell_type": "markdown",
   "metadata": {},
   "source": [
    "### Cantidad de datos del conjunto"
   ]
  },
  {
   "cell_type": "code",
   "execution_count": 4,
   "metadata": {},
   "outputs": [],
   "source": [
    "df_entrenamiento = pd.concat([X_train.reset_index(drop=True), y_train], axis=1)\n",
    "df_test = pd.concat([X_test.reset_index(drop=True), y_test], axis=1)\n",
    "df_completo = pd.concat([df_entrenamiento, df_test])"
   ]
  },
  {
   "cell_type": "code",
   "execution_count": 5,
   "metadata": {},
   "outputs": [
    {
     "name": "stdout",
     "output_type": "stream",
     "text": [
      "Entrenamiento: (60000, 785)   +   Test: (10000, 785)   -->   Completo: (70000, 785)\n"
     ]
    }
   ],
   "source": [
    "print('Entrenamiento:', df_entrenamiento.shape,'  +  ' ,'Test:', df_test.shape, '  -->  ' , 'Completo:', df_completo.shape)"
   ]
  },
  {
   "cell_type": "code",
   "execution_count": 6,
   "metadata": {},
   "outputs": [
    {
     "name": "stdout",
     "output_type": "stream",
     "text": [
      "El dataset completo posee 70000 registros. Cada registro corresponde a una imagen del dataset.\n"
     ]
    }
   ],
   "source": [
    "print(f\"El dataset completo posee {len(df_completo)} registros. Cada registro corresponde a una imagen del dataset.\")"
   ]
  },
  {
   "cell_type": "markdown",
   "metadata": {},
   "source": [
    "### Atributos"
   ]
  },
  {
   "cell_type": "markdown",
   "metadata": {},
   "source": [
    "#### Cantidad de atributos"
   ]
  },
  {
   "cell_type": "code",
   "execution_count": 7,
   "metadata": {},
   "outputs": [
    {
     "name": "stdout",
     "output_type": "stream",
     "text": [
      "Cada atributo representa el valor de cada uno de los pixeles de cada imagen. Dado que cada imagen tiene un formato de 28 x 28 pixeles en escala de grises, el dataset posee 784 atributos por registro, correspondientes al valor en escala de gris de cada pixel que compone la imagen\n",
      "+ UN (1) atributo con valores de 0 a 9 correspondiente a las clases a clasificar\n"
     ]
    }
   ],
   "source": [
    "print(f\"Cada atributo representa el valor de cada uno de los pixeles de cada imagen. Dado que cada imagen tiene un formato de 28 x 28 pixeles en escala de grises, el dataset posee {len(df_completo.columns)-1} atributos por registro, correspondientes al valor en escala de gris de cada pixel que compone la imagen\")\n",
    "\n",
    "print(\"+ UN (1) atributo con valores de 0 a 9 correspondiente a las clases a clasificar\" )"
   ]
  },
  {
   "cell_type": "code",
   "execution_count": 7,
   "metadata": {},
   "outputs": [
    {
     "data": {
      "text/plain": [
       "784"
      ]
     },
     "execution_count": 7,
     "metadata": {},
     "output_type": "execute_result"
    }
   ],
   "source": [
    "28*28"
   ]
  },
  {
   "cell_type": "markdown",
   "metadata": {},
   "source": [
    "#### Rangos de valores"
   ]
  },
  {
   "cell_type": "code",
   "execution_count": 8,
   "metadata": {},
   "outputs": [],
   "source": [
    "max_val = df_completo.max().max()\n",
    "min_val = df_completo.min().min()"
   ]
  },
  {
   "cell_type": "code",
   "execution_count": 9,
   "metadata": {},
   "outputs": [
    {
     "name": "stdout",
     "output_type": "stream",
     "text": [
      "El valor mínimo de los atributos es 0 , y el máximo es 255. Cada valor es un integer entre 0 y 255\n"
     ]
    }
   ],
   "source": [
    "print(f\"El valor mínimo de los atributos es {min_val} , y el máximo es {max_val}. Cada valor es un integer entre {min_val} y {max_val}\")"
   ]
  },
  {
   "cell_type": "markdown",
   "metadata": {},
   "source": [
    "#### Clases a clasificar"
   ]
  },
  {
   "cell_type": "code",
   "execution_count": 10,
   "metadata": {},
   "outputs": [
    {
     "data": {
      "text/plain": [
       "array([0, 1, 2, 3, 4, 5, 6, 7, 8, 9], dtype=uint8)"
      ]
     },
     "execution_count": 10,
     "metadata": {},
     "output_type": "execute_result"
    }
   ],
   "source": [
    "clases = np.sort(df_completo[0].unique())\n",
    "\n",
    "clases"
   ]
  },
  {
   "cell_type": "code",
   "execution_count": 11,
   "metadata": {},
   "outputs": [
    {
     "name": "stdout",
     "output_type": "stream",
     "text": [
      "El dataset está compuesto por 10 clases\n"
     ]
    }
   ],
   "source": [
    "print(f\"El dataset está compuesto por {len(clases)} clases\")"
   ]
  },
  {
   "cell_type": "markdown",
   "metadata": {},
   "source": [
    "##### N de clases"
   ]
  },
  {
   "cell_type": "code",
   "execution_count": 12,
   "metadata": {},
   "outputs": [
    {
     "name": "stdout",
     "output_type": "stream",
     "text": [
      "Las clases son: [0 1 2 3 4 5 6 7 8 9]\n"
     ]
    }
   ],
   "source": [
    "print(f\"Las clases son: {clases}\")"
   ]
  },
  {
   "cell_type": "markdown",
   "metadata": {},
   "source": [
    "##### Balanceo de clases"
   ]
  },
  {
   "cell_type": "code",
   "execution_count": 13,
   "metadata": {},
   "outputs": [
    {
     "data": {
      "text/html": [
       "<div>\n",
       "<style scoped>\n",
       "    .dataframe tbody tr th:only-of-type {\n",
       "        vertical-align: middle;\n",
       "    }\n",
       "\n",
       "    .dataframe tbody tr th {\n",
       "        vertical-align: top;\n",
       "    }\n",
       "\n",
       "    .dataframe thead th {\n",
       "        text-align: right;\n",
       "    }\n",
       "</style>\n",
       "<table border=\"1\" class=\"dataframe\">\n",
       "  <thead>\n",
       "    <tr style=\"text-align: right;\">\n",
       "      <th></th>\n",
       "      <th>Cant</th>\n",
       "      <th>%</th>\n",
       "    </tr>\n",
       "  </thead>\n",
       "  <tbody>\n",
       "    <tr>\n",
       "      <th>0</th>\n",
       "      <td>7000</td>\n",
       "      <td>0.1</td>\n",
       "    </tr>\n",
       "    <tr>\n",
       "      <th>1</th>\n",
       "      <td>7000</td>\n",
       "      <td>0.1</td>\n",
       "    </tr>\n",
       "    <tr>\n",
       "      <th>2</th>\n",
       "      <td>7000</td>\n",
       "      <td>0.1</td>\n",
       "    </tr>\n",
       "    <tr>\n",
       "      <th>3</th>\n",
       "      <td>7000</td>\n",
       "      <td>0.1</td>\n",
       "    </tr>\n",
       "    <tr>\n",
       "      <th>4</th>\n",
       "      <td>7000</td>\n",
       "      <td>0.1</td>\n",
       "    </tr>\n",
       "    <tr>\n",
       "      <th>5</th>\n",
       "      <td>7000</td>\n",
       "      <td>0.1</td>\n",
       "    </tr>\n",
       "    <tr>\n",
       "      <th>6</th>\n",
       "      <td>7000</td>\n",
       "      <td>0.1</td>\n",
       "    </tr>\n",
       "    <tr>\n",
       "      <th>7</th>\n",
       "      <td>7000</td>\n",
       "      <td>0.1</td>\n",
       "    </tr>\n",
       "    <tr>\n",
       "      <th>8</th>\n",
       "      <td>7000</td>\n",
       "      <td>0.1</td>\n",
       "    </tr>\n",
       "    <tr>\n",
       "      <th>9</th>\n",
       "      <td>7000</td>\n",
       "      <td>0.1</td>\n",
       "    </tr>\n",
       "  </tbody>\n",
       "</table>\n",
       "</div>"
      ],
      "text/plain": [
       "   Cant    %\n",
       "0  7000  0.1\n",
       "1  7000  0.1\n",
       "2  7000  0.1\n",
       "3  7000  0.1\n",
       "4  7000  0.1\n",
       "5  7000  0.1\n",
       "6  7000  0.1\n",
       "7  7000  0.1\n",
       "8  7000  0.1\n",
       "9  7000  0.1"
      ]
     },
     "execution_count": 13,
     "metadata": {},
     "output_type": "execute_result"
    }
   ],
   "source": [
    "Q = df_completo[0].value_counts().rename(\"Cant\")\n",
    "P = df_completo[0].value_counts(normalize=True).rename(\"%\")\n",
    "\n",
    "pd.concat([Q, P], axis=1).sort_index()\n"
   ]
  },
  {
   "cell_type": "markdown",
   "metadata": {},
   "source": [
    "##### Grafico donde se muestran ejemplos de las clases (Puede ir a un anexo)"
   ]
  },
  {
   "cell_type": "markdown",
   "metadata": {},
   "source": [
    "1er Ejemplo:"
   ]
  },
  {
   "cell_type": "code",
   "execution_count": 115,
   "metadata": {},
   "outputs": [
    {
     "data": {
      "image/png": "[encoded data removed]",
      "text/plain": [
       "<Figure size 1224x576 with 10 Axes>"
      ]
     },
     "metadata": {},
     "output_type": "display_data"
    }
   ],
   "source": [
    "clases = np.sort(df_completo[0].unique())\n",
    "\n",
    "class_names = ['T-shirt/top', 'Trouser', 'Pullover', 'Dress', 'Coat',\n",
    "               'Sandal', 'Shirt', 'Sneaker', 'Bag', 'Ankle boot']\n",
    "\n",
    "\n",
    "## Ejemplo 1\n",
    "plt.figure(figsize=(17,8))\n",
    "for i,clase_i in enumerate(clases):\n",
    "  filtro_i = y_train == clase_i\n",
    "  plt.subplot(2,5,i+1)\n",
    "  plt.title(class_names[clase_i])\n",
    "  plt.xticks([])\n",
    "  plt.yticks([])\n",
    "  plt.grid(False)\n",
    "  plt.imshow(np.array(X_train[filtro_i].iloc[0]).reshape(28,28),cmap='binary')\n",
    "plt.tight_layout()"
   ]
  },
  {
   "cell_type": "code",
   "execution_count": null,
   "metadata": {},
   "outputs": [],
   "source": [
    "2do Ejemplo:"
   ]
  },
  {
   "cell_type": "code",
   "execution_count": 114,
   "metadata": {},
   "outputs": [
    {
     "data": {
      "image/png": "[encoded data removed]",
      "text/plain": [
       "<Figure size 1224x576 with 10 Axes>"
      ]
     },
     "metadata": {},
     "output_type": "display_data"
    }
   ],
   "source": [
    "## Ejemplo 2\n",
    "plt.figure(figsize=(17,8))\n",
    "for i,clase_i in enumerate(clases):\n",
    "  filtro_i = y_train == clase_i\n",
    "  plt.subplot(2,5,i+1)\n",
    "  plt.title(class_names[clase_i])\n",
    "  plt.xticks([])\n",
    "  plt.yticks([])\n",
    "  plt.grid(False)\n",
    "  plt.imshow(np.array(X_train[filtro_i].iloc[1]).reshape(28,28),cmap='binary')\n",
    "plt.tight_layout()"
   ]
  },
  {
   "cell_type": "code",
   "execution_count": 116,
   "metadata": {},
   "outputs": [
    {
     "data": {
      "image/png": "[encoded data removed]",
      "text/plain": [
       "<Figure size 1224x576 with 10 Axes>"
      ]
     },
     "metadata": {},
     "output_type": "display_data"
    }
   ],
   "source": [
    "## Ejemplo 3\n",
    "plt.figure(figsize=(17,8))\n",
    "for i,clase_i in enumerate(clases):\n",
    "  filtro_i = y_train == clase_i\n",
    "  plt.subplot(2,5,i+1)\n",
    "  plt.title(class_names[clase_i])\n",
    "  plt.xticks([])\n",
    "  plt.yticks([])\n",
    "  plt.grid(False)\n",
    "  plt.imshow(np.array(X_train[filtro_i].iloc[2]).reshape(28,28),cmap='binary')\n",
    "plt.tight_layout()"
   ]
  },
  {
   "cell_type": "markdown",
   "metadata": {},
   "source": [
    "## Punto 2: Separación en desarrollo y testeo"
   ]
  },
  {
   "cell_type": "markdown",
   "metadata": {},
   "source": [
    "Separación de datos respetando la división presente en el github oficial de desarrollo y testeo"
   ]
  },
  {
   "cell_type": "code",
   "execution_count": 117,
   "metadata": {},
   "outputs": [
    {
     "data": {
      "text/plain": [
       "(60000, 784)"
      ]
     },
     "execution_count": 117,
     "metadata": {},
     "output_type": "execute_result"
    }
   ],
   "source": [
    "X_train.shape"
   ]
  },
  {
   "cell_type": "code",
   "execution_count": 118,
   "metadata": {},
   "outputs": [
    {
     "data": {
      "text/plain": [
       "(60000,)"
      ]
     },
     "execution_count": 118,
     "metadata": {},
     "output_type": "execute_result"
    }
   ],
   "source": [
    "y_train.shape"
   ]
  },
  {
   "cell_type": "code",
   "execution_count": 119,
   "metadata": {},
   "outputs": [
    {
     "data": {
      "text/plain": [
       "(10000, 784)"
      ]
     },
     "execution_count": 119,
     "metadata": {},
     "output_type": "execute_result"
    }
   ],
   "source": [
    "X_test.shape"
   ]
  },
  {
   "cell_type": "code",
   "execution_count": 120,
   "metadata": {},
   "outputs": [
    {
     "data": {
      "text/plain": [
       "(10000,)"
      ]
     },
     "execution_count": 120,
     "metadata": {},
     "output_type": "execute_result"
    }
   ],
   "source": [
    "y_test.shape"
   ]
  },
  {
   "cell_type": "code",
   "execution_count": 121,
   "metadata": {},
   "outputs": [
    {
     "data": {
      "text/html": [
       "<div>\n",
       "<style scoped>\n",
       "    .dataframe tbody tr th:only-of-type {\n",
       "        vertical-align: middle;\n",
       "    }\n",
       "\n",
       "    .dataframe tbody tr th {\n",
       "        vertical-align: top;\n",
       "    }\n",
       "\n",
       "    .dataframe thead th {\n",
       "        text-align: right;\n",
       "    }\n",
       "</style>\n",
       "<table border=\"1\" class=\"dataframe\">\n",
       "  <thead>\n",
       "    <tr style=\"text-align: right;\">\n",
       "      <th></th>\n",
       "      <th>Cant</th>\n",
       "      <th>%</th>\n",
       "    </tr>\n",
       "    <tr>\n",
       "      <th>train</th>\n",
       "      <th></th>\n",
       "      <th></th>\n",
       "    </tr>\n",
       "  </thead>\n",
       "  <tbody>\n",
       "    <tr>\n",
       "      <th>0</th>\n",
       "      <td>6000</td>\n",
       "      <td>0.1</td>\n",
       "    </tr>\n",
       "    <tr>\n",
       "      <th>1</th>\n",
       "      <td>6000</td>\n",
       "      <td>0.1</td>\n",
       "    </tr>\n",
       "    <tr>\n",
       "      <th>2</th>\n",
       "      <td>6000</td>\n",
       "      <td>0.1</td>\n",
       "    </tr>\n",
       "    <tr>\n",
       "      <th>3</th>\n",
       "      <td>6000</td>\n",
       "      <td>0.1</td>\n",
       "    </tr>\n",
       "    <tr>\n",
       "      <th>4</th>\n",
       "      <td>6000</td>\n",
       "      <td>0.1</td>\n",
       "    </tr>\n",
       "    <tr>\n",
       "      <th>5</th>\n",
       "      <td>6000</td>\n",
       "      <td>0.1</td>\n",
       "    </tr>\n",
       "    <tr>\n",
       "      <th>6</th>\n",
       "      <td>6000</td>\n",
       "      <td>0.1</td>\n",
       "    </tr>\n",
       "    <tr>\n",
       "      <th>7</th>\n",
       "      <td>6000</td>\n",
       "      <td>0.1</td>\n",
       "    </tr>\n",
       "    <tr>\n",
       "      <th>8</th>\n",
       "      <td>6000</td>\n",
       "      <td>0.1</td>\n",
       "    </tr>\n",
       "    <tr>\n",
       "      <th>9</th>\n",
       "      <td>6000</td>\n",
       "      <td>0.1</td>\n",
       "    </tr>\n",
       "  </tbody>\n",
       "</table>\n",
       "</div>"
      ],
      "text/plain": [
       "       Cant    %\n",
       "train           \n",
       "0      6000  0.1\n",
       "1      6000  0.1\n",
       "2      6000  0.1\n",
       "3      6000  0.1\n",
       "4      6000  0.1\n",
       "5      6000  0.1\n",
       "6      6000  0.1\n",
       "7      6000  0.1\n",
       "8      6000  0.1\n",
       "9      6000  0.1"
      ]
     },
     "execution_count": 121,
     "metadata": {},
     "output_type": "execute_result"
    }
   ],
   "source": [
    "Q1 = y_train.value_counts().rename(\"Cant\")\n",
    "P1 = y_train.value_counts(normalize=True).rename(\"%\")\n",
    "\n",
    "pd.concat([Q1, P1], axis=1).sort_index().rename_axis('train')"
   ]
  },
  {
   "cell_type": "code",
   "execution_count": 122,
   "metadata": {},
   "outputs": [
    {
     "data": {
      "text/html": [
       "<div>\n",
       "<style scoped>\n",
       "    .dataframe tbody tr th:only-of-type {\n",
       "        vertical-align: middle;\n",
       "    }\n",
       "\n",
       "    .dataframe tbody tr th {\n",
       "        vertical-align: top;\n",
       "    }\n",
       "\n",
       "    .dataframe thead th {\n",
       "        text-align: right;\n",
       "    }\n",
       "</style>\n",
       "<table border=\"1\" class=\"dataframe\">\n",
       "  <thead>\n",
       "    <tr style=\"text-align: right;\">\n",
       "      <th></th>\n",
       "      <th>Cant</th>\n",
       "      <th>%</th>\n",
       "    </tr>\n",
       "    <tr>\n",
       "      <th>test</th>\n",
       "      <th></th>\n",
       "      <th></th>\n",
       "    </tr>\n",
       "  </thead>\n",
       "  <tbody>\n",
       "    <tr>\n",
       "      <th>0</th>\n",
       "      <td>1000</td>\n",
       "      <td>0.1</td>\n",
       "    </tr>\n",
       "    <tr>\n",
       "      <th>1</th>\n",
       "      <td>1000</td>\n",
       "      <td>0.1</td>\n",
       "    </tr>\n",
       "    <tr>\n",
       "      <th>2</th>\n",
       "      <td>1000</td>\n",
       "      <td>0.1</td>\n",
       "    </tr>\n",
       "    <tr>\n",
       "      <th>3</th>\n",
       "      <td>1000</td>\n",
       "      <td>0.1</td>\n",
       "    </tr>\n",
       "    <tr>\n",
       "      <th>4</th>\n",
       "      <td>1000</td>\n",
       "      <td>0.1</td>\n",
       "    </tr>\n",
       "    <tr>\n",
       "      <th>5</th>\n",
       "      <td>1000</td>\n",
       "      <td>0.1</td>\n",
       "    </tr>\n",
       "    <tr>\n",
       "      <th>6</th>\n",
       "      <td>1000</td>\n",
       "      <td>0.1</td>\n",
       "    </tr>\n",
       "    <tr>\n",
       "      <th>7</th>\n",
       "      <td>1000</td>\n",
       "      <td>0.1</td>\n",
       "    </tr>\n",
       "    <tr>\n",
       "      <th>8</th>\n",
       "      <td>1000</td>\n",
       "      <td>0.1</td>\n",
       "    </tr>\n",
       "    <tr>\n",
       "      <th>9</th>\n",
       "      <td>1000</td>\n",
       "      <td>0.1</td>\n",
       "    </tr>\n",
       "  </tbody>\n",
       "</table>\n",
       "</div>"
      ],
      "text/plain": [
       "      Cant    %\n",
       "test           \n",
       "0     1000  0.1\n",
       "1     1000  0.1\n",
       "2     1000  0.1\n",
       "3     1000  0.1\n",
       "4     1000  0.1\n",
       "5     1000  0.1\n",
       "6     1000  0.1\n",
       "7     1000  0.1\n",
       "8     1000  0.1\n",
       "9     1000  0.1"
      ]
     },
     "execution_count": 122,
     "metadata": {},
     "output_type": "execute_result"
    }
   ],
   "source": [
    "Q2 = y_test.value_counts().rename(\"Cant\")\n",
    "P2 = y_test.value_counts(normalize=True).rename(\"%\")\n",
    "\n",
    "pd.concat([Q2, P2], axis=1).sort_index().rename_axis('test')"
   ]
  },
  {
   "cell_type": "markdown",
   "metadata": {},
   "source": [
    "## Punto 3: Separación del conjunto de desarrollo en entrenamiento y validación"
   ]
  },
  {
   "cell_type": "markdown",
   "metadata": {},
   "source": [
    "Conjunto de entrenamiento (85.71%):\n",
    "* x_train, y_train = 80% del conjunto de entrenamiento\n",
    "* x_val, y_val = 20% del conjunto de entrenamiento\n",
    "\n",
    "Conjunto de testing(14.29%)\n",
    "* X_test, y_test = Conjunto held-out de testing"
   ]
  },
  {
   "cell_type": "code",
   "execution_count": 123,
   "metadata": {},
   "outputs": [],
   "source": [
    "from sklearn.model_selection import train_test_split\n",
    "seed = 42\n",
    "\n",
    "x_train, x_val, y_train, y_val = train_test_split(X_train,y_train, test_size=0.2, random_state=seed, stratify = y_train) "
   ]
  },
  {
   "cell_type": "markdown",
   "metadata": {},
   "source": [
    "## Punto 4: Entrenamiento inicial de modelos\n",
    "\n",
    "* Boosting\n",
    " \n",
    "* Bagging\n",
    "\n",
    "* Naive Bayes\n",
    "\n",
    "* Arbon de decisión\n"
   ]
  },
  {
   "cell_type": "markdown",
   "metadata": {},
   "source": [
    "Entrenamiento de 4 modelos con sus hiperparámetros por defecto"
   ]
  },
  {
   "cell_type": "markdown",
   "metadata": {},
   "source": [
    "#### Se definen funciones para generar el reporte con la metricas de evaluación relevantes\n",
    "* **precision**     [por clase **+** average: macro y weighted]\n",
    "\n",
    "* **recall**        [por clase **+** average: macro y weighted]\t\n",
    "\n",
    "* **f1-score**\t    [por clase **+** average: macro y weighted]\n",
    "\n",
    "* **roc_auc**       [por clase **+** average: macro y weighted]\n",
    "\n",
    "* **Accuracy**"
   ]
  },
  {
   "cell_type": "code",
   "execution_count": 5,
   "metadata": {},
   "outputs": [],
   "source": [
    "#https://stackoverflow-com.translate.goog/questions/39685740/calculate-sklearn-roc-auc-score-for-multi-class?_x_tr_sl=es&_x_tr_tl=en&_x_tr_hl=es&_x_tr_pto=wapp\n",
    "def roc_auc_score_multiclass(actual_class, pred_class, average = \"macro\"):\n",
    "\n",
    "  #creating a set of all the unique classes using the actual class list\n",
    "  unique_class = set(actual_class)\n",
    "  roc_auc_dict = {}\n",
    "  for per_class in unique_class:\n",
    "    #creating a list of all the classes except the current class \n",
    "    other_class = [x for x in unique_class if x != per_class]\n",
    "\n",
    "    #marking the current class as 1 and all other classes as 0\n",
    "    new_actual_class = [0 if x in other_class else 1 for x in actual_class]\n",
    "    new_pred_class = [0 if x in other_class else 1 for x in pred_class]\n",
    "\n",
    "    #using the sklearn metrics method to calculate the roc_auc_score\n",
    "    roc_auc = roc_auc_score(new_actual_class, new_pred_class, average = average)\n",
    "    roc_auc_dict[per_class] = roc_auc\n",
    "\n",
    "  return roc_auc_dict\n",
    "\n",
    "def classif_report(true_vals, pred_vals):\n",
    "    n_class = y_val.nunique()\n",
    "    sk_report = classification_report(true_vals, pred_vals, output_dict=True)\n",
    "    reportA = pd.DataFrame(sk_report).stack().unstack(0).iloc[0:n_class] \n",
    "    reportA['roc_auc'] = [v for k,v in roc_auc_score_multiclass(true_vals, pred_vals, average = \"macro\").items()]\n",
    "    acc_score = [sk_report['accuracy']]*5\n",
    "    macro_avg = reportA.mean()\n",
    "    weighted_avg = np.average(reportA, axis = 0, weights=reportA.support)\n",
    "    reportB = pd.DataFrame({\"accuracy\":acc_score,\n",
    "                            \"macro_avg\": macro_avg,\n",
    "                            \"weighted_avg\":weighted_avg}).stack().unstack(0)\n",
    "    report = pd.concat([reportA, reportB], axis=0)\n",
    "                            \n",
    "    return report"
   ]
  },
  {
   "cell_type": "markdown",
   "metadata": {},
   "source": [
    "### Boosting\n",
    "\n",
    "* GradientBoostingClassifier"
   ]
  },
  {
   "cell_type": "markdown",
   "metadata": {},
   "source": [
    "#### GradientBoostingClassifier"
   ]
  },
  {
   "cell_type": "code",
   "execution_count": 26,
   "metadata": {
    "vscode": {
     "languageId": "markdown"
    }
   },
   "outputs": [],
   "source": [
    "seed = 42"
   ]
  },
  {
   "cell_type": "code",
   "execution_count": 36,
   "metadata": {},
   "outputs": [
    {
     "name": "stdout",
     "output_type": "stream",
     "text": [
      "      Iter       Train Loss   Remaining Time \n",
      "         1           1.8519          100.87m\n",
      "         2           1.6078          101.94m\n",
      "         3           1.4292           96.04m\n"
     ]
    },
    {
     "ename": "KeyboardInterrupt",
     "evalue": "",
     "output_type": "error",
     "traceback": [
      "\u001b[0;31m---------------------------------------------------------------------------\u001b[0m",
      "\u001b[0;31mKeyboardInterrupt\u001b[0m                         Traceback (most recent call last)",
      "\u001b[0;32m<ipython-input-36-9b1ab4e3e8c7>\u001b[0m in \u001b[0;36m<module>\u001b[0;34m\u001b[0m\n\u001b[1;32m      1\u001b[0m \u001b[0mgbc\u001b[0m \u001b[0;34m=\u001b[0m \u001b[0mGradientBoostingClassifier\u001b[0m\u001b[0;34m(\u001b[0m\u001b[0mrandom_state\u001b[0m \u001b[0;34m=\u001b[0m \u001b[0mseed\u001b[0m\u001b[0;34m,\u001b[0m \u001b[0mverbose\u001b[0m\u001b[0;34m=\u001b[0m\u001b[0;36m1\u001b[0m\u001b[0;34m)\u001b[0m\u001b[0;34m\u001b[0m\u001b[0;34m\u001b[0m\u001b[0m\n\u001b[0;32m----> 2\u001b[0;31m \u001b[0mgbc\u001b[0m\u001b[0;34m.\u001b[0m\u001b[0mfit\u001b[0m\u001b[0;34m(\u001b[0m\u001b[0mx_train\u001b[0m\u001b[0;34m,\u001b[0m \u001b[0my_train\u001b[0m\u001b[0;34m)\u001b[0m\u001b[0;34m\u001b[0m\u001b[0;34m\u001b[0m\u001b[0m\n\u001b[0m\u001b[1;32m      3\u001b[0m \u001b[0my_pred\u001b[0m \u001b[0;34m=\u001b[0m \u001b[0mgbc\u001b[0m\u001b[0;34m.\u001b[0m\u001b[0mpredict\u001b[0m\u001b[0;34m(\u001b[0m\u001b[0mx_val\u001b[0m\u001b[0;34m)\u001b[0m\u001b[0;34m\u001b[0m\u001b[0;34m\u001b[0m\u001b[0m\n\u001b[1;32m      4\u001b[0m \u001b[0;34m\u001b[0m\u001b[0m\n\u001b[1;32m      5\u001b[0m \u001b[0mprint\u001b[0m\u001b[0;34m(\u001b[0m\u001b[0;34m\"Accuracy training : {:.3f}\"\u001b[0m\u001b[0;34m.\u001b[0m\u001b[0mformat\u001b[0m\u001b[0;34m(\u001b[0m\u001b[0mgbc\u001b[0m\u001b[0;34m.\u001b[0m\u001b[0mscore\u001b[0m\u001b[0;34m(\u001b[0m\u001b[0mx_train\u001b[0m\u001b[0;34m,\u001b[0m \u001b[0my_train\u001b[0m\u001b[0;34m)\u001b[0m\u001b[0;34m)\u001b[0m\u001b[0;34m)\u001b[0m\u001b[0;34m\u001b[0m\u001b[0;34m\u001b[0m\u001b[0m\n",
      "\u001b[0;32m~/anaconda3/lib/python3.8/site-packages/sklearn/ensemble/_gb.py\u001b[0m in \u001b[0;36mfit\u001b[0;34m(self, X, y, sample_weight, monitor)\u001b[0m\n\u001b[1;32m    666\u001b[0m \u001b[0;34m\u001b[0m\u001b[0m\n\u001b[1;32m    667\u001b[0m         \u001b[0;31m# fit the boosting stages\u001b[0m\u001b[0;34m\u001b[0m\u001b[0;34m\u001b[0m\u001b[0;34m\u001b[0m\u001b[0m\n\u001b[0;32m--> 668\u001b[0;31m         n_stages = self._fit_stages(\n\u001b[0m\u001b[1;32m    669\u001b[0m             \u001b[0mX\u001b[0m\u001b[0;34m,\u001b[0m\u001b[0;34m\u001b[0m\u001b[0;34m\u001b[0m\u001b[0m\n\u001b[1;32m    670\u001b[0m             \u001b[0my\u001b[0m\u001b[0;34m,\u001b[0m\u001b[0;34m\u001b[0m\u001b[0;34m\u001b[0m\u001b[0m\n",
      "\u001b[0;32m~/anaconda3/lib/python3.8/site-packages/sklearn/ensemble/_gb.py\u001b[0m in \u001b[0;36m_fit_stages\u001b[0;34m(self, X, y, raw_predictions, sample_weight, random_state, X_val, y_val, sample_weight_val, begin_at_stage, monitor)\u001b[0m\n\u001b[1;32m    743\u001b[0m \u001b[0;34m\u001b[0m\u001b[0m\n\u001b[1;32m    744\u001b[0m             \u001b[0;31m# fit next stage of trees\u001b[0m\u001b[0;34m\u001b[0m\u001b[0;34m\u001b[0m\u001b[0;34m\u001b[0m\u001b[0m\n\u001b[0;32m--> 745\u001b[0;31m             raw_predictions = self._fit_stage(\n\u001b[0m\u001b[1;32m    746\u001b[0m                 \u001b[0mi\u001b[0m\u001b[0;34m,\u001b[0m\u001b[0;34m\u001b[0m\u001b[0;34m\u001b[0m\u001b[0m\n\u001b[1;32m    747\u001b[0m                 \u001b[0mX\u001b[0m\u001b[0;34m,\u001b[0m\u001b[0;34m\u001b[0m\u001b[0;34m\u001b[0m\u001b[0m\n",
      "\u001b[0;32m~/anaconda3/lib/python3.8/site-packages/sklearn/ensemble/_gb.py\u001b[0m in \u001b[0;36m_fit_stage\u001b[0;34m(self, i, X, y, raw_predictions, sample_weight, sample_mask, random_state, X_csc, X_csr)\u001b[0m\n\u001b[1;32m    245\u001b[0m \u001b[0;34m\u001b[0m\u001b[0m\n\u001b[1;32m    246\u001b[0m             \u001b[0mX\u001b[0m \u001b[0;34m=\u001b[0m \u001b[0mX_csr\u001b[0m \u001b[0;32mif\u001b[0m \u001b[0mX_csr\u001b[0m \u001b[0;32mis\u001b[0m \u001b[0;32mnot\u001b[0m \u001b[0;32mNone\u001b[0m \u001b[0;32melse\u001b[0m \u001b[0mX\u001b[0m\u001b[0;34m\u001b[0m\u001b[0;34m\u001b[0m\u001b[0m\n\u001b[0;32m--> 247\u001b[0;31m             \u001b[0mtree\u001b[0m\u001b[0;34m.\u001b[0m\u001b[0mfit\u001b[0m\u001b[0;34m(\u001b[0m\u001b[0mX\u001b[0m\u001b[0;34m,\u001b[0m \u001b[0mresidual\u001b[0m\u001b[0;34m,\u001b[0m \u001b[0msample_weight\u001b[0m\u001b[0;34m=\u001b[0m\u001b[0msample_weight\u001b[0m\u001b[0;34m,\u001b[0m \u001b[0mcheck_input\u001b[0m\u001b[0;34m=\u001b[0m\u001b[0;32mFalse\u001b[0m\u001b[0;34m)\u001b[0m\u001b[0;34m\u001b[0m\u001b[0;34m\u001b[0m\u001b[0m\n\u001b[0m\u001b[1;32m    248\u001b[0m \u001b[0;34m\u001b[0m\u001b[0m\n\u001b[1;32m    249\u001b[0m             \u001b[0;31m# update tree leaves\u001b[0m\u001b[0;34m\u001b[0m\u001b[0;34m\u001b[0m\u001b[0;34m\u001b[0m\u001b[0m\n",
      "\u001b[0;32m~/anaconda3/lib/python3.8/site-packages/sklearn/tree/_classes.py\u001b[0m in \u001b[0;36mfit\u001b[0;34m(self, X, y, sample_weight, check_input)\u001b[0m\n\u001b[1;32m   1340\u001b[0m         \"\"\"\n\u001b[1;32m   1341\u001b[0m \u001b[0;34m\u001b[0m\u001b[0m\n\u001b[0;32m-> 1342\u001b[0;31m         super().fit(\n\u001b[0m\u001b[1;32m   1343\u001b[0m             \u001b[0mX\u001b[0m\u001b[0;34m,\u001b[0m\u001b[0;34m\u001b[0m\u001b[0;34m\u001b[0m\u001b[0m\n\u001b[1;32m   1344\u001b[0m             \u001b[0my\u001b[0m\u001b[0;34m,\u001b[0m\u001b[0;34m\u001b[0m\u001b[0;34m\u001b[0m\u001b[0m\n",
      "\u001b[0;32m~/anaconda3/lib/python3.8/site-packages/sklearn/tree/_classes.py\u001b[0m in \u001b[0;36mfit\u001b[0;34m(self, X, y, sample_weight, check_input)\u001b[0m\n\u001b[1;32m    456\u001b[0m             )\n\u001b[1;32m    457\u001b[0m \u001b[0;34m\u001b[0m\u001b[0m\n\u001b[0;32m--> 458\u001b[0;31m         \u001b[0mbuilder\u001b[0m\u001b[0;34m.\u001b[0m\u001b[0mbuild\u001b[0m\u001b[0;34m(\u001b[0m\u001b[0mself\u001b[0m\u001b[0;34m.\u001b[0m\u001b[0mtree_\u001b[0m\u001b[0;34m,\u001b[0m \u001b[0mX\u001b[0m\u001b[0;34m,\u001b[0m \u001b[0my\u001b[0m\u001b[0;34m,\u001b[0m \u001b[0msample_weight\u001b[0m\u001b[0;34m)\u001b[0m\u001b[0;34m\u001b[0m\u001b[0;34m\u001b[0m\u001b[0m\n\u001b[0m\u001b[1;32m    459\u001b[0m \u001b[0;34m\u001b[0m\u001b[0m\n\u001b[1;32m    460\u001b[0m         \u001b[0;32mif\u001b[0m \u001b[0mself\u001b[0m\u001b[0;34m.\u001b[0m\u001b[0mn_outputs_\u001b[0m \u001b[0;34m==\u001b[0m \u001b[0;36m1\u001b[0m \u001b[0;32mand\u001b[0m \u001b[0mis_classifier\u001b[0m\u001b[0;34m(\u001b[0m\u001b[0mself\u001b[0m\u001b[0;34m)\u001b[0m\u001b[0;34m:\u001b[0m\u001b[0;34m\u001b[0m\u001b[0;34m\u001b[0m\u001b[0m\n",
      "\u001b[0;31mKeyboardInterrupt\u001b[0m: "
     ]
    }
   ],
   "source": [
    "gbc = GradientBoostingClassifier(random_state = seed, verbose=1)\n",
    "gbc.fit(x_train, y_train)\n",
    "y_pred = gbc.predict(x_val)\n",
    "\n",
    "print(\"Accuracy training : {:.3f}\".format(gbc.score(x_train, y_train)))\n",
    "print(\"Accuracy val: {:.3f}\".format(gbc.score(x_val, y_val)))\n",
    "classif_report(y_val, y_pred)"
   ]
  },
  {
   "cell_type": "markdown",
   "metadata": {},
   "source": [
    "Guardo el modelo entrenado en un archivo pickle"
   ]
  },
  {
   "cell_type": "code",
   "execution_count": null,
   "metadata": {},
   "outputs": [],
   "source": [
    "with open('models/gradientboostclassifier_base.pkl', 'wb') as modelFile:\n",
    "   pickle.dump(gbc, modelFile)"
   ]
  },
  {
   "cell_type": "code",
   "execution_count": null,
   "metadata": {},
   "outputs": [],
   "source": [
    "with open('models/gradientboostclassifier_base.pkl','rb') as modelFile:\n",
    "     gbc = pickle.load(modelFile)"
   ]
  },
  {
   "cell_type": "markdown",
   "metadata": {},
   "source": [
    "### Bagging\n",
    "\n",
    "* Random Forest Classifier\n",
    "\n",
    "* Bagging decision trees"
   ]
  },
  {
   "cell_type": "markdown",
   "metadata": {},
   "source": [
    "#### Random Forest Classifier"
   ]
  },
  {
   "cell_type": "code",
   "execution_count": 20,
   "metadata": {},
   "outputs": [
    {
     "name": "stderr",
     "output_type": "stream",
     "text": [
      "[Parallel(n_jobs=-1)]: Using backend ThreadingBackend with 4 concurrent workers.\n",
      "[Parallel(n_jobs=-1)]: Done  42 tasks      | elapsed:   12.6s\n",
      "[Parallel(n_jobs=-1)]: Done 100 out of 100 | elapsed:   29.2s finished\n",
      "[Parallel(n_jobs=4)]: Using backend ThreadingBackend with 4 concurrent workers.\n",
      "[Parallel(n_jobs=4)]: Done  42 tasks      | elapsed:    0.1s\n",
      "[Parallel(n_jobs=4)]: Done 100 out of 100 | elapsed:    0.4s finished\n",
      "[Parallel(n_jobs=4)]: Using backend ThreadingBackend with 4 concurrent workers.\n",
      "[Parallel(n_jobs=4)]: Done  42 tasks      | elapsed:    0.6s\n",
      "[Parallel(n_jobs=4)]: Done 100 out of 100 | elapsed:    1.6s finished\n",
      "[Parallel(n_jobs=4)]: Using backend ThreadingBackend with 4 concurrent workers.\n",
      "[Parallel(n_jobs=4)]: Done  42 tasks      | elapsed:    0.1s\n"
     ]
    },
    {
     "name": "stdout",
     "output_type": "stream",
     "text": [
      "Accuracy training : 1.000\n"
     ]
    },
    {
     "name": "stderr",
     "output_type": "stream",
     "text": [
      "[Parallel(n_jobs=4)]: Done 100 out of 100 | elapsed:    0.3s finished\n"
     ]
    },
    {
     "name": "stdout",
     "output_type": "stream",
     "text": [
      "Accuracy val: 0.883\n"
     ]
    },
    {
     "data": {
      "text/html": [
       "<div>\n",
       "<style scoped>\n",
       "    .dataframe tbody tr th:only-of-type {\n",
       "        vertical-align: middle;\n",
       "    }\n",
       "\n",
       "    .dataframe tbody tr th {\n",
       "        vertical-align: top;\n",
       "    }\n",
       "\n",
       "    .dataframe thead th {\n",
       "        text-align: right;\n",
       "    }\n",
       "</style>\n",
       "<table border=\"1\" class=\"dataframe\">\n",
       "  <thead>\n",
       "    <tr style=\"text-align: right;\">\n",
       "      <th></th>\n",
       "      <th>precision</th>\n",
       "      <th>recall</th>\n",
       "      <th>f1-score</th>\n",
       "      <th>support</th>\n",
       "      <th>roc_auc</th>\n",
       "    </tr>\n",
       "  </thead>\n",
       "  <tbody>\n",
       "    <tr>\n",
       "      <th>0</th>\n",
       "      <td>0.833200</td>\n",
       "      <td>0.870000</td>\n",
       "      <td>0.851203</td>\n",
       "      <td>1200.000000</td>\n",
       "      <td>0.925324</td>\n",
       "    </tr>\n",
       "    <tr>\n",
       "      <th>1</th>\n",
       "      <td>0.993168</td>\n",
       "      <td>0.969167</td>\n",
       "      <td>0.981021</td>\n",
       "      <td>1200.000000</td>\n",
       "      <td>0.984213</td>\n",
       "    </tr>\n",
       "    <tr>\n",
       "      <th>2</th>\n",
       "      <td>0.772727</td>\n",
       "      <td>0.807500</td>\n",
       "      <td>0.789731</td>\n",
       "      <td>1200.000000</td>\n",
       "      <td>0.890556</td>\n",
       "    </tr>\n",
       "    <tr>\n",
       "      <th>3</th>\n",
       "      <td>0.880452</td>\n",
       "      <td>0.908333</td>\n",
       "      <td>0.894176</td>\n",
       "      <td>1200.000000</td>\n",
       "      <td>0.947315</td>\n",
       "    </tr>\n",
       "    <tr>\n",
       "      <th>4</th>\n",
       "      <td>0.772370</td>\n",
       "      <td>0.820000</td>\n",
       "      <td>0.795473</td>\n",
       "      <td>1200.000000</td>\n",
       "      <td>0.896574</td>\n",
       "    </tr>\n",
       "    <tr>\n",
       "      <th>5</th>\n",
       "      <td>0.964942</td>\n",
       "      <td>0.963333</td>\n",
       "      <td>0.964137</td>\n",
       "      <td>1200.000000</td>\n",
       "      <td>0.979722</td>\n",
       "    </tr>\n",
       "    <tr>\n",
       "      <th>6</th>\n",
       "      <td>0.750501</td>\n",
       "      <td>0.624167</td>\n",
       "      <td>0.681529</td>\n",
       "      <td>1200.000000</td>\n",
       "      <td>0.800556</td>\n",
       "    </tr>\n",
       "    <tr>\n",
       "      <th>7</th>\n",
       "      <td>0.939217</td>\n",
       "      <td>0.940000</td>\n",
       "      <td>0.939608</td>\n",
       "      <td>1200.000000</td>\n",
       "      <td>0.966620</td>\n",
       "    </tr>\n",
       "    <tr>\n",
       "      <th>8</th>\n",
       "      <td>0.963756</td>\n",
       "      <td>0.975000</td>\n",
       "      <td>0.969345</td>\n",
       "      <td>1200.000000</td>\n",
       "      <td>0.985463</td>\n",
       "    </tr>\n",
       "    <tr>\n",
       "      <th>9</th>\n",
       "      <td>0.949124</td>\n",
       "      <td>0.948333</td>\n",
       "      <td>0.948729</td>\n",
       "      <td>1200.000000</td>\n",
       "      <td>0.971343</td>\n",
       "    </tr>\n",
       "    <tr>\n",
       "      <th>accuracy</th>\n",
       "      <td>0.882583</td>\n",
       "      <td>0.882583</td>\n",
       "      <td>0.882583</td>\n",
       "      <td>0.882583</td>\n",
       "      <td>0.882583</td>\n",
       "    </tr>\n",
       "    <tr>\n",
       "      <th>macro_avg</th>\n",
       "      <td>0.881946</td>\n",
       "      <td>0.882583</td>\n",
       "      <td>0.881495</td>\n",
       "      <td>1200.000000</td>\n",
       "      <td>0.934769</td>\n",
       "    </tr>\n",
       "    <tr>\n",
       "      <th>weighted_avg</th>\n",
       "      <td>0.881946</td>\n",
       "      <td>0.882583</td>\n",
       "      <td>0.881495</td>\n",
       "      <td>1200.000000</td>\n",
       "      <td>0.934769</td>\n",
       "    </tr>\n",
       "  </tbody>\n",
       "</table>\n",
       "</div>"
      ],
      "text/plain": [
       "              precision    recall  f1-score      support   roc_auc\n",
       "0              0.833200  0.870000  0.851203  1200.000000  0.925324\n",
       "1              0.993168  0.969167  0.981021  1200.000000  0.984213\n",
       "2              0.772727  0.807500  0.789731  1200.000000  0.890556\n",
       "3              0.880452  0.908333  0.894176  1200.000000  0.947315\n",
       "4              0.772370  0.820000  0.795473  1200.000000  0.896574\n",
       "5              0.964942  0.963333  0.964137  1200.000000  0.979722\n",
       "6              0.750501  0.624167  0.681529  1200.000000  0.800556\n",
       "7              0.939217  0.940000  0.939608  1200.000000  0.966620\n",
       "8              0.963756  0.975000  0.969345  1200.000000  0.985463\n",
       "9              0.949124  0.948333  0.948729  1200.000000  0.971343\n",
       "accuracy       0.882583  0.882583  0.882583     0.882583  0.882583\n",
       "macro_avg      0.881946  0.882583  0.881495  1200.000000  0.934769\n",
       "weighted_avg   0.881946  0.882583  0.881495  1200.000000  0.934769"
      ]
     },
     "execution_count": 20,
     "metadata": {},
     "output_type": "execute_result"
    }
   ],
   "source": [
    "rf = RandomForestClassifier(random_state = seed, verbose=1, n_jobs=-1)\n",
    "rf.fit(x_train, y_train)\n",
    "y_pred = rf.predict(x_val)\n",
    "\n",
    "print(\"Accuracy training : {:.3f}\".format(rf.score(x_train, y_train)))\n",
    "print(\"Accuracy val: {:.3f}\".format(rf.score(x_val, y_val)))\n",
    "classif_report(y_val, y_pred)"
   ]
  },
  {
   "cell_type": "markdown",
   "metadata": {},
   "source": [
    "Guardo el modelo en un archivo pickle"
   ]
  },
  {
   "cell_type": "code",
   "execution_count": 21,
   "metadata": {},
   "outputs": [],
   "source": [
    "with open('models/random_forest_base.pkl', 'wb') as modelFile:\n",
    "   pickle.dump(rf, modelFile)"
   ]
  },
  {
   "cell_type": "code",
   "execution_count": 22,
   "metadata": {},
   "outputs": [],
   "source": [
    "with open('models/random_forest_base.pkl', 'rb') as modelFile:\n",
    "     rf = pickle.load(modelFile)"
   ]
  },
  {
   "cell_type": "markdown",
   "metadata": {},
   "source": [
    "#### Bagging decision trees\n",
    "\n",
    "Alternativa al random forest"
   ]
  },
  {
   "cell_type": "code",
   "execution_count": 9,
   "metadata": {},
   "outputs": [
    {
     "name": "stderr",
     "output_type": "stream",
     "text": [
      "[Parallel(n_jobs=4)]: Using backend LokyBackend with 4 concurrent workers.\n",
      "[Parallel(n_jobs=4)]: Done   2 out of   4 | elapsed:  1.7min remaining:  1.7min\n",
      "[Parallel(n_jobs=4)]: Done   4 out of   4 | elapsed:  2.0min finished\n",
      "[Parallel(n_jobs=4)]: Using backend LokyBackend with 4 concurrent workers.\n",
      "[Parallel(n_jobs=4)]: Done   2 out of   4 | elapsed:    0.3s remaining:    0.3s\n",
      "[Parallel(n_jobs=4)]: Done   4 out of   4 | elapsed:    0.4s finished\n",
      "[Parallel(n_jobs=4)]: Using backend LokyBackend with 4 concurrent workers.\n",
      "[Parallel(n_jobs=4)]: Done   2 out of   4 | elapsed:    2.1s remaining:    2.1s\n",
      "[Parallel(n_jobs=4)]: Done   4 out of   4 | elapsed:    2.5s finished\n",
      "[Parallel(n_jobs=4)]: Using backend LokyBackend with 4 concurrent workers.\n"
     ]
    },
    {
     "name": "stdout",
     "output_type": "stream",
     "text": [
      "Accuracy training : 0.994\n"
     ]
    },
    {
     "name": "stderr",
     "output_type": "stream",
     "text": [
      "[Parallel(n_jobs=4)]: Done   2 out of   4 | elapsed:    0.4s remaining:    0.4s\n",
      "[Parallel(n_jobs=4)]: Done   4 out of   4 | elapsed:    0.4s finished\n"
     ]
    },
    {
     "name": "stdout",
     "output_type": "stream",
     "text": [
      "Accuracy val: 0.858\n"
     ]
    },
    {
     "data": {
      "text/html": [
       "<div>\n",
       "<style scoped>\n",
       "    .dataframe tbody tr th:only-of-type {\n",
       "        vertical-align: middle;\n",
       "    }\n",
       "\n",
       "    .dataframe tbody tr th {\n",
       "        vertical-align: top;\n",
       "    }\n",
       "\n",
       "    .dataframe thead th {\n",
       "        text-align: right;\n",
       "    }\n",
       "</style>\n",
       "<table border=\"1\" class=\"dataframe\">\n",
       "  <thead>\n",
       "    <tr style=\"text-align: right;\">\n",
       "      <th></th>\n",
       "      <th>precision</th>\n",
       "      <th>recall</th>\n",
       "      <th>f1-score</th>\n",
       "      <th>support</th>\n",
       "      <th>roc_auc</th>\n",
       "    </tr>\n",
       "  </thead>\n",
       "  <tbody>\n",
       "    <tr>\n",
       "      <th>0</th>\n",
       "      <td>0.793638</td>\n",
       "      <td>0.852500</td>\n",
       "      <td>0.822017</td>\n",
       "      <td>1200.000000</td>\n",
       "      <td>0.913935</td>\n",
       "    </tr>\n",
       "    <tr>\n",
       "      <th>1</th>\n",
       "      <td>0.977368</td>\n",
       "      <td>0.971667</td>\n",
       "      <td>0.974509</td>\n",
       "      <td>1200.000000</td>\n",
       "      <td>0.984583</td>\n",
       "    </tr>\n",
       "    <tr>\n",
       "      <th>2</th>\n",
       "      <td>0.734148</td>\n",
       "      <td>0.800833</td>\n",
       "      <td>0.766042</td>\n",
       "      <td>1200.000000</td>\n",
       "      <td>0.884306</td>\n",
       "    </tr>\n",
       "    <tr>\n",
       "      <th>3</th>\n",
       "      <td>0.855870</td>\n",
       "      <td>0.880833</td>\n",
       "      <td>0.868172</td>\n",
       "      <td>1200.000000</td>\n",
       "      <td>0.932176</td>\n",
       "    </tr>\n",
       "    <tr>\n",
       "      <th>4</th>\n",
       "      <td>0.755328</td>\n",
       "      <td>0.738333</td>\n",
       "      <td>0.746734</td>\n",
       "      <td>1200.000000</td>\n",
       "      <td>0.855880</td>\n",
       "    </tr>\n",
       "    <tr>\n",
       "      <th>5</th>\n",
       "      <td>0.937811</td>\n",
       "      <td>0.942500</td>\n",
       "      <td>0.940150</td>\n",
       "      <td>1200.000000</td>\n",
       "      <td>0.967778</td>\n",
       "    </tr>\n",
       "    <tr>\n",
       "      <th>6</th>\n",
       "      <td>0.700201</td>\n",
       "      <td>0.580000</td>\n",
       "      <td>0.634458</td>\n",
       "      <td>1200.000000</td>\n",
       "      <td>0.776204</td>\n",
       "    </tr>\n",
       "    <tr>\n",
       "      <th>7</th>\n",
       "      <td>0.911837</td>\n",
       "      <td>0.930833</td>\n",
       "      <td>0.921237</td>\n",
       "      <td>1200.000000</td>\n",
       "      <td>0.960417</td>\n",
       "    </tr>\n",
       "    <tr>\n",
       "      <th>8</th>\n",
       "      <td>0.945724</td>\n",
       "      <td>0.958333</td>\n",
       "      <td>0.951987</td>\n",
       "      <td>1200.000000</td>\n",
       "      <td>0.976111</td>\n",
       "    </tr>\n",
       "    <tr>\n",
       "      <th>9</th>\n",
       "      <td>0.951724</td>\n",
       "      <td>0.920000</td>\n",
       "      <td>0.935593</td>\n",
       "      <td>1200.000000</td>\n",
       "      <td>0.957407</td>\n",
       "    </tr>\n",
       "    <tr>\n",
       "      <th>accuracy</th>\n",
       "      <td>0.857583</td>\n",
       "      <td>0.857583</td>\n",
       "      <td>0.857583</td>\n",
       "      <td>0.857583</td>\n",
       "      <td>0.857583</td>\n",
       "    </tr>\n",
       "    <tr>\n",
       "      <th>macro_avg</th>\n",
       "      <td>0.856365</td>\n",
       "      <td>0.857583</td>\n",
       "      <td>0.856090</td>\n",
       "      <td>1200.000000</td>\n",
       "      <td>0.920880</td>\n",
       "    </tr>\n",
       "    <tr>\n",
       "      <th>weighted_avg</th>\n",
       "      <td>0.856365</td>\n",
       "      <td>0.857583</td>\n",
       "      <td>0.856090</td>\n",
       "      <td>1200.000000</td>\n",
       "      <td>0.920880</td>\n",
       "    </tr>\n",
       "  </tbody>\n",
       "</table>\n",
       "</div>"
      ],
      "text/plain": [
       "              precision    recall  f1-score      support   roc_auc\n",
       "0              0.793638  0.852500  0.822017  1200.000000  0.913935\n",
       "1              0.977368  0.971667  0.974509  1200.000000  0.984583\n",
       "2              0.734148  0.800833  0.766042  1200.000000  0.884306\n",
       "3              0.855870  0.880833  0.868172  1200.000000  0.932176\n",
       "4              0.755328  0.738333  0.746734  1200.000000  0.855880\n",
       "5              0.937811  0.942500  0.940150  1200.000000  0.967778\n",
       "6              0.700201  0.580000  0.634458  1200.000000  0.776204\n",
       "7              0.911837  0.930833  0.921237  1200.000000  0.960417\n",
       "8              0.945724  0.958333  0.951987  1200.000000  0.976111\n",
       "9              0.951724  0.920000  0.935593  1200.000000  0.957407\n",
       "accuracy       0.857583  0.857583  0.857583     0.857583  0.857583\n",
       "macro_avg      0.856365  0.857583  0.856090  1200.000000  0.920880\n",
       "weighted_avg   0.856365  0.857583  0.856090  1200.000000  0.920880"
      ]
     },
     "execution_count": 9,
     "metadata": {},
     "output_type": "execute_result"
    }
   ],
   "source": [
    "dt = DecisionTreeClassifier(random_state=seed)\n",
    "bdt = BaggingClassifier(dt, random_state = seed, verbose=1, n_jobs=-1)\n",
    "\n",
    "bdt.fit(x_train, y_train)\n",
    "y_pred = bdt.predict(x_val)\n",
    "\n",
    "print(\"Accuracy training : {:.3f}\".format(bdt.score(x_train, y_train)))\n",
    "print(\"Accuracy val: {:.3f}\".format(bdt.score(x_val, y_val)))\n",
    "classif_report(y_val, y_pred)"
   ]
  },
  {
   "cell_type": "markdown",
   "metadata": {},
   "source": [
    "Guardo el modelo en un archivo pickle"
   ]
  },
  {
   "cell_type": "code",
   "execution_count": 24,
   "metadata": {},
   "outputs": [],
   "source": [
    "with open('models/baggingdt_base.pkl', 'wb') as modelFile:\n",
    "   pickle.dump(bdt, modelFile)"
   ]
  },
  {
   "cell_type": "code",
   "execution_count": 25,
   "metadata": {},
   "outputs": [],
   "source": [
    "with open('models/baggingdt_base.pkl', 'rb') as modelFile:\n",
    "     bdt = pickle.load(modelFile)"
   ]
  },
  {
   "cell_type": "markdown",
   "metadata": {},
   "source": [
    "### Árbol de decisión"
   ]
  },
  {
   "cell_type": "code",
   "execution_count": 10,
   "metadata": {},
   "outputs": [
    {
     "name": "stdout",
     "output_type": "stream",
     "text": [
      "Accuracy training : 1.000\n",
      "Accuracy val: 0.797\n"
     ]
    },
    {
     "data": {
      "text/html": [
       "<div>\n",
       "<style scoped>\n",
       "    .dataframe tbody tr th:only-of-type {\n",
       "        vertical-align: middle;\n",
       "    }\n",
       "\n",
       "    .dataframe tbody tr th {\n",
       "        vertical-align: top;\n",
       "    }\n",
       "\n",
       "    .dataframe thead th {\n",
       "        text-align: right;\n",
       "    }\n",
       "</style>\n",
       "<table border=\"1\" class=\"dataframe\">\n",
       "  <thead>\n",
       "    <tr style=\"text-align: right;\">\n",
       "      <th></th>\n",
       "      <th>precision</th>\n",
       "      <th>recall</th>\n",
       "      <th>f1-score</th>\n",
       "      <th>support</th>\n",
       "      <th>roc_auc</th>\n",
       "    </tr>\n",
       "  </thead>\n",
       "  <tbody>\n",
       "    <tr>\n",
       "      <th>0</th>\n",
       "      <td>0.741803</td>\n",
       "      <td>0.754167</td>\n",
       "      <td>0.747934</td>\n",
       "      <td>1200.000000</td>\n",
       "      <td>0.862500</td>\n",
       "    </tr>\n",
       "    <tr>\n",
       "      <th>1</th>\n",
       "      <td>0.936222</td>\n",
       "      <td>0.954167</td>\n",
       "      <td>0.945109</td>\n",
       "      <td>1200.000000</td>\n",
       "      <td>0.973472</td>\n",
       "    </tr>\n",
       "    <tr>\n",
       "      <th>2</th>\n",
       "      <td>0.659420</td>\n",
       "      <td>0.682500</td>\n",
       "      <td>0.670762</td>\n",
       "      <td>1200.000000</td>\n",
       "      <td>0.821667</td>\n",
       "    </tr>\n",
       "    <tr>\n",
       "      <th>3</th>\n",
       "      <td>0.825818</td>\n",
       "      <td>0.778333</td>\n",
       "      <td>0.801373</td>\n",
       "      <td>1200.000000</td>\n",
       "      <td>0.880046</td>\n",
       "    </tr>\n",
       "    <tr>\n",
       "      <th>4</th>\n",
       "      <td>0.672370</td>\n",
       "      <td>0.655000</td>\n",
       "      <td>0.663571</td>\n",
       "      <td>1200.000000</td>\n",
       "      <td>0.809769</td>\n",
       "    </tr>\n",
       "    <tr>\n",
       "      <th>5</th>\n",
       "      <td>0.905961</td>\n",
       "      <td>0.899167</td>\n",
       "      <td>0.902551</td>\n",
       "      <td>1200.000000</td>\n",
       "      <td>0.944398</td>\n",
       "    </tr>\n",
       "    <tr>\n",
       "      <th>6</th>\n",
       "      <td>0.547170</td>\n",
       "      <td>0.555833</td>\n",
       "      <td>0.551468</td>\n",
       "      <td>1200.000000</td>\n",
       "      <td>0.752361</td>\n",
       "    </tr>\n",
       "    <tr>\n",
       "      <th>7</th>\n",
       "      <td>0.879368</td>\n",
       "      <td>0.880833</td>\n",
       "      <td>0.880100</td>\n",
       "      <td>1200.000000</td>\n",
       "      <td>0.933704</td>\n",
       "    </tr>\n",
       "    <tr>\n",
       "      <th>8</th>\n",
       "      <td>0.913151</td>\n",
       "      <td>0.920000</td>\n",
       "      <td>0.916563</td>\n",
       "      <td>1200.000000</td>\n",
       "      <td>0.955139</td>\n",
       "    </tr>\n",
       "    <tr>\n",
       "      <th>9</th>\n",
       "      <td>0.897822</td>\n",
       "      <td>0.893333</td>\n",
       "      <td>0.895572</td>\n",
       "      <td>1200.000000</td>\n",
       "      <td>0.941019</td>\n",
       "    </tr>\n",
       "    <tr>\n",
       "      <th>accuracy</th>\n",
       "      <td>0.797333</td>\n",
       "      <td>0.797333</td>\n",
       "      <td>0.797333</td>\n",
       "      <td>0.797333</td>\n",
       "      <td>0.797333</td>\n",
       "    </tr>\n",
       "    <tr>\n",
       "      <th>macro_avg</th>\n",
       "      <td>0.797911</td>\n",
       "      <td>0.797333</td>\n",
       "      <td>0.797500</td>\n",
       "      <td>1200.000000</td>\n",
       "      <td>0.887407</td>\n",
       "    </tr>\n",
       "    <tr>\n",
       "      <th>weighted_avg</th>\n",
       "      <td>0.797911</td>\n",
       "      <td>0.797333</td>\n",
       "      <td>0.797500</td>\n",
       "      <td>1200.000000</td>\n",
       "      <td>0.887407</td>\n",
       "    </tr>\n",
       "  </tbody>\n",
       "</table>\n",
       "</div>"
      ],
      "text/plain": [
       "              precision    recall  f1-score      support   roc_auc\n",
       "0              0.741803  0.754167  0.747934  1200.000000  0.862500\n",
       "1              0.936222  0.954167  0.945109  1200.000000  0.973472\n",
       "2              0.659420  0.682500  0.670762  1200.000000  0.821667\n",
       "3              0.825818  0.778333  0.801373  1200.000000  0.880046\n",
       "4              0.672370  0.655000  0.663571  1200.000000  0.809769\n",
       "5              0.905961  0.899167  0.902551  1200.000000  0.944398\n",
       "6              0.547170  0.555833  0.551468  1200.000000  0.752361\n",
       "7              0.879368  0.880833  0.880100  1200.000000  0.933704\n",
       "8              0.913151  0.920000  0.916563  1200.000000  0.955139\n",
       "9              0.897822  0.893333  0.895572  1200.000000  0.941019\n",
       "accuracy       0.797333  0.797333  0.797333     0.797333  0.797333\n",
       "macro_avg      0.797911  0.797333  0.797500  1200.000000  0.887407\n",
       "weighted_avg   0.797911  0.797333  0.797500  1200.000000  0.887407"
      ]
     },
     "execution_count": 10,
     "metadata": {},
     "output_type": "execute_result"
    }
   ],
   "source": [
    "ad = DecisionTreeClassifier(random_state = seed)\n",
    "ad.fit(x_train, y_train)\n",
    "y_pred = ad.predict(x_val)\n",
    "\n",
    "print(\"Accuracy training : {:.3f}\".format(ad.score(x_train, y_train)))\n",
    "print(\"Accuracy val: {:.3f}\".format(ad.score(x_val, y_val)))\n",
    "classif_report(y_val, y_pred)"
   ]
  },
  {
   "cell_type": "markdown",
   "metadata": {},
   "source": [
    "Guardo el modelo en un archivo pickle"
   ]
  },
  {
   "cell_type": "code",
   "execution_count": 14,
   "metadata": {},
   "outputs": [],
   "source": [
    "with open('models/dt_base.pkl', 'wb') as modelFile:\n",
    "   pickle.dump(ad, modelFile)"
   ]
  },
  {
   "cell_type": "code",
   "execution_count": 15,
   "metadata": {},
   "outputs": [],
   "source": [
    "with open('models/dt_base.pkl','rb') as modelFile:\n",
    "     ad = pickle.load(modelFile)"
   ]
  },
  {
   "cell_type": "markdown",
   "metadata": {},
   "source": [
    "### Naive Bayes"
   ]
  },
  {
   "cell_type": "code",
   "execution_count": 17,
   "metadata": {},
   "outputs": [
    {
     "name": "stdout",
     "output_type": "stream",
     "text": [
      "Accuracy training : 0.666\n",
      "Accuracy val: 0.668\n"
     ]
    },
    {
     "data": {
      "text/html": [
       "<div>\n",
       "<style scoped>\n",
       "    .dataframe tbody tr th:only-of-type {\n",
       "        vertical-align: middle;\n",
       "    }\n",
       "\n",
       "    .dataframe tbody tr th {\n",
       "        vertical-align: top;\n",
       "    }\n",
       "\n",
       "    .dataframe thead th {\n",
       "        text-align: right;\n",
       "    }\n",
       "</style>\n",
       "<table border=\"1\" class=\"dataframe\">\n",
       "  <thead>\n",
       "    <tr style=\"text-align: right;\">\n",
       "      <th></th>\n",
       "      <th>precision</th>\n",
       "      <th>recall</th>\n",
       "      <th>f1-score</th>\n",
       "      <th>support</th>\n",
       "      <th>roc_auc</th>\n",
       "    </tr>\n",
       "  </thead>\n",
       "  <tbody>\n",
       "    <tr>\n",
       "      <th>0</th>\n",
       "      <td>0.748617</td>\n",
       "      <td>0.789167</td>\n",
       "      <td>0.768357</td>\n",
       "      <td>1200.000000</td>\n",
       "      <td>0.879861</td>\n",
       "    </tr>\n",
       "    <tr>\n",
       "      <th>1</th>\n",
       "      <td>0.984404</td>\n",
       "      <td>0.894167</td>\n",
       "      <td>0.937118</td>\n",
       "      <td>1200.000000</td>\n",
       "      <td>0.946296</td>\n",
       "    </tr>\n",
       "    <tr>\n",
       "      <th>2</th>\n",
       "      <td>0.624021</td>\n",
       "      <td>0.597500</td>\n",
       "      <td>0.610473</td>\n",
       "      <td>1200.000000</td>\n",
       "      <td>0.778750</td>\n",
       "    </tr>\n",
       "    <tr>\n",
       "      <th>3</th>\n",
       "      <td>0.665416</td>\n",
       "      <td>0.886667</td>\n",
       "      <td>0.760272</td>\n",
       "      <td>1200.000000</td>\n",
       "      <td>0.918565</td>\n",
       "    </tr>\n",
       "    <tr>\n",
       "      <th>4</th>\n",
       "      <td>0.460134</td>\n",
       "      <td>0.630000</td>\n",
       "      <td>0.531833</td>\n",
       "      <td>1200.000000</td>\n",
       "      <td>0.773935</td>\n",
       "    </tr>\n",
       "    <tr>\n",
       "      <th>5</th>\n",
       "      <td>0.691176</td>\n",
       "      <td>0.156667</td>\n",
       "      <td>0.255435</td>\n",
       "      <td>1200.000000</td>\n",
       "      <td>0.574444</td>\n",
       "    </tr>\n",
       "    <tr>\n",
       "      <th>6</th>\n",
       "      <td>0.322414</td>\n",
       "      <td>0.155833</td>\n",
       "      <td>0.210112</td>\n",
       "      <td>1200.000000</td>\n",
       "      <td>0.559722</td>\n",
       "    </tr>\n",
       "    <tr>\n",
       "      <th>7</th>\n",
       "      <td>0.595329</td>\n",
       "      <td>0.913333</td>\n",
       "      <td>0.720816</td>\n",
       "      <td>1200.000000</td>\n",
       "      <td>0.922176</td>\n",
       "    </tr>\n",
       "    <tr>\n",
       "      <th>8</th>\n",
       "      <td>0.887198</td>\n",
       "      <td>0.825833</td>\n",
       "      <td>0.855416</td>\n",
       "      <td>1200.000000</td>\n",
       "      <td>0.907083</td>\n",
       "    </tr>\n",
       "    <tr>\n",
       "      <th>9</th>\n",
       "      <td>0.686981</td>\n",
       "      <td>0.826667</td>\n",
       "      <td>0.750378</td>\n",
       "      <td>1200.000000</td>\n",
       "      <td>0.892407</td>\n",
       "    </tr>\n",
       "    <tr>\n",
       "      <th>accuracy</th>\n",
       "      <td>0.667583</td>\n",
       "      <td>0.667583</td>\n",
       "      <td>0.667583</td>\n",
       "      <td>0.667583</td>\n",
       "      <td>0.667583</td>\n",
       "    </tr>\n",
       "    <tr>\n",
       "      <th>macro_avg</th>\n",
       "      <td>0.666569</td>\n",
       "      <td>0.667583</td>\n",
       "      <td>0.640021</td>\n",
       "      <td>1200.000000</td>\n",
       "      <td>0.815324</td>\n",
       "    </tr>\n",
       "    <tr>\n",
       "      <th>weighted_avg</th>\n",
       "      <td>0.666569</td>\n",
       "      <td>0.667583</td>\n",
       "      <td>0.640021</td>\n",
       "      <td>1200.000000</td>\n",
       "      <td>0.815324</td>\n",
       "    </tr>\n",
       "  </tbody>\n",
       "</table>\n",
       "</div>"
      ],
      "text/plain": [
       "              precision    recall  f1-score      support   roc_auc\n",
       "0              0.748617  0.789167  0.768357  1200.000000  0.879861\n",
       "1              0.984404  0.894167  0.937118  1200.000000  0.946296\n",
       "2              0.624021  0.597500  0.610473  1200.000000  0.778750\n",
       "3              0.665416  0.886667  0.760272  1200.000000  0.918565\n",
       "4              0.460134  0.630000  0.531833  1200.000000  0.773935\n",
       "5              0.691176  0.156667  0.255435  1200.000000  0.574444\n",
       "6              0.322414  0.155833  0.210112  1200.000000  0.559722\n",
       "7              0.595329  0.913333  0.720816  1200.000000  0.922176\n",
       "8              0.887198  0.825833  0.855416  1200.000000  0.907083\n",
       "9              0.686981  0.826667  0.750378  1200.000000  0.892407\n",
       "accuracy       0.667583  0.667583  0.667583     0.667583  0.667583\n",
       "macro_avg      0.666569  0.667583  0.640021  1200.000000  0.815324\n",
       "weighted_avg   0.666569  0.667583  0.640021  1200.000000  0.815324"
      ]
     },
     "execution_count": 17,
     "metadata": {},
     "output_type": "execute_result"
    }
   ],
   "source": [
    "nb = MultinomialNB(alpha=1.0) #alpha = 1.0 es el default \n",
    "nb.fit(x_train, y_train)\n",
    "\n",
    "y_pred = nb.predict(x_val)\n",
    "print(\"Accuracy training : {:.3f}\".format(nb.score(x_train, y_train)))\n",
    "print(\"Accuracy val: {:.3f}\".format(nb.score(x_val, y_val)))\n",
    "classif_report(y_val, y_pred)"
   ]
  },
  {
   "cell_type": "markdown",
   "metadata": {},
   "source": [
    "Guardo el modelo en un archivo pickle"
   ]
  },
  {
   "cell_type": "code",
   "execution_count": 18,
   "metadata": {},
   "outputs": [],
   "source": [
    "with open('models/naivebayes_base.pkl', 'wb') as modelFile:\n",
    "   pickle.dump(nb, modelFile)"
   ]
  },
  {
   "cell_type": "code",
   "execution_count": 19,
   "metadata": {},
   "outputs": [],
   "source": [
    "with open('models/naivebayes_base.pkl','rb') as modelFile:\n",
    "     nb = pickle.load(modelFile)"
   ]
  },
  {
   "cell_type": "markdown",
   "metadata": {},
   "source": [
    "### Métricas relevantes para el problema en el conjunto de validación"
   ]
  },
  {
   "cell_type": "markdown",
   "metadata": {},
   "source": [
    "Las metricas ya estan calculadas para cada modelo (ver arriba)\n",
    "\n",
    "Se calcularon todas las metricas que consideramos relevantes, que nos muestran la capacidad de prediccion del modelo por cada clase y de manera global:\n",
    "* **precision**     [por clase **+** average]\n",
    "\n",
    "* **recall**        [por clase **+** average]\t\n",
    "\n",
    "* **f1-score**\t    [por clase **+** average]\n",
    "\n",
    "* **roc_auc**       [por clase **+** average]\n",
    "\n",
    "* **Accuracy**"
   ]
  },
  {
   "cell_type": "markdown",
   "metadata": {},
   "source": [
    "### Justificación"
   ]
  },
  {
   "cell_type": "markdown",
   "metadata": {},
   "source": [
    "Se realiza la apertura de la metrica por clase, para poder ver el desempeño del modelo clasificando cada clase en particular:\n",
    "- Para evitar perder el detalle comparando el desempeño en cada una con un modelo aleatorio y descubrir si predice en algun caso por debajo de ese umbral minimo (0,5)\n",
    "- tiene algun especial desequilibro entre precision y recall en alguna clase en particular\n",
    "- y poder comparar el desempeño en c/u, sabiendo el modelo cuales predice mejor y cuales le cuesta mas.\n",
    "\n",
    "Con cada una de estas metricas buscamos ver:\n",
    "* Precision: vemos la tasa de predichos en la clase correcta sobre el total predecido como esa clase\n",
    "* Recall: vemos que % encuentra del total existente en esa clase\n",
    "* f1-score: obtenemos una media armonica entre precision y recall\n",
    "* roc-auc: como un resumen de la calidad de las predicciones positivas del modelo, que proporción de la clase son predichos correctamente del total existente (tasa de verdaderos positivo) vs los que clasifica erradamente (tasa de falsos positivos) sobre los negativos reales.\n",
    "\n",
    "El average nos entrega una medida global del modelo en su conjunto:\n",
    "Y al tratarse de un dataset perfectamente balanceado, el promedio es un buen indicador, sopesando cada clase por igual.\n",
    "\n",
    "Y como medida global unica para evaluar el modelo: usamos el Accuracy, que nos otorga un buen resumen de la performance del modelo, resumiendo su matriz de confusión en un unico valor, que si bien puede ocultarnos información del desempeño de cada clase en particular, al igual que los average, por tratarse un de un conjunto de datos balanceado, nos brinda una buena medida resumen general."
   ]
  },
  {
   "cell_type": "markdown",
   "metadata": {
    "tags": []
   },
   "source": [
    "## Punto 5: Exploración de modelo Random Forest"
   ]
  },
  {
   "cell_type": "code",
   "execution_count": 6,
   "metadata": {},
   "outputs": [],
   "source": [
    "#La función crea un csv\n",
    "def ensemble_exploring(xtrain, ytrain, xval, yval, model=\"random forest\", \n",
    "                params={'n_estimators': None,\n",
    "                               'max_depth': None},\n",
    "                results_folder=None):\n",
    "    for key,values in tqdm(params.items()):\n",
    "        if model==\"random forest\":\n",
    "            print(f\"Exploring {model} classifier\")\n",
    "            start = time.time()\n",
    "            clf = RandomForestClassifier(random_state=42)\n",
    "        elif model == \"gradient boosting\": \n",
    "            print(f\"Exploring {model} classifier\")\n",
    "            start = time.time()\n",
    "            clf = GradientBoostingClassifier(random_state=42)\n",
    "        else: \n",
    "            print(\"Model must be 'gradient boosting' or 'random forest'\")\n",
    "            break\n",
    "        scores = []\n",
    "        max_n_est = None #esto es para iterar fijando este parámetro\n",
    "        for v in tqdm(values):  \n",
    "            if max_n_est: \n",
    "                p = {key:v, \"n_estimators\":max_n_est}\n",
    "            else:\n",
    "                p = {key:v}\n",
    "            clf.set_params(**p)\n",
    "            clf.fit(x_train, y_train)\n",
    "            stop = time.time()\n",
    "            y_pred = clf.predict(x_val)\n",
    "            result_dict = {key:v, 'training_acc':clf.score(xtrain, ytrain), 'test_acc':clf.score(xval, yval), 'time':stop-start}\n",
    "            scores.append(result_dict)\n",
    "        today = datetime.now().strftime(\"%Y%m%d\")\n",
    "        path = f\"{results_folder}/results_{model.replace(' ','_')}_parm_{key}_{today}.csv\"\n",
    "        results = pd.DataFrame(scores).set_index(key)\n",
    "        results.to_csv(path)\n",
    "        if key == \"n_estimators\":\n",
    "            max_n_est = int(results[['test_acc']].idxmax())"
   ]
  },
  {
   "cell_type": "code",
   "execution_count": 7,
   "metadata": {},
   "outputs": [],
   "source": [
    "img_folder= \"./img\"\n",
    "                \n",
    "from pathlib import Path\n",
    "Path(img_folder).mkdir(parents=True, exist_ok=True)\n",
    "\n",
    "result_folder= \"./results\"\n",
    "                \n",
    "from pathlib import Path\n",
    "Path(result_folder).mkdir(parents=True, exist_ok=True)\n",
    "\n",
    "#######################################################\n",
    "### ESTA PARTE YA SE CORRIO\n",
    "######################################################\n",
    "# rf_params = params={'n_estimators': range(50, 501, 50),\n",
    "#                     'max_depth': range(10, 101, 10)}\n",
    "# ensemble_exploring(x_train, y_train, x_val, y_val, \n",
    "#                    model=\"random forest\",\n",
    "#                    params=rf_params,\n",
    "#                    results_folder = result_folder)\n"
   ]
  },
  {
   "cell_type": "markdown",
   "metadata": {},
   "source": [
    "Grafico las distintas métricas para cada valor de n_estimators"
   ]
  },
  {
   "cell_type": "code",
   "execution_count": 41,
   "metadata": {},
   "outputs": [
    {
     "data": {
      "image/png": "[encoded data removed]",
      "text/plain": [
       "<Figure size 432x288 with 2 Axes>"
      ]
     },
     "metadata": {
      "needs_background": "light"
     },
     "output_type": "display_data"
    }
   ],
   "source": [
    "model = \"random forest\"\n",
    "parameter = \"n_estimators\"\n",
    "lastdate = \"20220608\" #chequear el ultimo archivo para levantar\n",
    "input_path = f\"./results/results_{model.replace(' ','_')}_parm_{parameter}_{lastdate}.csv\" #armo el path para levantar el csv correcto\n",
    "\n",
    "scores_rf_df = pd.read_csv(input_path)\n",
    "\n",
    "fig, ax1 = plt.subplots()\n",
    "\n",
    "ax2 = ax1.twinx()\n",
    "p1 = ax1.plot(scores_rf_df[parameter], scores_rf_df.training_acc, 'b-', label = 'training accuracy')\n",
    "p2 = ax1.plot(scores_rf_df[parameter], scores_rf_df.test_acc, 'r-', label = 'test accuracy')\n",
    "p3 = ax2.plot(scores_rf_df[parameter], scores_rf_df.time, 'g--', label = 'time spent')\n",
    "\n",
    "ax1.set_xlabel(parameter)\n",
    "ax1.set_ylabel('accuracy')\n",
    "ax2.set_ylabel('time spent', color='g')\n",
    "\n",
    "# added these three lines\n",
    "lgs = p1+p2+p3\n",
    "labs = [l.get_label() for l in lgs]\n",
    "ax1.legend(lgs, labs, loc=\"center left\")\n",
    "\n",
    "output_path =  f\"./results/results_{model.replace(' ','_')}_parm_{parameter}_{lastdate}.png\"\n",
    "\n",
    "#plt.show()\n",
    "plt.savefig(output_path, dpi=200, facecolor=\"white\")"
   ]
  },
  {
   "cell_type": "code",
   "execution_count": 44,
   "metadata": {},
   "outputs": [
    {
     "data": {
      "image/png": "[encoded data removed]",
      "text/plain": [
       "<Figure size 432x288 with 2 Axes>"
      ]
     },
     "metadata": {
      "needs_background": "light"
     },
     "output_type": "display_data"
    }
   ],
   "source": [
    "model = \"random forest\"\n",
    "parameter = \"max_depth\"\n",
    "lastdate = \"20220608\" #chequear el ultimo archivo para levantar\n",
    "input_path = f\"./results/results_{model.replace(' ','_')}_parm_{parameter}_{lastdate}.csv\" #armo el path para levantar el csv correcto\n",
    "\n",
    "scores_rf_df = pd.read_csv(input_path)\n",
    "\n",
    "fig, ax1 = plt.subplots()\n",
    "\n",
    "ax2 = ax1.twinx()\n",
    "p1 = ax1.plot(scores_rf_df[parameter], scores_rf_df.training_acc, 'b-', label = 'training accuracy')\n",
    "p2 = ax1.plot(scores_rf_df[parameter], scores_rf_df.test_acc, 'r-', label = 'test accuracy')\n",
    "p3 = ax2.plot(scores_rf_df[parameter], scores_rf_df.time, 'g--', label = 'time spent')\n",
    "\n",
    "ax1.set_xlabel(parameter)\n",
    "ax1.set_ylabel('accuracy')\n",
    "ax2.set_ylabel('time spent', color='g')\n",
    "\n",
    "# added these three lines\n",
    "lgs = p1+p2+p3\n",
    "labs = [l.get_label() for l in lgs]\n",
    "ax1.legend(lgs, labs, loc=\"best\")\n",
    "\n",
    "output_path =  f\"./results/results_{model.replace(' ','_')}_parm_{parameter}_{lastdate}.png\"\n",
    "\n",
    "#plt.show()\n",
    "plt.savefig(output_path, dpi=200, facecolor=\"white\")"
   ]
  },
  {
   "cell_type": "markdown",
   "metadata": {},
   "source": [
    "## Punto 6: Exploración de modelo Gradient Boosting Machine"
   ]
  },
  {
   "cell_type": "code",
   "execution_count": 12,
   "metadata": {},
   "outputs": [
    {
     "name": "stderr",
     "output_type": "stream",
     "text": [
      "  0%|          | 0/2 [00:00<?, ?it/s]"
     ]
    },
    {
     "name": "stdout",
     "output_type": "stream",
     "text": [
      "Exploring gradient boosting classifier\n"
     ]
    },
    {
     "name": "stderr",
     "output_type": "stream",
     "text": [
      "100%|██████████| 5/5 [2:30:52<00:00, 1810.41s/it]\n",
      " 50%|█████     | 1/2 [2:30:52<2:30:52, 9052.10s/it]"
     ]
    },
    {
     "name": "stdout",
     "output_type": "stream",
     "text": [
      "Exploring gradient boosting classifier\n"
     ]
    },
    {
     "name": "stderr",
     "output_type": "stream",
     "text": [
      " 30%|███       | 3/10 [20:26:23<47:41:35, 24527.99s/it]\n",
      " 50%|█████     | 1/2 [22:57:16<22:57:16, 82636.07s/it]\n"
     ]
    },
    {
     "ename": "KeyboardInterrupt",
     "evalue": "",
     "output_type": "error",
     "traceback": [
      "\u001b[1;31m---------------------------------------------------------------------------\u001b[0m",
      "\u001b[1;31mKeyboardInterrupt\u001b[0m                         Traceback (most recent call last)",
      "\u001b[1;32mc:\\Users\\leandro.morinigo\\OneDrive\\! 0. Maestria Cs Datos\\Repo Visual_Studio\\tp2AA\\TP2AA.ipynb Cell 67'\u001b[0m in \u001b[0;36m<cell line: 15>\u001b[1;34m()\u001b[0m\n\u001b[0;32m     <a href='vscode-notebook-cell:/c%3A/Users/leandro.morinigo/OneDrive/%21%200.%20Maestria%20Cs%20Datos/Repo%20Visual_Studio/tp2AA/TP2AA.ipynb#ch0000066?line=10'>11</a>\u001b[0m \u001b[39m#Falta correr esta parte. \u001b[39;00m\n\u001b[0;32m     <a href='vscode-notebook-cell:/c%3A/Users/leandro.morinigo/OneDrive/%21%200.%20Maestria%20Cs%20Datos/Repo%20Visual_Studio/tp2AA/TP2AA.ipynb#ch0000066?line=11'>12</a>\u001b[0m gb_params \u001b[39m=\u001b[39m params\u001b[39m=\u001b[39m{\u001b[39m'\u001b[39m\u001b[39mn_estimators\u001b[39m\u001b[39m'\u001b[39m: \u001b[39mrange\u001b[39m(\u001b[39m10\u001b[39m, \u001b[39m51\u001b[39m, \u001b[39m10\u001b[39m),\n\u001b[0;32m     <a href='vscode-notebook-cell:/c%3A/Users/leandro.morinigo/OneDrive/%21%200.%20Maestria%20Cs%20Datos/Repo%20Visual_Studio/tp2AA/TP2AA.ipynb#ch0000066?line=12'>13</a>\u001b[0m                     \u001b[39m'\u001b[39m\u001b[39mmax_depth\u001b[39m\u001b[39m'\u001b[39m: \u001b[39mrange\u001b[39m(\u001b[39m10\u001b[39m, \u001b[39m101\u001b[39m, \u001b[39m10\u001b[39m)}\n\u001b[1;32m---> <a href='vscode-notebook-cell:/c%3A/Users/leandro.morinigo/OneDrive/%21%200.%20Maestria%20Cs%20Datos/Repo%20Visual_Studio/tp2AA/TP2AA.ipynb#ch0000066?line=14'>15</a>\u001b[0m ensemble_exploring(x_train, y_train, x_val, y_val, \n\u001b[0;32m     <a href='vscode-notebook-cell:/c%3A/Users/leandro.morinigo/OneDrive/%21%200.%20Maestria%20Cs%20Datos/Repo%20Visual_Studio/tp2AA/TP2AA.ipynb#ch0000066?line=15'>16</a>\u001b[0m                    model\u001b[39m=\u001b[39;49m\u001b[39m\"\u001b[39;49m\u001b[39mgradient boosting\u001b[39;49m\u001b[39m\"\u001b[39;49m,\n\u001b[0;32m     <a href='vscode-notebook-cell:/c%3A/Users/leandro.morinigo/OneDrive/%21%200.%20Maestria%20Cs%20Datos/Repo%20Visual_Studio/tp2AA/TP2AA.ipynb#ch0000066?line=16'>17</a>\u001b[0m                    params\u001b[39m=\u001b[39;49mgb_params,\n\u001b[0;32m     <a href='vscode-notebook-cell:/c%3A/Users/leandro.morinigo/OneDrive/%21%200.%20Maestria%20Cs%20Datos/Repo%20Visual_Studio/tp2AA/TP2AA.ipynb#ch0000066?line=17'>18</a>\u001b[0m                    results_folder \u001b[39m=\u001b[39;49m result_folder)\n",
      "\u001b[1;32mc:\\Users\\leandro.morinigo\\OneDrive\\! 0. Maestria Cs Datos\\Repo Visual_Studio\\tp2AA\\TP2AA.ipynb Cell 61'\u001b[0m in \u001b[0;36mensemble_exploring\u001b[1;34m(xtrain, ytrain, xval, yval, model, params, results_folder)\u001b[0m\n\u001b[0;32m     <a href='vscode-notebook-cell:/c%3A/Users/leandro.morinigo/OneDrive/%21%200.%20Maestria%20Cs%20Datos/Repo%20Visual_Studio/tp2AA/TP2AA.ipynb#ch0000060?line=23'>24</a>\u001b[0m     p \u001b[39m=\u001b[39m {key:v}\n\u001b[0;32m     <a href='vscode-notebook-cell:/c%3A/Users/leandro.morinigo/OneDrive/%21%200.%20Maestria%20Cs%20Datos/Repo%20Visual_Studio/tp2AA/TP2AA.ipynb#ch0000060?line=24'>25</a>\u001b[0m clf\u001b[39m.\u001b[39mset_params(\u001b[39m*\u001b[39m\u001b[39m*\u001b[39mp)\n\u001b[1;32m---> <a href='vscode-notebook-cell:/c%3A/Users/leandro.morinigo/OneDrive/%21%200.%20Maestria%20Cs%20Datos/Repo%20Visual_Studio/tp2AA/TP2AA.ipynb#ch0000060?line=25'>26</a>\u001b[0m clf\u001b[39m.\u001b[39;49mfit(x_train, y_train)\n\u001b[0;32m     <a href='vscode-notebook-cell:/c%3A/Users/leandro.morinigo/OneDrive/%21%200.%20Maestria%20Cs%20Datos/Repo%20Visual_Studio/tp2AA/TP2AA.ipynb#ch0000060?line=26'>27</a>\u001b[0m stop \u001b[39m=\u001b[39m time\u001b[39m.\u001b[39mtime()\n\u001b[0;32m     <a href='vscode-notebook-cell:/c%3A/Users/leandro.morinigo/OneDrive/%21%200.%20Maestria%20Cs%20Datos/Repo%20Visual_Studio/tp2AA/TP2AA.ipynb#ch0000060?line=27'>28</a>\u001b[0m y_pred \u001b[39m=\u001b[39m clf\u001b[39m.\u001b[39mpredict(x_val)\n",
      "File \u001b[1;32mc:\\Users\\leandro.morinigo\\Anaconda3\\lib\\site-packages\\sklearn\\ensemble\\_gb.py:586\u001b[0m, in \u001b[0;36mBaseGradientBoosting.fit\u001b[1;34m(self, X, y, sample_weight, monitor)\u001b[0m\n\u001b[0;32m    <a href='file:///c%3A/Users/leandro.morinigo/Anaconda3/lib/site-packages/sklearn/ensemble/_gb.py?line=582'>583</a>\u001b[0m     \u001b[39mself\u001b[39m\u001b[39m.\u001b[39m_resize_state()\n\u001b[0;32m    <a href='file:///c%3A/Users/leandro.morinigo/Anaconda3/lib/site-packages/sklearn/ensemble/_gb.py?line=584'>585</a>\u001b[0m \u001b[39m# fit the boosting stages\u001b[39;00m\n\u001b[1;32m--> <a href='file:///c%3A/Users/leandro.morinigo/Anaconda3/lib/site-packages/sklearn/ensemble/_gb.py?line=585'>586</a>\u001b[0m n_stages \u001b[39m=\u001b[39m \u001b[39mself\u001b[39;49m\u001b[39m.\u001b[39;49m_fit_stages(\n\u001b[0;32m    <a href='file:///c%3A/Users/leandro.morinigo/Anaconda3/lib/site-packages/sklearn/ensemble/_gb.py?line=586'>587</a>\u001b[0m     X,\n\u001b[0;32m    <a href='file:///c%3A/Users/leandro.morinigo/Anaconda3/lib/site-packages/sklearn/ensemble/_gb.py?line=587'>588</a>\u001b[0m     y,\n\u001b[0;32m    <a href='file:///c%3A/Users/leandro.morinigo/Anaconda3/lib/site-packages/sklearn/ensemble/_gb.py?line=588'>589</a>\u001b[0m     raw_predictions,\n\u001b[0;32m    <a href='file:///c%3A/Users/leandro.morinigo/Anaconda3/lib/site-packages/sklearn/ensemble/_gb.py?line=589'>590</a>\u001b[0m     sample_weight,\n\u001b[0;32m    <a href='file:///c%3A/Users/leandro.morinigo/Anaconda3/lib/site-packages/sklearn/ensemble/_gb.py?line=590'>591</a>\u001b[0m     \u001b[39mself\u001b[39;49m\u001b[39m.\u001b[39;49m_rng,\n\u001b[0;32m    <a href='file:///c%3A/Users/leandro.morinigo/Anaconda3/lib/site-packages/sklearn/ensemble/_gb.py?line=591'>592</a>\u001b[0m     X_val,\n\u001b[0;32m    <a href='file:///c%3A/Users/leandro.morinigo/Anaconda3/lib/site-packages/sklearn/ensemble/_gb.py?line=592'>593</a>\u001b[0m     y_val,\n\u001b[0;32m    <a href='file:///c%3A/Users/leandro.morinigo/Anaconda3/lib/site-packages/sklearn/ensemble/_gb.py?line=593'>594</a>\u001b[0m     sample_weight_val,\n\u001b[0;32m    <a href='file:///c%3A/Users/leandro.morinigo/Anaconda3/lib/site-packages/sklearn/ensemble/_gb.py?line=594'>595</a>\u001b[0m     begin_at_stage,\n\u001b[0;32m    <a href='file:///c%3A/Users/leandro.morinigo/Anaconda3/lib/site-packages/sklearn/ensemble/_gb.py?line=595'>596</a>\u001b[0m     monitor,\n\u001b[0;32m    <a href='file:///c%3A/Users/leandro.morinigo/Anaconda3/lib/site-packages/sklearn/ensemble/_gb.py?line=596'>597</a>\u001b[0m )\n\u001b[0;32m    <a href='file:///c%3A/Users/leandro.morinigo/Anaconda3/lib/site-packages/sklearn/ensemble/_gb.py?line=598'>599</a>\u001b[0m \u001b[39m# change shape of arrays after fit (early-stopping or additional ests)\u001b[39;00m\n\u001b[0;32m    <a href='file:///c%3A/Users/leandro.morinigo/Anaconda3/lib/site-packages/sklearn/ensemble/_gb.py?line=599'>600</a>\u001b[0m \u001b[39mif\u001b[39;00m n_stages \u001b[39m!=\u001b[39m \u001b[39mself\u001b[39m\u001b[39m.\u001b[39mestimators_\u001b[39m.\u001b[39mshape[\u001b[39m0\u001b[39m]:\n",
      "File \u001b[1;32mc:\\Users\\leandro.morinigo\\Anaconda3\\lib\\site-packages\\sklearn\\ensemble\\_gb.py:663\u001b[0m, in \u001b[0;36mBaseGradientBoosting._fit_stages\u001b[1;34m(self, X, y, raw_predictions, sample_weight, random_state, X_val, y_val, sample_weight_val, begin_at_stage, monitor)\u001b[0m\n\u001b[0;32m    <a href='file:///c%3A/Users/leandro.morinigo/Anaconda3/lib/site-packages/sklearn/ensemble/_gb.py?line=655'>656</a>\u001b[0m     old_oob_score \u001b[39m=\u001b[39m loss_(\n\u001b[0;32m    <a href='file:///c%3A/Users/leandro.morinigo/Anaconda3/lib/site-packages/sklearn/ensemble/_gb.py?line=656'>657</a>\u001b[0m         y[\u001b[39m~\u001b[39msample_mask],\n\u001b[0;32m    <a href='file:///c%3A/Users/leandro.morinigo/Anaconda3/lib/site-packages/sklearn/ensemble/_gb.py?line=657'>658</a>\u001b[0m         raw_predictions[\u001b[39m~\u001b[39msample_mask],\n\u001b[0;32m    <a href='file:///c%3A/Users/leandro.morinigo/Anaconda3/lib/site-packages/sklearn/ensemble/_gb.py?line=658'>659</a>\u001b[0m         sample_weight[\u001b[39m~\u001b[39msample_mask],\n\u001b[0;32m    <a href='file:///c%3A/Users/leandro.morinigo/Anaconda3/lib/site-packages/sklearn/ensemble/_gb.py?line=659'>660</a>\u001b[0m     )\n\u001b[0;32m    <a href='file:///c%3A/Users/leandro.morinigo/Anaconda3/lib/site-packages/sklearn/ensemble/_gb.py?line=661'>662</a>\u001b[0m \u001b[39m# fit next stage of trees\u001b[39;00m\n\u001b[1;32m--> <a href='file:///c%3A/Users/leandro.morinigo/Anaconda3/lib/site-packages/sklearn/ensemble/_gb.py?line=662'>663</a>\u001b[0m raw_predictions \u001b[39m=\u001b[39m \u001b[39mself\u001b[39;49m\u001b[39m.\u001b[39;49m_fit_stage(\n\u001b[0;32m    <a href='file:///c%3A/Users/leandro.morinigo/Anaconda3/lib/site-packages/sklearn/ensemble/_gb.py?line=663'>664</a>\u001b[0m     i,\n\u001b[0;32m    <a href='file:///c%3A/Users/leandro.morinigo/Anaconda3/lib/site-packages/sklearn/ensemble/_gb.py?line=664'>665</a>\u001b[0m     X,\n\u001b[0;32m    <a href='file:///c%3A/Users/leandro.morinigo/Anaconda3/lib/site-packages/sklearn/ensemble/_gb.py?line=665'>666</a>\u001b[0m     y,\n\u001b[0;32m    <a href='file:///c%3A/Users/leandro.morinigo/Anaconda3/lib/site-packages/sklearn/ensemble/_gb.py?line=666'>667</a>\u001b[0m     raw_predictions,\n\u001b[0;32m    <a href='file:///c%3A/Users/leandro.morinigo/Anaconda3/lib/site-packages/sklearn/ensemble/_gb.py?line=667'>668</a>\u001b[0m     sample_weight,\n\u001b[0;32m    <a href='file:///c%3A/Users/leandro.morinigo/Anaconda3/lib/site-packages/sklearn/ensemble/_gb.py?line=668'>669</a>\u001b[0m     sample_mask,\n\u001b[0;32m    <a href='file:///c%3A/Users/leandro.morinigo/Anaconda3/lib/site-packages/sklearn/ensemble/_gb.py?line=669'>670</a>\u001b[0m     random_state,\n\u001b[0;32m    <a href='file:///c%3A/Users/leandro.morinigo/Anaconda3/lib/site-packages/sklearn/ensemble/_gb.py?line=670'>671</a>\u001b[0m     X_csc,\n\u001b[0;32m    <a href='file:///c%3A/Users/leandro.morinigo/Anaconda3/lib/site-packages/sklearn/ensemble/_gb.py?line=671'>672</a>\u001b[0m     X_csr,\n\u001b[0;32m    <a href='file:///c%3A/Users/leandro.morinigo/Anaconda3/lib/site-packages/sklearn/ensemble/_gb.py?line=672'>673</a>\u001b[0m )\n\u001b[0;32m    <a href='file:///c%3A/Users/leandro.morinigo/Anaconda3/lib/site-packages/sklearn/ensemble/_gb.py?line=674'>675</a>\u001b[0m \u001b[39m# track deviance (= loss)\u001b[39;00m\n\u001b[0;32m    <a href='file:///c%3A/Users/leandro.morinigo/Anaconda3/lib/site-packages/sklearn/ensemble/_gb.py?line=675'>676</a>\u001b[0m \u001b[39mif\u001b[39;00m do_oob:\n",
      "File \u001b[1;32mc:\\Users\\leandro.morinigo\\Anaconda3\\lib\\site-packages\\sklearn\\ensemble\\_gb.py:246\u001b[0m, in \u001b[0;36mBaseGradientBoosting._fit_stage\u001b[1;34m(self, i, X, y, raw_predictions, sample_weight, sample_mask, random_state, X_csc, X_csr)\u001b[0m\n\u001b[0;32m    <a href='file:///c%3A/Users/leandro.morinigo/Anaconda3/lib/site-packages/sklearn/ensemble/_gb.py?line=242'>243</a>\u001b[0m     sample_weight \u001b[39m=\u001b[39m sample_weight \u001b[39m*\u001b[39m sample_mask\u001b[39m.\u001b[39mastype(np\u001b[39m.\u001b[39mfloat64)\n\u001b[0;32m    <a href='file:///c%3A/Users/leandro.morinigo/Anaconda3/lib/site-packages/sklearn/ensemble/_gb.py?line=244'>245</a>\u001b[0m X \u001b[39m=\u001b[39m X_csr \u001b[39mif\u001b[39;00m X_csr \u001b[39mis\u001b[39;00m \u001b[39mnot\u001b[39;00m \u001b[39mNone\u001b[39;00m \u001b[39melse\u001b[39;00m X\n\u001b[1;32m--> <a href='file:///c%3A/Users/leandro.morinigo/Anaconda3/lib/site-packages/sklearn/ensemble/_gb.py?line=245'>246</a>\u001b[0m tree\u001b[39m.\u001b[39;49mfit(X, residual, sample_weight\u001b[39m=\u001b[39;49msample_weight, check_input\u001b[39m=\u001b[39;49m\u001b[39mFalse\u001b[39;49;00m)\n\u001b[0;32m    <a href='file:///c%3A/Users/leandro.morinigo/Anaconda3/lib/site-packages/sklearn/ensemble/_gb.py?line=247'>248</a>\u001b[0m \u001b[39m# update tree leaves\u001b[39;00m\n\u001b[0;32m    <a href='file:///c%3A/Users/leandro.morinigo/Anaconda3/lib/site-packages/sklearn/ensemble/_gb.py?line=248'>249</a>\u001b[0m loss\u001b[39m.\u001b[39mupdate_terminal_regions(\n\u001b[0;32m    <a href='file:///c%3A/Users/leandro.morinigo/Anaconda3/lib/site-packages/sklearn/ensemble/_gb.py?line=249'>250</a>\u001b[0m     tree\u001b[39m.\u001b[39mtree_,\n\u001b[0;32m    <a href='file:///c%3A/Users/leandro.morinigo/Anaconda3/lib/site-packages/sklearn/ensemble/_gb.py?line=250'>251</a>\u001b[0m     X,\n\u001b[1;32m   (...)\u001b[0m\n\u001b[0;32m    <a href='file:///c%3A/Users/leandro.morinigo/Anaconda3/lib/site-packages/sklearn/ensemble/_gb.py?line=257'>258</a>\u001b[0m     k\u001b[39m=\u001b[39mk,\n\u001b[0;32m    <a href='file:///c%3A/Users/leandro.morinigo/Anaconda3/lib/site-packages/sklearn/ensemble/_gb.py?line=258'>259</a>\u001b[0m )\n",
      "File \u001b[1;32mc:\\Users\\leandro.morinigo\\Anaconda3\\lib\\site-packages\\sklearn\\tree\\_classes.py:1315\u001b[0m, in \u001b[0;36mDecisionTreeRegressor.fit\u001b[1;34m(self, X, y, sample_weight, check_input, X_idx_sorted)\u001b[0m\n\u001b[0;32m   <a href='file:///c%3A/Users/leandro.morinigo/Anaconda3/lib/site-packages/sklearn/tree/_classes.py?line=1277'>1278</a>\u001b[0m \u001b[39mdef\u001b[39;00m \u001b[39mfit\u001b[39m(\n\u001b[0;32m   <a href='file:///c%3A/Users/leandro.morinigo/Anaconda3/lib/site-packages/sklearn/tree/_classes.py?line=1278'>1279</a>\u001b[0m     \u001b[39mself\u001b[39m, X, y, sample_weight\u001b[39m=\u001b[39m\u001b[39mNone\u001b[39;00m, check_input\u001b[39m=\u001b[39m\u001b[39mTrue\u001b[39;00m, X_idx_sorted\u001b[39m=\u001b[39m\u001b[39m\"\u001b[39m\u001b[39mdeprecated\u001b[39m\u001b[39m\"\u001b[39m\n\u001b[0;32m   <a href='file:///c%3A/Users/leandro.morinigo/Anaconda3/lib/site-packages/sklearn/tree/_classes.py?line=1279'>1280</a>\u001b[0m ):\n\u001b[0;32m   <a href='file:///c%3A/Users/leandro.morinigo/Anaconda3/lib/site-packages/sklearn/tree/_classes.py?line=1280'>1281</a>\u001b[0m     \u001b[39m\"\"\"Build a decision tree regressor from the training set (X, y).\u001b[39;00m\n\u001b[0;32m   <a href='file:///c%3A/Users/leandro.morinigo/Anaconda3/lib/site-packages/sklearn/tree/_classes.py?line=1281'>1282</a>\u001b[0m \n\u001b[0;32m   <a href='file:///c%3A/Users/leandro.morinigo/Anaconda3/lib/site-packages/sklearn/tree/_classes.py?line=1282'>1283</a>\u001b[0m \u001b[39m    Parameters\u001b[39;00m\n\u001b[1;32m   (...)\u001b[0m\n\u001b[0;32m   <a href='file:///c%3A/Users/leandro.morinigo/Anaconda3/lib/site-packages/sklearn/tree/_classes.py?line=1311'>1312</a>\u001b[0m \u001b[39m        Fitted estimator.\u001b[39;00m\n\u001b[0;32m   <a href='file:///c%3A/Users/leandro.morinigo/Anaconda3/lib/site-packages/sklearn/tree/_classes.py?line=1312'>1313</a>\u001b[0m \u001b[39m    \"\"\"\u001b[39;00m\n\u001b[1;32m-> <a href='file:///c%3A/Users/leandro.morinigo/Anaconda3/lib/site-packages/sklearn/tree/_classes.py?line=1314'>1315</a>\u001b[0m     \u001b[39msuper\u001b[39;49m()\u001b[39m.\u001b[39;49mfit(\n\u001b[0;32m   <a href='file:///c%3A/Users/leandro.morinigo/Anaconda3/lib/site-packages/sklearn/tree/_classes.py?line=1315'>1316</a>\u001b[0m         X,\n\u001b[0;32m   <a href='file:///c%3A/Users/leandro.morinigo/Anaconda3/lib/site-packages/sklearn/tree/_classes.py?line=1316'>1317</a>\u001b[0m         y,\n\u001b[0;32m   <a href='file:///c%3A/Users/leandro.morinigo/Anaconda3/lib/site-packages/sklearn/tree/_classes.py?line=1317'>1318</a>\u001b[0m         sample_weight\u001b[39m=\u001b[39;49msample_weight,\n\u001b[0;32m   <a href='file:///c%3A/Users/leandro.morinigo/Anaconda3/lib/site-packages/sklearn/tree/_classes.py?line=1318'>1319</a>\u001b[0m         check_input\u001b[39m=\u001b[39;49mcheck_input,\n\u001b[0;32m   <a href='file:///c%3A/Users/leandro.morinigo/Anaconda3/lib/site-packages/sklearn/tree/_classes.py?line=1319'>1320</a>\u001b[0m         X_idx_sorted\u001b[39m=\u001b[39;49mX_idx_sorted,\n\u001b[0;32m   <a href='file:///c%3A/Users/leandro.morinigo/Anaconda3/lib/site-packages/sklearn/tree/_classes.py?line=1320'>1321</a>\u001b[0m     )\n\u001b[0;32m   <a href='file:///c%3A/Users/leandro.morinigo/Anaconda3/lib/site-packages/sklearn/tree/_classes.py?line=1321'>1322</a>\u001b[0m     \u001b[39mreturn\u001b[39;00m \u001b[39mself\u001b[39m\n",
      "File \u001b[1;32mc:\\Users\\leandro.morinigo\\Anaconda3\\lib\\site-packages\\sklearn\\tree\\_classes.py:420\u001b[0m, in \u001b[0;36mBaseDecisionTree.fit\u001b[1;34m(self, X, y, sample_weight, check_input, X_idx_sorted)\u001b[0m\n\u001b[0;32m    <a href='file:///c%3A/Users/leandro.morinigo/Anaconda3/lib/site-packages/sklearn/tree/_classes.py?line=408'>409</a>\u001b[0m \u001b[39melse\u001b[39;00m:\n\u001b[0;32m    <a href='file:///c%3A/Users/leandro.morinigo/Anaconda3/lib/site-packages/sklearn/tree/_classes.py?line=409'>410</a>\u001b[0m     builder \u001b[39m=\u001b[39m BestFirstTreeBuilder(\n\u001b[0;32m    <a href='file:///c%3A/Users/leandro.morinigo/Anaconda3/lib/site-packages/sklearn/tree/_classes.py?line=410'>411</a>\u001b[0m         splitter,\n\u001b[0;32m    <a href='file:///c%3A/Users/leandro.morinigo/Anaconda3/lib/site-packages/sklearn/tree/_classes.py?line=411'>412</a>\u001b[0m         min_samples_split,\n\u001b[1;32m   (...)\u001b[0m\n\u001b[0;32m    <a href='file:///c%3A/Users/leandro.morinigo/Anaconda3/lib/site-packages/sklearn/tree/_classes.py?line=416'>417</a>\u001b[0m         \u001b[39mself\u001b[39m\u001b[39m.\u001b[39mmin_impurity_decrease,\n\u001b[0;32m    <a href='file:///c%3A/Users/leandro.morinigo/Anaconda3/lib/site-packages/sklearn/tree/_classes.py?line=417'>418</a>\u001b[0m     )\n\u001b[1;32m--> <a href='file:///c%3A/Users/leandro.morinigo/Anaconda3/lib/site-packages/sklearn/tree/_classes.py?line=419'>420</a>\u001b[0m builder\u001b[39m.\u001b[39;49mbuild(\u001b[39mself\u001b[39;49m\u001b[39m.\u001b[39;49mtree_, X, y, sample_weight)\n\u001b[0;32m    <a href='file:///c%3A/Users/leandro.morinigo/Anaconda3/lib/site-packages/sklearn/tree/_classes.py?line=421'>422</a>\u001b[0m \u001b[39mif\u001b[39;00m \u001b[39mself\u001b[39m\u001b[39m.\u001b[39mn_outputs_ \u001b[39m==\u001b[39m \u001b[39m1\u001b[39m \u001b[39mand\u001b[39;00m is_classifier(\u001b[39mself\u001b[39m):\n\u001b[0;32m    <a href='file:///c%3A/Users/leandro.morinigo/Anaconda3/lib/site-packages/sklearn/tree/_classes.py?line=422'>423</a>\u001b[0m     \u001b[39mself\u001b[39m\u001b[39m.\u001b[39mn_classes_ \u001b[39m=\u001b[39m \u001b[39mself\u001b[39m\u001b[39m.\u001b[39mn_classes_[\u001b[39m0\u001b[39m]\n",
      "\u001b[1;31mKeyboardInterrupt\u001b[0m: "
     ]
    }
   ],
   "source": [
    "img_folder= \"./img\"\n",
    "                \n",
    "from pathlib import Path\n",
    "Path(img_folder).mkdir(parents=True, exist_ok=True)\n",
    "\n",
    "result_folder= \"./results\"\n",
    "                \n",
    "from pathlib import Path\n",
    "Path(result_folder).mkdir(parents=True, exist_ok=True)\n",
    "\n",
    "#Falta correr esta parte. \n",
    "gb_params = params={'n_estimators': [10,50,100,150,200],\n",
    "                    'max_depth': [1,3,5,7,9]}\n",
    "\n",
    "ensemble_exploring(x_train, y_train, x_val, y_val, \n",
    "                   model=\"gradient boosting\",\n",
    "                   params=gb_params,\n",
    "                   results_folder = result_folder)\n"
   ]
  },
  {
   "cell_type": "code",
   "execution_count": null,
   "metadata": {},
   "outputs": [],
   "source": [
    "model = \"gradient boosting\"\n",
    "parameter = \"n_estimators\"\n",
    "lastdate = \"20220608\" #chequear el ultimo archivo para levantar\n",
    "input_path = f\"./results/results_{model.replace(' ','_')}_parm_{parameter}_{lastdate}.csv\" #armo el path para levantar el csv correcto\n",
    "\n",
    "scores_gb_df = pd.read_csv(input_path)\n",
    "\n",
    "fig, ax1 = plt.subplots()\n",
    "\n",
    "ax2 = ax1.twinx()\n",
    "p1 = ax1.plot(scores_gb_df[parameter], scores_gb_df.training_acc, 'b-', label = 'training accuracy')\n",
    "p2 = ax1.plot(scores_gb_df[parameter], scores_gb_df.test_acc, 'r-', label = 'test accuracy')\n",
    "p3 = ax2.plot(scores_gb_df[parameter], scores_gb_df.time, 'g--', label = 'time spent')\n",
    "\n",
    "ax1.set_xlabel(parameter)\n",
    "ax1.set_ylabel('accuracy')\n",
    "ax2.set_ylabel('time spent', color='g')\n",
    "\n",
    "# added these three lines\n",
    "lgs = p1+p2+p3\n",
    "labs = [l.get_label() for l in lgs]\n",
    "ax1.legend(lgs, labs, loc=\"best\")\n",
    "\n",
    "output_path =  f\"./results/results_{model.replace(' ','_')}_parm_{parameter}_{lastdate}.png\"\n",
    "\n",
    "plt.savefig(output_path, dpi=200, facecolor=\"white\")"
   ]
  },
  {
   "cell_type": "code",
   "execution_count": null,
   "metadata": {},
   "outputs": [],
   "source": [
    "model = \"gradient boosting\"\n",
    "parameter = \"max_depth\"\n",
    "lastdate = \"20220608\" #chequear el ultimo archivo para levantar\n",
    "input_path = f\"./results/results_{model.replace(' ','_')}_parm_{parameter}_{lastdate}.csv\" #armo el path para levantar el csv correcto\n",
    "\n",
    "scores_gb_df = pd.read_csv(input_path)\n",
    "\n",
    "fig, ax1 = plt.subplots()\n",
    "\n",
    "ax2 = ax1.twinx()\n",
    "p1 = ax1.plot(scores_gb_df[parameter], scores_gb_df.training_acc, 'b-', label = 'training accuracy')\n",
    "p2 = ax1.plot(scores_gb_df[parameter], scores_gb_df.test_acc, 'r-', label = 'test accuracy')\n",
    "p3 = ax2.plot(scores_gb_df[parameter], scores_gb_df.time, 'g--', label = 'time spent')\n",
    "\n",
    "ax1.set_xlabel(parameter)\n",
    "ax1.set_ylabel('accuracy')\n",
    "ax2.set_ylabel('time spent', color='g')\n",
    "\n",
    "# added these three lines\n",
    "lgs = p1+p2+p3\n",
    "labs = [l.get_label() for l in lgs]\n",
    "ax1.legend(lgs, labs, loc=\"best\")\n",
    "\n",
    "output_path =  f\"./results/results_{model.replace(' ','_')}_parm_{parameter}_{lastdate}.png\"\n",
    "\n",
    "plt.savefig(output_path, dpi=200, facecolor=\"white\")"
   ]
  },
  {
   "cell_type": "markdown",
   "metadata": {},
   "source": [
    "## Punto 7: Análisis de mejores modelos obtenidos de Random Forest y Gradient Boosting Machine"
   ]
  },
  {
   "cell_type": "markdown",
   "metadata": {},
   "source": [
    "### Vuelvo a entrenar los modelos anteriores, pero con los hiperparámetros óptimos"
   ]
  },
  {
   "cell_type": "markdown",
   "metadata": {},
   "source": [
    "PASO 1: Recupero los Conjuntos de Datos originales\n",
    "* Desarrollo: X_dev, y_dev\n",
    "\n",
    "* Test: X_test, y_test\n"
   ]
  },
  {
   "cell_type": "code",
   "execution_count": 129,
   "metadata": {},
   "outputs": [
    {
     "name": "stdout",
     "output_type": "stream",
     "text": [
      "(60000, 784)  +  (60000,)\n"
     ]
    }
   ],
   "source": [
    "# Verificamos conjunto desarrollo -> 60mil registros\n",
    "X_dev = X_train\n",
    "y_dev = df_entrenamiento[0]\n",
    "\n",
    "print(X_dev.shape, ' + ', y_dev.shape)"
   ]
  },
  {
   "cell_type": "code",
   "execution_count": 132,
   "metadata": {},
   "outputs": [
    {
     "name": "stdout",
     "output_type": "stream",
     "text": [
      "(10000, 784)  +  (10000,)\n"
     ]
    }
   ],
   "source": [
    "# Verificamos conjunto desarrollo -> 10mil registros\n",
    "\n",
    "print(X_test.shape, ' + ', y_test.shape)"
   ]
  },
  {
   "cell_type": "markdown",
   "metadata": {},
   "source": [
    "PASO 2: Recupero los mejores parametros de cada modelo"
   ]
  },
  {
   "cell_type": "markdown",
   "metadata": {},
   "source": [
    "#### Random Forest"
   ]
  },
  {
   "cell_type": "code",
   "execution_count": 135,
   "metadata": {},
   "outputs": [],
   "source": [
    "# Mejores Parametros Random Forest:\n",
    "n_estimators_rf = 200\n",
    "max_depth_rf = 30"
   ]
  },
  {
   "cell_type": "code",
   "execution_count": 136,
   "metadata": {},
   "outputs": [
    {
     "name": "stdout",
     "output_type": "stream",
     "text": [
      "los hiperparámetros óptimos del random forest son nº estimators = 200 y max_depth = 30\n"
     ]
    }
   ],
   "source": [
    "print(f'los hiperparámetros óptimos del random forest son nº estimators = {n_estimators_rf} y max_depth = {max_depth_rf}')  # leerlos del csv"
   ]
  },
  {
   "cell_type": "code",
   "execution_count": 137,
   "metadata": {},
   "outputs": [
    {
     "name": "stderr",
     "output_type": "stream",
     "text": [
      "[Parallel(n_jobs=-1)]: Using backend ThreadingBackend with 8 concurrent workers.\n",
      "[Parallel(n_jobs=-1)]: Done  34 tasks      | elapsed:    7.6s\n",
      "[Parallel(n_jobs=-1)]: Done 184 tasks      | elapsed:   52.8s\n",
      "[Parallel(n_jobs=-1)]: Done 200 out of 200 | elapsed:   57.8s finished\n"
     ]
    },
    {
     "data": {
      "text/plain": [
       "RandomForestClassifier(max_depth=30, n_estimators=200, n_jobs=-1,\n",
       "                       random_state=42, verbose=1)"
      ]
     },
     "execution_count": 137,
     "metadata": {},
     "output_type": "execute_result"
    }
   ],
   "source": [
    "rfo = RandomForestClassifier(random_state = 42, verbose=1, n_jobs=-1, n_estimators=n_estimators_rf, max_depth=max_depth_rf)\n",
    "rfo.fit(X_dev, y_dev)"
   ]
  },
  {
   "cell_type": "markdown",
   "metadata": {},
   "source": [
    "Guardo el modelo en un archivo pickle"
   ]
  },
  {
   "cell_type": "code",
   "execution_count": null,
   "metadata": {},
   "outputs": [],
   "source": [
    "with open('models/random_forest_opt.pkl', 'wb') as modelFile:\n",
    "   pickle.dump(rfo, modelFile)"
   ]
  },
  {
   "cell_type": "code",
   "execution_count": null,
   "metadata": {},
   "outputs": [],
   "source": [
    "with open('models/random_forest_opt.pkl','rb') as modelFile:\n",
    "     rfo = pickle.load(modelFile)"
   ]
  },
  {
   "cell_type": "markdown",
   "metadata": {},
   "source": [
    "#### Gradient boosting machines"
   ]
  },
  {
   "cell_type": "code",
   "execution_count": 133,
   "metadata": {},
   "outputs": [],
   "source": [
    "# Mejores Parametros Gradient Boosting:\n",
    "n_estimators_gb = 40\n",
    "max_depth_gb = 7\n"
   ]
  },
  {
   "cell_type": "code",
   "execution_count": 134,
   "metadata": {},
   "outputs": [
    {
     "name": "stdout",
     "output_type": "stream",
     "text": [
      "los hiperparámetros óptimos del gradient boosting machines son nº estimators = 40 y max_depth = 7\n"
     ]
    }
   ],
   "source": [
    "print(f'los hiperparámetros óptimos del gradient boosting machines son nº estimators = {n_estimators_gb} y max_depth = {max_depth_gb}')  # leerlos del csv"
   ]
  },
  {
   "cell_type": "code",
   "execution_count": 138,
   "metadata": {},
   "outputs": [
    {
     "data": {
      "text/plain": [
       "GradientBoostingClassifier(max_depth=7, n_estimators=40, random_state=42)"
      ]
     },
     "execution_count": 138,
     "metadata": {},
     "output_type": "execute_result"
    }
   ],
   "source": [
    "gbmo = GradientBoostingClassifier(random_state=42, n_estimators = n_estimators_gb, max_depth = max_depth_gb)\n",
    "gbmo.fit(X_dev, y_dev)"
   ]
  },
  {
   "cell_type": "markdown",
   "metadata": {},
   "source": [
    "Guardo el modelo en un archivo pickle"
   ]
  },
  {
   "cell_type": "code",
   "execution_count": 139,
   "metadata": {},
   "outputs": [],
   "source": [
    "with open('models/gradientboostingmachines_opt.pkl', 'wb') as modelFile:\n",
    "   pickle.dump(gbmo, modelFile)"
   ]
  },
  {
   "cell_type": "markdown",
   "metadata": {},
   "source": [
    "### Evaluación con conjunto de test"
   ]
  },
  {
   "cell_type": "code",
   "execution_count": 140,
   "metadata": {},
   "outputs": [],
   "source": [
    "with open('models/gradientboostingmachines_opt.pkl','rb') as modelFile:\n",
    "     gbmo = pickle.load(modelFile)"
   ]
  },
  {
   "cell_type": "code",
   "execution_count": null,
   "metadata": {},
   "outputs": [],
   "source": []
  },
  {
   "cell_type": "markdown",
   "metadata": {},
   "source": [
    "### Análisis de resultados en base a métricas elegidas"
   ]
  },
  {
   "cell_type": "markdown",
   "metadata": {},
   "source": [
    "#### Análisis de métricas"
   ]
  },
  {
   "cell_type": "code",
   "execution_count": null,
   "metadata": {},
   "outputs": [],
   "source": []
  },
  {
   "cell_type": "markdown",
   "metadata": {},
   "source": [
    "### Conclusión sobre mejor modelo"
   ]
  },
  {
   "cell_type": "code",
   "execution_count": null,
   "metadata": {},
   "outputs": [],
   "source": []
  },
  {
   "cell_type": "markdown",
   "metadata": {},
   "source": [
    "### Punto 8: Matriz de confusión de mejor modelo y su analisis"
   ]
  },
  {
   "cell_type": "code",
   "execution_count": null,
   "metadata": {},
   "outputs": [],
   "source": []
  },
  {
   "cell_type": "markdown",
   "metadata": {},
   "source": [
    "## Punto 9: Estabilidad del modelo frente al ruido"
   ]
  },
  {
   "cell_type": "code",
   "execution_count": null,
   "metadata": {},
   "outputs": [],
   "source": []
  },
  {
   "cell_type": "markdown",
   "metadata": {},
   "source": [
    "### Datos faltantes"
   ]
  },
  {
   "cell_type": "code",
   "execution_count": null,
   "metadata": {},
   "outputs": [],
   "source": [
    "from itertools import product\n",
    "from random import sample\n",
    "\n",
    "p = 0.1 #Proporción de 0s a introducir\n",
    "n = int(X_test.shape[0]*X_test.shape[1]*p)          #Calculate count of nans. Reemplazar nombre del dataframe\n",
    "\n",
    "#Sample exactly n indexes\n",
    "ids = sample(list(product(range(X_test.shape[0]), range(X_test.shape[1]))), n)\n",
    "idx, idy = list(zip(*ids))\n",
    "\n",
    "data = X_test.to_numpy().astype(float)            #Get data as numpy\n",
    "data[idx, idy] = 0                         \n",
    "\n",
    "#Assign to new dataframe\n",
    "ruido_zeros = pd.DataFrame(data, columns=X_test.columns, index=X_test.index)\n"
   ]
  },
  {
   "cell_type": "markdown",
   "metadata": {},
   "source": [
    "### Rotación de imágenes"
   ]
  },
  {
   "cell_type": "code",
   "execution_count": null,
   "metadata": {},
   "outputs": [],
   "source": [
    "ruido_rotacion = ruido_zeros[ruido_zeros.columns[::-1]]"
   ]
  },
  {
   "cell_type": "markdown",
   "metadata": {},
   "source": [
    "## Redes Neuronales"
   ]
  },
  {
   "cell_type": "code",
   "execution_count": 31,
   "metadata": {},
   "outputs": [],
   "source": [
    "import tensorflow as tf\n",
    "import tensorflow.keras.layers as tfkl\n",
    "from tensorflow.keras.datasets import fashion_mnist\n",
    "\n",
    "(train_images, train_labels), (test_images, test_labels) = fashion_mnist.load_data()\n",
    "\n",
    "class_names = ['T-shirt/top', 'Trouser', 'Pullover', 'Dress', 'Coat',\n",
    "               'Sandal', 'Shirt', 'Sneaker', 'Bag', 'Ankle boot']\n",
    "\n",
    "from sklearn.preprocessing import OneHotEncoder\n",
    "from sklearn.model_selection import train_test_split\n",
    "\n",
    "ohe = OneHotEncoder()\n",
    "train_labels = ohe.fit_transform(train_labels.reshape(-1,1)).toarray()\n",
    "test_labels = ohe.fit_transform(test_labels.reshape(-1,1)).toarray()\n",
    "\n",
    "train_images,val_images,train_labels,val_labels = train_test_split(train_images,train_labels,test_size=0.2)"
   ]
  },
  {
   "cell_type": "code",
   "execution_count": 51,
   "metadata": {},
   "outputs": [],
   "source": [
    "#Voy a hacer una prueba para que teste distintas cantidades de neuronas en la capa oculta\n",
    "# y además utilice distintas funciones de activación. \n",
    "#por otro lado tambien optimiza el batch size. \n",
    "\n",
    "def entrenar_modelo(hparams, model_name):\n",
    "  layer_in = tfkl.Input(shape=(28,28)) #Todo modelo necesita una entrada, y debemos especificar sus dimensiones\n",
    "  layer_add_channel = tf.expand_dims(layer_in,axis=3)\n",
    "  conv_block1 = tfkl.Conv2D(16,(3,3),padding='SAME',activation='relu')(layer_add_channel)\n",
    "  conv_block1 = tfkl.Conv2D(16,(3,3),padding='SAME',activation='relu')(conv_block1)\n",
    "  pool_1 = tfkl.MaxPooling2D(pool_size=(2,2))(conv_block1) #Aca queda (14,14)\n",
    "  conv_block2 = tfkl.Conv2D(32,(3,3),padding='SAME',activation='relu')(pool_1)\n",
    "  conv_block2 = tfkl.Conv2D(32,(3,3),padding='SAME',activation='relu')(conv_block2)\n",
    "  pool_2 = tfkl.MaxPooling2D(pool_size=(2,2))(conv_block2) #Aca queda (7,7)\n",
    "  conv_block3 = tfkl.Conv2D(32,(3,3),padding='SAME',activation='relu')(pool_2)\n",
    "  conv_block3 = tfkl.Conv2D(8,(3,3),padding='SAME',activation='relu')(conv_block3)\n",
    "  #Esta capa rompe la imagen achicada (8,7,7) y la vuelve un vector de 392 elementos\n",
    "  flatten_layer = tfkl.Flatten()(conv_block3)\n",
    "  hidden_layer = tfkl.Dense(units=hparams['units'], activation=hparams['activation'])(flatten_layer)\n",
    "  #Esta es la capa de salida\n",
    "  output_layer = tfkl.Dense(units=10,activation='softmax')(flatten_layer)\n",
    "\n",
    "  conv2d_model = tf.keras.Model(inputs=[layer_in],outputs=[output_layer])\n",
    "  \n",
    "\n",
    "  optimizer = tf.keras.optimizers.Adam(learning_rate=hparams['learning_rate'])\n",
    "  metrics_list = [tf.keras.metrics.CategoricalAccuracy(),\n",
    "                  tf.keras.metrics.Precision(),\n",
    "                  tf.keras.metrics.Recall(),\n",
    "                  tf.keras.metrics.AUC()]\n",
    "  metric_names = ['loss','acc','precision','recall','auc']\n",
    "  conv2d_model.compile(optimizer=optimizer,loss='categorical_crossentropy',metrics=metrics_list)\n",
    "\n",
    "  cb_list = [tf.keras.callbacks.TensorBoard(log_dir='tblogs'),\n",
    "              tf.keras.callbacks.ModelCheckpoint(filepath='checkpoints/model.{epoch:02d}-{val_loss:.2f}.ckpt',\n",
    "                                                 save_weights_only=True),\n",
    "            tf.keras.callbacks.EarlyStopping(monitor='val_loss',patience=5)]\n",
    "\n",
    "  start = time.time()\n",
    "  conv2d_model.fit(x=train_images,y=train_labels,validation_data=(val_images,val_labels),batch_size=hparams['batch_size'],epochs=50,callbacks=cb_list)\n",
    "  elapsed_time = time.time() - start\n",
    "  performance = conv2d_model.evaluate(x=val_images,y=val_labels)\n",
    "  performance = dict(zip(metric_names,performance))\n",
    "\n",
    "  return conv2d_model, performance, hparams, elapsed_time"
   ]
  },
  {
   "cell_type": "code",
   "execution_count": 52,
   "metadata": {},
   "outputs": [
    {
     "name": "stderr",
     "output_type": "stream",
     "text": [
      "0it [00:00, ?it/s]"
     ]
    },
    {
     "name": "stdout",
     "output_type": "stream",
     "text": [
      "Epoch 1/50\n",
      "750/750 [==] - 56s 72ms/step - loss: 0.7726 - categorical_accuracy: 0.7334 - precision: 0.8393 - recall: 0.6484 - auc: 0.9648 - val_loss: 0.5168 - val_categorical_accuracy: 0.8223 - val_precision: 0.8585 - val_recall: 0.7809 - val_auc: 0.9831\n",
      "Epoch 2/50\n",
      "750/750 [==] - 54s 73ms/step - loss: 0.4387 - categorical_accuracy: 0.8458 - precision: 0.8813 - recall: 0.8102 - auc: 0.9875 - val_loss: 0.4241 - val_categorical_accuracy: 0.8514 - val_precision: 0.8820 - val_recall: 0.8246 - val_auc: 0.9880\n",
      "Epoch 3/50\n",
      "750/750 [==] - 54s 71ms/step - loss: 0.3786 - categorical_accuracy: 0.8668 - precision: 0.8942 - recall: 0.8390 - auc: 0.9903 - val_loss: 0.3970 - val_categorical_accuracy: 0.8625 - val_precision: 0.8876 - val_recall: 0.8403 - val_auc: 0.9891\n",
      "Epoch 4/50\n",
      "750/750 [==] - 54s 72ms/step - loss: 0.3451 - categorical_accuracy: 0.8779 - precision: 0.9023 - recall: 0.8551 - auc: 0.9918 - val_loss: 0.3604 - val_categorical_accuracy: 0.8738 - val_precision: 0.8997 - val_recall: 0.8540 - val_auc: 0.9907\n",
      "Epoch 5/50\n",
      "750/750 [==] - 53s 71ms/step - loss: 0.3221 - categorical_accuracy: 0.8855 - precision: 0.9079 - recall: 0.8650 - auc: 0.9928 - val_loss: 0.3547 - val_categorical_accuracy: 0.8764 - val_precision: 0.8977 - val_recall: 0.8531 - val_auc: 0.9913\n",
      "Epoch 6/50\n",
      "750/750 [==] - 54s 72ms/step - loss: 0.3016 - categorical_accuracy: 0.8932 - precision: 0.9138 - recall: 0.8739 - auc: 0.9936 - val_loss: 0.3318 - val_categorical_accuracy: 0.8822 - val_precision: 0.9027 - val_recall: 0.8655 - val_auc: 0.9922\n",
      "Epoch 7/50\n",
      "750/750 [==] - 53s 71ms/step - loss: 0.2855 - categorical_accuracy: 0.8984 - precision: 0.9177 - recall: 0.8817 - auc: 0.9941 - val_loss: 0.3277 - val_categorical_accuracy: 0.8873 - val_precision: 0.9051 - val_recall: 0.8706 - val_auc: 0.9920\n",
      "Epoch 8/50\n",
      "750/750 [==] - 54s 72ms/step - loss: 0.2707 - categorical_accuracy: 0.9045 - precision: 0.9223 - recall: 0.8886 - auc: 0.9946 - val_loss: 0.3262 - val_categorical_accuracy: 0.8888 - val_precision: 0.9072 - val_recall: 0.8754 - val_auc: 0.9918\n",
      "Epoch 9/50\n",
      "750/750 [==] - 55s 73ms/step - loss: 0.2615 - categorical_accuracy: 0.9079 - precision: 0.9247 - recall: 0.8932 - auc: 0.9949 - val_loss: 0.3205 - val_categorical_accuracy: 0.8873 - val_precision: 0.9031 - val_recall: 0.8741 - val_auc: 0.9925\n",
      "Epoch 10/50\n",
      "750/750 [==] - 54s 72ms/step - loss: 0.2513 - categorical_accuracy: 0.9107 - precision: 0.9274 - recall: 0.8976 - auc: 0.9953 - val_loss: 0.3042 - val_categorical_accuracy: 0.8924 - val_precision: 0.9102 - val_recall: 0.8790 - val_auc: 0.9930\n",
      "Epoch 11/50\n",
      "750/750 [==] - 53s 71ms/step - loss: 0.2422 - categorical_accuracy: 0.9133 - precision: 0.9289 - recall: 0.8999 - auc: 0.9955 - val_loss: 0.2963 - val_categorical_accuracy: 0.8969 - val_precision: 0.9149 - val_recall: 0.8833 - val_auc: 0.9932\n",
      "Epoch 12/50\n",
      "750/750 [==] - 53s 71ms/step - loss: 0.2350 - categorical_accuracy: 0.9160 - precision: 0.9312 - recall: 0.9027 - auc: 0.9958 - val_loss: 0.2937 - val_categorical_accuracy: 0.8971 - val_precision: 0.9149 - val_recall: 0.8827 - val_auc: 0.9935\n",
      "Epoch 13/50\n",
      "750/750 [==] - 53s 71ms/step - loss: 0.2258 - categorical_accuracy: 0.9188 - precision: 0.9325 - recall: 0.9071 - auc: 0.9962 - val_loss: 0.2945 - val_categorical_accuracy: 0.8946 - val_precision: 0.9096 - val_recall: 0.8834 - val_auc: 0.9932\n",
      "Epoch 14/50\n",
      "750/750 [==] - 53s 71ms/step - loss: 0.2176 - categorical_accuracy: 0.9215 - precision: 0.9350 - recall: 0.9100 - auc: 0.9964 - val_loss: 0.2886 - val_categorical_accuracy: 0.8993 - val_precision: 0.9138 - val_recall: 0.8872 - val_auc: 0.9934\n",
      "Epoch 15/50\n",
      "750/750 [==] - 54s 72ms/step - loss: 0.2119 - categorical_accuracy: 0.9234 - precision: 0.9362 - recall: 0.9123 - auc: 0.9965 - val_loss: 0.2993 - val_categorical_accuracy: 0.8975 - val_precision: 0.9111 - val_recall: 0.8870 - val_auc: 0.9930\n",
      "Epoch 16/50\n",
      "750/750 [==] - 54s 73ms/step - loss: 0.2056 - categorical_accuracy: 0.9262 - precision: 0.9388 - recall: 0.9161 - auc: 0.9967 - val_loss: 0.2900 - val_categorical_accuracy: 0.9008 - val_precision: 0.9153 - val_recall: 0.8884 - val_auc: 0.9932\n",
      "Epoch 17/50\n",
      "750/750 [==] - 54s 72ms/step - loss: 0.2000 - categorical_accuracy: 0.9289 - precision: 0.9406 - recall: 0.9177 - auc: 0.9969 - val_loss: 0.2869 - val_categorical_accuracy: 0.8998 - val_precision: 0.9136 - val_recall: 0.8900 - val_auc: 0.9931\n",
      "Epoch 18/50\n",
      "750/750 [==] - 55s 73ms/step - loss: 0.1937 - categorical_accuracy: 0.9306 - precision: 0.9421 - recall: 0.9211 - auc: 0.9971 - val_loss: 0.2935 - val_categorical_accuracy: 0.8986 - val_precision: 0.9133 - val_recall: 0.8877 - val_auc: 0.9929\n",
      "Epoch 19/50\n",
      "750/750 [==] - 54s 72ms/step - loss: 0.1883 - categorical_accuracy: 0.9324 - precision: 0.9440 - recall: 0.9234 - auc: 0.9972 - val_loss: 0.2964 - val_categorical_accuracy: 0.8990 - val_precision: 0.9117 - val_recall: 0.8898 - val_auc: 0.9928\n",
      "Epoch 20/50\n",
      "750/750 [==] - 55s 73ms/step - loss: 0.1815 - categorical_accuracy: 0.9345 - precision: 0.9447 - recall: 0.9259 - auc: 0.9975 - val_loss: 0.2947 - val_categorical_accuracy: 0.8984 - val_precision: 0.9105 - val_recall: 0.8896 - val_auc: 0.9930\n",
      "Epoch 21/50\n",
      "750/750 [==] - 55s 73ms/step - loss: 0.1779 - categorical_accuracy: 0.9363 - precision: 0.9463 - recall: 0.9271 - auc: 0.9975 - val_loss: 0.2890 - val_categorical_accuracy: 0.9027 - val_precision: 0.9145 - val_recall: 0.8935 - val_auc: 0.9930\n",
      "Epoch 22/50\n",
      "750/750 [==] - 55s 73ms/step - loss: 0.1718 - categorical_accuracy: 0.9380 - precision: 0.9470 - recall: 0.9291 - auc: 0.9976 - val_loss: 0.2953 - val_categorical_accuracy: 0.8987 - val_precision: 0.9093 - val_recall: 0.8900 - val_auc: 0.9929\n",
      "375/375 [==] - 3s 9ms/step - loss: 0.2953 - categorical_accuracy: 0.8987 - precision: 0.9093 - recall: 0.8900 - auc: 0.9929\n"
     ]
    },
    {
     "name": "stderr",
     "output_type": "stream",
     "text": [
      "1it [19:55, 1195.15s/it]"
     ]
    },
    {
     "name": "stdout",
     "output_type": "stream",
     "text": [
      "Epoch 1/50\n",
      "375/375 [==] - 49s 128ms/step - loss: 1.3781 - categorical_accuracy: 0.6199 - precision_1: 0.7237 - recall_1: 0.5185 - auc_1: 0.9133 - val_loss: 0.6698 - val_categorical_accuracy: 0.7673 - val_precision_1: 0.8319 - val_recall_1: 0.7067 - val_auc_1: 0.9732\n",
      "Epoch 2/50\n",
      "375/375 [==] - 48s 127ms/step - loss: 0.5698 - categorical_accuracy: 0.8015 - precision_1: 0.8507 - recall_1: 0.7510 - auc_1: 0.9798 - val_loss: 0.5336 - val_categorical_accuracy: 0.8109 - val_precision_1: 0.8598 - val_recall_1: 0.7679 - val_auc_1: 0.9821\n",
      "Epoch 3/50\n",
      "375/375 [==] - 47s 126ms/step - loss: 0.4778 - categorical_accuracy: 0.8335 - precision_1: 0.8723 - recall_1: 0.7946 - auc_1: 0.9853 - val_loss: 0.4760 - val_categorical_accuracy: 0.8328 - val_precision_1: 0.8692 - val_recall_1: 0.7966 - val_auc_1: 0.9853\n",
      "Epoch 4/50\n",
      "375/375 [==] - 47s 126ms/step - loss: 0.4297 - categorical_accuracy: 0.8491 - precision_1: 0.8822 - recall_1: 0.8169 - auc_1: 0.9877 - val_loss: 0.4457 - val_categorical_accuracy: 0.8422 - val_precision_1: 0.8747 - val_recall_1: 0.8112 - val_auc_1: 0.9870\n",
      "Epoch 5/50\n",
      "375/375 [==] - 10849s 29s/step - loss: 0.3980 - categorical_accuracy: 0.8598 - precision_1: 0.8893 - recall_1: 0.8311 - auc_1: 0.9893 - val_loss: 0.4233 - val_categorical_accuracy: 0.8528 - val_precision_1: 0.8828 - val_recall_1: 0.8246 - val_auc_1: 0.9878\n",
      "Epoch 6/50\n",
      "375/375 [==] - 47s 126ms/step - loss: 0.3717 - categorical_accuracy: 0.8679 - precision_1: 0.8954 - recall_1: 0.8411 - auc_1: 0.9905 - val_loss: 0.4087 - val_categorical_accuracy: 0.8538 - val_precision_1: 0.8828 - val_recall_1: 0.8281 - val_auc_1: 0.9888\n",
      "Epoch 7/50\n",
      "375/375 [==] - 47s 125ms/step - loss: 0.3535 - categorical_accuracy: 0.8736 - precision_1: 0.8995 - recall_1: 0.8508 - auc_1: 0.9913 - val_loss: 0.3854 - val_categorical_accuracy: 0.8670 - val_precision_1: 0.8920 - val_recall_1: 0.8457 - val_auc_1: 0.9896\n",
      "Epoch 8/50\n",
      "375/375 [==] - 4463s 12s/step - loss: 0.3378 - categorical_accuracy: 0.8789 - precision_1: 0.9029 - recall_1: 0.8576 - auc_1: 0.9920 - val_loss: 0.3835 - val_categorical_accuracy: 0.8645 - val_precision_1: 0.8891 - val_recall_1: 0.8447 - val_auc_1: 0.9896\n",
      "Epoch 9/50\n",
      "375/375 [==] - 48s 128ms/step - loss: 0.3238 - categorical_accuracy: 0.8839 - precision_1: 0.9063 - recall_1: 0.8635 - auc_1: 0.9926 - val_loss: 0.3834 - val_categorical_accuracy: 0.8641 - val_precision_1: 0.8913 - val_recall_1: 0.8428 - val_auc_1: 0.9899\n",
      "Epoch 10/50\n",
      "375/375 [==] - 44s 118ms/step - loss: 0.3114 - categorical_accuracy: 0.8877 - precision_1: 0.9091 - recall_1: 0.8679 - auc_1: 0.9932 - val_loss: 0.3584 - val_categorical_accuracy: 0.8747 - val_precision_1: 0.8962 - val_recall_1: 0.8558 - val_auc_1: 0.9908\n",
      "Epoch 11/50\n",
      "375/375 [==] - 43s 115ms/step - loss: 0.3022 - categorical_accuracy: 0.8909 - precision_1: 0.9114 - recall_1: 0.8734 - auc_1: 0.9935 - val_loss: 0.3523 - val_categorical_accuracy: 0.8746 - val_precision_1: 0.8994 - val_recall_1: 0.8562 - val_auc_1: 0.9912\n",
      "Epoch 12/50\n",
      "375/375 [==] - 43s 114ms/step - loss: 0.2922 - categorical_accuracy: 0.8955 - precision_1: 0.9142 - recall_1: 0.8776 - auc_1: 0.9939 - val_loss: 0.3468 - val_categorical_accuracy: 0.8777 - val_precision_1: 0.9003 - val_recall_1: 0.8595 - val_auc_1: 0.9915\n",
      "Epoch 13/50\n",
      "375/375 [==] - 44s 117ms/step - loss: 0.2819 - categorical_accuracy: 0.8982 - precision_1: 0.9167 - recall_1: 0.8816 - auc_1: 0.9942 - val_loss: 0.3442 - val_categorical_accuracy: 0.8782 - val_precision_1: 0.8990 - val_recall_1: 0.8630 - val_auc_1: 0.9915\n",
      "Epoch 14/50\n",
      "375/375 [==] - 44s 118ms/step - loss: 0.2728 - categorical_accuracy: 0.9015 - precision_1: 0.9186 - recall_1: 0.8861 - auc_1: 0.9946 - val_loss: 0.3336 - val_categorical_accuracy: 0.8838 - val_precision_1: 0.9032 - val_recall_1: 0.8667 - val_auc_1: 0.9922\n",
      "Epoch 15/50\n",
      "375/375 [==] - 44s 119ms/step - loss: 0.2646 - categorical_accuracy: 0.9052 - precision_1: 0.9219 - recall_1: 0.8907 - auc_1: 0.9949 - val_loss: 0.3378 - val_categorical_accuracy: 0.8817 - val_precision_1: 0.9012 - val_recall_1: 0.8684 - val_auc_1: 0.9916\n",
      "Epoch 16/50\n",
      "375/375 [==] - 45s 119ms/step - loss: 0.2590 - categorical_accuracy: 0.9063 - precision_1: 0.9228 - recall_1: 0.8913 - auc_1: 0.9952 - val_loss: 0.3328 - val_categorical_accuracy: 0.8830 - val_precision_1: 0.8999 - val_recall_1: 0.8698 - val_auc_1: 0.9923\n",
      "Epoch 17/50\n",
      "375/375 [==] - 44s 118ms/step - loss: 0.2512 - categorical_accuracy: 0.9100 - precision_1: 0.9250 - recall_1: 0.8959 - auc_1: 0.9954 - val_loss: 0.3216 - val_categorical_accuracy: 0.8863 - val_precision_1: 0.9036 - val_recall_1: 0.8723 - val_auc_1: 0.9925\n",
      "Epoch 18/50\n",
      "375/375 [==] - 44s 118ms/step - loss: 0.2447 - categorical_accuracy: 0.9120 - precision_1: 0.9269 - recall_1: 0.8988 - auc_1: 0.9956 - val_loss: 0.3306 - val_categorical_accuracy: 0.8838 - val_precision_1: 0.9007 - val_recall_1: 0.8718 - val_auc_1: 0.9919\n",
      "Epoch 19/50\n",
      "375/375 [==] - 44s 117ms/step - loss: 0.2407 - categorical_accuracy: 0.9134 - precision_1: 0.9277 - recall_1: 0.8993 - auc_1: 0.9957 - val_loss: 0.3262 - val_categorical_accuracy: 0.8843 - val_precision_1: 0.9012 - val_recall_1: 0.8727 - val_auc_1: 0.9923\n",
      "Epoch 20/50\n",
      "375/375 [==] - 44s 117ms/step - loss: 0.2328 - categorical_accuracy: 0.9159 - precision_1: 0.9297 - recall_1: 0.9037 - auc_1: 0.9960 - val_loss: 0.3180 - val_categorical_accuracy: 0.8877 - val_precision_1: 0.9031 - val_recall_1: 0.8743 - val_auc_1: 0.9927\n",
      "Epoch 21/50\n",
      "375/375 [==] - 44s 117ms/step - loss: 0.2260 - categorical_accuracy: 0.9194 - precision_1: 0.9324 - recall_1: 0.9078 - auc_1: 0.9961 - val_loss: 0.3237 - val_categorical_accuracy: 0.8851 - val_precision_1: 0.9014 - val_recall_1: 0.8755 - val_auc_1: 0.9924\n",
      "Epoch 22/50\n",
      "375/375 [==] - 44s 117ms/step - loss: 0.2214 - categorical_accuracy: 0.9210 - precision_1: 0.9338 - recall_1: 0.9094 - auc_1: 0.9963 - val_loss: 0.3313 - val_categorical_accuracy: 0.8850 - val_precision_1: 0.8984 - val_recall_1: 0.8750 - val_auc_1: 0.9916\n",
      "Epoch 23/50\n",
      "375/375 [==] - 44s 118ms/step - loss: 0.2171 - categorical_accuracy: 0.9221 - precision_1: 0.9344 - recall_1: 0.9107 - auc_1: 0.9965 - val_loss: 0.3155 - val_categorical_accuracy: 0.8907 - val_precision_1: 0.9053 - val_recall_1: 0.8792 - val_auc_1: 0.9925\n",
      "Epoch 24/50\n",
      "375/375 [==] - 44s 117ms/step - loss: 0.2130 - categorical_accuracy: 0.9226 - precision_1: 0.9355 - recall_1: 0.9127 - auc_1: 0.9965 - val_loss: 0.3166 - val_categorical_accuracy: 0.8871 - val_precision_1: 0.9024 - val_recall_1: 0.8749 - val_auc_1: 0.9926\n",
      "Epoch 25/50\n",
      "375/375 [==] - 44s 118ms/step - loss: 0.2061 - categorical_accuracy: 0.9268 - precision_1: 0.9383 - recall_1: 0.9156 - auc_1: 0.9968 - val_loss: 0.3121 - val_categorical_accuracy: 0.8932 - val_precision_1: 0.9071 - val_recall_1: 0.8821 - val_auc_1: 0.9926\n",
      "Epoch 26/50\n",
      "375/375 [==] - 44s 117ms/step - loss: 0.2024 - categorical_accuracy: 0.9279 - precision_1: 0.9392 - recall_1: 0.9175 - auc_1: 0.9968 - val_loss: 0.3209 - val_categorical_accuracy: 0.8885 - val_precision_1: 0.9029 - val_recall_1: 0.8783 - val_auc_1: 0.9923\n",
      "Epoch 27/50\n",
      "375/375 [==] - 44s 117ms/step - loss: 0.1973 - categorical_accuracy: 0.9294 - precision_1: 0.9400 - recall_1: 0.9189 - auc_1: 0.9969 - val_loss: 0.3183 - val_categorical_accuracy: 0.8923 - val_precision_1: 0.9045 - val_recall_1: 0.8817 - val_auc_1: 0.9919\n",
      "Epoch 28/50\n",
      "375/375 [==] - 44s 117ms/step - loss: 0.1941 - categorical_accuracy: 0.9305 - precision_1: 0.9415 - recall_1: 0.9214 - auc_1: 0.9971 - val_loss: 0.3137 - val_categorical_accuracy: 0.8941 - val_precision_1: 0.9062 - val_recall_1: 0.8837 - val_auc_1: 0.9926\n",
      "Epoch 29/50\n",
      "375/375 [==] - 44s 118ms/step - loss: 0.1887 - categorical_accuracy: 0.9328 - precision_1: 0.9433 - recall_1: 0.9235 - auc_1: 0.9972 - val_loss: 0.3302 - val_categorical_accuracy: 0.8866 - val_precision_1: 0.8979 - val_recall_1: 0.8771 - val_auc_1: 0.9918\n",
      "Epoch 30/50\n",
      "375/375 [==] - 45s 121ms/step - loss: 0.1876 - categorical_accuracy: 0.9328 - precision_1: 0.9423 - recall_1: 0.9232 - auc_1: 0.9973 - val_loss: 0.3145 - val_categorical_accuracy: 0.8923 - val_precision_1: 0.9045 - val_recall_1: 0.8822 - val_auc_1: 0.9924\n",
      "375/375 [==] - 3s 8ms/step - loss: 0.3145 - categorical_accuracy: 0.8923 - precision_1: 0.9045 - recall_1: 0.8822 - auc_1: 0.9924\n"
     ]
    },
    {
     "name": "stderr",
     "output_type": "stream",
     "text": [
      "2it [4:56:08, 10241.44s/it]"
     ]
    },
    {
     "name": "stdout",
     "output_type": "stream",
     "text": [
      "Epoch 1/50\n",
      "188/188 [==] - 42s 218ms/step - loss: 1.2905 - categorical_accuracy: 0.6213 - precision_2: 0.7510 - recall_2: 0.4975 - auc_2: 0.9124 - val_loss: 0.6831 - val_categorical_accuracy: 0.7673 - val_precision_2: 0.8324 - val_recall_2: 0.6984 - val_auc_2: 0.9719\n",
      "Epoch 2/50\n",
      "188/188 [==] - 41s 221ms/step - loss: 0.5882 - categorical_accuracy: 0.7949 - precision_2: 0.8482 - recall_2: 0.7416 - auc_2: 0.9789 - val_loss: 0.5374 - val_categorical_accuracy: 0.8148 - val_precision_2: 0.8596 - val_recall_2: 0.7705 - val_auc_2: 0.9817\n",
      "Epoch 3/50\n",
      "188/188 [==] - 40s 211ms/step - loss: 0.4906 - categorical_accuracy: 0.8278 - precision_2: 0.8685 - recall_2: 0.7890 - auc_2: 0.9847 - val_loss: 0.4796 - val_categorical_accuracy: 0.8336 - val_precision_2: 0.8693 - val_recall_2: 0.7994 - val_auc_2: 0.9851\n",
      "Epoch 4/50\n",
      "188/188 [==] - 40s 210ms/step - loss: 0.4405 - categorical_accuracy: 0.8436 - precision_2: 0.8780 - recall_2: 0.8118 - auc_2: 0.9872 - val_loss: 0.4434 - val_categorical_accuracy: 0.8480 - val_precision_2: 0.8833 - val_recall_2: 0.8130 - val_auc_2: 0.9871\n",
      "Epoch 5/50\n",
      "188/188 [==] - 40s 211ms/step - loss: 0.4082 - categorical_accuracy: 0.8581 - precision_2: 0.8877 - recall_2: 0.8278 - auc_2: 0.9888 - val_loss: 0.4223 - val_categorical_accuracy: 0.8539 - val_precision_2: 0.8854 - val_recall_2: 0.8245 - val_auc_2: 0.9880\n",
      "Epoch 6/50\n",
      "188/188 [==] - 40s 211ms/step - loss: 0.3821 - categorical_accuracy: 0.8648 - precision_2: 0.8936 - recall_2: 0.8394 - auc_2: 0.9900 - val_loss: 0.4015 - val_categorical_accuracy: 0.8603 - val_precision_2: 0.8879 - val_recall_2: 0.8351 - val_auc_2: 0.9889\n",
      "Epoch 7/50\n",
      "188/188 [==] - 40s 214ms/step - loss: 0.3634 - categorical_accuracy: 0.8706 - precision_2: 0.8977 - recall_2: 0.8467 - auc_2: 0.9909 - val_loss: 0.3928 - val_categorical_accuracy: 0.8619 - val_precision_2: 0.8891 - val_recall_2: 0.8412 - val_auc_2: 0.9891\n",
      "Epoch 8/50\n",
      "188/188 [==] - 40s 210ms/step - loss: 0.3469 - categorical_accuracy: 0.8771 - precision_2: 0.9018 - recall_2: 0.8542 - auc_2: 0.9916 - val_loss: 0.3853 - val_categorical_accuracy: 0.8633 - val_precision_2: 0.8872 - val_recall_2: 0.8444 - val_auc_2: 0.9895\n",
      "Epoch 9/50\n",
      "188/188 [==] - 40s 211ms/step - loss: 0.3321 - categorical_accuracy: 0.8825 - precision_2: 0.9057 - recall_2: 0.8612 - auc_2: 0.9922 - val_loss: 0.3684 - val_categorical_accuracy: 0.8742 - val_precision_2: 0.8971 - val_recall_2: 0.8522 - val_auc_2: 0.9904\n",
      "Epoch 10/50\n",
      "188/188 [==] - 40s 210ms/step - loss: 0.3197 - categorical_accuracy: 0.8870 - precision_2: 0.9083 - recall_2: 0.8670 - auc_2: 0.9928 - val_loss: 0.3606 - val_categorical_accuracy: 0.8758 - val_precision_2: 0.8993 - val_recall_2: 0.8580 - val_auc_2: 0.9904\n",
      "Epoch 11/50\n",
      "188/188 [==] - 39s 210ms/step - loss: 0.3094 - categorical_accuracy: 0.8907 - precision_2: 0.9108 - recall_2: 0.8713 - auc_2: 0.9932 - val_loss: 0.3557 - val_categorical_accuracy: 0.8758 - val_precision_2: 0.8972 - val_recall_2: 0.8575 - val_auc_2: 0.9908\n",
      "Epoch 12/50\n",
      "188/188 [==] - 40s 215ms/step - loss: 0.3017 - categorical_accuracy: 0.8940 - precision_2: 0.9143 - recall_2: 0.8747 - auc_2: 0.9935 - val_loss: 0.3521 - val_categorical_accuracy: 0.8802 - val_precision_2: 0.9006 - val_recall_2: 0.8625 - val_auc_2: 0.9906\n",
      "Epoch 13/50\n",
      "188/188 [==] - 40s 212ms/step - loss: 0.2910 - categorical_accuracy: 0.8967 - precision_2: 0.9156 - recall_2: 0.8790 - auc_2: 0.9939 - val_loss: 0.3444 - val_categorical_accuracy: 0.8818 - val_precision_2: 0.9021 - val_recall_2: 0.8640 - val_auc_2: 0.9912\n",
      "Epoch 14/50\n",
      "188/188 [==] - 40s 213ms/step - loss: 0.2845 - categorical_accuracy: 0.8995 - precision_2: 0.9179 - recall_2: 0.8827 - auc_2: 0.9943 - val_loss: 0.3375 - val_categorical_accuracy: 0.8832 - val_precision_2: 0.9039 - val_recall_2: 0.8683 - val_auc_2: 0.9912\n",
      "Epoch 15/50\n",
      "188/188 [==] - 40s 211ms/step - loss: 0.2759 - categorical_accuracy: 0.9023 - precision_2: 0.9201 - recall_2: 0.8851 - auc_2: 0.9944 - val_loss: 0.3365 - val_categorical_accuracy: 0.8848 - val_precision_2: 0.9030 - val_recall_2: 0.8669 - val_auc_2: 0.9913\n",
      "Epoch 16/50\n",
      "188/188 [==] - 39s 209ms/step - loss: 0.2697 - categorical_accuracy: 0.9040 - precision_2: 0.9215 - recall_2: 0.8884 - auc_2: 0.9948 - val_loss: 0.3390 - val_categorical_accuracy: 0.8830 - val_precision_2: 0.9030 - val_recall_2: 0.8668 - val_auc_2: 0.9917\n",
      "Epoch 17/50\n",
      "188/188 [==] - 39s 209ms/step - loss: 0.2625 - categorical_accuracy: 0.9077 - precision_2: 0.9251 - recall_2: 0.8926 - auc_2: 0.9950 - val_loss: 0.3235 - val_categorical_accuracy: 0.8896 - val_precision_2: 0.9083 - val_recall_2: 0.8721 - val_auc_2: 0.9921\n",
      "Epoch 18/50\n",
      "188/188 [==] - 39s 209ms/step - loss: 0.2579 - categorical_accuracy: 0.9091 - precision_2: 0.9252 - recall_2: 0.8939 - auc_2: 0.9952 - val_loss: 0.3241 - val_categorical_accuracy: 0.8872 - val_precision_2: 0.9037 - val_recall_2: 0.8731 - val_auc_2: 0.9918\n",
      "Epoch 19/50\n",
      "188/188 [==] - 40s 211ms/step - loss: 0.2525 - categorical_accuracy: 0.9103 - precision_2: 0.9257 - recall_2: 0.8964 - auc_2: 0.9953 - val_loss: 0.3192 - val_categorical_accuracy: 0.8894 - val_precision_2: 0.9077 - val_recall_2: 0.8752 - val_auc_2: 0.9923\n",
      "Epoch 20/50\n",
      "188/188 [==] - 39s 210ms/step - loss: 0.2453 - categorical_accuracy: 0.9138 - precision_2: 0.9291 - recall_2: 0.9003 - auc_2: 0.9956 - val_loss: 0.3228 - val_categorical_accuracy: 0.8893 - val_precision_2: 0.9057 - val_recall_2: 0.8767 - val_auc_2: 0.9918\n",
      "Epoch 21/50\n",
      "188/188 [==] - 40s 211ms/step - loss: 0.2427 - categorical_accuracy: 0.9144 - precision_2: 0.9293 - recall_2: 0.9009 - auc_2: 0.9956 - val_loss: 0.3241 - val_categorical_accuracy: 0.8882 - val_precision_2: 0.9054 - val_recall_2: 0.8751 - val_auc_2: 0.9917\n",
      "Epoch 22/50\n",
      "188/188 [==] - 40s 210ms/step - loss: 0.2364 - categorical_accuracy: 0.9166 - precision_2: 0.9310 - recall_2: 0.9031 - auc_2: 0.9958 - val_loss: 0.3184 - val_categorical_accuracy: 0.8881 - val_precision_2: 0.9030 - val_recall_2: 0.8754 - val_auc_2: 0.9923\n",
      "Epoch 23/50\n",
      "188/188 [==] - 40s 210ms/step - loss: 0.2335 - categorical_accuracy: 0.9174 - precision_2: 0.9317 - recall_2: 0.9044 - auc_2: 0.9960 - val_loss: 0.3151 - val_categorical_accuracy: 0.8906 - val_precision_2: 0.9062 - val_recall_2: 0.8774 - val_auc_2: 0.9922\n",
      "Epoch 24/50\n",
      "188/188 [==] - 39s 210ms/step - loss: 0.2291 - categorical_accuracy: 0.9196 - precision_2: 0.9330 - recall_2: 0.9076 - auc_2: 0.9962 - val_loss: 0.3185 - val_categorical_accuracy: 0.8912 - val_precision_2: 0.9047 - val_recall_2: 0.8786 - val_auc_2: 0.9923\n",
      "Epoch 25/50\n",
      "188/188 [==] - 39s 209ms/step - loss: 0.2232 - categorical_accuracy: 0.9210 - precision_2: 0.9352 - recall_2: 0.9092 - auc_2: 0.9963 - val_loss: 0.3159 - val_categorical_accuracy: 0.8904 - val_precision_2: 0.9059 - val_recall_2: 0.8784 - val_auc_2: 0.9920\n",
      "Epoch 26/50\n",
      "188/188 [==] - 39s 209ms/step - loss: 0.2195 - categorical_accuracy: 0.9220 - precision_2: 0.9358 - recall_2: 0.9113 - auc_2: 0.9964 - val_loss: 0.3118 - val_categorical_accuracy: 0.8907 - val_precision_2: 0.9057 - val_recall_2: 0.8790 - val_auc_2: 0.9924\n",
      "Epoch 27/50\n",
      "188/188 [==] - 40s 211ms/step - loss: 0.2157 - categorical_accuracy: 0.9240 - precision_2: 0.9366 - recall_2: 0.9131 - auc_2: 0.9966 - val_loss: 0.3041 - val_categorical_accuracy: 0.8959 - val_precision_2: 0.9117 - val_recall_2: 0.8857 - val_auc_2: 0.9925\n",
      "Epoch 28/50\n",
      "188/188 [==] - 39s 210ms/step - loss: 0.2121 - categorical_accuracy: 0.9253 - precision_2: 0.9387 - recall_2: 0.9136 - auc_2: 0.9966 - val_loss: 0.3072 - val_categorical_accuracy: 0.8954 - val_precision_2: 0.9095 - val_recall_2: 0.8848 - val_auc_2: 0.9925\n",
      "Epoch 29/50\n",
      "188/188 [==] - 40s 210ms/step - loss: 0.2099 - categorical_accuracy: 0.9257 - precision_2: 0.9386 - recall_2: 0.9151 - auc_2: 0.9966 - val_loss: 0.3098 - val_categorical_accuracy: 0.8928 - val_precision_2: 0.9063 - val_recall_2: 0.8811 - val_auc_2: 0.9922\n",
      "Epoch 30/50\n",
      "188/188 [==] - 39s 210ms/step - loss: 0.2074 - categorical_accuracy: 0.9269 - precision_2: 0.9392 - recall_2: 0.9160 - auc_2: 0.9968 - val_loss: 0.3059 - val_categorical_accuracy: 0.8943 - val_precision_2: 0.9076 - val_recall_2: 0.8828 - val_auc_2: 0.9922\n",
      "Epoch 31/50\n",
      "188/188 [==] - 40s 211ms/step - loss: 0.1998 - categorical_accuracy: 0.9297 - precision_2: 0.9418 - recall_2: 0.9199 - auc_2: 0.9970 - val_loss: 0.3081 - val_categorical_accuracy: 0.8944 - val_precision_2: 0.9067 - val_recall_2: 0.8837 - val_auc_2: 0.9923\n",
      "Epoch 32/50\n",
      "188/188 [==] - 39s 210ms/step - loss: 0.1964 - categorical_accuracy: 0.9314 - precision_2: 0.9428 - recall_2: 0.9222 - auc_2: 0.9971 - val_loss: 0.3298 - val_categorical_accuracy: 0.8853 - val_precision_2: 0.8974 - val_recall_2: 0.8750 - val_auc_2: 0.9914\n",
      "375/375 [==] - 3s 8ms/step - loss: 0.3298 - categorical_accuracy: 0.8853 - precision_2: 0.8974 - recall_2: 0.8750 - auc_2: 0.9914\n"
     ]
    },
    {
     "name": "stderr",
     "output_type": "stream",
     "text": [
      "3it [5:17:22, 6146.71s/it] "
     ]
    },
    {
     "name": "stdout",
     "output_type": "stream",
     "text": [
      "Epoch 1/50\n",
      "375/375 [==] - 45s 119ms/step - loss: 0.6850 - categorical_accuracy: 0.7636 - precision_3: 0.8459 - recall_3: 0.7009 - auc_3: 0.9732 - val_loss: 0.4215 - val_categorical_accuracy: 0.8477 - val_precision_3: 0.8742 - val_recall_3: 0.8198 - val_auc_3: 0.9881\n",
      "Epoch 2/50\n",
      "375/375 [==] - 44s 118ms/step - loss: 0.4164 - categorical_accuracy: 0.8480 - precision_3: 0.8781 - recall_3: 0.8190 - auc_3: 0.9888 - val_loss: 0.4220 - val_categorical_accuracy: 0.8489 - val_precision_3: 0.8727 - val_recall_3: 0.8294 - val_auc_3: 0.9875\n",
      "Epoch 3/50\n",
      "375/375 [==] - 44s 118ms/step - loss: 0.3919 - categorical_accuracy: 0.8552 - precision_3: 0.8817 - recall_3: 0.8313 - auc_3: 0.9898 - val_loss: 0.3657 - val_categorical_accuracy: 0.8626 - val_precision_3: 0.8914 - val_recall_3: 0.8364 - val_auc_3: 0.9913\n",
      "Epoch 4/50\n",
      "375/375 [==] - 44s 118ms/step - loss: 0.3754 - categorical_accuracy: 0.8618 - precision_3: 0.8866 - recall_3: 0.8387 - auc_3: 0.9906 - val_loss: 0.3769 - val_categorical_accuracy: 0.8641 - val_precision_3: 0.8839 - val_recall_3: 0.8444 - val_auc_3: 0.9902\n",
      "Epoch 5/50\n",
      "375/375 [==] - 44s 117ms/step - loss: 0.3804 - categorical_accuracy: 0.8587 - precision_3: 0.8831 - recall_3: 0.8366 - auc_3: 0.9904 - val_loss: 0.3657 - val_categorical_accuracy: 0.8643 - val_precision_3: 0.8862 - val_recall_3: 0.8448 - val_auc_3: 0.9910\n",
      "Epoch 6/50\n",
      "375/375 [==] - 44s 117ms/step - loss: 0.3730 - categorical_accuracy: 0.8644 - precision_3: 0.8882 - recall_3: 0.8424 - auc_3: 0.9907 - val_loss: 0.3773 - val_categorical_accuracy: 0.8600 - val_precision_3: 0.8849 - val_recall_3: 0.8388 - val_auc_3: 0.9903\n",
      "Epoch 7/50\n",
      "375/375 [==] - 44s 117ms/step - loss: 0.3761 - categorical_accuracy: 0.8619 - precision_3: 0.8846 - recall_3: 0.8396 - auc_3: 0.9905 - val_loss: 0.4723 - val_categorical_accuracy: 0.8234 - val_precision_3: 0.8550 - val_recall_3: 0.8018 - val_auc_3: 0.9853\n",
      "Epoch 8/50\n",
      "375/375 [==] - 44s 117ms/step - loss: 0.3731 - categorical_accuracy: 0.8629 - precision_3: 0.8860 - recall_3: 0.8425 - auc_3: 0.9906 - val_loss: 0.4382 - val_categorical_accuracy: 0.8403 - val_precision_3: 0.8645 - val_recall_3: 0.8158 - val_auc_3: 0.9871\n",
      "Epoch 9/50\n",
      "375/375 [==] - 44s 117ms/step - loss: 0.3742 - categorical_accuracy: 0.8612 - precision_3: 0.8842 - recall_3: 0.8399 - auc_3: 0.9905 - val_loss: 0.3629 - val_categorical_accuracy: 0.8646 - val_precision_3: 0.8858 - val_recall_3: 0.8476 - val_auc_3: 0.9910\n",
      "Epoch 10/50\n",
      "375/375 [==] - 44s 117ms/step - loss: 0.3729 - categorical_accuracy: 0.8618 - precision_3: 0.8855 - recall_3: 0.8412 - auc_3: 0.9907 - val_loss: 0.3976 - val_categorical_accuracy: 0.8539 - val_precision_3: 0.8811 - val_recall_3: 0.8236 - val_auc_3: 0.9893\n",
      "Epoch 11/50\n",
      "375/375 [==] - 44s 118ms/step - loss: 0.3797 - categorical_accuracy: 0.8606 - precision_3: 0.8828 - recall_3: 0.8382 - auc_3: 0.9903 - val_loss: 0.3838 - val_categorical_accuracy: 0.8576 - val_precision_3: 0.8879 - val_recall_3: 0.8267 - val_auc_3: 0.9903\n",
      "Epoch 12/50\n",
      "375/375 [==] - 44s 117ms/step - loss: 0.3793 - categorical_accuracy: 0.8597 - precision_3: 0.8847 - recall_3: 0.8370 - auc_3: 0.9902 - val_loss: 0.4307 - val_categorical_accuracy: 0.8397 - val_precision_3: 0.8716 - val_recall_3: 0.8127 - val_auc_3: 0.9880\n",
      "Epoch 13/50\n",
      "375/375 [==] - 44s 118ms/step - loss: 0.3873 - categorical_accuracy: 0.8566 - precision_3: 0.8817 - recall_3: 0.8345 - auc_3: 0.9901 - val_loss: 0.4192 - val_categorical_accuracy: 0.8508 - val_precision_3: 0.8705 - val_recall_3: 0.8332 - val_auc_3: 0.9877\n",
      "Epoch 14/50\n",
      "375/375 [==] - 44s 116ms/step - loss: 0.3820 - categorical_accuracy: 0.8578 - precision_3: 0.8815 - recall_3: 0.8349 - auc_3: 0.9902 - val_loss: 0.4107 - val_categorical_accuracy: 0.8516 - val_precision_3: 0.8862 - val_recall_3: 0.8128 - val_auc_3: 0.9894\n",
      "375/375 [==] - 3s 8ms/step - loss: 0.4107 - categorical_accuracy: 0.8516 - precision_3: 0.8862 - recall_3: 0.8128 - auc_3: 0.9894\n"
     ]
    },
    {
     "name": "stderr",
     "output_type": "stream",
     "text": [
      "4it [5:27:43, 3964.98s/it]"
     ]
    },
    {
     "name": "stdout",
     "output_type": "stream",
     "text": [
      "Epoch 1/50\n",
      "3000/3000 [==] - 61s 20ms/step - loss: 0.7359 - categorical_accuracy: 0.7337 - precision_4: 0.8078 - recall_4: 0.6590 - auc_4: 0.9692 - val_loss: 0.7103 - val_categorical_accuracy: 0.7444 - val_precision_4: 0.7870 - val_recall_4: 0.7160 - val_auc_4: 0.9712\n",
      "Epoch 2/50\n",
      "3000/3000 [==] - 59s 20ms/step - loss: 0.6055 - categorical_accuracy: 0.7746 - precision_4: 0.8223 - recall_4: 0.7240 - auc_4: 0.9777 - val_loss: 0.5709 - val_categorical_accuracy: 0.7963 - val_precision_4: 0.8379 - val_recall_4: 0.7517 - val_auc_4: 0.9805\n",
      "Epoch 3/50\n",
      "3000/3000 [==] - 59s 20ms/step - loss: 0.5625 - categorical_accuracy: 0.7912 - precision_4: 0.8328 - recall_4: 0.7488 - auc_4: 0.9807 - val_loss: 0.5523 - val_categorical_accuracy: 0.8023 - val_precision_4: 0.8352 - val_recall_4: 0.7676 - val_auc_4: 0.9807\n",
      "Epoch 4/50\n",
      "3000/3000 [==] - 59s 20ms/step - loss: 0.6072 - categorical_accuracy: 0.7750 - precision_4: 0.8245 - recall_4: 0.7251 - auc_4: 0.9777 - val_loss: 0.5881 - val_categorical_accuracy: 0.7822 - val_precision_4: 0.8238 - val_recall_4: 0.7432 - val_auc_4: 0.9790\n",
      "Epoch 5/50\n",
      "3000/3000 [==] - 60s 20ms/step - loss: 0.5697 - categorical_accuracy: 0.7872 - precision_4: 0.8326 - recall_4: 0.7431 - auc_4: 0.9802 - val_loss: 0.5601 - val_categorical_accuracy: 0.7948 - val_precision_4: 0.8547 - val_recall_4: 0.7300 - val_auc_4: 0.9819\n",
      "Epoch 6/50\n",
      "3000/3000 [==] - 60s 20ms/step - loss: 0.5877 - categorical_accuracy: 0.7829 - precision_4: 0.8286 - recall_4: 0.7368 - auc_4: 0.9791 - val_loss: 0.5783 - val_categorical_accuracy: 0.7842 - val_precision_4: 0.8365 - val_recall_4: 0.7353 - val_auc_4: 0.9798\n",
      "Epoch 7/50\n",
      "3000/3000 [==] - 60s 20ms/step - loss: 0.5866 - categorical_accuracy: 0.7811 - precision_4: 0.8239 - recall_4: 0.7362 - auc_4: 0.9791 - val_loss: 0.5680 - val_categorical_accuracy: 0.7862 - val_precision_4: 0.8343 - val_recall_4: 0.7361 - val_auc_4: 0.9807\n",
      "Epoch 8/50\n",
      "3000/3000 [==] - 60s 20ms/step - loss: 0.5911 - categorical_accuracy: 0.7785 - precision_4: 0.8221 - recall_4: 0.7344 - auc_4: 0.9788 - val_loss: 0.6223 - val_categorical_accuracy: 0.7597 - val_precision_4: 0.8044 - val_recall_4: 0.7156 - val_auc_4: 0.9768\n",
      "375/375 [==] - 3s 8ms/step - loss: 0.6223 - categorical_accuracy: 0.7597 - precision_4: 0.8044 - recall_4: 0.7156 - auc_4: 0.9768\n"
     ]
    },
    {
     "name": "stderr",
     "output_type": "stream",
     "text": [
      "5it [5:35:44, 2708.69s/it]"
     ]
    },
    {
     "name": "stdout",
     "output_type": "stream",
     "text": [
      "Epoch 1/50\n",
      "375/375 [==] - 45s 118ms/step - loss: 1.0630 - categorical_accuracy: 0.6595 - precision_5: 0.7804 - recall_5: 0.5623 - auc_5: 0.9359 - val_loss: 0.6252 - val_categorical_accuracy: 0.7832 - val_precision_5: 0.8410 - val_recall_5: 0.7225 - val_auc_5: 0.9764\n",
      "Epoch 2/50\n",
      "375/375 [==] - 44s 118ms/step - loss: 0.5375 - categorical_accuracy: 0.8107 - precision_5: 0.8569 - recall_5: 0.7660 - auc_5: 0.9821 - val_loss: 0.5238 - val_categorical_accuracy: 0.8194 - val_precision_5: 0.8597 - val_recall_5: 0.7794 - val_auc_5: 0.9825\n",
      "Epoch 3/50\n",
      "375/375 [==] - 44s 117ms/step - loss: 0.4579 - categorical_accuracy: 0.8366 - precision_5: 0.8730 - recall_5: 0.8000 - auc_5: 0.9867 - val_loss: 0.4645 - val_categorical_accuracy: 0.8382 - val_precision_5: 0.8740 - val_recall_5: 0.8006 - val_auc_5: 0.9859\n",
      "Epoch 4/50\n",
      "375/375 [==] - 44s 117ms/step - loss: 0.4140 - categorical_accuracy: 0.8526 - precision_5: 0.8832 - recall_5: 0.8212 - auc_5: 0.9887 - val_loss: 0.4314 - val_categorical_accuracy: 0.8484 - val_precision_5: 0.8790 - val_recall_5: 0.8190 - val_auc_5: 0.9876\n",
      "Epoch 5/50\n",
      "375/375 [==] - 44s 117ms/step - loss: 0.3839 - categorical_accuracy: 0.8619 - precision_5: 0.8903 - recall_5: 0.8349 - auc_5: 0.9902 - val_loss: 0.4122 - val_categorical_accuracy: 0.8587 - val_precision_5: 0.8864 - val_recall_5: 0.8328 - val_auc_5: 0.9881\n",
      "Epoch 6/50\n",
      "375/375 [==] - 695s 2s/step - loss: 0.3633 - categorical_accuracy: 0.8706 - precision_5: 0.8969 - recall_5: 0.8447 - auc_5: 0.9910 - val_loss: 0.3978 - val_categorical_accuracy: 0.8614 - val_precision_5: 0.8856 - val_recall_5: 0.8377 - val_auc_5: 0.9886\n",
      "Epoch 7/50\n",
      "375/375 [==] - 43s 116ms/step - loss: 0.3443 - categorical_accuracy: 0.8774 - precision_5: 0.9013 - recall_5: 0.8552 - auc_5: 0.9919 - val_loss: 0.3934 - val_categorical_accuracy: 0.8612 - val_precision_5: 0.8865 - val_recall_5: 0.8375 - val_auc_5: 0.9891\n",
      "Epoch 8/50\n",
      "375/375 [==] - 44s 117ms/step - loss: 0.3281 - categorical_accuracy: 0.8831 - precision_5: 0.9056 - recall_5: 0.8614 - auc_5: 0.9926 - val_loss: 0.3728 - val_categorical_accuracy: 0.8696 - val_precision_5: 0.8916 - val_recall_5: 0.8546 - val_auc_5: 0.9901\n",
      "Epoch 9/50\n",
      "375/375 [==] - 44s 117ms/step - loss: 0.3131 - categorical_accuracy: 0.8875 - precision_5: 0.9089 - recall_5: 0.8681 - auc_5: 0.9932 - val_loss: 0.3584 - val_categorical_accuracy: 0.8744 - val_precision_5: 0.8966 - val_recall_5: 0.8582 - val_auc_5: 0.9906\n",
      "Epoch 10/50\n",
      "375/375 [==] - 45s 120ms/step - loss: 0.3011 - categorical_accuracy: 0.8923 - precision_5: 0.9129 - recall_5: 0.8742 - auc_5: 0.9937 - val_loss: 0.3489 - val_categorical_accuracy: 0.8780 - val_precision_5: 0.8983 - val_recall_5: 0.8622 - val_auc_5: 0.9910\n",
      "Epoch 11/50\n",
      "375/375 [==] - 48s 127ms/step - loss: 0.2920 - categorical_accuracy: 0.8956 - precision_5: 0.9147 - recall_5: 0.8779 - auc_5: 0.9941 - val_loss: 0.3403 - val_categorical_accuracy: 0.8817 - val_precision_5: 0.9016 - val_recall_5: 0.8659 - val_auc_5: 0.9915\n",
      "Epoch 12/50\n",
      "375/375 [==] - 45s 120ms/step - loss: 0.2826 - categorical_accuracy: 0.8976 - precision_5: 0.9161 - recall_5: 0.8821 - auc_5: 0.9944 - val_loss: 0.3379 - val_categorical_accuracy: 0.8821 - val_precision_5: 0.9016 - val_recall_5: 0.8664 - val_auc_5: 0.9917\n",
      "Epoch 13/50\n",
      "375/375 [==] - 45s 121ms/step - loss: 0.2722 - categorical_accuracy: 0.9033 - precision_5: 0.9213 - recall_5: 0.8871 - auc_5: 0.9947 - val_loss: 0.3298 - val_categorical_accuracy: 0.8853 - val_precision_5: 0.9041 - val_recall_5: 0.8687 - val_auc_5: 0.9918\n",
      "Epoch 14/50\n",
      "375/375 [==] - 45s 119ms/step - loss: 0.2657 - categorical_accuracy: 0.9043 - precision_5: 0.9214 - recall_5: 0.8891 - auc_5: 0.9951 - val_loss: 0.3306 - val_categorical_accuracy: 0.8837 - val_precision_5: 0.9031 - val_recall_5: 0.8687 - val_auc_5: 0.9917\n",
      "Epoch 15/50\n",
      "375/375 [==] - 45s 119ms/step - loss: 0.2583 - categorical_accuracy: 0.9079 - precision_5: 0.9240 - recall_5: 0.8927 - auc_5: 0.9954 - val_loss: 0.3262 - val_categorical_accuracy: 0.8875 - val_precision_5: 0.9042 - val_recall_5: 0.8748 - val_auc_5: 0.9921\n",
      "Epoch 16/50\n",
      "375/375 [==] - 44s 119ms/step - loss: 0.2521 - categorical_accuracy: 0.9095 - precision_5: 0.9248 - recall_5: 0.8949 - auc_5: 0.9954 - val_loss: 0.3189 - val_categorical_accuracy: 0.8859 - val_precision_5: 0.9054 - val_recall_5: 0.8723 - val_auc_5: 0.9927\n",
      "Epoch 17/50\n",
      "375/375 [==] - 45s 119ms/step - loss: 0.2462 - categorical_accuracy: 0.9117 - precision_5: 0.9257 - recall_5: 0.8980 - auc_5: 0.9956 - val_loss: 0.3167 - val_categorical_accuracy: 0.8883 - val_precision_5: 0.9033 - val_recall_5: 0.8762 - val_auc_5: 0.9922\n",
      "Epoch 18/50\n",
      "375/375 [==] - 45s 119ms/step - loss: 0.2411 - categorical_accuracy: 0.9128 - precision_5: 0.9276 - recall_5: 0.8995 - auc_5: 0.9958 - val_loss: 0.3129 - val_categorical_accuracy: 0.8903 - val_precision_5: 0.9042 - val_recall_5: 0.8782 - val_auc_5: 0.9928\n",
      "Epoch 19/50\n",
      "375/375 [==] - 45s 119ms/step - loss: 0.2343 - categorical_accuracy: 0.9158 - precision_5: 0.9295 - recall_5: 0.9034 - auc_5: 0.9961 - val_loss: 0.3068 - val_categorical_accuracy: 0.8914 - val_precision_5: 0.9057 - val_recall_5: 0.8799 - val_auc_5: 0.9927\n",
      "Epoch 20/50\n",
      "375/375 [==] - 45s 120ms/step - loss: 0.2274 - categorical_accuracy: 0.9184 - precision_5: 0.9320 - recall_5: 0.9066 - auc_5: 0.9962 - val_loss: 0.3114 - val_categorical_accuracy: 0.8915 - val_precision_5: 0.9060 - val_recall_5: 0.8792 - val_auc_5: 0.9925\n",
      "Epoch 21/50\n",
      "375/375 [==] - 45s 119ms/step - loss: 0.2240 - categorical_accuracy: 0.9202 - precision_5: 0.9325 - recall_5: 0.9086 - auc_5: 0.9963 - val_loss: 0.3069 - val_categorical_accuracy: 0.8926 - val_precision_5: 0.9094 - val_recall_5: 0.8798 - val_auc_5: 0.9927\n",
      "Epoch 22/50\n",
      "375/375 [==] - 45s 119ms/step - loss: 0.2178 - categorical_accuracy: 0.9221 - precision_5: 0.9352 - recall_5: 0.9112 - auc_5: 0.9964 - val_loss: 0.3068 - val_categorical_accuracy: 0.8947 - val_precision_5: 0.9079 - val_recall_5: 0.8851 - val_auc_5: 0.9926\n",
      "Epoch 23/50\n",
      "375/375 [==] - 45s 119ms/step - loss: 0.2138 - categorical_accuracy: 0.9227 - precision_5: 0.9352 - recall_5: 0.9124 - auc_5: 0.9966 - val_loss: 0.3001 - val_categorical_accuracy: 0.8951 - val_precision_5: 0.9081 - val_recall_5: 0.8850 - val_auc_5: 0.9931\n",
      "Epoch 24/50\n",
      "375/375 [==] - 44s 119ms/step - loss: 0.2093 - categorical_accuracy: 0.9249 - precision_5: 0.9363 - recall_5: 0.9139 - auc_5: 0.9967 - val_loss: 0.3086 - val_categorical_accuracy: 0.8910 - val_precision_5: 0.9040 - val_recall_5: 0.8813 - val_auc_5: 0.9924\n",
      "Epoch 25/50\n",
      "375/375 [==] - 45s 119ms/step - loss: 0.2042 - categorical_accuracy: 0.9269 - precision_5: 0.9378 - recall_5: 0.9160 - auc_5: 0.9968 - val_loss: 0.3066 - val_categorical_accuracy: 0.8927 - val_precision_5: 0.9060 - val_recall_5: 0.8823 - val_auc_5: 0.9924\n",
      "Epoch 26/50\n",
      "375/375 [==] - 44s 119ms/step - loss: 0.1997 - categorical_accuracy: 0.9280 - precision_5: 0.9396 - recall_5: 0.9172 - auc_5: 0.9969 - val_loss: 0.3040 - val_categorical_accuracy: 0.8953 - val_precision_5: 0.9070 - val_recall_5: 0.8858 - val_auc_5: 0.9926\n",
      "Epoch 27/50\n",
      "375/375 [==] - 45s 120ms/step - loss: 0.1958 - categorical_accuracy: 0.9301 - precision_5: 0.9403 - recall_5: 0.9199 - auc_5: 0.9970 - val_loss: 0.3091 - val_categorical_accuracy: 0.8933 - val_precision_5: 0.9065 - val_recall_5: 0.8809 - val_auc_5: 0.9924\n",
      "Epoch 28/50\n",
      "375/375 [==] - 44s 119ms/step - loss: 0.1922 - categorical_accuracy: 0.9312 - precision_5: 0.9423 - recall_5: 0.9218 - auc_5: 0.9972 - val_loss: 0.2962 - val_categorical_accuracy: 0.8972 - val_precision_5: 0.9092 - val_recall_5: 0.8878 - val_auc_5: 0.9928\n",
      "Epoch 29/50\n",
      "375/375 [==] - 44s 118ms/step - loss: 0.1876 - categorical_accuracy: 0.9323 - precision_5: 0.9423 - recall_5: 0.9236 - auc_5: 0.9973 - val_loss: 0.3020 - val_categorical_accuracy: 0.8923 - val_precision_5: 0.9064 - val_recall_5: 0.8826 - val_auc_5: 0.9927\n",
      "Epoch 30/50\n",
      "375/375 [==] - 45s 119ms/step - loss: 0.1840 - categorical_accuracy: 0.9340 - precision_5: 0.9436 - recall_5: 0.9252 - auc_5: 0.9974 - val_loss: 0.3003 - val_categorical_accuracy: 0.8957 - val_precision_5: 0.9076 - val_recall_5: 0.8864 - val_auc_5: 0.9926\n",
      "Epoch 31/50\n",
      "375/375 [==] - 44s 119ms/step - loss: 0.1808 - categorical_accuracy: 0.9356 - precision_5: 0.9443 - recall_5: 0.9264 - auc_5: 0.9975 - val_loss: 0.2992 - val_categorical_accuracy: 0.8972 - val_precision_5: 0.9097 - val_recall_5: 0.8882 - val_auc_5: 0.9925\n",
      "Epoch 32/50\n",
      "375/375 [==] - 44s 118ms/step - loss: 0.1766 - categorical_accuracy: 0.9356 - precision_5: 0.9453 - recall_5: 0.9267 - auc_5: 0.9975 - val_loss: 0.3014 - val_categorical_accuracy: 0.8986 - val_precision_5: 0.9096 - val_recall_5: 0.8911 - val_auc_5: 0.9919\n",
      "Epoch 33/50\n",
      "375/375 [==] - 45s 119ms/step - loss: 0.1731 - categorical_accuracy: 0.9381 - precision_5: 0.9471 - recall_5: 0.9295 - auc_5: 0.9977 - val_loss: 0.2933 - val_categorical_accuracy: 0.9005 - val_precision_5: 0.9111 - val_recall_5: 0.8898 - val_auc_5: 0.9927\n",
      "Epoch 34/50\n",
      "375/375 [==] - 45s 119ms/step - loss: 0.1693 - categorical_accuracy: 0.9395 - precision_5: 0.9485 - recall_5: 0.9312 - auc_5: 0.9978 - val_loss: 0.3033 - val_categorical_accuracy: 0.8962 - val_precision_5: 0.9065 - val_recall_5: 0.8871 - val_auc_5: 0.9921\n",
      "Epoch 35/50\n",
      "375/375 [==] - 44s 118ms/step - loss: 0.1664 - categorical_accuracy: 0.9398 - precision_5: 0.9484 - recall_5: 0.9316 - auc_5: 0.9979 - val_loss: 0.3021 - val_categorical_accuracy: 0.8981 - val_precision_5: 0.9096 - val_recall_5: 0.8907 - val_auc_5: 0.9921\n",
      "Epoch 36/50\n",
      "375/375 [==] - 45s 119ms/step - loss: 0.1622 - categorical_accuracy: 0.9419 - precision_5: 0.9502 - recall_5: 0.9341 - auc_5: 0.9980 - val_loss: 0.3007 - val_categorical_accuracy: 0.8984 - val_precision_5: 0.9099 - val_recall_5: 0.8907 - val_auc_5: 0.9917\n",
      "Epoch 37/50\n",
      "375/375 [==] - 44s 118ms/step - loss: 0.1602 - categorical_accuracy: 0.9428 - precision_5: 0.9512 - recall_5: 0.9350 - auc_5: 0.9979 - val_loss: 0.2993 - val_categorical_accuracy: 0.9009 - val_precision_5: 0.9103 - val_recall_5: 0.8922 - val_auc_5: 0.9918\n",
      "Epoch 38/50\n",
      "375/375 [==] - 44s 119ms/step - loss: 0.1552 - categorical_accuracy: 0.9449 - precision_5: 0.9531 - recall_5: 0.9377 - auc_5: 0.9981 - val_loss: 0.3095 - val_categorical_accuracy: 0.8961 - val_precision_5: 0.9071 - val_recall_5: 0.8889 - val_auc_5: 0.9916\n",
      "375/375 [==] - 3s 8ms/step - loss: 0.3095 - categorical_accuracy: 0.8961 - precision_5: 0.9071 - recall_5: 0.8889 - auc_5: 0.9916\n"
     ]
    },
    {
     "name": "stderr",
     "output_type": "stream",
     "text": [
      "6it [6:14:51, 2585.59s/it]"
     ]
    },
    {
     "name": "stdout",
     "output_type": "stream",
     "text": [
      "Epoch 1/50\n",
      "750/750 [==] - 54s 71ms/step - loss: 0.5927 - categorical_accuracy: 0.8065 - precision_6: 0.8571 - recall_6: 0.7597 - auc_6: 0.9793 - val_loss: 0.3600 - val_categorical_accuracy: 0.8742 - val_precision_6: 0.8998 - val_recall_6: 0.8438 - val_auc_6: 0.9914\n",
      "Epoch 2/50\n",
      "750/750 [==] - 52s 69ms/step - loss: 0.3374 - categorical_accuracy: 0.8797 - precision_6: 0.9023 - recall_6: 0.8587 - auc_6: 0.9921 - val_loss: 0.3367 - val_categorical_accuracy: 0.8782 - val_precision_6: 0.8981 - val_recall_6: 0.8599 - val_auc_6: 0.9917\n",
      "Epoch 3/50\n",
      "750/750 [==] - 52s 69ms/step - loss: 0.2921 - categorical_accuracy: 0.8957 - precision_6: 0.9127 - recall_6: 0.8800 - auc_6: 0.9939 - val_loss: 0.3014 - val_categorical_accuracy: 0.8938 - val_precision_6: 0.9112 - val_recall_6: 0.8788 - val_auc_6: 0.9934\n",
      "Epoch 4/50\n",
      "750/750 [==] - 52s 69ms/step - loss: 0.2709 - categorical_accuracy: 0.9015 - precision_6: 0.9167 - recall_6: 0.8877 - auc_6: 0.9946 - val_loss: 0.2914 - val_categorical_accuracy: 0.8977 - val_precision_6: 0.9114 - val_recall_6: 0.8863 - val_auc_6: 0.9930\n",
      "Epoch 5/50\n",
      "750/750 [==] - 52s 69ms/step - loss: 0.2516 - categorical_accuracy: 0.9084 - precision_6: 0.9224 - recall_6: 0.8957 - auc_6: 0.9952 - val_loss: 0.2895 - val_categorical_accuracy: 0.8997 - val_precision_6: 0.9130 - val_recall_6: 0.8899 - val_auc_6: 0.9927\n",
      "Epoch 6/50\n",
      "750/750 [==] - 52s 69ms/step - loss: 0.2346 - categorical_accuracy: 0.9155 - precision_6: 0.9273 - recall_6: 0.9049 - auc_6: 0.9958 - val_loss: 0.2777 - val_categorical_accuracy: 0.9026 - val_precision_6: 0.9154 - val_recall_6: 0.8923 - val_auc_6: 0.9935\n",
      "Epoch 7/50\n",
      "750/750 [==] - 52s 69ms/step - loss: 0.2235 - categorical_accuracy: 0.9179 - precision_6: 0.9299 - recall_6: 0.9076 - auc_6: 0.9961 - val_loss: 0.2654 - val_categorical_accuracy: 0.9061 - val_precision_6: 0.9195 - val_recall_6: 0.8935 - val_auc_6: 0.9946\n",
      "Epoch 8/50\n",
      "750/750 [==] - 52s 69ms/step - loss: 0.2117 - categorical_accuracy: 0.9225 - precision_6: 0.9324 - recall_6: 0.9131 - auc_6: 0.9966 - val_loss: 0.2860 - val_categorical_accuracy: 0.8968 - val_precision_6: 0.9096 - val_recall_6: 0.8882 - val_auc_6: 0.9936\n",
      "Epoch 9/50\n",
      "750/750 [==] - 52s 69ms/step - loss: 0.1981 - categorical_accuracy: 0.9281 - precision_6: 0.9372 - recall_6: 0.9197 - auc_6: 0.9968 - val_loss: 0.2751 - val_categorical_accuracy: 0.9028 - val_precision_6: 0.9146 - val_recall_6: 0.8951 - val_auc_6: 0.9933\n",
      "Epoch 10/50\n",
      "750/750 [==] - 52s 69ms/step - loss: 0.1907 - categorical_accuracy: 0.9294 - precision_6: 0.9384 - recall_6: 0.9217 - auc_6: 0.9970 - val_loss: 0.2766 - val_categorical_accuracy: 0.9065 - val_precision_6: 0.9158 - val_recall_6: 0.8994 - val_auc_6: 0.9926\n",
      "Epoch 11/50\n",
      "750/750 [==] - 52s 69ms/step - loss: 0.1804 - categorical_accuracy: 0.9338 - precision_6: 0.9420 - recall_6: 0.9270 - auc_6: 0.9973 - val_loss: 0.2720 - val_categorical_accuracy: 0.9096 - val_precision_6: 0.9166 - val_recall_6: 0.9025 - val_auc_6: 0.9929\n",
      "Epoch 12/50\n",
      "750/750 [==] - 52s 69ms/step - loss: 0.1702 - categorical_accuracy: 0.9374 - precision_6: 0.9449 - recall_6: 0.9314 - auc_6: 0.9975 - val_loss: 0.2928 - val_categorical_accuracy: 0.9064 - val_precision_6: 0.9117 - val_recall_6: 0.9022 - val_auc_6: 0.9915\n",
      "375/375 [==] - 3s 8ms/step - loss: 0.2928 - categorical_accuracy: 0.9064 - precision_6: 0.9117 - recall_6: 0.9022 - auc_6: 0.9915\n"
     ]
    },
    {
     "name": "stderr",
     "output_type": "stream",
     "text": [
      "7it [6:25:18, 1945.29s/it]"
     ]
    },
    {
     "name": "stdout",
     "output_type": "stream",
     "text": [
      "Epoch 1/50\n",
      "1500/1500 [==] - 23485s 16s/step - loss: 0.8103 - categorical_accuracy: 0.7007 - precision_7: 0.8247 - recall_7: 0.6041 - auc_7: 0.9628 - val_loss: 0.5310 - val_categorical_accuracy: 0.7992 - val_precision_7: 0.8410 - val_recall_7: 0.7602 - val_auc_7: 0.9825\n",
      "Epoch 2/50\n",
      "1500/1500 [==] - 55s 37ms/step - loss: 0.5071 - categorical_accuracy: 0.8123 - precision_7: 0.8521 - recall_7: 0.7750 - auc_7: 0.9840 - val_loss: 0.5278 - val_categorical_accuracy: 0.8060 - val_precision_7: 0.8504 - val_recall_7: 0.7667 - val_auc_7: 0.9825\n",
      "Epoch 3/50\n",
      "1500/1500 [==] - 55s 37ms/step - loss: 0.4986 - categorical_accuracy: 0.8155 - precision_7: 0.8514 - recall_7: 0.7790 - auc_7: 0.9844 - val_loss: 0.5046 - val_categorical_accuracy: 0.8106 - val_precision_7: 0.8369 - val_recall_7: 0.7870 - val_auc_7: 0.9842\n",
      "Epoch 4/50\n",
      "1500/1500 [==] - 62s 42ms/step - loss: 0.4952 - categorical_accuracy: 0.8146 - precision_7: 0.8504 - recall_7: 0.7813 - auc_7: 0.9847 - val_loss: 0.4953 - val_categorical_accuracy: 0.8224 - val_precision_7: 0.8470 - val_recall_7: 0.8016 - val_auc_7: 0.9836\n",
      "Epoch 5/50\n",
      "1500/1500 [==] - 62s 41ms/step - loss: 0.4936 - categorical_accuracy: 0.8178 - precision_7: 0.8527 - recall_7: 0.7838 - auc_7: 0.9848 - val_loss: 0.4855 - val_categorical_accuracy: 0.8189 - val_precision_7: 0.8538 - val_recall_7: 0.7804 - val_auc_7: 0.9850\n",
      "Epoch 6/50\n",
      "1500/1500 [==] - 61s 40ms/step - loss: 0.4794 - categorical_accuracy: 0.8203 - precision_7: 0.8548 - recall_7: 0.7891 - auc_7: 0.9857 - val_loss: 0.4960 - val_categorical_accuracy: 0.8183 - val_precision_7: 0.8480 - val_recall_7: 0.7945 - val_auc_7: 0.9840\n",
      "Epoch 7/50\n",
      "1500/1500 [==] - 57s 38ms/step - loss: 0.4772 - categorical_accuracy: 0.8231 - precision_7: 0.8565 - recall_7: 0.7916 - auc_7: 0.9856 - val_loss: 0.4995 - val_categorical_accuracy: 0.8124 - val_precision_7: 0.8471 - val_recall_7: 0.7797 - val_auc_7: 0.9840\n",
      "Epoch 8/50\n",
      "1500/1500 [==] - 57s 38ms/step - loss: 0.4982 - categorical_accuracy: 0.8155 - precision_7: 0.8506 - recall_7: 0.7815 - auc_7: 0.9846 - val_loss: 0.4964 - val_categorical_accuracy: 0.8199 - val_precision_7: 0.8489 - val_recall_7: 0.7904 - val_auc_7: 0.9841\n",
      "Epoch 9/50\n",
      "1500/1500 [==] - 55s 37ms/step - loss: 0.4920 - categorical_accuracy: 0.8162 - precision_7: 0.8501 - recall_7: 0.7820 - auc_7: 0.9848 - val_loss: 0.5427 - val_categorical_accuracy: 0.7918 - val_precision_7: 0.8348 - val_recall_7: 0.7483 - val_auc_7: 0.9817\n",
      "Epoch 10/50\n",
      "1500/1500 [==] - 59s 39ms/step - loss: 0.4825 - categorical_accuracy: 0.8186 - precision_7: 0.8538 - recall_7: 0.7862 - auc_7: 0.9855 - val_loss: 0.5273 - val_categorical_accuracy: 0.8033 - val_precision_7: 0.8400 - val_recall_7: 0.7673 - val_auc_7: 0.9826\n",
      "375/375 [==] - 3s 8ms/step - loss: 0.5273 - categorical_accuracy: 0.8033 - precision_7: 0.8400 - recall_7: 0.7673 - auc_7: 0.9826\n"
     ]
    },
    {
     "name": "stderr",
     "output_type": "stream",
     "text": [
      "8it [13:05:29, 8969.97s/it]"
     ]
    },
    {
     "name": "stdout",
     "output_type": "stream",
     "text": [
      "Epoch 1/50\n",
      "94/94 [==] - 38s 392ms/step - loss: 2.1370 - categorical_accuracy: 0.4201 - precision_8: 0.5493 - recall_8: 0.2448 - auc_8: 0.8026 - val_loss: 1.1093 - val_categorical_accuracy: 0.6182 - val_precision_8: 0.7653 - val_recall_8: 0.4608 - val_auc_8: 0.9301\n",
      "Epoch 2/50\n",
      "94/94 [==] - 36s 384ms/step - loss: 0.8863 - categorical_accuracy: 0.6966 - precision_8: 0.8047 - recall_8: 0.5880 - auc_8: 0.9548 - val_loss: 0.7507 - val_categorical_accuracy: 0.7442 - val_precision_8: 0.8211 - val_recall_8: 0.6622 - val_auc_8: 0.9666\n",
      "Epoch 3/50\n",
      "94/94 [==] - 36s 388ms/step - loss: 0.6621 - categorical_accuracy: 0.7722 - precision_8: 0.8403 - recall_8: 0.7055 - auc_8: 0.9737 - val_loss: 0.6187 - val_categorical_accuracy: 0.7883 - val_precision_8: 0.8484 - val_recall_8: 0.7284 - val_auc_8: 0.9766\n",
      "Epoch 4/50\n",
      "94/94 [==] - 36s 385ms/step - loss: 0.5637 - categorical_accuracy: 0.8045 - precision_8: 0.8562 - recall_8: 0.7545 - auc_8: 0.9803 - val_loss: 0.5524 - val_categorical_accuracy: 0.8098 - val_precision_8: 0.8583 - val_recall_8: 0.7618 - val_auc_8: 0.9813\n",
      "Epoch 5/50\n",
      "94/94 [==] - 36s 384ms/step - loss: 0.5077 - categorical_accuracy: 0.8228 - precision_8: 0.8680 - recall_8: 0.7814 - auc_8: 0.9837 - val_loss: 0.5093 - val_categorical_accuracy: 0.8252 - val_precision_8: 0.8675 - val_recall_8: 0.7832 - val_auc_8: 0.9837\n",
      "Epoch 6/50\n",
      "94/94 [==] - 36s 384ms/step - loss: 0.4711 - categorical_accuracy: 0.8348 - precision_8: 0.8741 - recall_8: 0.7990 - auc_8: 0.9857 - val_loss: 0.4804 - val_categorical_accuracy: 0.8338 - val_precision_8: 0.8707 - val_recall_8: 0.7965 - val_auc_8: 0.9853\n",
      "Epoch 7/50\n",
      "94/94 [==] - 36s 384ms/step - loss: 0.4433 - categorical_accuracy: 0.8432 - precision_8: 0.8796 - recall_8: 0.8102 - auc_8: 0.9872 - val_loss: 0.4562 - val_categorical_accuracy: 0.8450 - val_precision_8: 0.8770 - val_recall_8: 0.8108 - val_auc_8: 0.9864\n",
      "Epoch 8/50\n",
      "94/94 [==] - 37s 390ms/step - loss: 0.4233 - categorical_accuracy: 0.8502 - precision_8: 0.8830 - recall_8: 0.8204 - auc_8: 0.9881 - val_loss: 0.4428 - val_categorical_accuracy: 0.8506 - val_precision_8: 0.8791 - val_recall_8: 0.8179 - val_auc_8: 0.9871\n",
      "Epoch 9/50\n",
      "94/94 [==] - 36s 386ms/step - loss: 0.4059 - categorical_accuracy: 0.8568 - precision_8: 0.8879 - recall_8: 0.8275 - auc_8: 0.9891 - val_loss: 0.4385 - val_categorical_accuracy: 0.8529 - val_precision_8: 0.8807 - val_recall_8: 0.8250 - val_auc_8: 0.9871\n",
      "Epoch 10/50\n",
      "94/94 [==] - 37s 389ms/step - loss: 0.3913 - categorical_accuracy: 0.8621 - precision_8: 0.8914 - recall_8: 0.8349 - auc_8: 0.9898 - val_loss: 0.4196 - val_categorical_accuracy: 0.8573 - val_precision_8: 0.8841 - val_recall_8: 0.8314 - val_auc_8: 0.9882\n",
      "Epoch 11/50\n",
      "94/94 [==] - 36s 385ms/step - loss: 0.3785 - categorical_accuracy: 0.8662 - precision_8: 0.8946 - recall_8: 0.8401 - auc_8: 0.9903 - val_loss: 0.4072 - val_categorical_accuracy: 0.8618 - val_precision_8: 0.8893 - val_recall_8: 0.8329 - val_auc_8: 0.9889\n",
      "Epoch 12/50\n",
      "94/94 [==] - 36s 385ms/step - loss: 0.3681 - categorical_accuracy: 0.8689 - precision_8: 0.8961 - recall_8: 0.8437 - auc_8: 0.9909 - val_loss: 0.3977 - val_categorical_accuracy: 0.8628 - val_precision_8: 0.8909 - val_recall_8: 0.8383 - val_auc_8: 0.9893\n",
      "Epoch 13/50\n",
      "94/94 [==] - 37s 390ms/step - loss: 0.3593 - categorical_accuracy: 0.8720 - precision_8: 0.8979 - recall_8: 0.8484 - auc_8: 0.9912 - val_loss: 0.3927 - val_categorical_accuracy: 0.8666 - val_precision_8: 0.8913 - val_recall_8: 0.8418 - val_auc_8: 0.9895\n",
      "Epoch 14/50\n",
      "94/94 [==] - 38s 405ms/step - loss: 0.3484 - categorical_accuracy: 0.8766 - precision_8: 0.9010 - recall_8: 0.8535 - auc_8: 0.9917 - val_loss: 0.3836 - val_categorical_accuracy: 0.8686 - val_precision_8: 0.8940 - val_recall_8: 0.8451 - val_auc_8: 0.9898\n",
      "Epoch 15/50\n",
      "94/94 [==] - 41s 432ms/step - loss: 0.3401 - categorical_accuracy: 0.8794 - precision_8: 0.9026 - recall_8: 0.8561 - auc_8: 0.9920 - val_loss: 0.3802 - val_categorical_accuracy: 0.8722 - val_precision_8: 0.8946 - val_recall_8: 0.8504 - val_auc_8: 0.9899\n",
      "Epoch 16/50\n",
      "94/94 [==] - 39s 414ms/step - loss: 0.3323 - categorical_accuracy: 0.8816 - precision_8: 0.9042 - recall_8: 0.8603 - auc_8: 0.9923 - val_loss: 0.3749 - val_categorical_accuracy: 0.8714 - val_precision_8: 0.8960 - val_recall_8: 0.8512 - val_auc_8: 0.9901\n",
      "Epoch 17/50\n",
      "94/94 [==] - 36s 386ms/step - loss: 0.3255 - categorical_accuracy: 0.8832 - precision_8: 0.9067 - recall_8: 0.8635 - auc_8: 0.9926 - val_loss: 0.3714 - val_categorical_accuracy: 0.8739 - val_precision_8: 0.8939 - val_recall_8: 0.8525 - val_auc_8: 0.9903\n",
      "Epoch 18/50\n",
      "94/94 [==] - 37s 392ms/step - loss: 0.3193 - categorical_accuracy: 0.8857 - precision_8: 0.9073 - recall_8: 0.8659 - auc_8: 0.9928 - val_loss: 0.3686 - val_categorical_accuracy: 0.8717 - val_precision_8: 0.8961 - val_recall_8: 0.8533 - val_auc_8: 0.9902\n",
      "Epoch 19/50\n",
      "94/94 [==] - 38s 409ms/step - loss: 0.3121 - categorical_accuracy: 0.8883 - precision_8: 0.9099 - recall_8: 0.8687 - auc_8: 0.9932 - val_loss: 0.3601 - val_categorical_accuracy: 0.8762 - val_precision_8: 0.8984 - val_recall_8: 0.8580 - val_auc_8: 0.9906\n",
      "Epoch 20/50\n",
      "94/94 [==] - 36s 389ms/step - loss: 0.3058 - categorical_accuracy: 0.8895 - precision_8: 0.9099 - recall_8: 0.8712 - auc_8: 0.9934 - val_loss: 0.3654 - val_categorical_accuracy: 0.8748 - val_precision_8: 0.8971 - val_recall_8: 0.8558 - val_auc_8: 0.9903\n",
      "Epoch 21/50\n",
      "94/94 [==] - 36s 386ms/step - loss: 0.3000 - categorical_accuracy: 0.8927 - precision_8: 0.9130 - recall_8: 0.8746 - auc_8: 0.9936 - val_loss: 0.3553 - val_categorical_accuracy: 0.8761 - val_precision_8: 0.8970 - val_recall_8: 0.8571 - val_auc_8: 0.9907\n",
      "Epoch 22/50\n",
      "94/94 [==] - 36s 387ms/step - loss: 0.2929 - categorical_accuracy: 0.8956 - precision_8: 0.9147 - recall_8: 0.8779 - auc_8: 0.9939 - val_loss: 0.3506 - val_categorical_accuracy: 0.8815 - val_precision_8: 0.9013 - val_recall_8: 0.8637 - val_auc_8: 0.9908\n",
      "Epoch 23/50\n",
      "94/94 [==] - 36s 385ms/step - loss: 0.2883 - categorical_accuracy: 0.8969 - precision_8: 0.9159 - recall_8: 0.8796 - auc_8: 0.9939 - val_loss: 0.3456 - val_categorical_accuracy: 0.8805 - val_precision_8: 0.9029 - val_recall_8: 0.8636 - val_auc_8: 0.9910\n",
      "Epoch 24/50\n",
      "94/94 [==] - 37s 393ms/step - loss: 0.2837 - categorical_accuracy: 0.8982 - precision_8: 0.9169 - recall_8: 0.8818 - auc_8: 0.9942 - val_loss: 0.3435 - val_categorical_accuracy: 0.8830 - val_precision_8: 0.9015 - val_recall_8: 0.8661 - val_auc_8: 0.9912\n",
      "Epoch 25/50\n",
      "94/94 [==] - 37s 393ms/step - loss: 0.2787 - categorical_accuracy: 0.8999 - precision_8: 0.9182 - recall_8: 0.8841 - auc_8: 0.9944 - val_loss: 0.3393 - val_categorical_accuracy: 0.8830 - val_precision_8: 0.9018 - val_recall_8: 0.8660 - val_auc_8: 0.9914\n",
      "Epoch 26/50\n",
      "94/94 [==] - 36s 386ms/step - loss: 0.2750 - categorical_accuracy: 0.9014 - precision_8: 0.9194 - recall_8: 0.8856 - auc_8: 0.9945 - val_loss: 0.3415 - val_categorical_accuracy: 0.8820 - val_precision_8: 0.9027 - val_recall_8: 0.8677 - val_auc_8: 0.9909\n",
      "Epoch 27/50\n",
      "94/94 [==] - 36s 388ms/step - loss: 0.2708 - categorical_accuracy: 0.9020 - precision_8: 0.9200 - recall_8: 0.8870 - auc_8: 0.9947 - val_loss: 0.3388 - val_categorical_accuracy: 0.8842 - val_precision_8: 0.9036 - val_recall_8: 0.8698 - val_auc_8: 0.9912\n",
      "Epoch 28/50\n",
      "94/94 [==] - 37s 390ms/step - loss: 0.2649 - categorical_accuracy: 0.9061 - precision_8: 0.9231 - recall_8: 0.8914 - auc_8: 0.9949 - val_loss: 0.3335 - val_categorical_accuracy: 0.8857 - val_precision_8: 0.9055 - val_recall_8: 0.8690 - val_auc_8: 0.9917\n",
      "Epoch 29/50\n",
      "94/94 [==] - 36s 388ms/step - loss: 0.2614 - categorical_accuracy: 0.9067 - precision_8: 0.9233 - recall_8: 0.8922 - auc_8: 0.9950 - val_loss: 0.3333 - val_categorical_accuracy: 0.8867 - val_precision_8: 0.9040 - val_recall_8: 0.8722 - val_auc_8: 0.9914\n",
      "Epoch 30/50\n",
      "94/94 [==] - 37s 389ms/step - loss: 0.2590 - categorical_accuracy: 0.9072 - precision_8: 0.9237 - recall_8: 0.8930 - auc_8: 0.9951 - val_loss: 0.3297 - val_categorical_accuracy: 0.8859 - val_precision_8: 0.9029 - val_recall_8: 0.8718 - val_auc_8: 0.9916\n",
      "Epoch 31/50\n",
      "94/94 [==] - 37s 389ms/step - loss: 0.2548 - categorical_accuracy: 0.9083 - precision_8: 0.9246 - recall_8: 0.8947 - auc_8: 0.9953 - val_loss: 0.3298 - val_categorical_accuracy: 0.8882 - val_precision_8: 0.9050 - val_recall_8: 0.8748 - val_auc_8: 0.9915\n",
      "Epoch 32/50\n",
      "94/94 [==] - 37s 389ms/step - loss: 0.2497 - categorical_accuracy: 0.9108 - precision_8: 0.9264 - recall_8: 0.8977 - auc_8: 0.9954 - val_loss: 0.3317 - val_categorical_accuracy: 0.8881 - val_precision_8: 0.9043 - val_recall_8: 0.8736 - val_auc_8: 0.9912\n",
      "Epoch 33/50\n",
      "94/94 [==] - 37s 395ms/step - loss: 0.2472 - categorical_accuracy: 0.9110 - precision_8: 0.9267 - recall_8: 0.8988 - auc_8: 0.9956 - val_loss: 0.3328 - val_categorical_accuracy: 0.8868 - val_precision_8: 0.9029 - val_recall_8: 0.8727 - val_auc_8: 0.9914\n",
      "Epoch 34/50\n",
      "94/94 [==] - 37s 399ms/step - loss: 0.2447 - categorical_accuracy: 0.9126 - precision_8: 0.9277 - recall_8: 0.8991 - auc_8: 0.9956 - val_loss: 0.3238 - val_categorical_accuracy: 0.8915 - val_precision_8: 0.9064 - val_recall_8: 0.8752 - val_auc_8: 0.9920\n",
      "Epoch 35/50\n",
      "94/94 [==] - 38s 400ms/step - loss: 0.2406 - categorical_accuracy: 0.9144 - precision_8: 0.9289 - recall_8: 0.9012 - auc_8: 0.9957 - val_loss: 0.3271 - val_categorical_accuracy: 0.8901 - val_precision_8: 0.9058 - val_recall_8: 0.8756 - val_auc_8: 0.9918\n",
      "Epoch 36/50\n",
      "94/94 [==] - 36s 385ms/step - loss: 0.2379 - categorical_accuracy: 0.9152 - precision_8: 0.9293 - recall_8: 0.9026 - auc_8: 0.9958 - val_loss: 0.3267 - val_categorical_accuracy: 0.8883 - val_precision_8: 0.9045 - val_recall_8: 0.8759 - val_auc_8: 0.9918\n",
      "Epoch 37/50\n",
      "94/94 [==] - 36s 387ms/step - loss: 0.2354 - categorical_accuracy: 0.9159 - precision_8: 0.9300 - recall_8: 0.9035 - auc_8: 0.9960 - val_loss: 0.3246 - val_categorical_accuracy: 0.8907 - val_precision_8: 0.9047 - val_recall_8: 0.8777 - val_auc_8: 0.9918\n",
      "Epoch 38/50\n",
      "94/94 [==] - 36s 385ms/step - loss: 0.2320 - categorical_accuracy: 0.9173 - precision_8: 0.9307 - recall_8: 0.9043 - auc_8: 0.9961 - val_loss: 0.3322 - val_categorical_accuracy: 0.8870 - val_precision_8: 0.9025 - val_recall_8: 0.8729 - val_auc_8: 0.9914\n",
      "Epoch 39/50\n",
      "94/94 [==] - 36s 384ms/step - loss: 0.2295 - categorical_accuracy: 0.9172 - precision_8: 0.9314 - recall_8: 0.9052 - auc_8: 0.9961 - val_loss: 0.3169 - val_categorical_accuracy: 0.8939 - val_precision_8: 0.9092 - val_recall_8: 0.8808 - val_auc_8: 0.9921\n",
      "Epoch 40/50\n",
      "94/94 [==] - 36s 385ms/step - loss: 0.2290 - categorical_accuracy: 0.9164 - precision_8: 0.9305 - recall_8: 0.9042 - auc_8: 0.9962 - val_loss: 0.3219 - val_categorical_accuracy: 0.8901 - val_precision_8: 0.9050 - val_recall_8: 0.8774 - val_auc_8: 0.9917\n",
      "Epoch 41/50\n",
      "94/94 [==] - 36s 386ms/step - loss: 0.2231 - categorical_accuracy: 0.9203 - precision_8: 0.9336 - recall_8: 0.9082 - auc_8: 0.9963 - val_loss: 0.3237 - val_categorical_accuracy: 0.8917 - val_precision_8: 0.9074 - val_recall_8: 0.8795 - val_auc_8: 0.9918\n",
      "Epoch 42/50\n",
      "94/94 [==] - 36s 385ms/step - loss: 0.2197 - categorical_accuracy: 0.9223 - precision_8: 0.9351 - recall_8: 0.9102 - auc_8: 0.9964 - val_loss: 0.3188 - val_categorical_accuracy: 0.8935 - val_precision_8: 0.9075 - val_recall_8: 0.8812 - val_auc_8: 0.9919\n",
      "Epoch 43/50\n",
      "94/94 [==] - 37s 390ms/step - loss: 0.2188 - categorical_accuracy: 0.9213 - precision_8: 0.9340 - recall_8: 0.9096 - auc_8: 0.9964 - val_loss: 0.3223 - val_categorical_accuracy: 0.8911 - val_precision_8: 0.9050 - val_recall_8: 0.8801 - val_auc_8: 0.9917\n",
      "Epoch 44/50\n",
      "94/94 [==] - 36s 385ms/step - loss: 0.2170 - categorical_accuracy: 0.9211 - precision_8: 0.9341 - recall_8: 0.9107 - auc_8: 0.9965 - val_loss: 0.3184 - val_categorical_accuracy: 0.8926 - val_precision_8: 0.9066 - val_recall_8: 0.8823 - val_auc_8: 0.9919\n",
      "375/375 [==] - 3s 8ms/step - loss: 0.3184 - categorical_accuracy: 0.8926 - precision_8: 0.9066 - recall_8: 0.8823 - auc_8: 0.9919\n"
     ]
    },
    {
     "name": "stderr",
     "output_type": "stream",
     "text": [
      "9it [13:32:27, 6671.59s/it]"
     ]
    },
    {
     "name": "stdout",
     "output_type": "stream",
     "text": [
      "Epoch 1/50\n",
      "94/94 [==] - 38s 392ms/step - loss: 1.9150 - categorical_accuracy: 0.4300 - precision_9: 0.5780 - recall_9: 0.2720 - auc_9: 0.8179 - val_loss: 1.0131 - val_categorical_accuracy: 0.6373 - val_precision_9: 0.7591 - val_recall_9: 0.5098 - val_auc_9: 0.9420\n",
      "Epoch 2/50\n",
      "94/94 [==] - 36s 384ms/step - loss: 0.8346 - categorical_accuracy: 0.7061 - precision_9: 0.7964 - recall_9: 0.6076 - auc_9: 0.9600 - val_loss: 0.7059 - val_categorical_accuracy: 0.7569 - val_precision_9: 0.8297 - val_recall_9: 0.6854 - val_auc_9: 0.9706\n",
      "Epoch 3/50\n",
      "94/94 [==] - 36s 385ms/step - loss: 0.6278 - categorical_accuracy: 0.7810 - precision_9: 0.8411 - recall_9: 0.7215 - auc_9: 0.9761 - val_loss: 0.5912 - val_categorical_accuracy: 0.7976 - val_precision_9: 0.8501 - val_recall_9: 0.7454 - val_auc_9: 0.9784\n",
      "Epoch 4/50\n",
      "94/94 [==] - 36s 385ms/step - loss: 0.5421 - categorical_accuracy: 0.8120 - precision_9: 0.8581 - recall_9: 0.7657 - auc_9: 0.9817 - val_loss: 0.5334 - val_categorical_accuracy: 0.8202 - val_precision_9: 0.8621 - val_recall_9: 0.7788 - val_auc_9: 0.9822\n",
      "Epoch 5/50\n",
      "94/94 [==] - 36s 388ms/step - loss: 0.4937 - categorical_accuracy: 0.8280 - precision_9: 0.8668 - recall_9: 0.7893 - auc_9: 0.9845 - val_loss: 0.4973 - val_categorical_accuracy: 0.8309 - val_precision_9: 0.8690 - val_recall_9: 0.7924 - val_auc_9: 0.9845\n",
      "Epoch 6/50\n",
      "94/94 [==] - 36s 386ms/step - loss: 0.4594 - categorical_accuracy: 0.8389 - precision_9: 0.8746 - recall_9: 0.8044 - auc_9: 0.9863 - val_loss: 0.4749 - val_categorical_accuracy: 0.8370 - val_precision_9: 0.8739 - val_recall_9: 0.8035 - val_auc_9: 0.9856\n",
      "Epoch 7/50\n",
      "94/94 [==] - 36s 386ms/step - loss: 0.4349 - categorical_accuracy: 0.8482 - precision_9: 0.8819 - recall_9: 0.8161 - auc_9: 0.9877 - val_loss: 0.4587 - val_categorical_accuracy: 0.8413 - val_precision_9: 0.8743 - val_recall_9: 0.8113 - val_auc_9: 0.9862\n",
      "Epoch 8/50\n",
      "94/94 [==] - 36s 380ms/step - loss: 0.4136 - categorical_accuracy: 0.8553 - precision_9: 0.8864 - recall_9: 0.8251 - auc_9: 0.9887 - val_loss: 0.4390 - val_categorical_accuracy: 0.8485 - val_precision_9: 0.8787 - val_recall_9: 0.8196 - val_auc_9: 0.9872\n",
      "Epoch 9/50\n",
      "94/94 [==] - 36s 382ms/step - loss: 0.3978 - categorical_accuracy: 0.8608 - precision_9: 0.8897 - recall_9: 0.8325 - auc_9: 0.9895 - val_loss: 0.4263 - val_categorical_accuracy: 0.8529 - val_precision_9: 0.8830 - val_recall_9: 0.8244 - val_auc_9: 0.9878\n",
      "Epoch 10/50\n",
      "94/94 [==] - 36s 384ms/step - loss: 0.3855 - categorical_accuracy: 0.8639 - precision_9: 0.8933 - recall_9: 0.8375 - auc_9: 0.9901 - val_loss: 0.4220 - val_categorical_accuracy: 0.8533 - val_precision_9: 0.8830 - val_recall_9: 0.8271 - val_auc_9: 0.9880\n",
      "Epoch 11/50\n",
      "94/94 [==] - 36s 381ms/step - loss: 0.3728 - categorical_accuracy: 0.8693 - precision_9: 0.8972 - recall_9: 0.8439 - auc_9: 0.9906 - val_loss: 0.4072 - val_categorical_accuracy: 0.8597 - val_precision_9: 0.8875 - val_recall_9: 0.8346 - val_auc_9: 0.9888\n",
      "Epoch 12/50\n",
      "94/94 [==] - 36s 383ms/step - loss: 0.3620 - categorical_accuracy: 0.8718 - precision_9: 0.8990 - recall_9: 0.8475 - auc_9: 0.9911 - val_loss: 0.3999 - val_categorical_accuracy: 0.8625 - val_precision_9: 0.8880 - val_recall_9: 0.8379 - val_auc_9: 0.9888\n",
      "Epoch 13/50\n",
      "94/94 [==] - 36s 382ms/step - loss: 0.3529 - categorical_accuracy: 0.8761 - precision_9: 0.9026 - recall_9: 0.8527 - auc_9: 0.9915 - val_loss: 0.3929 - val_categorical_accuracy: 0.8670 - val_precision_9: 0.8937 - val_recall_9: 0.8419 - val_auc_9: 0.9892\n",
      "Epoch 14/50\n",
      "94/94 [==] - 36s 382ms/step - loss: 0.3439 - categorical_accuracy: 0.8783 - precision_9: 0.9034 - recall_9: 0.8571 - auc_9: 0.9919 - val_loss: 0.3852 - val_categorical_accuracy: 0.8680 - val_precision_9: 0.8908 - val_recall_9: 0.8446 - val_auc_9: 0.9895\n",
      "Epoch 15/50\n",
      "94/94 [==] - 36s 381ms/step - loss: 0.3373 - categorical_accuracy: 0.8811 - precision_9: 0.9049 - recall_9: 0.8577 - auc_9: 0.9921 - val_loss: 0.3811 - val_categorical_accuracy: 0.8686 - val_precision_9: 0.8921 - val_recall_9: 0.8449 - val_auc_9: 0.9897\n",
      "Epoch 16/50\n",
      "94/94 [==] - 36s 385ms/step - loss: 0.3279 - categorical_accuracy: 0.8843 - precision_9: 0.9078 - recall_9: 0.8633 - auc_9: 0.9925 - val_loss: 0.3764 - val_categorical_accuracy: 0.8713 - val_precision_9: 0.8959 - val_recall_9: 0.8491 - val_auc_9: 0.9899\n",
      "Epoch 17/50\n",
      "94/94 [==] - 36s 383ms/step - loss: 0.3207 - categorical_accuracy: 0.8869 - precision_9: 0.9097 - recall_9: 0.8661 - auc_9: 0.9928 - val_loss: 0.3700 - val_categorical_accuracy: 0.8719 - val_precision_9: 0.8928 - val_recall_9: 0.8520 - val_auc_9: 0.9901\n",
      "Epoch 18/50\n",
      "94/94 [==] - 36s 381ms/step - loss: 0.3146 - categorical_accuracy: 0.8882 - precision_9: 0.9100 - recall_9: 0.8684 - auc_9: 0.9931 - val_loss: 0.3660 - val_categorical_accuracy: 0.8743 - val_precision_9: 0.8985 - val_recall_9: 0.8568 - val_auc_9: 0.9903\n",
      "Epoch 19/50\n",
      "94/94 [==] - 36s 384ms/step - loss: 0.3096 - categorical_accuracy: 0.8904 - precision_9: 0.9119 - recall_9: 0.8711 - auc_9: 0.9933 - val_loss: 0.3613 - val_categorical_accuracy: 0.8759 - val_precision_9: 0.8970 - val_recall_9: 0.8579 - val_auc_9: 0.9904\n",
      "Epoch 20/50\n",
      "94/94 [==] - 36s 381ms/step - loss: 0.3035 - categorical_accuracy: 0.8931 - precision_9: 0.9143 - recall_9: 0.8738 - auc_9: 0.9935 - val_loss: 0.3558 - val_categorical_accuracy: 0.8767 - val_precision_9: 0.8991 - val_recall_9: 0.8578 - val_auc_9: 0.9909\n",
      "Epoch 21/50\n",
      "94/94 [==] - 36s 381ms/step - loss: 0.2979 - categorical_accuracy: 0.8934 - precision_9: 0.9156 - recall_9: 0.8752 - auc_9: 0.9937 - val_loss: 0.3532 - val_categorical_accuracy: 0.8763 - val_precision_9: 0.8988 - val_recall_9: 0.8579 - val_auc_9: 0.9910\n",
      "Epoch 22/50\n",
      "94/94 [==] - 36s 383ms/step - loss: 0.2918 - categorical_accuracy: 0.8969 - precision_9: 0.9168 - recall_9: 0.8788 - auc_9: 0.9939 - val_loss: 0.3532 - val_categorical_accuracy: 0.8788 - val_precision_9: 0.8983 - val_recall_9: 0.8607 - val_auc_9: 0.9907\n",
      "Epoch 23/50\n",
      "94/94 [==] - 34s 361ms/step - loss: 0.2879 - categorical_accuracy: 0.8979 - precision_9: 0.9173 - recall_9: 0.8804 - auc_9: 0.9940 - val_loss: 0.3557 - val_categorical_accuracy: 0.8787 - val_precision_9: 0.9011 - val_recall_9: 0.8600 - val_auc_9: 0.9908\n",
      "Epoch 24/50\n",
      "94/94 [==] - 36s 381ms/step - loss: 0.2825 - categorical_accuracy: 0.8994 - precision_9: 0.9187 - recall_9: 0.8826 - auc_9: 0.9942 - val_loss: 0.3477 - val_categorical_accuracy: 0.8789 - val_precision_9: 0.8984 - val_recall_9: 0.8616 - val_auc_9: 0.9912\n",
      "Epoch 25/50\n",
      "94/94 [==] - 36s 381ms/step - loss: 0.2787 - categorical_accuracy: 0.9008 - precision_9: 0.9196 - recall_9: 0.8835 - auc_9: 0.9944 - val_loss: 0.3543 - val_categorical_accuracy: 0.8771 - val_precision_9: 0.8960 - val_recall_9: 0.8618 - val_auc_9: 0.9904\n",
      "Epoch 26/50\n",
      "94/94 [==] - 36s 381ms/step - loss: 0.2737 - categorical_accuracy: 0.9023 - precision_9: 0.9206 - recall_9: 0.8850 - auc_9: 0.9946 - val_loss: 0.3387 - val_categorical_accuracy: 0.8818 - val_precision_9: 0.9018 - val_recall_9: 0.8658 - val_auc_9: 0.9913\n",
      "Epoch 27/50\n",
      "94/94 [==] - 36s 385ms/step - loss: 0.2711 - categorical_accuracy: 0.9035 - precision_9: 0.9210 - recall_9: 0.8874 - auc_9: 0.9946 - val_loss: 0.3388 - val_categorical_accuracy: 0.8842 - val_precision_9: 0.9032 - val_recall_9: 0.8662 - val_auc_9: 0.9913\n",
      "Epoch 28/50\n",
      "94/94 [==] - 36s 380ms/step - loss: 0.2657 - categorical_accuracy: 0.9054 - precision_9: 0.9240 - recall_9: 0.8892 - auc_9: 0.9948 - val_loss: 0.3347 - val_categorical_accuracy: 0.8845 - val_precision_9: 0.9028 - val_recall_9: 0.8692 - val_auc_9: 0.9915\n",
      "Epoch 29/50\n",
      "94/94 [==] - 36s 380ms/step - loss: 0.2616 - categorical_accuracy: 0.9073 - precision_9: 0.9232 - recall_9: 0.8908 - auc_9: 0.9950 - val_loss: 0.3376 - val_categorical_accuracy: 0.8815 - val_precision_9: 0.9010 - val_recall_9: 0.8662 - val_auc_9: 0.9915\n",
      "Epoch 30/50\n",
      "94/94 [==] - 36s 380ms/step - loss: 0.2599 - categorical_accuracy: 0.9084 - precision_9: 0.9256 - recall_9: 0.8918 - auc_9: 0.9950 - val_loss: 0.3310 - val_categorical_accuracy: 0.8846 - val_precision_9: 0.9036 - val_recall_9: 0.8692 - val_auc_9: 0.9918\n",
      "Epoch 31/50\n",
      "94/94 [==] - 36s 381ms/step - loss: 0.2541 - categorical_accuracy: 0.9097 - precision_9: 0.9269 - recall_9: 0.8941 - auc_9: 0.9952 - val_loss: 0.3313 - val_categorical_accuracy: 0.8838 - val_precision_9: 0.9033 - val_recall_9: 0.8694 - val_auc_9: 0.9915\n",
      "Epoch 32/50\n",
      "94/94 [==] - 36s 383ms/step - loss: 0.2528 - categorical_accuracy: 0.9113 - precision_9: 0.9276 - recall_9: 0.8957 - auc_9: 0.9952 - val_loss: 0.3300 - val_categorical_accuracy: 0.8872 - val_precision_9: 0.9047 - val_recall_9: 0.8733 - val_auc_9: 0.9916\n",
      "Epoch 33/50\n",
      "94/94 [==] - 37s 391ms/step - loss: 0.2492 - categorical_accuracy: 0.9121 - precision_9: 0.9282 - recall_9: 0.8964 - auc_9: 0.9954 - val_loss: 0.3316 - val_categorical_accuracy: 0.8871 - val_precision_9: 0.9031 - val_recall_9: 0.8718 - val_auc_9: 0.9915\n",
      "Epoch 34/50\n",
      "94/94 [==] - 37s 395ms/step - loss: 0.2451 - categorical_accuracy: 0.9131 - precision_9: 0.9290 - recall_9: 0.8989 - auc_9: 0.9956 - val_loss: 0.3240 - val_categorical_accuracy: 0.8888 - val_precision_9: 0.9050 - val_recall_9: 0.8759 - val_auc_9: 0.9917\n",
      "Epoch 35/50\n",
      "94/94 [==] - 37s 391ms/step - loss: 0.2415 - categorical_accuracy: 0.9140 - precision_9: 0.9297 - recall_9: 0.8998 - auc_9: 0.9956 - val_loss: 0.3242 - val_categorical_accuracy: 0.8891 - val_precision_9: 0.9061 - val_recall_9: 0.8763 - val_auc_9: 0.9918\n",
      "Epoch 36/50\n",
      "94/94 [==] - 36s 388ms/step - loss: 0.2375 - categorical_accuracy: 0.9155 - precision_9: 0.9307 - recall_9: 0.9009 - auc_9: 0.9957 - val_loss: 0.3261 - val_categorical_accuracy: 0.8867 - val_precision_9: 0.9042 - val_recall_9: 0.8733 - val_auc_9: 0.9917\n",
      "Epoch 37/50\n",
      "94/94 [==] - 36s 385ms/step - loss: 0.2369 - categorical_accuracy: 0.9166 - precision_9: 0.9313 - recall_9: 0.9021 - auc_9: 0.9958 - val_loss: 0.3226 - val_categorical_accuracy: 0.8888 - val_precision_9: 0.9033 - val_recall_9: 0.8738 - val_auc_9: 0.9919\n",
      "Epoch 38/50\n",
      "94/94 [==] - 36s 384ms/step - loss: 0.2346 - categorical_accuracy: 0.9163 - precision_9: 0.9315 - recall_9: 0.9031 - auc_9: 0.9959 - val_loss: 0.3227 - val_categorical_accuracy: 0.8892 - val_precision_9: 0.9062 - val_recall_9: 0.8754 - val_auc_9: 0.9919\n",
      "Epoch 39/50\n",
      "94/94 [==] - 36s 385ms/step - loss: 0.2295 - categorical_accuracy: 0.9182 - precision_9: 0.9325 - recall_9: 0.9046 - auc_9: 0.9960 - val_loss: 0.3223 - val_categorical_accuracy: 0.8881 - val_precision_9: 0.9047 - val_recall_9: 0.8746 - val_auc_9: 0.9918\n",
      "Epoch 40/50\n",
      "94/94 [==] - 36s 387ms/step - loss: 0.2271 - categorical_accuracy: 0.9198 - precision_9: 0.9340 - recall_9: 0.9069 - auc_9: 0.9962 - val_loss: 0.3212 - val_categorical_accuracy: 0.8909 - val_precision_9: 0.9058 - val_recall_9: 0.8768 - val_auc_9: 0.9919\n",
      "Epoch 41/50\n",
      "94/94 [==] - 36s 387ms/step - loss: 0.2230 - categorical_accuracy: 0.9208 - precision_9: 0.9349 - recall_9: 0.9079 - auc_9: 0.9962 - val_loss: 0.3177 - val_categorical_accuracy: 0.8913 - val_precision_9: 0.9066 - val_recall_9: 0.8778 - val_auc_9: 0.9919\n",
      "Epoch 42/50\n",
      "94/94 [==] - 36s 386ms/step - loss: 0.2211 - categorical_accuracy: 0.9216 - precision_9: 0.9355 - recall_9: 0.9089 - auc_9: 0.9963 - val_loss: 0.3158 - val_categorical_accuracy: 0.8911 - val_precision_9: 0.9060 - val_recall_9: 0.8789 - val_auc_9: 0.9921\n",
      "Epoch 43/50\n",
      "94/94 [==] - 36s 385ms/step - loss: 0.2192 - categorical_accuracy: 0.9226 - precision_9: 0.9353 - recall_9: 0.9102 - auc_9: 0.9963 - val_loss: 0.3178 - val_categorical_accuracy: 0.8898 - val_precision_9: 0.9066 - val_recall_9: 0.8773 - val_auc_9: 0.9923\n",
      "Epoch 44/50\n",
      "94/94 [==] - 37s 390ms/step - loss: 0.2166 - categorical_accuracy: 0.9237 - precision_9: 0.9364 - recall_9: 0.9112 - auc_9: 0.9964 - val_loss: 0.3155 - val_categorical_accuracy: 0.8889 - val_precision_9: 0.9056 - val_recall_9: 0.8784 - val_auc_9: 0.9923\n",
      "Epoch 45/50\n",
      "94/94 [==] - 36s 386ms/step - loss: 0.2160 - categorical_accuracy: 0.9233 - precision_9: 0.9364 - recall_9: 0.9113 - auc_9: 0.9964 - val_loss: 0.3276 - val_categorical_accuracy: 0.8878 - val_precision_9: 0.9028 - val_recall_9: 0.8764 - val_auc_9: 0.9916\n",
      "Epoch 46/50\n",
      "94/94 [==] - 37s 390ms/step - loss: 0.2114 - categorical_accuracy: 0.9248 - precision_9: 0.9378 - recall_9: 0.9133 - auc_9: 0.9966 - val_loss: 0.3290 - val_categorical_accuracy: 0.8863 - val_precision_9: 0.9011 - val_recall_9: 0.8750 - val_auc_9: 0.9916\n",
      "Epoch 47/50\n",
      "94/94 [==] - 36s 388ms/step - loss: 0.2096 - categorical_accuracy: 0.9257 - precision_9: 0.9383 - recall_9: 0.9141 - auc_9: 0.9966 - val_loss: 0.3154 - val_categorical_accuracy: 0.8907 - val_precision_9: 0.9050 - val_recall_9: 0.8790 - val_auc_9: 0.9921\n",
      "Epoch 48/50\n",
      "94/94 [==] - 38s 407ms/step - loss: 0.2077 - categorical_accuracy: 0.9256 - precision_9: 0.9379 - recall_9: 0.9148 - auc_9: 0.9968 - val_loss: 0.3223 - val_categorical_accuracy: 0.8875 - val_precision_9: 0.9004 - val_recall_9: 0.8758 - val_auc_9: 0.9919\n",
      "Epoch 49/50\n",
      "94/94 [==] - 36s 387ms/step - loss: 0.2055 - categorical_accuracy: 0.9271 - precision_9: 0.9394 - recall_9: 0.9154 - auc_9: 0.9968 - val_loss: 0.3155 - val_categorical_accuracy: 0.8906 - val_precision_9: 0.9050 - val_recall_9: 0.8789 - val_auc_9: 0.9919\n",
      "Epoch 50/50\n",
      "94/94 [==] - 36s 388ms/step - loss: 0.2011 - categorical_accuracy: 0.9289 - precision_9: 0.9420 - recall_9: 0.9183 - auc_9: 0.9969 - val_loss: 0.3148 - val_categorical_accuracy: 0.8931 - val_precision_9: 0.9083 - val_recall_9: 0.8831 - val_auc_9: 0.9918\n",
      "375/375 [==] - 3s 8ms/step - loss: 0.3148 - categorical_accuracy: 0.8931 - precision_9: 0.9083 - recall_9: 0.8831 - auc_9: 0.9918\n"
     ]
    },
    {
     "name": "stderr",
     "output_type": "stream",
     "text": [
      "10it [14:02:37, 5055.77s/it]\n"
     ]
    },
    {
     "ename": "TypeError",
     "evalue": "eval() arg 1 must be a string, bytes or code object",
     "output_type": "error",
     "traceback": [
      "\u001b[1;31m---------------------------------------------------------------------------\u001b[0m",
      "\u001b[1;31mTypeError\u001b[0m                                 Traceback (most recent call last)",
      "Input \u001b[1;32mIn [52]\u001b[0m, in \u001b[0;36m<cell line: 23>\u001b[1;34m()\u001b[0m\n\u001b[0;32m     19\u001b[0m     model\u001b[38;5;241m.\u001b[39msave_weights(\u001b[38;5;124mf\u001b[39m\u001b[38;5;124m'\u001b[39m\u001b[38;5;124m./best_conv2d/model_\u001b[39m\u001b[38;5;132;01m{\u001b[39;00mmodel_name\u001b[38;5;132;01m}\u001b[39;00m\u001b[38;5;124m'\u001b[39m)\n\u001b[0;32m     22\u001b[0m hyp_results_df \u001b[38;5;241m=\u001b[39m pd\u001b[38;5;241m.\u001b[39mDataFrame(hyp_results)\n\u001b[1;32m---> 23\u001b[0m hyp_results_df \u001b[38;5;241m=\u001b[39m pd\u001b[38;5;241m.\u001b[39mconcat([hyp_results_df[[\u001b[38;5;124m'\u001b[39m\u001b[38;5;124mmodel_name\u001b[39m\u001b[38;5;124m'\u001b[39m,\u001b[38;5;124m'\u001b[39m\u001b[38;5;124mparams\u001b[39m\u001b[38;5;124m'\u001b[39m,\u001b[38;5;124m'\u001b[39m\u001b[38;5;124melapsed_time\u001b[39m\u001b[38;5;124m'\u001b[39m]], \u001b[43mhyp_results_df\u001b[49m\u001b[43m[\u001b[49m\u001b[38;5;124;43m'\u001b[39;49m\u001b[38;5;124;43mperformance\u001b[39;49m\u001b[38;5;124;43m'\u001b[39;49m\u001b[43m]\u001b[49m\u001b[38;5;241;43m.\u001b[39;49m\u001b[43mmap\u001b[49m\u001b[43m(\u001b[49m\u001b[38;5;28;43meval\u001b[39;49m\u001b[43m)\u001b[49m\u001b[38;5;241m.\u001b[39mapply(pd\u001b[38;5;241m.\u001b[39mSeries)], axis\u001b[38;5;241m=\u001b[39m\u001b[38;5;241m1\u001b[39m)\n\u001b[0;32m     24\u001b[0m hoy \u001b[38;5;241m=\u001b[39m datetime\u001b[38;5;241m.\u001b[39mnow()\u001b[38;5;241m.\u001b[39mstrftime(\u001b[38;5;124m\"\u001b[39m\u001b[38;5;124m%\u001b[39m\u001b[38;5;124mY\u001b[39m\u001b[38;5;124m%\u001b[39m\u001b[38;5;124mm\u001b[39m\u001b[38;5;132;01m%d\u001b[39;00m\u001b[38;5;124m\"\u001b[39m)\n\u001b[0;32m     25\u001b[0m hyp_results_df\u001b[38;5;241m.\u001b[39mto_csv(\u001b[38;5;124mf\u001b[39m\u001b[38;5;124m\"\u001b[39m\u001b[38;5;124m./results/conv2d_hypopt_\u001b[39m\u001b[38;5;132;01m{\u001b[39;00mhoy\u001b[38;5;132;01m}\u001b[39;00m\u001b[38;5;124m.csv\u001b[39m\u001b[38;5;124m\"\u001b[39m, index\u001b[38;5;241m=\u001b[39m\u001b[38;5;28;01mFalse\u001b[39;00m)\n",
      "File \u001b[1;32m~\\anaconda3\\envs\\tp2AA\\lib\\site-packages\\pandas\\core\\series.py:4237\u001b[0m, in \u001b[0;36mSeries.map\u001b[1;34m(self, arg, na_action)\u001b[0m\n\u001b[0;32m   4162\u001b[0m \u001b[38;5;28;01mdef\u001b[39;00m \u001b[38;5;21mmap\u001b[39m(\u001b[38;5;28mself\u001b[39m, arg, na_action\u001b[38;5;241m=\u001b[39m\u001b[38;5;28;01mNone\u001b[39;00m) \u001b[38;5;241m-\u001b[39m\u001b[38;5;241m>\u001b[39m Series:\n\u001b[0;32m   4163\u001b[0m     \u001b[38;5;124;03m\"\"\"\u001b[39;00m\n\u001b[0;32m   4164\u001b[0m \u001b[38;5;124;03m    Map values of Series according to an input mapping or function.\u001b[39;00m\n\u001b[0;32m   4165\u001b[0m \n\u001b[1;32m   (...)\u001b[0m\n\u001b[0;32m   4235\u001b[0m \u001b[38;5;124;03m    dtype: object\u001b[39;00m\n\u001b[0;32m   4236\u001b[0m \u001b[38;5;124;03m    \"\"\"\u001b[39;00m\n\u001b[1;32m-> 4237\u001b[0m     new_values \u001b[38;5;241m=\u001b[39m \u001b[38;5;28;43mself\u001b[39;49m\u001b[38;5;241;43m.\u001b[39;49m\u001b[43m_map_values\u001b[49m\u001b[43m(\u001b[49m\u001b[43marg\u001b[49m\u001b[43m,\u001b[49m\u001b[43m \u001b[49m\u001b[43mna_action\u001b[49m\u001b[38;5;241;43m=\u001b[39;49m\u001b[43mna_action\u001b[49m\u001b[43m)\u001b[49m\n\u001b[0;32m   4238\u001b[0m     \u001b[38;5;28;01mreturn\u001b[39;00m \u001b[38;5;28mself\u001b[39m\u001b[38;5;241m.\u001b[39m_constructor(new_values, index\u001b[38;5;241m=\u001b[39m\u001b[38;5;28mself\u001b[39m\u001b[38;5;241m.\u001b[39mindex)\u001b[38;5;241m.\u001b[39m__finalize__(\n\u001b[0;32m   4239\u001b[0m         \u001b[38;5;28mself\u001b[39m, method\u001b[38;5;241m=\u001b[39m\u001b[38;5;124m\"\u001b[39m\u001b[38;5;124mmap\u001b[39m\u001b[38;5;124m\"\u001b[39m\n\u001b[0;32m   4240\u001b[0m     )\n",
      "File \u001b[1;32m~\\anaconda3\\envs\\tp2AA\\lib\\site-packages\\pandas\\core\\base.py:880\u001b[0m, in \u001b[0;36mIndexOpsMixin._map_values\u001b[1;34m(self, mapper, na_action)\u001b[0m\n\u001b[0;32m    877\u001b[0m         \u001b[38;5;28;01mraise\u001b[39;00m \u001b[38;5;167;01mValueError\u001b[39;00m(msg)\n\u001b[0;32m    879\u001b[0m \u001b[38;5;66;03m# mapper is a function\u001b[39;00m\n\u001b[1;32m--> 880\u001b[0m new_values \u001b[38;5;241m=\u001b[39m \u001b[43mmap_f\u001b[49m\u001b[43m(\u001b[49m\u001b[43mvalues\u001b[49m\u001b[43m,\u001b[49m\u001b[43m \u001b[49m\u001b[43mmapper\u001b[49m\u001b[43m)\u001b[49m\n\u001b[0;32m    882\u001b[0m \u001b[38;5;28;01mreturn\u001b[39;00m new_values\n",
      "File \u001b[1;32m~\\anaconda3\\envs\\tp2AA\\lib\\site-packages\\pandas\\_libs\\lib.pyx:2870\u001b[0m, in \u001b[0;36mpandas._libs.lib.map_infer\u001b[1;34m()\u001b[0m\n",
      "\u001b[1;31mTypeError\u001b[0m: eval() arg 1 must be a string, bytes or code object"
     ]
    }
   ],
   "source": [
    "from sklearn.model_selection import ParameterSampler\n",
    "\n",
    "hyperparameter_space = {'units': [32,56,128,512,1024,2048,4096,8192],\n",
    "                        'activation': ['relu','tanh','sigmoid','elu'],\n",
    "                        'batch_size':[16,32,64,128,256,512],\n",
    "                        'learning_rate':[0.0001,0.001,0.01]}\n",
    "hyperparameters = list(ParameterSampler(hyperparameter_space,n_iter=10))\n",
    "\n",
    "best_recall = 0\n",
    "best_model = None\n",
    "best_params = None\n",
    "hyp_results = []\n",
    "for model_name, hparam in tqdm(enumerate(hyperparameters)):\n",
    "  model, perf, hparams, elapsed_time = entrenar_modelo(hparam ,model_name=str(model_name+1))\n",
    "  hyp_results.append({'model_name':model_name,'params': hparams,'performance': perf, 'elapsed_time': elapsed_time})  \n",
    "  if perf['recall'] > best_recall:\n",
    "    best_recall = perf['recall']\n",
    "    best_model = model\n",
    "    model.save_weights(f'./best_conv2d/model_{model_name}')"
   ]
  },
  {
   "cell_type": "markdown",
   "metadata": {},
   "source": [
    "Guardamos resultados de corrida "
   ]
  },
  {
   "cell_type": "code",
   "execution_count": 53,
   "metadata": {},
   "outputs": [
    {
     "data": {
      "text/html": [
       "<div>\n",
       "<style scoped>\n",
       "    .dataframe tbody tr th:only-of-type {\n",
       "        vertical-align: middle;\n",
       "    }\n",
       "\n",
       "    .dataframe tbody tr th {\n",
       "        vertical-align: top;\n",
       "    }\n",
       "\n",
       "    .dataframe thead th {\n",
       "        text-align: right;\n",
       "    }\n",
       "</style>\n",
       "<table border=\"1\" class=\"dataframe\">\n",
       "  <thead>\n",
       "    <tr style=\"text-align: right;\">\n",
       "      <th></th>\n",
       "      <th>model_name</th>\n",
       "      <th>params</th>\n",
       "      <th>performance</th>\n",
       "      <th>elapsed_time</th>\n",
       "    </tr>\n",
       "  </thead>\n",
       "  <tbody>\n",
       "    <tr>\n",
       "      <th>0</th>\n",
       "      <td>0</td>\n",
       "      <td>{'units': 56, 'learning_rate': 0.0001, 'batch_...</td>\n",
       "      <td>{'loss': 0.29528605937957764, 'acc': 0.8986666...</td>\n",
       "      <td>1191.423954</td>\n",
       "    </tr>\n",
       "    <tr>\n",
       "      <th>1</th>\n",
       "      <td>1</td>\n",
       "      <td>{'units': 128, 'learning_rate': 0.0001, 'batch...</td>\n",
       "      <td>{'loss': 0.3145427703857422, 'acc': 0.89233332...</td>\n",
       "      <td>16570.518286</td>\n",
       "    </tr>\n",
       "    <tr>\n",
       "      <th>2</th>\n",
       "      <td>2</td>\n",
       "      <td>{'units': 4096, 'learning_rate': 0.0001, 'batc...</td>\n",
       "      <td>{'loss': 0.3298497498035431, 'acc': 0.88533335...</td>\n",
       "      <td>1270.951972</td>\n",
       "    </tr>\n",
       "    <tr>\n",
       "      <th>3</th>\n",
       "      <td>3</td>\n",
       "      <td>{'units': 32, 'learning_rate': 0.01, 'batch_si...</td>\n",
       "      <td>{'loss': 0.4106885492801666, 'acc': 0.85158336...</td>\n",
       "      <td>617.385063</td>\n",
       "    </tr>\n",
       "    <tr>\n",
       "      <th>4</th>\n",
       "      <td>4</td>\n",
       "      <td>{'units': 512, 'learning_rate': 0.01, 'batch_s...</td>\n",
       "      <td>{'loss': 0.6222714185714722, 'acc': 0.75966668...</td>\n",
       "      <td>477.821110</td>\n",
       "    </tr>\n",
       "    <tr>\n",
       "      <th>5</th>\n",
       "      <td>5</td>\n",
       "      <td>{'units': 56, 'learning_rate': 0.0001, 'batch_...</td>\n",
       "      <td>{'loss': 0.3095165491104126, 'acc': 0.89608335...</td>\n",
       "      <td>2343.354022</td>\n",
       "    </tr>\n",
       "    <tr>\n",
       "      <th>6</th>\n",
       "      <td>6</td>\n",
       "      <td>{'units': 4096, 'learning_rate': 0.001, 'batch...</td>\n",
       "      <td>{'loss': 0.29282087087631226, 'acc': 0.9064166...</td>\n",
       "      <td>623.689023</td>\n",
       "    </tr>\n",
       "    <tr>\n",
       "      <th>7</th>\n",
       "      <td>7</td>\n",
       "      <td>{'units': 32, 'learning_rate': 0.01, 'batch_si...</td>\n",
       "      <td>{'loss': 0.527349054813385, 'acc': 0.803250014...</td>\n",
       "      <td>24007.940646</td>\n",
       "    </tr>\n",
       "    <tr>\n",
       "      <th>8</th>\n",
       "      <td>8</td>\n",
       "      <td>{'units': 32, 'learning_rate': 0.0001, 'batch_...</td>\n",
       "      <td>{'loss': 0.3184445798397064, 'acc': 0.89258331...</td>\n",
       "      <td>1614.853620</td>\n",
       "    </tr>\n",
       "    <tr>\n",
       "      <th>9</th>\n",
       "      <td>9</td>\n",
       "      <td>{'units': 1024, 'learning_rate': 0.0001, 'batc...</td>\n",
       "      <td>{'loss': 0.3148001432418823, 'acc': 0.89308333...</td>\n",
       "      <td>1807.543514</td>\n",
       "    </tr>\n",
       "  </tbody>\n",
       "</table>\n",
       "</div>"
      ],
      "text/plain": [
       "   model_name                                             params  \\\n",
       "0           0  {'units': 56, 'learning_rate': 0.0001, 'batch_...   \n",
       "1           1  {'units': 128, 'learning_rate': 0.0001, 'batch...   \n",
       "2           2  {'units': 4096, 'learning_rate': 0.0001, 'batc...   \n",
       "3           3  {'units': 32, 'learning_rate': 0.01, 'batch_si...   \n",
       "4           4  {'units': 512, 'learning_rate': 0.01, 'batch_s...   \n",
       "5           5  {'units': 56, 'learning_rate': 0.0001, 'batch_...   \n",
       "6           6  {'units': 4096, 'learning_rate': 0.001, 'batch...   \n",
       "7           7  {'units': 32, 'learning_rate': 0.01, 'batch_si...   \n",
       "8           8  {'units': 32, 'learning_rate': 0.0001, 'batch_...   \n",
       "9           9  {'units': 1024, 'learning_rate': 0.0001, 'batc...   \n",
       "\n",
       "                                         performance  elapsed_time  \n",
       "0  {'loss': 0.29528605937957764, 'acc': 0.8986666...   1191.423954  \n",
       "1  {'loss': 0.3145427703857422, 'acc': 0.89233332...  16570.518286  \n",
       "2  {'loss': 0.3298497498035431, 'acc': 0.88533335...   1270.951972  \n",
       "3  {'loss': 0.4106885492801666, 'acc': 0.85158336...    617.385063  \n",
       "4  {'loss': 0.6222714185714722, 'acc': 0.75966668...    477.821110  \n",
       "5  {'loss': 0.3095165491104126, 'acc': 0.89608335...   2343.354022  \n",
       "6  {'loss': 0.29282087087631226, 'acc': 0.9064166...    623.689023  \n",
       "7  {'loss': 0.527349054813385, 'acc': 0.803250014...  24007.940646  \n",
       "8  {'loss': 0.3184445798397064, 'acc': 0.89258331...   1614.853620  \n",
       "9  {'loss': 0.3148001432418823, 'acc': 0.89308333...   1807.543514  "
      ]
     },
     "execution_count": 53,
     "metadata": {},
     "output_type": "execute_result"
    }
   ],
   "source": [
    "hyp_results_df = pd.DataFrame(hyp_results)\n",
    "hyp_results_df = pd.concat([hyp_results_df[['model_name','params','elapsed_time']], hyp_results_df['performance'].apply(pd.Series)], axis=1)\n",
    "hoy = datetime.now().strftime(\"%Y%m%d\")\n",
    "hyp_results_df.to_csv(f\"./results/conv2d_hypopt_{hoy}.csv\", index=False)"
   ]
  },
  {
   "cell_type": "code",
   "execution_count": 59,
   "metadata": {},
   "outputs": [
    {
     "data": {
      "text/plain": [
       "<keras.engine.functional.Functional at 0x21ba6f63b50>"
      ]
     },
     "execution_count": 59,
     "metadata": {},
     "output_type": "execute_result"
    }
   ],
   "source": [
    "best_model"
   ]
  }
 ],
 "metadata": {
  "interpreter": {
   "hash": "112989f40982219f9c2133127490be09f86560db102a13a350eb86b01002b443"
  },
  "kernelspec": {
   "display_name": "Python 3",
   "language": "python",
   "name": "python3"
  },
  "language_info": {
   "codemirror_mode": {
    "name": "ipython",
    "version": 3
   },
   "file_extension": ".py",
   "mimetype": "text/x-python",
   "name": "python",
   "nbconvert_exporter": "python",
   "pygments_lexer": "ipython3",
   "version": "3.10.4"
  }
 },
 "nbformat": 4,
 "nbformat_minor": 4
}
