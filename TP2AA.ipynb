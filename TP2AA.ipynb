{
 "cells": [
  {
   "cell_type": "markdown",
   "metadata": {},
   "source": [
    "# TP2: Modelado sobre dataset Fashion MNIST"
   ]
  },
  {
   "cell_type": "markdown",
   "metadata": {},
   "source": [
    "## Librerías"
   ]
  },
  {
   "cell_type": "markdown",
   "metadata": {},
   "source": [
    "Fuente: https://pjreddie.com/projects/mnist-in-csv/"
   ]
  },
  {
   "cell_type": "code",
   "execution_count": 2,
   "metadata": {},
   "outputs": [],
   "source": [
    "import pandas as pd\n",
    "import os\n",
    "import gzip\n",
    "import numpy as np\n",
    "from tqdm import tqdm\n",
    "import requests\n",
    "\n",
    "from sklearn.ensemble import BaggingClassifier\n",
    "from sklearn.neighbors import KNeighborsClassifier\n",
    "from sklearn.ensemble import RandomForestClassifier\n",
    "from sklearn.ensemble import AdaBoostClassifier\n",
    "from sklearn.ensemble import GradientBoostingClassifier\n",
    "from sklearn.tree import DecisionTreeClassifier\n",
    "from sklearn.model_selection import RandomizedSearchCV, GridSearchCV\n",
    "from sklearn.naive_bayes import MultinomialNB\n",
    "from sklearn.metrics import confusion_matrix, classification_report\n",
    "from sklearn.metrics import roc_auc_score"
   ]
  },
  {
   "cell_type": "markdown",
   "metadata": {},
   "source": [
    "Correr una sola vez para descargar toda la data luego mutear todo el chunk. "
   ]
  },
  {
   "cell_type": "code",
   "execution_count": 2,
   "metadata": {},
   "outputs": [],
   "source": [
    "# def download_gz_from_url(url, output_folder): \n",
    "#     file_name = url.split(\"/\")[-1]\n",
    "#     r = requests.get(url, stream=True)\n",
    "#     with open(output_folder+\"/\"+file_name, 'wb') as f:\n",
    "#         for chunk in r.raw.stream(1024, decode_content=False):\n",
    "#             if chunk:\n",
    "#                 f.write(chunk)\n",
    "\n",
    "# output_folder= \"./data\"\n",
    "                \n",
    "# from pathlib import Path\n",
    "# Path(output_folder).mkdir(parents=True, exist_ok=True)\n",
    "                \n",
    "# urls = [\"http://fashion-mnist.s3-website.eu-central-1.amazonaws.com/train-images-idx3-ubyte.gz\", #x_train\n",
    "#         \"http://fashion-mnist.s3-website.eu-central-1.amazonaws.com/train-labels-idx1-ubyte.gz\", #y_train\n",
    "#         \"http://fashion-mnist.s3-website.eu-central-1.amazonaws.com/t10k-images-idx3-ubyte.gz\", #x_test\n",
    "#         \"http://fashion-mnist.s3-website.eu-central-1.amazonaws.com/t10k-labels-idx1-ubyte.gz\" #y_test\n",
    "#        ]\n",
    "                \n",
    "# for url in tqdm(urls):\n",
    "#     download_gz_from_url(url,output_folder)"
   ]
  },
  {
   "cell_type": "markdown",
   "metadata": {},
   "source": [
    "## Carga de Datos"
   ]
  },
  {
   "cell_type": "code",
   "execution_count": 3,
   "metadata": {},
   "outputs": [],
   "source": [
    "import mnist_fashion_reader as mnist\n",
    "\n",
    "X_train, y_train = mnist.load_mnist('data/', kind='train') #devuelve amigables objetos de Pandas\n",
    "X_test, y_test = mnist.load_mnist('data/', kind='t10k') #devuevle amigables objetos de Pandas"
   ]
  },
  {
   "cell_type": "markdown",
   "metadata": {},
   "source": [
    "## Punto 1: Exploración del dataset"
   ]
  },
  {
   "cell_type": "markdown",
   "metadata": {},
   "source": [
    "Realizar una breve descripción del dataset. ¿Qué cantidad de datos tiene este conjunto? ¿Cuántos atributos? ¿Qué rangos de valores toman los atributos? ¿Qué cantidad de clases hay para clasificar? ¿Están balanceadas? Realizar un gráfico donde se muestran ejemplos de las clases (Puede ir a un anexo)."
   ]
  },
  {
   "cell_type": "markdown",
   "metadata": {},
   "source": [
    "### Cantidad de datos del conjunto"
   ]
  },
  {
   "cell_type": "code",
   "execution_count": 4,
   "metadata": {},
   "outputs": [],
   "source": [
    "df_entrenamiento = pd.concat([X_train.reset_index(drop=True), y_train], axis=1)\n",
    "df_test = pd.concat([X_test.reset_index(drop=True), y_test], axis=1)\n",
    "df_completo = pd.concat([df_entrenamiento, df_test])"
   ]
  },
  {
   "cell_type": "code",
   "execution_count": 5,
   "metadata": {},
   "outputs": [
    {
     "name": "stdout",
     "output_type": "stream",
     "text": [
      "Entrenamiento: (60000, 785)   +   Test: (10000, 785)   -->   Completo: (70000, 785)\n"
     ]
    }
   ],
   "source": [
    "print('Entrenamiento:', df_entrenamiento.shape,'  +  ' ,'Test:', df_test.shape, '  -->  ' , 'Completo:', df_completo.shape)"
   ]
  },
  {
   "cell_type": "code",
   "execution_count": 6,
   "metadata": {},
   "outputs": [
    {
     "name": "stdout",
     "output_type": "stream",
     "text": [
      "El dataset completo posee 70000 registros. Cada registro corresponde a una imagen del dataset.\n"
     ]
    }
   ],
   "source": [
    "print(f\"El dataset completo posee {len(df_completo)} registros. Cada registro corresponde a una imagen del dataset.\")"
   ]
  },
  {
   "cell_type": "markdown",
   "metadata": {},
   "source": [
    "### Atributos"
   ]
  },
  {
   "cell_type": "markdown",
   "metadata": {},
   "source": [
    "#### Cantidad de atributos"
   ]
  },
  {
   "cell_type": "code",
   "execution_count": 7,
   "metadata": {},
   "outputs": [
    {
     "name": "stdout",
     "output_type": "stream",
     "text": [
      "Cada atributo representa el valor de cada uno de los pixeles de cada imagen. Dado que cada imagen tiene un formato de 28 x 28 pixeles en escala de grises, el dataset posee 784 atributos por registro, correspondientes al valor en escala de gris de cada pixel que compone la imagen\n",
      "+ UN (1) atributo con valores de 0 a 9 correspondiente a las clases a clasificar\n"
     ]
    }
   ],
   "source": [
    "print(f\"Cada atributo representa el valor de cada uno de los pixeles de cada imagen. Dado que cada imagen tiene un formato de 28 x 28 pixeles en escala de grises, el dataset posee {len(df_completo.columns)-1} atributos por registro, correspondientes al valor en escala de gris de cada pixel que compone la imagen\")\n",
    "\n",
    "print(\"+ UN (1) atributo con valores de 0 a 9 correspondiente a las clases a clasificar\" )"
   ]
  },
  {
   "cell_type": "markdown",
   "metadata": {},
   "source": [
    "#### Rangos de valores"
   ]
  },
  {
   "cell_type": "code",
   "execution_count": 8,
   "metadata": {},
   "outputs": [],
   "source": [
    "max_val = df_completo.max().max()\n",
    "min_val = df_completo.min().min()"
   ]
  },
  {
   "cell_type": "code",
   "execution_count": 9,
   "metadata": {},
   "outputs": [
    {
     "name": "stdout",
     "output_type": "stream",
     "text": [
      "El valor mínimo de los atributos es 0 , y el máximo es 255. Cada valor es un integer entre 0 y 255\n"
     ]
    }
   ],
   "source": [
    "print(f\"El valor mínimo de los atributos es {min_val} , y el máximo es {max_val}. Cada valor es un integer entre {min_val} y {max_val}\")"
   ]
  },
  {
   "cell_type": "markdown",
   "metadata": {},
   "source": [
    "#### Clases a clasificar"
   ]
  },
  {
   "cell_type": "code",
   "execution_count": 10,
   "metadata": {},
   "outputs": [
    {
     "data": {
      "text/plain": [
       "array([0, 1, 2, 3, 4, 5, 6, 7, 8, 9], dtype=uint8)"
      ]
     },
     "execution_count": 10,
     "metadata": {},
     "output_type": "execute_result"
    }
   ],
   "source": [
    "clases = np.sort(df_completo[0].unique())\n",
    "\n",
    "clases"
   ]
  },
  {
   "cell_type": "code",
   "execution_count": 11,
   "metadata": {},
   "outputs": [
    {
     "name": "stdout",
     "output_type": "stream",
     "text": [
      "El dataset está compuesto por 10 clases\n"
     ]
    }
   ],
   "source": [
    "print(f\"El dataset está compuesto por {len(clases)} clases\")"
   ]
  },
  {
   "cell_type": "markdown",
   "metadata": {},
   "source": [
    "##### N de clases"
   ]
  },
  {
   "cell_type": "code",
   "execution_count": 12,
   "metadata": {},
   "outputs": [
    {
     "name": "stdout",
     "output_type": "stream",
     "text": [
      "Las clases son: [0 1 2 3 4 5 6 7 8 9]\n"
     ]
    }
   ],
   "source": [
    "print(f\"Las clases son: {clases}\")"
   ]
  },
  {
   "cell_type": "markdown",
   "metadata": {},
   "source": [
    "##### Balanceo de clases"
   ]
  },
  {
   "cell_type": "code",
   "execution_count": 13,
   "metadata": {},
   "outputs": [
    {
     "data": {
      "text/html": [
       "<div>\n",
       "<style scoped>\n",
       "    .dataframe tbody tr th:only-of-type {\n",
       "        vertical-align: middle;\n",
       "    }\n",
       "\n",
       "    .dataframe tbody tr th {\n",
       "        vertical-align: top;\n",
       "    }\n",
       "\n",
       "    .dataframe thead th {\n",
       "        text-align: right;\n",
       "    }\n",
       "</style>\n",
       "<table border=\"1\" class=\"dataframe\">\n",
       "  <thead>\n",
       "    <tr style=\"text-align: right;\">\n",
       "      <th></th>\n",
       "      <th>Cant</th>\n",
       "      <th>%</th>\n",
       "    </tr>\n",
       "  </thead>\n",
       "  <tbody>\n",
       "    <tr>\n",
       "      <th>0</th>\n",
       "      <td>7000</td>\n",
       "      <td>0.1</td>\n",
       "    </tr>\n",
       "    <tr>\n",
       "      <th>1</th>\n",
       "      <td>7000</td>\n",
       "      <td>0.1</td>\n",
       "    </tr>\n",
       "    <tr>\n",
       "      <th>2</th>\n",
       "      <td>7000</td>\n",
       "      <td>0.1</td>\n",
       "    </tr>\n",
       "    <tr>\n",
       "      <th>3</th>\n",
       "      <td>7000</td>\n",
       "      <td>0.1</td>\n",
       "    </tr>\n",
       "    <tr>\n",
       "      <th>4</th>\n",
       "      <td>7000</td>\n",
       "      <td>0.1</td>\n",
       "    </tr>\n",
       "    <tr>\n",
       "      <th>5</th>\n",
       "      <td>7000</td>\n",
       "      <td>0.1</td>\n",
       "    </tr>\n",
       "    <tr>\n",
       "      <th>6</th>\n",
       "      <td>7000</td>\n",
       "      <td>0.1</td>\n",
       "    </tr>\n",
       "    <tr>\n",
       "      <th>7</th>\n",
       "      <td>7000</td>\n",
       "      <td>0.1</td>\n",
       "    </tr>\n",
       "    <tr>\n",
       "      <th>8</th>\n",
       "      <td>7000</td>\n",
       "      <td>0.1</td>\n",
       "    </tr>\n",
       "    <tr>\n",
       "      <th>9</th>\n",
       "      <td>7000</td>\n",
       "      <td>0.1</td>\n",
       "    </tr>\n",
       "  </tbody>\n",
       "</table>\n",
       "</div>"
      ],
      "text/plain": [
       "   Cant    %\n",
       "0  7000  0.1\n",
       "1  7000  0.1\n",
       "2  7000  0.1\n",
       "3  7000  0.1\n",
       "4  7000  0.1\n",
       "5  7000  0.1\n",
       "6  7000  0.1\n",
       "7  7000  0.1\n",
       "8  7000  0.1\n",
       "9  7000  0.1"
      ]
     },
     "execution_count": 13,
     "metadata": {},
     "output_type": "execute_result"
    }
   ],
   "source": [
    "Q = df_completo[0].value_counts().rename(\"Cant\")\n",
    "P = df_completo[0].value_counts(normalize=True).rename(\"%\")\n",
    "\n",
    "pd.concat([Q, P], axis=1).sort_index()\n"
   ]
  },
  {
   "cell_type": "markdown",
   "metadata": {},
   "source": [
    "##### Visualización "
   ]
  },
  {
   "cell_type": "markdown",
   "metadata": {},
   "source": [
    "## Separación en desarrollo y testeo"
   ]
  },
  {
   "cell_type": "markdown",
   "metadata": {},
   "source": [
    "Separación de datos respetando la división presente en el github oficial de desarrollo y testeo"
   ]
  },
  {
   "cell_type": "code",
   "execution_count": 14,
   "metadata": {},
   "outputs": [
    {
     "data": {
      "text/plain": [
       "(60000, 784)"
      ]
     },
     "execution_count": 14,
     "metadata": {},
     "output_type": "execute_result"
    }
   ],
   "source": [
    "X_train.shape"
   ]
  },
  {
   "cell_type": "code",
   "execution_count": 15,
   "metadata": {},
   "outputs": [
    {
     "data": {
      "text/plain": [
       "(60000,)"
      ]
     },
     "execution_count": 15,
     "metadata": {},
     "output_type": "execute_result"
    }
   ],
   "source": [
    "y_train.shape"
   ]
  },
  {
   "cell_type": "code",
   "execution_count": 16,
   "metadata": {},
   "outputs": [
    {
     "data": {
      "text/plain": [
       "(10000, 784)"
      ]
     },
     "execution_count": 16,
     "metadata": {},
     "output_type": "execute_result"
    }
   ],
   "source": [
    "X_test.shape"
   ]
  },
  {
   "cell_type": "code",
   "execution_count": 17,
   "metadata": {},
   "outputs": [
    {
     "data": {
      "text/plain": [
       "(10000,)"
      ]
     },
     "execution_count": 17,
     "metadata": {},
     "output_type": "execute_result"
    }
   ],
   "source": [
    "y_test.shape"
   ]
  },
  {
   "cell_type": "code",
   "execution_count": 18,
   "metadata": {},
   "outputs": [
    {
     "data": {
      "text/html": [
       "<div>\n",
       "<style scoped>\n",
       "    .dataframe tbody tr th:only-of-type {\n",
       "        vertical-align: middle;\n",
       "    }\n",
       "\n",
       "    .dataframe tbody tr th {\n",
       "        vertical-align: top;\n",
       "    }\n",
       "\n",
       "    .dataframe thead th {\n",
       "        text-align: right;\n",
       "    }\n",
       "</style>\n",
       "<table border=\"1\" class=\"dataframe\">\n",
       "  <thead>\n",
       "    <tr style=\"text-align: right;\">\n",
       "      <th></th>\n",
       "      <th>Cant</th>\n",
       "      <th>%</th>\n",
       "    </tr>\n",
       "    <tr>\n",
       "      <th>train</th>\n",
       "      <th></th>\n",
       "      <th></th>\n",
       "    </tr>\n",
       "  </thead>\n",
       "  <tbody>\n",
       "    <tr>\n",
       "      <th>0</th>\n",
       "      <td>6000</td>\n",
       "      <td>0.1</td>\n",
       "    </tr>\n",
       "    <tr>\n",
       "      <th>1</th>\n",
       "      <td>6000</td>\n",
       "      <td>0.1</td>\n",
       "    </tr>\n",
       "    <tr>\n",
       "      <th>2</th>\n",
       "      <td>6000</td>\n",
       "      <td>0.1</td>\n",
       "    </tr>\n",
       "    <tr>\n",
       "      <th>3</th>\n",
       "      <td>6000</td>\n",
       "      <td>0.1</td>\n",
       "    </tr>\n",
       "    <tr>\n",
       "      <th>4</th>\n",
       "      <td>6000</td>\n",
       "      <td>0.1</td>\n",
       "    </tr>\n",
       "    <tr>\n",
       "      <th>5</th>\n",
       "      <td>6000</td>\n",
       "      <td>0.1</td>\n",
       "    </tr>\n",
       "    <tr>\n",
       "      <th>6</th>\n",
       "      <td>6000</td>\n",
       "      <td>0.1</td>\n",
       "    </tr>\n",
       "    <tr>\n",
       "      <th>7</th>\n",
       "      <td>6000</td>\n",
       "      <td>0.1</td>\n",
       "    </tr>\n",
       "    <tr>\n",
       "      <th>8</th>\n",
       "      <td>6000</td>\n",
       "      <td>0.1</td>\n",
       "    </tr>\n",
       "    <tr>\n",
       "      <th>9</th>\n",
       "      <td>6000</td>\n",
       "      <td>0.1</td>\n",
       "    </tr>\n",
       "  </tbody>\n",
       "</table>\n",
       "</div>"
      ],
      "text/plain": [
       "       Cant    %\n",
       "train           \n",
       "0      6000  0.1\n",
       "1      6000  0.1\n",
       "2      6000  0.1\n",
       "3      6000  0.1\n",
       "4      6000  0.1\n",
       "5      6000  0.1\n",
       "6      6000  0.1\n",
       "7      6000  0.1\n",
       "8      6000  0.1\n",
       "9      6000  0.1"
      ]
     },
     "execution_count": 18,
     "metadata": {},
     "output_type": "execute_result"
    }
   ],
   "source": [
    "Q1 = y_train.value_counts().rename(\"Cant\")\n",
    "P1 = y_train.value_counts(normalize=True).rename(\"%\")\n",
    "\n",
    "pd.concat([Q1, P1], axis=1).sort_index().rename_axis('train')"
   ]
  },
  {
   "cell_type": "code",
   "execution_count": 19,
   "metadata": {},
   "outputs": [
    {
     "data": {
      "text/html": [
       "<div>\n",
       "<style scoped>\n",
       "    .dataframe tbody tr th:only-of-type {\n",
       "        vertical-align: middle;\n",
       "    }\n",
       "\n",
       "    .dataframe tbody tr th {\n",
       "        vertical-align: top;\n",
       "    }\n",
       "\n",
       "    .dataframe thead th {\n",
       "        text-align: right;\n",
       "    }\n",
       "</style>\n",
       "<table border=\"1\" class=\"dataframe\">\n",
       "  <thead>\n",
       "    <tr style=\"text-align: right;\">\n",
       "      <th></th>\n",
       "      <th>Cant</th>\n",
       "      <th>%</th>\n",
       "    </tr>\n",
       "    <tr>\n",
       "      <th>test</th>\n",
       "      <th></th>\n",
       "      <th></th>\n",
       "    </tr>\n",
       "  </thead>\n",
       "  <tbody>\n",
       "    <tr>\n",
       "      <th>0</th>\n",
       "      <td>1000</td>\n",
       "      <td>0.1</td>\n",
       "    </tr>\n",
       "    <tr>\n",
       "      <th>1</th>\n",
       "      <td>1000</td>\n",
       "      <td>0.1</td>\n",
       "    </tr>\n",
       "    <tr>\n",
       "      <th>2</th>\n",
       "      <td>1000</td>\n",
       "      <td>0.1</td>\n",
       "    </tr>\n",
       "    <tr>\n",
       "      <th>3</th>\n",
       "      <td>1000</td>\n",
       "      <td>0.1</td>\n",
       "    </tr>\n",
       "    <tr>\n",
       "      <th>4</th>\n",
       "      <td>1000</td>\n",
       "      <td>0.1</td>\n",
       "    </tr>\n",
       "    <tr>\n",
       "      <th>5</th>\n",
       "      <td>1000</td>\n",
       "      <td>0.1</td>\n",
       "    </tr>\n",
       "    <tr>\n",
       "      <th>6</th>\n",
       "      <td>1000</td>\n",
       "      <td>0.1</td>\n",
       "    </tr>\n",
       "    <tr>\n",
       "      <th>7</th>\n",
       "      <td>1000</td>\n",
       "      <td>0.1</td>\n",
       "    </tr>\n",
       "    <tr>\n",
       "      <th>8</th>\n",
       "      <td>1000</td>\n",
       "      <td>0.1</td>\n",
       "    </tr>\n",
       "    <tr>\n",
       "      <th>9</th>\n",
       "      <td>1000</td>\n",
       "      <td>0.1</td>\n",
       "    </tr>\n",
       "  </tbody>\n",
       "</table>\n",
       "</div>"
      ],
      "text/plain": [
       "      Cant    %\n",
       "test           \n",
       "0     1000  0.1\n",
       "1     1000  0.1\n",
       "2     1000  0.1\n",
       "3     1000  0.1\n",
       "4     1000  0.1\n",
       "5     1000  0.1\n",
       "6     1000  0.1\n",
       "7     1000  0.1\n",
       "8     1000  0.1\n",
       "9     1000  0.1"
      ]
     },
     "execution_count": 19,
     "metadata": {},
     "output_type": "execute_result"
    }
   ],
   "source": [
    "Q2 = y_test.value_counts().rename(\"Cant\")\n",
    "P2 = y_test.value_counts(normalize=True).rename(\"%\")\n",
    "\n",
    "pd.concat([Q2, P2], axis=1).sort_index().rename_axis('test')"
   ]
  },
  {
   "cell_type": "markdown",
   "metadata": {},
   "source": [
    "## Separación del conjunto de desarrollo en entrenamiento y validación"
   ]
  },
  {
   "cell_type": "markdown",
   "metadata": {},
   "source": [
    "Conjunto de entrenamiento (85.71%):\n",
    "* x_train, y_train = 80% del conjunto de entrenamiento\n",
    "* x_val, y_val = 20% del conjunto de entrenamiento\n",
    "\n",
    "Conjunto de testing(14.29%)\n",
    "* X_test, y_test = Conjunto held-out de testing"
   ]
  },
  {
   "cell_type": "code",
   "execution_count": 5,
   "metadata": {},
   "outputs": [],
   "source": [
    "from sklearn.model_selection import train_test_split\n",
    "seed = 42\n",
    "\n",
    "x_train, x_val, y_train, y_val = train_test_split(X_train,y_train, test_size=0.2, random_state=seed, stratify = y_train) "
   ]
  },
  {
   "cell_type": "markdown",
   "metadata": {},
   "source": [
    "## Entrenamiento inicial de modelos"
   ]
  },
  {
   "cell_type": "markdown",
   "metadata": {},
   "source": [
    "Entrenamiento de 4 modelos con sus hiperparámetros por defecto"
   ]
  },
  {
   "cell_type": "code",
   "execution_count": 7,
   "metadata": {},
   "outputs": [],
   "source": [
    "#https://stackoverflow-com.translate.goog/questions/39685740/calculate-sklearn-roc-auc-score-for-multi-class?_x_tr_sl=es&_x_tr_tl=en&_x_tr_hl=es&_x_tr_pto=wapp\n",
    "def roc_auc_score_multiclass(actual_class, pred_class, average = \"macro\"):\n",
    "\n",
    "  #creating a set of all the unique classes using the actual class list\n",
    "  unique_class = set(actual_class)\n",
    "  roc_auc_dict = {}\n",
    "  for per_class in unique_class:\n",
    "    #creating a list of all the classes except the current class \n",
    "    other_class = [x for x in unique_class if x != per_class]\n",
    "\n",
    "    #marking the current class as 1 and all other classes as 0\n",
    "    new_actual_class = [0 if x in other_class else 1 for x in actual_class]\n",
    "    new_pred_class = [0 if x in other_class else 1 for x in pred_class]\n",
    "\n",
    "    #using the sklearn metrics method to calculate the roc_auc_score\n",
    "    roc_auc = roc_auc_score(new_actual_class, new_pred_class, average = average)\n",
    "    roc_auc_dict[per_class] = roc_auc\n",
    "\n",
    "  return roc_auc_dict"
   ]
  },
  {
   "cell_type": "markdown",
   "metadata": {},
   "source": [
    "### Boosting"
   ]
  },
  {
   "cell_type": "markdown",
   "metadata": {},
   "source": [
    "#### GradientBoostingClassifier"
   ]
  },
  {
   "cell_type": "code",
   "execution_count": 22,
   "metadata": {},
   "outputs": [
    {
     "name": "stdout",
     "output_type": "stream",
     "text": [
      "Accuracy training : 0.908\n",
      "Accuracy val: 0.875\n",
      "              precision    recall  f1-score   support\n",
      "\n",
      "           0       0.82      0.85      0.83      1200\n",
      "           1       0.99      0.97      0.98      1200\n",
      "           2       0.76      0.78      0.77      1200\n",
      "           3       0.89      0.90      0.89      1200\n",
      "           4       0.77      0.80      0.79      1200\n",
      "           5       0.97      0.95      0.96      1200\n",
      "           6       0.70      0.64      0.67      1200\n",
      "           7       0.94      0.95      0.94      1200\n",
      "           8       0.97      0.97      0.97      1200\n",
      "           9       0.95      0.95      0.95      1200\n",
      "\n",
      "    accuracy                           0.88     12000\n",
      "   macro avg       0.87      0.88      0.87     12000\n",
      "weighted avg       0.87      0.88      0.87     12000\n",
      "\n",
      "ROC Score multiclass (macro) : {0: 0.913101851851852, 1: 0.9844907407407407, 2: 0.8776851851851851, 3: 0.9411574074074075, 4: 0.8869907407407407, 5: 0.9756481481481483, 6: 0.8025925925925925, 7: 0.9703240740740741, 8: 0.9818055555555555, 9: 0.9731481481481481}\n"
     ]
    }
   ],
   "source": [
    "gbc = GradientBoostingClassifier()\n",
    "gbc.fit(x_train, y_train)\n",
    "y_pred = gbc.predict(x_val)\n",
    "\n",
    "print(\"Accuracy training : {:.3f}\".format(gbc.score(x_train, y_train)))\n",
    "print(\"Accuracy val: {:.3f}\".format(gbc.score(x_val, y_val)))\n",
    "print(classification_report(y_val,y_pred))\n",
    "gbc_roc_auc_multiclass = roc_auc_score_multiclass(y_val,y_pred)\n",
    "print(f\"ROC Score multiclass (macro) : {gbc_roc_auc_multiclass}\")"
   ]
  },
  {
   "cell_type": "markdown",
   "metadata": {},
   "source": [
    "### Bagging"
   ]
  },
  {
   "cell_type": "markdown",
   "metadata": {},
   "source": [
    "#### Random Forest Classifier"
   ]
  },
  {
   "cell_type": "code",
   "execution_count": 23,
   "metadata": {},
   "outputs": [
    {
     "name": "stdout",
     "output_type": "stream",
     "text": [
      "Accuracy training : 1.000\n",
      "Accuracy val: 0.883\n",
      "              precision    recall  f1-score   support\n",
      "\n",
      "           0       0.83      0.87      0.85      1200\n",
      "           1       0.99      0.97      0.98      1200\n",
      "           2       0.77      0.81      0.79      1200\n",
      "           3       0.88      0.91      0.89      1200\n",
      "           4       0.77      0.82      0.80      1200\n",
      "           5       0.96      0.96      0.96      1200\n",
      "           6       0.75      0.62      0.68      1200\n",
      "           7       0.94      0.94      0.94      1200\n",
      "           8       0.96      0.97      0.97      1200\n",
      "           9       0.95      0.95      0.95      1200\n",
      "\n",
      "    accuracy                           0.88     12000\n",
      "   macro avg       0.88      0.88      0.88     12000\n",
      "weighted avg       0.88      0.88      0.88     12000\n",
      "\n",
      "ROC Score multiclass (macro) : {0: 0.9253240740740741, 1: 0.984212962962963, 2: 0.8905555555555557, 3: 0.9473148148148148, 4: 0.8965740740740739, 5: 0.9797222222222222, 6: 0.8005555555555555, 7: 0.9666203703703704, 8: 0.985462962962963, 9: 0.9713425925925925}\n"
     ]
    }
   ],
   "source": [
    "rf = RandomForestClassifier(random_state=42)\n",
    "rf.fit(x_train, y_train)\n",
    "y_pred = rf.predict(x_val)\n",
    "\n",
    "print(\"Accuracy training : {:.3f}\".format(rf.score(x_train, y_train)))\n",
    "print(\"Accuracy val: {:.3f}\".format(rf.score(x_val, y_val)))\n",
    "print(classification_report(y_val,y_pred))\n",
    "rfc_roc_auc_multiclass = roc_auc_score_multiclass(y_val,y_pred)\n",
    "print(f\"ROC Score multiclass (macro) : {rfc_roc_auc_multiclass}\")"
   ]
  },
  {
   "cell_type": "markdown",
   "metadata": {},
   "source": [
    "#### Bagging decision trees\n",
    "\n",
    "Alternativa al random forest"
   ]
  },
  {
   "cell_type": "code",
   "execution_count": 8,
   "metadata": {},
   "outputs": [
    {
     "name": "stdout",
     "output_type": "stream",
     "text": [
      "Accuracy training : 0.994\n",
      "Accuracy val: 0.858\n",
      "              precision    recall  f1-score   support\n",
      "\n",
      "           0       0.79      0.85      0.82      1200\n",
      "           1       0.98      0.97      0.97      1200\n",
      "           2       0.73      0.80      0.77      1200\n",
      "           3       0.86      0.88      0.87      1200\n",
      "           4       0.76      0.74      0.75      1200\n",
      "           5       0.94      0.94      0.94      1200\n",
      "           6       0.70      0.58      0.63      1200\n",
      "           7       0.91      0.93      0.92      1200\n",
      "           8       0.95      0.96      0.95      1200\n",
      "           9       0.95      0.92      0.94      1200\n",
      "\n",
      "    accuracy                           0.86     12000\n",
      "   macro avg       0.86      0.86      0.86     12000\n",
      "weighted avg       0.86      0.86      0.86     12000\n",
      "\n",
      "ROC Score multiclass (macro) : {0: 0.9139351851851851, 1: 0.9845833333333334, 2: 0.8843055555555556, 3: 0.932175925925926, 4: 0.8558796296296296, 5: 0.9677777777777777, 6: 0.7762037037037037, 7: 0.9604166666666666, 8: 0.9761111111111112, 9: 0.9574074074074074}\n"
     ]
    }
   ],
   "source": [
    "dt = DecisionTreeClassifier(random_state=42)\n",
    "bdt = BaggingClassifier(dt, random_state=42)\n",
    "\n",
    "bdt.fit(x_train, y_train)\n",
    "y_pred = bdt.predict(x_val)\n",
    "\n",
    "print(\"Accuracy training : {:.3f}\".format(bdt.score(x_train, y_train)))\n",
    "print(\"Accuracy val: {:.3f}\".format(bdt.score(x_val, y_val)))\n",
    "print(classification_report(y_val,y_pred))\n",
    "rfc_roc_auc_multiclass = roc_auc_score_multiclass(y_val,y_pred)\n",
    "print(f\"ROC Score multiclass (macro) : {rfc_roc_auc_multiclass}\")"
   ]
  },
  {
   "cell_type": "markdown",
   "metadata": {},
   "source": [
    "### Árbol de decisión"
   ]
  },
  {
   "cell_type": "code",
   "execution_count": 24,
   "metadata": {},
   "outputs": [
    {
     "name": "stdout",
     "output_type": "stream",
     "text": [
      "Accuracy training : 1.000\n",
      "Accuracy val: 0.797\n",
      "              precision    recall  f1-score   support\n",
      "\n",
      "           0       0.74      0.75      0.75      1200\n",
      "           1       0.94      0.95      0.95      1200\n",
      "           2       0.66      0.68      0.67      1200\n",
      "           3       0.83      0.78      0.80      1200\n",
      "           4       0.67      0.66      0.66      1200\n",
      "           5       0.91      0.90      0.90      1200\n",
      "           6       0.55      0.56      0.55      1200\n",
      "           7       0.88      0.88      0.88      1200\n",
      "           8       0.91      0.92      0.92      1200\n",
      "           9       0.90      0.89      0.90      1200\n",
      "\n",
      "    accuracy                           0.80     12000\n",
      "   macro avg       0.80      0.80      0.80     12000\n",
      "weighted avg       0.80      0.80      0.80     12000\n",
      "\n",
      "ROC Score multiclass (macro) : {0: 0.8625, 1: 0.9734722222222222, 2: 0.8216666666666668, 3: 0.8800462962962963, 4: 0.8097685185185185, 5: 0.9443981481481482, 6: 0.752361111111111, 7: 0.9337037037037037, 8: 0.9551388888888889, 9: 0.9410185185185185}\n"
     ]
    }
   ],
   "source": [
    "ad = DecisionTreeClassifier(random_state=42)\n",
    "ad.fit(x_train, y_train)\n",
    "y_pred = ad.predict(x_val)\n",
    "\n",
    "print(\"Accuracy training : {:.3f}\".format(ad.score(x_train, y_train)))\n",
    "print(\"Accuracy val: {:.3f}\".format(ad.score(x_val, y_val)))\n",
    "print(classification_report(y_val,y_pred))\n",
    "ad_roc_auc_multiclass = roc_auc_score_multiclass(y_val,y_pred)\n",
    "print(f\"ROC Score multiclass (macro) : {ad_roc_auc_multiclass}\")"
   ]
  },
  {
   "cell_type": "markdown",
   "metadata": {},
   "source": [
    "### Naive Bayes"
   ]
  },
  {
   "cell_type": "code",
   "execution_count": 25,
   "metadata": {},
   "outputs": [
    {
     "name": "stdout",
     "output_type": "stream",
     "text": [
      "Accuracy training : 0.666\n",
      "Accuracy val: 0.668\n",
      "              precision    recall  f1-score   support\n",
      "\n",
      "           0       0.75      0.79      0.77      1200\n",
      "           1       0.98      0.89      0.94      1200\n",
      "           2       0.62      0.60      0.61      1200\n",
      "           3       0.67      0.89      0.76      1200\n",
      "           4       0.46      0.63      0.53      1200\n",
      "           5       0.69      0.16      0.26      1200\n",
      "           6       0.32      0.16      0.21      1200\n",
      "           7       0.60      0.91      0.72      1200\n",
      "           8       0.89      0.83      0.86      1200\n",
      "           9       0.69      0.83      0.75      1200\n",
      "\n",
      "    accuracy                           0.67     12000\n",
      "   macro avg       0.67      0.67      0.64     12000\n",
      "weighted avg       0.67      0.67      0.64     12000\n",
      "\n",
      "ROC Score multiclass (macro) : {0: 0.879861111111111, 1: 0.9462962962962963, 2: 0.77875, 3: 0.9185648148148148, 4: 0.7739351851851851, 5: 0.5744444444444444, 6: 0.5597222222222221, 7: 0.9221759259259259, 8: 0.9070833333333332, 9: 0.8924074074074074}\n"
     ]
    }
   ],
   "source": [
    "nb = MultinomialNB()\n",
    "nb.fit(x_train, y_train)\n",
    "\n",
    "y_pred = nb.predict(x_val)\n",
    "print(\"Accuracy training : {:.3f}\".format(nb.score(x_train, y_train)))\n",
    "print(\"Accuracy val: {:.3f}\".format(nb.score(x_val, y_val)))\n",
    "print(classification_report(y_val,y_pred))\n",
    "nb_roc_auc_multiclass = roc_auc_score_multiclass(y_val,y_pred)\n",
    "print(f\"ROC Score multiclass (macro) : {nb_roc_auc_multiclass}\")"
   ]
  },
  {
   "cell_type": "markdown",
   "metadata": {},
   "source": [
    "## Métricas relevantes para el problema en el conjunto de validación"
   ]
  },
  {
   "cell_type": "markdown",
   "metadata": {},
   "source": [
    "### Métricas"
   ]
  },
  {
   "cell_type": "markdown",
   "metadata": {},
   "source": [
    "### Justificación"
   ]
  },
  {
   "cell_type": "markdown",
   "metadata": {},
   "source": [
    "## Exploración de modelo Random Forest"
   ]
  },
  {
   "cell_type": "code",
   "execution_count": null,
   "metadata": {},
   "outputs": [],
   "source": []
  },
  {
   "cell_type": "markdown",
   "metadata": {},
   "source": [
    "## Exploración de modelo Gradient Boosting Machine"
   ]
  },
  {
   "cell_type": "code",
   "execution_count": null,
   "metadata": {},
   "outputs": [],
   "source": []
  },
  {
   "cell_type": "markdown",
   "metadata": {},
   "source": [
    "## Análisis de mejores modelos obtenidos de Random Forest y Gradient Boosting Machine"
   ]
  },
  {
   "cell_type": "markdown",
   "metadata": {},
   "source": [
    "### Evaluación con conjunto de test"
   ]
  },
  {
   "cell_type": "code",
   "execution_count": null,
   "metadata": {},
   "outputs": [],
   "source": []
  },
  {
   "cell_type": "markdown",
   "metadata": {},
   "source": [
    "### Análisis de resultados en base a métricas elegidas"
   ]
  },
  {
   "cell_type": "markdown",
   "metadata": {},
   "source": [
    "#### Análisis de métricas"
   ]
  },
  {
   "cell_type": "code",
   "execution_count": null,
   "metadata": {},
   "outputs": [],
   "source": []
  },
  {
   "cell_type": "markdown",
   "metadata": {},
   "source": [
    "### Conclusión sobre mejor modelo"
   ]
  },
  {
   "cell_type": "code",
   "execution_count": null,
   "metadata": {},
   "outputs": [],
   "source": []
  },
  {
   "cell_type": "markdown",
   "metadata": {},
   "source": [
    "### Matriz de confusión de mejor modelo"
   ]
  },
  {
   "cell_type": "code",
   "execution_count": null,
   "metadata": {},
   "outputs": [],
   "source": []
  },
  {
   "cell_type": "markdown",
   "metadata": {},
   "source": [
    "## Estabilidad del modelo frente al ruido"
   ]
  },
  {
   "cell_type": "code",
   "execution_count": null,
   "metadata": {},
   "outputs": [],
   "source": []
  }
 ],
 "metadata": {
  "interpreter": {
   "hash": "112989f40982219f9c2133127490be09f86560db102a13a350eb86b01002b443"
  },
  "kernelspec": {
   "display_name": "Python 3.8.3 ('base')",
   "language": "python",
   "name": "python3"
  },
  "language_info": {
   "codemirror_mode": {
    "name": "ipython",
    "version": 3
   },
   "file_extension": ".py",
   "mimetype": "text/x-python",
   "name": "python",
   "nbconvert_exporter": "python",
   "pygments_lexer": "ipython3",
   "version": "3.8.3"
  }
 },
 "nbformat": 4,
 "nbformat_minor": 4
}
